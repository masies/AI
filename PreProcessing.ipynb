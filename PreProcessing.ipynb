{
  "nbformat": 4,
  "nbformat_minor": 0,
  "metadata": {
    "colab": {
      "name": "PreProcessing.ipynb",
      "provenance": [],
      "collapsed_sections": [],
      "toc_visible": true,
      "machine_shape": "hm",
      "include_colab_link": true
    },
    "kernelspec": {
      "display_name": "Python 3",
      "name": "python3"
    }
  },
  "cells": [
    {
      "cell_type": "markdown",
      "metadata": {
        "id": "view-in-github",
        "colab_type": "text"
      },
      "source": [
        "<a href=\"https://colab.research.google.com/github/masies/AI/blob/master/PreProcessing.ipynb\" target=\"_parent\"><img src=\"https://colab.research.google.com/assets/colab-badge.svg\" alt=\"Open In Colab\"/></a>"
      ]
    },
    {
      "cell_type": "markdown",
      "metadata": {
        "id": "mqSdLS2U66m_"
      },
      "source": [
        "# PRE_PROCESSING\n"
      ]
    },
    {
      "cell_type": "code",
      "metadata": {
        "colab": {
          "base_uri": "https://localhost:8080/"
        },
        "id": "VSYsm4tNgk7e",
        "outputId": "353b7ce9-0bf2-4a74-e07a-bd3b6427731c"
      },
      "source": [
        "!pip install sentencepiece\n",
        "!pip3 install pip install transformers\n",
        "\n",
        "import json\n",
        "import pickle\n",
        "import string\n",
        "import numpy as np\n",
        "import pandas as pd\n",
        "import seaborn as sns\n",
        "import matplotlib.pyplot as plt\n",
        "import sentencepiece as spm\n",
        "import re\n",
        "import regex\n",
        "import unicodedata\n",
        "from bs4 import BeautifulSoup, NavigableString\n",
        "\n",
        "!pip install nltk\n",
        "from nltk.tokenize import word_tokenize\n",
        "import nltk\n",
        "nltk.download('punkt')\n",
        "\n",
        "from google.colab import auth\n",
        "auth.authenticate_user()\n",
        "project_id = 'helical-loop-303918'\n",
        "bucket_name = 'code_review_automation'\n",
        "!gcloud config set project {project_id}"
      ],
      "execution_count": 1,
      "outputs": [
        {
          "output_type": "stream",
          "text": [
            "Collecting sentencepiece\n",
            "\u001b[?25l  Downloading https://files.pythonhosted.org/packages/f5/99/e0808cb947ba10f575839c43e8fafc9cc44e4a7a2c8f79c60db48220a577/sentencepiece-0.1.95-cp37-cp37m-manylinux2014_x86_64.whl (1.2MB)\n",
            "\r\u001b[K     |▎                               | 10kB 13.0MB/s eta 0:00:01\r\u001b[K     |▌                               | 20kB 20.8MB/s eta 0:00:01\r\u001b[K     |▉                               | 30kB 23.3MB/s eta 0:00:01\r\u001b[K     |█                               | 40kB 19.6MB/s eta 0:00:01\r\u001b[K     |█▍                              | 51kB 15.2MB/s eta 0:00:01\r\u001b[K     |█▋                              | 61kB 17.4MB/s eta 0:00:01\r\u001b[K     |██                              | 71kB 13.4MB/s eta 0:00:01\r\u001b[K     |██▏                             | 81kB 13.7MB/s eta 0:00:01\r\u001b[K     |██▌                             | 92kB 13.0MB/s eta 0:00:01\r\u001b[K     |██▊                             | 102kB 12.2MB/s eta 0:00:01\r\u001b[K     |███                             | 112kB 12.2MB/s eta 0:00:01\r\u001b[K     |███▎                            | 122kB 12.2MB/s eta 0:00:01\r\u001b[K     |███▌                            | 133kB 12.2MB/s eta 0:00:01\r\u001b[K     |███▉                            | 143kB 12.2MB/s eta 0:00:01\r\u001b[K     |████                            | 153kB 12.2MB/s eta 0:00:01\r\u001b[K     |████▍                           | 163kB 12.2MB/s eta 0:00:01\r\u001b[K     |████▋                           | 174kB 12.2MB/s eta 0:00:01\r\u001b[K     |█████                           | 184kB 12.2MB/s eta 0:00:01\r\u001b[K     |█████▏                          | 194kB 12.2MB/s eta 0:00:01\r\u001b[K     |█████▌                          | 204kB 12.2MB/s eta 0:00:01\r\u001b[K     |█████▊                          | 215kB 12.2MB/s eta 0:00:01\r\u001b[K     |██████                          | 225kB 12.2MB/s eta 0:00:01\r\u001b[K     |██████▎                         | 235kB 12.2MB/s eta 0:00:01\r\u001b[K     |██████▌                         | 245kB 12.2MB/s eta 0:00:01\r\u001b[K     |██████▉                         | 256kB 12.2MB/s eta 0:00:01\r\u001b[K     |███████                         | 266kB 12.2MB/s eta 0:00:01\r\u001b[K     |███████▍                        | 276kB 12.2MB/s eta 0:00:01\r\u001b[K     |███████▋                        | 286kB 12.2MB/s eta 0:00:01\r\u001b[K     |████████                        | 296kB 12.2MB/s eta 0:00:01\r\u001b[K     |████████▏                       | 307kB 12.2MB/s eta 0:00:01\r\u001b[K     |████████▍                       | 317kB 12.2MB/s eta 0:00:01\r\u001b[K     |████████▊                       | 327kB 12.2MB/s eta 0:00:01\r\u001b[K     |█████████                       | 337kB 12.2MB/s eta 0:00:01\r\u001b[K     |█████████▎                      | 348kB 12.2MB/s eta 0:00:01\r\u001b[K     |█████████▌                      | 358kB 12.2MB/s eta 0:00:01\r\u001b[K     |█████████▉                      | 368kB 12.2MB/s eta 0:00:01\r\u001b[K     |██████████                      | 378kB 12.2MB/s eta 0:00:01\r\u001b[K     |██████████▍                     | 389kB 12.2MB/s eta 0:00:01\r\u001b[K     |██████████▋                     | 399kB 12.2MB/s eta 0:00:01\r\u001b[K     |███████████                     | 409kB 12.2MB/s eta 0:00:01\r\u001b[K     |███████████▏                    | 419kB 12.2MB/s eta 0:00:01\r\u001b[K     |███████████▍                    | 430kB 12.2MB/s eta 0:00:01\r\u001b[K     |███████████▊                    | 440kB 12.2MB/s eta 0:00:01\r\u001b[K     |████████████                    | 450kB 12.2MB/s eta 0:00:01\r\u001b[K     |████████████▎                   | 460kB 12.2MB/s eta 0:00:01\r\u001b[K     |████████████▌                   | 471kB 12.2MB/s eta 0:00:01\r\u001b[K     |████████████▉                   | 481kB 12.2MB/s eta 0:00:01\r\u001b[K     |█████████████                   | 491kB 12.2MB/s eta 0:00:01\r\u001b[K     |█████████████▍                  | 501kB 12.2MB/s eta 0:00:01\r\u001b[K     |█████████████▋                  | 512kB 12.2MB/s eta 0:00:01\r\u001b[K     |█████████████▉                  | 522kB 12.2MB/s eta 0:00:01\r\u001b[K     |██████████████▏                 | 532kB 12.2MB/s eta 0:00:01\r\u001b[K     |██████████████▍                 | 542kB 12.2MB/s eta 0:00:01\r\u001b[K     |██████████████▊                 | 552kB 12.2MB/s eta 0:00:01\r\u001b[K     |███████████████                 | 563kB 12.2MB/s eta 0:00:01\r\u001b[K     |███████████████▎                | 573kB 12.2MB/s eta 0:00:01\r\u001b[K     |███████████████▌                | 583kB 12.2MB/s eta 0:00:01\r\u001b[K     |███████████████▉                | 593kB 12.2MB/s eta 0:00:01\r\u001b[K     |████████████████                | 604kB 12.2MB/s eta 0:00:01\r\u001b[K     |████████████████▍               | 614kB 12.2MB/s eta 0:00:01\r\u001b[K     |████████████████▋               | 624kB 12.2MB/s eta 0:00:01\r\u001b[K     |████████████████▉               | 634kB 12.2MB/s eta 0:00:01\r\u001b[K     |█████████████████▏              | 645kB 12.2MB/s eta 0:00:01\r\u001b[K     |█████████████████▍              | 655kB 12.2MB/s eta 0:00:01\r\u001b[K     |█████████████████▊              | 665kB 12.2MB/s eta 0:00:01\r\u001b[K     |██████████████████              | 675kB 12.2MB/s eta 0:00:01\r\u001b[K     |██████████████████▎             | 686kB 12.2MB/s eta 0:00:01\r\u001b[K     |██████████████████▌             | 696kB 12.2MB/s eta 0:00:01\r\u001b[K     |██████████████████▉             | 706kB 12.2MB/s eta 0:00:01\r\u001b[K     |███████████████████             | 716kB 12.2MB/s eta 0:00:01\r\u001b[K     |███████████████████▎            | 727kB 12.2MB/s eta 0:00:01\r\u001b[K     |███████████████████▋            | 737kB 12.2MB/s eta 0:00:01\r\u001b[K     |███████████████████▉            | 747kB 12.2MB/s eta 0:00:01\r\u001b[K     |████████████████████▏           | 757kB 12.2MB/s eta 0:00:01\r\u001b[K     |████████████████████▍           | 768kB 12.2MB/s eta 0:00:01\r\u001b[K     |████████████████████▊           | 778kB 12.2MB/s eta 0:00:01\r\u001b[K     |█████████████████████           | 788kB 12.2MB/s eta 0:00:01\r\u001b[K     |█████████████████████▎          | 798kB 12.2MB/s eta 0:00:01\r\u001b[K     |█████████████████████▌          | 808kB 12.2MB/s eta 0:00:01\r\u001b[K     |█████████████████████▉          | 819kB 12.2MB/s eta 0:00:01\r\u001b[K     |██████████████████████          | 829kB 12.2MB/s eta 0:00:01\r\u001b[K     |██████████████████████▎         | 839kB 12.2MB/s eta 0:00:01\r\u001b[K     |██████████████████████▋         | 849kB 12.2MB/s eta 0:00:01\r\u001b[K     |██████████████████████▉         | 860kB 12.2MB/s eta 0:00:01\r\u001b[K     |███████████████████████▏        | 870kB 12.2MB/s eta 0:00:01\r\u001b[K     |███████████████████████▍        | 880kB 12.2MB/s eta 0:00:01\r\u001b[K     |███████████████████████▊        | 890kB 12.2MB/s eta 0:00:01\r\u001b[K     |████████████████████████        | 901kB 12.2MB/s eta 0:00:01\r\u001b[K     |████████████████████████▎       | 911kB 12.2MB/s eta 0:00:01\r\u001b[K     |████████████████████████▌       | 921kB 12.2MB/s eta 0:00:01\r\u001b[K     |████████████████████████▊       | 931kB 12.2MB/s eta 0:00:01\r\u001b[K     |█████████████████████████       | 942kB 12.2MB/s eta 0:00:01\r\u001b[K     |█████████████████████████▎      | 952kB 12.2MB/s eta 0:00:01\r\u001b[K     |█████████████████████████▋      | 962kB 12.2MB/s eta 0:00:01\r\u001b[K     |█████████████████████████▉      | 972kB 12.2MB/s eta 0:00:01\r\u001b[K     |██████████████████████████▏     | 983kB 12.2MB/s eta 0:00:01\r\u001b[K     |██████████████████████████▍     | 993kB 12.2MB/s eta 0:00:01\r\u001b[K     |██████████████████████████▊     | 1.0MB 12.2MB/s eta 0:00:01\r\u001b[K     |███████████████████████████     | 1.0MB 12.2MB/s eta 0:00:01\r\u001b[K     |███████████████████████████▎    | 1.0MB 12.2MB/s eta 0:00:01\r\u001b[K     |███████████████████████████▌    | 1.0MB 12.2MB/s eta 0:00:01\r\u001b[K     |███████████████████████████▊    | 1.0MB 12.2MB/s eta 0:00:01\r\u001b[K     |████████████████████████████    | 1.1MB 12.2MB/s eta 0:00:01\r\u001b[K     |████████████████████████████▎   | 1.1MB 12.2MB/s eta 0:00:01\r\u001b[K     |████████████████████████████▋   | 1.1MB 12.2MB/s eta 0:00:01\r\u001b[K     |████████████████████████████▉   | 1.1MB 12.2MB/s eta 0:00:01\r\u001b[K     |█████████████████████████████▏  | 1.1MB 12.2MB/s eta 0:00:01\r\u001b[K     |█████████████████████████████▍  | 1.1MB 12.2MB/s eta 0:00:01\r\u001b[K     |█████████████████████████████▊  | 1.1MB 12.2MB/s eta 0:00:01\r\u001b[K     |██████████████████████████████  | 1.1MB 12.2MB/s eta 0:00:01\r\u001b[K     |██████████████████████████████▏ | 1.1MB 12.2MB/s eta 0:00:01\r\u001b[K     |██████████████████████████████▌ | 1.1MB 12.2MB/s eta 0:00:01\r\u001b[K     |██████████████████████████████▊ | 1.2MB 12.2MB/s eta 0:00:01\r\u001b[K     |███████████████████████████████ | 1.2MB 12.2MB/s eta 0:00:01\r\u001b[K     |███████████████████████████████▎| 1.2MB 12.2MB/s eta 0:00:01\r\u001b[K     |███████████████████████████████▋| 1.2MB 12.2MB/s eta 0:00:01\r\u001b[K     |███████████████████████████████▉| 1.2MB 12.2MB/s eta 0:00:01\r\u001b[K     |████████████████████████████████| 1.2MB 12.2MB/s \n",
            "\u001b[?25hInstalling collected packages: sentencepiece\n",
            "Successfully installed sentencepiece-0.1.95\n",
            "Requirement already satisfied: pip in /usr/local/lib/python3.7/dist-packages (19.3.1)\n",
            "Collecting install\n",
            "  Downloading https://files.pythonhosted.org/packages/f0/a5/fd2eb807a9a593869ee8b7a6bcb4ad84a6eb31cef5c24d1bfbf7c938c13f/install-1.3.4-py3-none-any.whl\n",
            "Collecting transformers\n",
            "\u001b[?25l  Downloading https://files.pythonhosted.org/packages/d8/b2/57495b5309f09fa501866e225c84532d1fd89536ea62406b2181933fb418/transformers-4.5.1-py3-none-any.whl (2.1MB)\n",
            "\u001b[K     |████████████████████████████████| 2.1MB 11.3MB/s \n",
            "\u001b[?25hRequirement already satisfied: regex!=2019.12.17 in /usr/local/lib/python3.7/dist-packages (from transformers) (2019.12.20)\n",
            "Requirement already satisfied: importlib-metadata; python_version < \"3.8\" in /usr/local/lib/python3.7/dist-packages (from transformers) (3.10.1)\n",
            "Collecting sacremoses\n",
            "\u001b[?25l  Downloading https://files.pythonhosted.org/packages/75/ee/67241dc87f266093c533a2d4d3d69438e57d7a90abb216fa076e7d475d4a/sacremoses-0.0.45-py3-none-any.whl (895kB)\n",
            "\u001b[K     |████████████████████████████████| 901kB 50.5MB/s \n",
            "\u001b[?25hRequirement already satisfied: requests in /usr/local/lib/python3.7/dist-packages (from transformers) (2.23.0)\n",
            "Requirement already satisfied: packaging in /usr/local/lib/python3.7/dist-packages (from transformers) (20.9)\n",
            "Requirement already satisfied: numpy>=1.17 in /usr/local/lib/python3.7/dist-packages (from transformers) (1.19.5)\n",
            "Requirement already satisfied: filelock in /usr/local/lib/python3.7/dist-packages (from transformers) (3.0.12)\n",
            "Requirement already satisfied: tqdm>=4.27 in /usr/local/lib/python3.7/dist-packages (from transformers) (4.41.1)\n",
            "Collecting tokenizers<0.11,>=0.10.1\n",
            "\u001b[?25l  Downloading https://files.pythonhosted.org/packages/ae/04/5b870f26a858552025a62f1649c20d29d2672c02ff3c3fb4c688ca46467a/tokenizers-0.10.2-cp37-cp37m-manylinux2010_x86_64.whl (3.3MB)\n",
            "\u001b[K     |████████████████████████████████| 3.3MB 38.5MB/s \n",
            "\u001b[?25hRequirement already satisfied: typing-extensions>=3.6.4; python_version < \"3.8\" in /usr/local/lib/python3.7/dist-packages (from importlib-metadata; python_version < \"3.8\"->transformers) (3.7.4.3)\n",
            "Requirement already satisfied: zipp>=0.5 in /usr/local/lib/python3.7/dist-packages (from importlib-metadata; python_version < \"3.8\"->transformers) (3.4.1)\n",
            "Requirement already satisfied: six in /usr/local/lib/python3.7/dist-packages (from sacremoses->transformers) (1.15.0)\n",
            "Requirement already satisfied: joblib in /usr/local/lib/python3.7/dist-packages (from sacremoses->transformers) (1.0.1)\n",
            "Requirement already satisfied: click in /usr/local/lib/python3.7/dist-packages (from sacremoses->transformers) (7.1.2)\n",
            "Requirement already satisfied: certifi>=2017.4.17 in /usr/local/lib/python3.7/dist-packages (from requests->transformers) (2020.12.5)\n",
            "Requirement already satisfied: chardet<4,>=3.0.2 in /usr/local/lib/python3.7/dist-packages (from requests->transformers) (3.0.4)\n",
            "Requirement already satisfied: idna<3,>=2.5 in /usr/local/lib/python3.7/dist-packages (from requests->transformers) (2.10)\n",
            "Requirement already satisfied: urllib3!=1.25.0,!=1.25.1,<1.26,>=1.21.1 in /usr/local/lib/python3.7/dist-packages (from requests->transformers) (1.24.3)\n",
            "Requirement already satisfied: pyparsing>=2.0.2 in /usr/local/lib/python3.7/dist-packages (from packaging->transformers) (2.4.7)\n",
            "Installing collected packages: install, sacremoses, tokenizers, transformers\n",
            "Successfully installed install-1.3.4 sacremoses-0.0.45 tokenizers-0.10.2 transformers-4.5.1\n",
            "Requirement already satisfied: nltk in /usr/local/lib/python3.7/dist-packages (3.2.5)\n",
            "Requirement already satisfied: six in /usr/local/lib/python3.7/dist-packages (from nltk) (1.15.0)\n",
            "[nltk_data] Downloading package punkt to /root/nltk_data...\n",
            "[nltk_data]   Unzipping tokenizers/punkt.zip.\n",
            "Updated property [core/project].\n",
            "\n",
            "\n",
            "To take a quick anonymous survey, run:\n",
            "  $ gcloud survey\n",
            "\n"
          ],
          "name": "stdout"
        }
      ]
    },
    {
      "cell_type": "code",
      "metadata": {
        "id": "nMlVuxWXT-bp"
      },
      "source": [
        "def removeEmojis(s):\n",
        "  # list of all the emoji in unicode, yeah, really ugly but that's the best I came up with, (thanks https://gist.github.com/akkez/99ceeae2f13c9d8d9be7df0279e2c438)\n",
        "  emoji_pattern = regex.compile(r\"\\U0001f469\\u200d\\u2764\\ufe0f\\u200d\\U0001f48b\\u200d\\U0001f468|\\U0001f468\\u200d\\u2764\\ufe0f\\u200d\\U0001f48b\\u200d\\U0001f468|\\U0001f469\\u200d\\u2764\\ufe0f\\u200d\\U0001f48b\\u200d\\U0001f469|\\U0001f9d1\\U0001f3fb\\u200d\\U0001f91d\\u200d\\U0001f9d1\\U0001f3fb|\\U0001f9d1\\U0001f3fc\\u200d\\U0001f91d\\u200d\\U0001f9d1\\U0001f3fb|\\U0001f9d1\\U0001f3fc\\u200d\\U0001f91d\\u200d\\U0001f9d1\\U0001f3fc|\\U0001f9d1\\U0001f3fd\\u200d\\U0001f91d\\u200d\\U0001f9d1\\U0001f3fb|\\U0001f9d1\\U0001f3fd\\u200d\\U0001f91d\\u200d\\U0001f9d1\\U0001f3fc|\\U0001f9d1\\U0001f3fd\\u200d\\U0001f91d\\u200d\\U0001f9d1\\U0001f3fd|\\U0001f9d1\\U0001f3fe\\u200d\\U0001f91d\\u200d\\U0001f9d1\\U0001f3fb|\\U0001f9d1\\U0001f3fe\\u200d\\U0001f91d\\u200d\\U0001f9d1\\U0001f3fc|\\U0001f9d1\\U0001f3fe\\u200d\\U0001f91d\\u200d\\U0001f9d1\\U0001f3fd|\\U0001f9d1\\U0001f3fe\\u200d\\U0001f91d\\u200d\\U0001f9d1\\U0001f3fe|\\U0001f9d1\\U0001f3ff\\u200d\\U0001f91d\\u200d\\U0001f9d1\\U0001f3fb|\\U0001f9d1\\U0001f3ff\\u200d\\U0001f91d\\u200d\\U0001f9d1\\U0001f3fc|\\U0001f9d1\\U0001f3ff\\u200d\\U0001f91d\\u200d\\U0001f9d1\\U0001f3fd|\\U0001f9d1\\U0001f3ff\\u200d\\U0001f91d\\u200d\\U0001f9d1\\U0001f3fe|\\U0001f9d1\\U0001f3ff\\u200d\\U0001f91d\\u200d\\U0001f9d1\\U0001f3ff|\\U0001f469\\U0001f3fc\\u200d\\U0001f91d\\u200d\\U0001f469\\U0001f3fb|\\U0001f469\\U0001f3fd\\u200d\\U0001f91d\\u200d\\U0001f469\\U0001f3fb|\\U0001f469\\U0001f3fd\\u200d\\U0001f91d\\u200d\\U0001f469\\U0001f3fc|\\U0001f469\\U0001f3fe\\u200d\\U0001f91d\\u200d\\U0001f469\\U0001f3fb|\\U0001f469\\U0001f3fe\\u200d\\U0001f91d\\u200d\\U0001f469\\U0001f3fc|\\U0001f469\\U0001f3fe\\u200d\\U0001f91d\\u200d\\U0001f469\\U0001f3fd|\\U0001f469\\U0001f3ff\\u200d\\U0001f91d\\u200d\\U0001f469\\U0001f3fb|\\U0001f469\\U0001f3ff\\u200d\\U0001f91d\\u200d\\U0001f469\\U0001f3fc|\\U0001f469\\U0001f3ff\\u200d\\U0001f91d\\u200d\\U0001f469\\U0001f3fd|\\U0001f469\\U0001f3ff\\u200d\\U0001f91d\\u200d\\U0001f469\\U0001f3fe|\\U0001f469\\U0001f3fb\\u200d\\U0001f91d\\u200d\\U0001f468\\U0001f3fc|\\U0001f469\\U0001f3fb\\u200d\\U0001f91d\\u200d\\U0001f468\\U0001f3fd|\\U0001f469\\U0001f3fb\\u200d\\U0001f91d\\u200d\\U0001f468\\U0001f3fe|\\U0001f469\\U0001f3fb\\u200d\\U0001f91d\\u200d\\U0001f468\\U0001f3ff|\\U0001f469\\U0001f3fc\\u200d\\U0001f91d\\u200d\\U0001f468\\U0001f3fb|\\U0001f469\\U0001f3fc\\u200d\\U0001f91d\\u200d\\U0001f468\\U0001f3fd|\\U0001f469\\U0001f3fc\\u200d\\U0001f91d\\u200d\\U0001f468\\U0001f3fe|\\U0001f469\\U0001f3fc\\u200d\\U0001f91d\\u200d\\U0001f468\\U0001f3ff|\\U0001f469\\U0001f3fd\\u200d\\U0001f91d\\u200d\\U0001f468\\U0001f3fb|\\U0001f469\\U0001f3fd\\u200d\\U0001f91d\\u200d\\U0001f468\\U0001f3fc|\\U0001f469\\U0001f3fd\\u200d\\U0001f91d\\u200d\\U0001f468\\U0001f3fe|\\U0001f469\\U0001f3fd\\u200d\\U0001f91d\\u200d\\U0001f468\\U0001f3ff|\\U0001f469\\U0001f3fe\\u200d\\U0001f91d\\u200d\\U0001f468\\U0001f3fb|\\U0001f469\\U0001f3fe\\u200d\\U0001f91d\\u200d\\U0001f468\\U0001f3fc|\\U0001f469\\U0001f3fe\\u200d\\U0001f91d\\u200d\\U0001f468\\U0001f3fd|\\U0001f469\\U0001f3fe\\u200d\\U0001f91d\\u200d\\U0001f468\\U0001f3ff|\\U0001f469\\U0001f3ff\\u200d\\U0001f91d\\u200d\\U0001f468\\U0001f3fb|\\U0001f469\\U0001f3ff\\u200d\\U0001f91d\\u200d\\U0001f468\\U0001f3fc|\\U0001f469\\U0001f3ff\\u200d\\U0001f91d\\u200d\\U0001f468\\U0001f3fd|\\U0001f469\\U0001f3ff\\u200d\\U0001f91d\\u200d\\U0001f468\\U0001f3fe|\\U0001f468\\U0001f3fc\\u200d\\U0001f91d\\u200d\\U0001f468\\U0001f3fb|\\U0001f468\\U0001f3fd\\u200d\\U0001f91d\\u200d\\U0001f468\\U0001f3fb|\\U0001f468\\U0001f3fd\\u200d\\U0001f91d\\u200d\\U0001f468\\U0001f3fc|\\U0001f468\\U0001f3fe\\u200d\\U0001f91d\\u200d\\U0001f468\\U0001f3fb|\\U0001f468\\U0001f3fe\\u200d\\U0001f91d\\u200d\\U0001f468\\U0001f3fc|\\U0001f468\\U0001f3fe\\u200d\\U0001f91d\\u200d\\U0001f468\\U0001f3fd|\\U0001f468\\U0001f3ff\\u200d\\U0001f91d\\u200d\\U0001f468\\U0001f3fb|\\U0001f468\\U0001f3ff\\u200d\\U0001f91d\\u200d\\U0001f468\\U0001f3fc|\\U0001f468\\U0001f3ff\\u200d\\U0001f91d\\u200d\\U0001f468\\U0001f3fd|\\U0001f468\\U0001f3ff\\u200d\\U0001f91d\\u200d\\U0001f468\\U0001f3fe|\\U0001f469\\u200d\\u2764\\u200d\\U0001f48b\\u200d\\U0001f468|\\U0001f468\\u200d\\u2764\\u200d\\U0001f48b\\u200d\\U0001f468|\\U0001f469\\u200d\\u2764\\u200d\\U0001f48b\\u200d\\U0001f469|\\U0001f468\\u200d\\U0001f469\\u200d\\U0001f467\\u200d\\U0001f466|\\U0001f468\\u200d\\U0001f469\\u200d\\U0001f466\\u200d\\U0001f466|\\U0001f468\\u200d\\U0001f469\\u200d\\U0001f467\\u200d\\U0001f467|\\U0001f468\\u200d\\U0001f468\\u200d\\U0001f467\\u200d\\U0001f466|\\U0001f468\\u200d\\U0001f468\\u200d\\U0001f466\\u200d\\U0001f466|\\U0001f468\\u200d\\U0001f468\\u200d\\U0001f467\\u200d\\U0001f467|\\U0001f469\\u200d\\U0001f469\\u200d\\U0001f467\\u200d\\U0001f466|\\U0001f469\\u200d\\U0001f469\\u200d\\U0001f466\\u200d\\U0001f466|\\U0001f469\\u200d\\U0001f469\\u200d\\U0001f467\\u200d\\U0001f467|\\U0001f3f4\\U000e0067\\U000e0062\\U000e0065\\U000e006e\\U000e0067\\U000e007f|\\U0001f3f4\\U000e0067\\U000e0062\\U000e0073\\U000e0063\\U000e0074\\U000e007f|\\U0001f3f4\\U000e0067\\U000e0062\\U000e0077\\U000e006c\\U000e0073\\U000e007f|\\U0001f469\\u200d\\u2764\\ufe0f\\u200d\\U0001f468|\\U0001f468\\u200d\\u2764\\ufe0f\\u200d\\U0001f468|\\U0001f469\\u200d\\u2764\\ufe0f\\u200d\\U0001f469|\\U0001f441\\ufe0f\\u200d\\U0001f5e8\\ufe0f|\\U0001f471\\U0001f3fb\\u200d\\u2642\\ufe0f|\\U0001f471\\U0001f3fc\\u200d\\u2642\\ufe0f|\\U0001f471\\U0001f3fd\\u200d\\u2642\\ufe0f|\\U0001f471\\U0001f3fe\\u200d\\u2642\\ufe0f|\\U0001f471\\U0001f3ff\\u200d\\u2642\\ufe0f|\\U0001f471\\U0001f3fb\\u200d\\u2640\\ufe0f|\\U0001f471\\U0001f3fc\\u200d\\u2640\\ufe0f|\\U0001f471\\U0001f3fd\\u200d\\u2640\\ufe0f|\\U0001f471\\U0001f3fe\\u200d\\u2640\\ufe0f|\\U0001f471\\U0001f3ff\\u200d\\u2640\\ufe0f|\\U0001f64d\\U0001f3fb\\u200d\\u2642\\ufe0f|\\U0001f64d\\U0001f3fc\\u200d\\u2642\\ufe0f|\\U0001f64d\\U0001f3fd\\u200d\\u2642\\ufe0f|\\U0001f64d\\U0001f3fe\\u200d\\u2642\\ufe0f|\\U0001f64d\\U0001f3ff\\u200d\\u2642\\ufe0f|\\U0001f64d\\U0001f3fb\\u200d\\u2640\\ufe0f|\\U0001f64d\\U0001f3fc\\u200d\\u2640\\ufe0f|\\U0001f64d\\U0001f3fd\\u200d\\u2640\\ufe0f|\\U0001f64d\\U0001f3fe\\u200d\\u2640\\ufe0f|\\U0001f64d\\U0001f3ff\\u200d\\u2640\\ufe0f|\\U0001f64e\\U0001f3fb\\u200d\\u2642\\ufe0f|\\U0001f64e\\U0001f3fc\\u200d\\u2642\\ufe0f|\\U0001f64e\\U0001f3fd\\u200d\\u2642\\ufe0f|\\U0001f64e\\U0001f3fe\\u200d\\u2642\\ufe0f|\\U0001f64e\\U0001f3ff\\u200d\\u2642\\ufe0f|\\U0001f64e\\U0001f3fb\\u200d\\u2640\\ufe0f|\\U0001f64e\\U0001f3fc\\u200d\\u2640\\ufe0f|\\U0001f64e\\U0001f3fd\\u200d\\u2640\\ufe0f|\\U0001f64e\\U0001f3fe\\u200d\\u2640\\ufe0f|\\U0001f64e\\U0001f3ff\\u200d\\u2640\\ufe0f|\\U0001f645\\U0001f3fb\\u200d\\u2642\\ufe0f|\\U0001f645\\U0001f3fc\\u200d\\u2642\\ufe0f|\\U0001f645\\U0001f3fd\\u200d\\u2642\\ufe0f|\\U0001f645\\U0001f3fe\\u200d\\u2642\\ufe0f|\\U0001f645\\U0001f3ff\\u200d\\u2642\\ufe0f|\\U0001f645\\U0001f3fb\\u200d\\u2640\\ufe0f|\\U0001f645\\U0001f3fc\\u200d\\u2640\\ufe0f|\\U0001f645\\U0001f3fd\\u200d\\u2640\\ufe0f|\\U0001f645\\U0001f3fe\\u200d\\u2640\\ufe0f|\\U0001f645\\U0001f3ff\\u200d\\u2640\\ufe0f|\\U0001f646\\U0001f3fb\\u200d\\u2642\\ufe0f|\\U0001f646\\U0001f3fc\\u200d\\u2642\\ufe0f|\\U0001f646\\U0001f3fd\\u200d\\u2642\\ufe0f|\\U0001f646\\U0001f3fe\\u200d\\u2642\\ufe0f|\\U0001f646\\U0001f3ff\\u200d\\u2642\\ufe0f|\\U0001f646\\U0001f3fb\\u200d\\u2640\\ufe0f|\\U0001f646\\U0001f3fc\\u200d\\u2640\\ufe0f|\\U0001f646\\U0001f3fd\\u200d\\u2640\\ufe0f|\\U0001f646\\U0001f3fe\\u200d\\u2640\\ufe0f|\\U0001f646\\U0001f3ff\\u200d\\u2640\\ufe0f|\\U0001f481\\U0001f3fb\\u200d\\u2642\\ufe0f|\\U0001f481\\U0001f3fc\\u200d\\u2642\\ufe0f|\\U0001f481\\U0001f3fd\\u200d\\u2642\\ufe0f|\\U0001f481\\U0001f3fe\\u200d\\u2642\\ufe0f|\\U0001f481\\U0001f3ff\\u200d\\u2642\\ufe0f|\\U0001f481\\U0001f3fb\\u200d\\u2640\\ufe0f|\\U0001f481\\U0001f3fc\\u200d\\u2640\\ufe0f|\\U0001f481\\U0001f3fd\\u200d\\u2640\\ufe0f|\\U0001f481\\U0001f3fe\\u200d\\u2640\\ufe0f|\\U0001f481\\U0001f3ff\\u200d\\u2640\\ufe0f|\\U0001f64b\\U0001f3fb\\u200d\\u2642\\ufe0f|\\U0001f64b\\U0001f3fc\\u200d\\u2642\\ufe0f|\\U0001f64b\\U0001f3fd\\u200d\\u2642\\ufe0f|\\U0001f64b\\U0001f3fe\\u200d\\u2642\\ufe0f|\\U0001f64b\\U0001f3ff\\u200d\\u2642\\ufe0f|\\U0001f64b\\U0001f3fb\\u200d\\u2640\\ufe0f|\\U0001f64b\\U0001f3fc\\u200d\\u2640\\ufe0f|\\U0001f64b\\U0001f3fd\\u200d\\u2640\\ufe0f|\\U0001f64b\\U0001f3fe\\u200d\\u2640\\ufe0f|\\U0001f64b\\U0001f3ff\\u200d\\u2640\\ufe0f|\\U0001f9cf\\U0001f3fb\\u200d\\u2642\\ufe0f|\\U0001f9cf\\U0001f3fc\\u200d\\u2642\\ufe0f|\\U0001f9cf\\U0001f3fd\\u200d\\u2642\\ufe0f|\\U0001f9cf\\U0001f3fe\\u200d\\u2642\\ufe0f|\\U0001f9cf\\U0001f3ff\\u200d\\u2642\\ufe0f|\\U0001f9cf\\U0001f3fb\\u200d\\u2640\\ufe0f|\\U0001f9cf\\U0001f3fc\\u200d\\u2640\\ufe0f|\\U0001f9cf\\U0001f3fd\\u200d\\u2640\\ufe0f|\\U0001f9cf\\U0001f3fe\\u200d\\u2640\\ufe0f|\\U0001f9cf\\U0001f3ff\\u200d\\u2640\\ufe0f|\\U0001f647\\U0001f3fb\\u200d\\u2642\\ufe0f|\\U0001f647\\U0001f3fc\\u200d\\u2642\\ufe0f|\\U0001f647\\U0001f3fd\\u200d\\u2642\\ufe0f|\\U0001f647\\U0001f3fe\\u200d\\u2642\\ufe0f|\\U0001f647\\U0001f3ff\\u200d\\u2642\\ufe0f|\\U0001f647\\U0001f3fb\\u200d\\u2640\\ufe0f|\\U0001f647\\U0001f3fc\\u200d\\u2640\\ufe0f|\\U0001f647\\U0001f3fd\\u200d\\u2640\\ufe0f|\\U0001f647\\U0001f3fe\\u200d\\u2640\\ufe0f|\\U0001f647\\U0001f3ff\\u200d\\u2640\\ufe0f|\\U0001f926\\U0001f3fb\\u200d\\u2642\\ufe0f|\\U0001f926\\U0001f3fc\\u200d\\u2642\\ufe0f|\\U0001f926\\U0001f3fd\\u200d\\u2642\\ufe0f|\\U0001f926\\U0001f3fe\\u200d\\u2642\\ufe0f|\\U0001f926\\U0001f3ff\\u200d\\u2642\\ufe0f|\\U0001f926\\U0001f3fb\\u200d\\u2640\\ufe0f|\\U0001f926\\U0001f3fc\\u200d\\u2640\\ufe0f|\\U0001f926\\U0001f3fd\\u200d\\u2640\\ufe0f|\\U0001f926\\U0001f3fe\\u200d\\u2640\\ufe0f|\\U0001f926\\U0001f3ff\\u200d\\u2640\\ufe0f|\\U0001f937\\U0001f3fb\\u200d\\u2642\\ufe0f|\\U0001f937\\U0001f3fc\\u200d\\u2642\\ufe0f|\\U0001f937\\U0001f3fd\\u200d\\u2642\\ufe0f|\\U0001f937\\U0001f3fe\\u200d\\u2642\\ufe0f|\\U0001f937\\U0001f3ff\\u200d\\u2642\\ufe0f|\\U0001f937\\U0001f3fb\\u200d\\u2640\\ufe0f|\\U0001f937\\U0001f3fc\\u200d\\u2640\\ufe0f|\\U0001f937\\U0001f3fd\\u200d\\u2640\\ufe0f|\\U0001f937\\U0001f3fe\\u200d\\u2640\\ufe0f|\\U0001f937\\U0001f3ff\\u200d\\u2640\\ufe0f|\\U0001f468\\U0001f3fb\\u200d\\u2695\\ufe0f|\\U0001f468\\U0001f3fc\\u200d\\u2695\\ufe0f|\\U0001f468\\U0001f3fd\\u200d\\u2695\\ufe0f|\\U0001f468\\U0001f3fe\\u200d\\u2695\\ufe0f|\\U0001f468\\U0001f3ff\\u200d\\u2695\\ufe0f|\\U0001f469\\U0001f3fb\\u200d\\u2695\\ufe0f|\\U0001f469\\U0001f3fc\\u200d\\u2695\\ufe0f|\\U0001f469\\U0001f3fd\\u200d\\u2695\\ufe0f|\\U0001f469\\U0001f3fe\\u200d\\u2695\\ufe0f|\\U0001f469\\U0001f3ff\\u200d\\u2695\\ufe0f|\\U0001f468\\U0001f3fb\\u200d\\u2696\\ufe0f|\\U0001f468\\U0001f3fc\\u200d\\u2696\\ufe0f|\\U0001f468\\U0001f3fd\\u200d\\u2696\\ufe0f|\\U0001f468\\U0001f3fe\\u200d\\u2696\\ufe0f|\\U0001f468\\U0001f3ff\\u200d\\u2696\\ufe0f|\\U0001f469\\U0001f3fb\\u200d\\u2696\\ufe0f|\\U0001f469\\U0001f3fc\\u200d\\u2696\\ufe0f|\\U0001f469\\U0001f3fd\\u200d\\u2696\\ufe0f|\\U0001f469\\U0001f3fe\\u200d\\u2696\\ufe0f|\\U0001f469\\U0001f3ff\\u200d\\u2696\\ufe0f|\\U0001f468\\U0001f3fb\\u200d\\u2708\\ufe0f|\\U0001f468\\U0001f3fc\\u200d\\u2708\\ufe0f|\\U0001f468\\U0001f3fd\\u200d\\u2708\\ufe0f|\\U0001f468\\U0001f3fe\\u200d\\u2708\\ufe0f|\\U0001f468\\U0001f3ff\\u200d\\u2708\\ufe0f|\\U0001f469\\U0001f3fb\\u200d\\u2708\\ufe0f|\\U0001f469\\U0001f3fc\\u200d\\u2708\\ufe0f|\\U0001f469\\U0001f3fd\\u200d\\u2708\\ufe0f|\\U0001f469\\U0001f3fe\\u200d\\u2708\\ufe0f|\\U0001f469\\U0001f3ff\\u200d\\u2708\\ufe0f|\\U0001f46e\\U0001f3fb\\u200d\\u2642\\ufe0f|\\U0001f46e\\U0001f3fc\\u200d\\u2642\\ufe0f|\\U0001f46e\\U0001f3fd\\u200d\\u2642\\ufe0f|\\U0001f46e\\U0001f3fe\\u200d\\u2642\\ufe0f|\\U0001f46e\\U0001f3ff\\u200d\\u2642\\ufe0f|\\U0001f46e\\U0001f3fb\\u200d\\u2640\\ufe0f|\\U0001f46e\\U0001f3fc\\u200d\\u2640\\ufe0f|\\U0001f46e\\U0001f3fd\\u200d\\u2640\\ufe0f|\\U0001f46e\\U0001f3fe\\u200d\\u2640\\ufe0f|\\U0001f46e\\U0001f3ff\\u200d\\u2640\\ufe0f|\\U0001f575\\ufe0f\\u200d\\u2642\\ufe0f|\\U0001f575\\U0001f3fb\\u200d\\u2642\\ufe0f|\\U0001f575\\U0001f3fc\\u200d\\u2642\\ufe0f|\\U0001f575\\U0001f3fd\\u200d\\u2642\\ufe0f|\\U0001f575\\U0001f3fe\\u200d\\u2642\\ufe0f|\\U0001f575\\U0001f3ff\\u200d\\u2642\\ufe0f|\\U0001f575\\ufe0f\\u200d\\u2640\\ufe0f|\\U0001f575\\U0001f3fb\\u200d\\u2640\\ufe0f|\\U0001f575\\U0001f3fc\\u200d\\u2640\\ufe0f|\\U0001f575\\U0001f3fd\\u200d\\u2640\\ufe0f|\\U0001f575\\U0001f3fe\\u200d\\u2640\\ufe0f|\\U0001f575\\U0001f3ff\\u200d\\u2640\\ufe0f|\\U0001f482\\U0001f3fb\\u200d\\u2642\\ufe0f|\\U0001f482\\U0001f3fc\\u200d\\u2642\\ufe0f|\\U0001f482\\U0001f3fd\\u200d\\u2642\\ufe0f|\\U0001f482\\U0001f3fe\\u200d\\u2642\\ufe0f|\\U0001f482\\U0001f3ff\\u200d\\u2642\\ufe0f|\\U0001f482\\U0001f3fb\\u200d\\u2640\\ufe0f|\\U0001f482\\U0001f3fc\\u200d\\u2640\\ufe0f|\\U0001f482\\U0001f3fd\\u200d\\u2640\\ufe0f|\\U0001f482\\U0001f3fe\\u200d\\u2640\\ufe0f|\\U0001f482\\U0001f3ff\\u200d\\u2640\\ufe0f|\\U0001f477\\U0001f3fb\\u200d\\u2642\\ufe0f|\\U0001f477\\U0001f3fc\\u200d\\u2642\\ufe0f|\\U0001f477\\U0001f3fd\\u200d\\u2642\\ufe0f|\\U0001f477\\U0001f3fe\\u200d\\u2642\\ufe0f|\\U0001f477\\U0001f3ff\\u200d\\u2642\\ufe0f|\\U0001f477\\U0001f3fb\\u200d\\u2640\\ufe0f|\\U0001f477\\U0001f3fc\\u200d\\u2640\\ufe0f|\\U0001f477\\U0001f3fd\\u200d\\u2640\\ufe0f|\\U0001f477\\U0001f3fe\\u200d\\u2640\\ufe0f|\\U0001f477\\U0001f3ff\\u200d\\u2640\\ufe0f|\\U0001f473\\U0001f3fb\\u200d\\u2642\\ufe0f|\\U0001f473\\U0001f3fc\\u200d\\u2642\\ufe0f|\\U0001f473\\U0001f3fd\\u200d\\u2642\\ufe0f|\\U0001f473\\U0001f3fe\\u200d\\u2642\\ufe0f|\\U0001f473\\U0001f3ff\\u200d\\u2642\\ufe0f|\\U0001f473\\U0001f3fb\\u200d\\u2640\\ufe0f|\\U0001f473\\U0001f3fc\\u200d\\u2640\\ufe0f|\\U0001f473\\U0001f3fd\\u200d\\u2640\\ufe0f|\\U0001f473\\U0001f3fe\\u200d\\u2640\\ufe0f|\\U0001f473\\U0001f3ff\\u200d\\u2640\\ufe0f|\\U0001f9b8\\U0001f3fb\\u200d\\u2642\\ufe0f|\\U0001f9b8\\U0001f3fc\\u200d\\u2642\\ufe0f|\\U0001f9b8\\U0001f3fd\\u200d\\u2642\\ufe0f|\\U0001f9b8\\U0001f3fe\\u200d\\u2642\\ufe0f|\\U0001f9b8\\U0001f3ff\\u200d\\u2642\\ufe0f|\\U0001f9b8\\U0001f3fb\\u200d\\u2640\\ufe0f|\\U0001f9b8\\U0001f3fc\\u200d\\u2640\\ufe0f|\\U0001f9b8\\U0001f3fd\\u200d\\u2640\\ufe0f|\\U0001f9b8\\U0001f3fe\\u200d\\u2640\\ufe0f|\\U0001f9b8\\U0001f3ff\\u200d\\u2640\\ufe0f|\\U0001f9b9\\U0001f3fb\\u200d\\u2642\\ufe0f|\\U0001f9b9\\U0001f3fc\\u200d\\u2642\\ufe0f|\\U0001f9b9\\U0001f3fd\\u200d\\u2642\\ufe0f|\\U0001f9b9\\U0001f3fe\\u200d\\u2642\\ufe0f|\\U0001f9b9\\U0001f3ff\\u200d\\u2642\\ufe0f|\\U0001f9b9\\U0001f3fb\\u200d\\u2640\\ufe0f|\\U0001f9b9\\U0001f3fc\\u200d\\u2640\\ufe0f|\\U0001f9b9\\U0001f3fd\\u200d\\u2640\\ufe0f|\\U0001f9b9\\U0001f3fe\\u200d\\u2640\\ufe0f|\\U0001f9b9\\U0001f3ff\\u200d\\u2640\\ufe0f|\\U0001f9d9\\U0001f3fb\\u200d\\u2642\\ufe0f|\\U0001f9d9\\U0001f3fc\\u200d\\u2642\\ufe0f|\\U0001f9d9\\U0001f3fd\\u200d\\u2642\\ufe0f|\\U0001f9d9\\U0001f3fe\\u200d\\u2642\\ufe0f|\\U0001f9d9\\U0001f3ff\\u200d\\u2642\\ufe0f|\\U0001f9d9\\U0001f3fb\\u200d\\u2640\\ufe0f|\\U0001f9d9\\U0001f3fc\\u200d\\u2640\\ufe0f|\\U0001f9d9\\U0001f3fd\\u200d\\u2640\\ufe0f|\\U0001f9d9\\U0001f3fe\\u200d\\u2640\\ufe0f|\\U0001f9d9\\U0001f3ff\\u200d\\u2640\\ufe0f|\\U0001f9da\\U0001f3fb\\u200d\\u2642\\ufe0f|\\U0001f9da\\U0001f3fc\\u200d\\u2642\\ufe0f|\\U0001f9da\\U0001f3fd\\u200d\\u2642\\ufe0f|\\U0001f9da\\U0001f3fe\\u200d\\u2642\\ufe0f|\\U0001f9da\\U0001f3ff\\u200d\\u2642\\ufe0f|\\U0001f9da\\U0001f3fb\\u200d\\u2640\\ufe0f|\\U0001f9da\\U0001f3fc\\u200d\\u2640\\ufe0f|\\U0001f9da\\U0001f3fd\\u200d\\u2640\\ufe0f|\\U0001f9da\\U0001f3fe\\u200d\\u2640\\ufe0f|\\U0001f9da\\U0001f3ff\\u200d\\u2640\\ufe0f|\\U0001f9db\\U0001f3fb\\u200d\\u2642\\ufe0f|\\U0001f9db\\U0001f3fc\\u200d\\u2642\\ufe0f|\\U0001f9db\\U0001f3fd\\u200d\\u2642\\ufe0f|\\U0001f9db\\U0001f3fe\\u200d\\u2642\\ufe0f|\\U0001f9db\\U0001f3ff\\u200d\\u2642\\ufe0f|\\U0001f9db\\U0001f3fb\\u200d\\u2640\\ufe0f|\\U0001f9db\\U0001f3fc\\u200d\\u2640\\ufe0f|\\U0001f9db\\U0001f3fd\\u200d\\u2640\\ufe0f|\\U0001f9db\\U0001f3fe\\u200d\\u2640\\ufe0f|\\U0001f9db\\U0001f3ff\\u200d\\u2640\\ufe0f|\\U0001f9dc\\U0001f3fb\\u200d\\u2642\\ufe0f|\\U0001f9dc\\U0001f3fc\\u200d\\u2642\\ufe0f|\\U0001f9dc\\U0001f3fd\\u200d\\u2642\\ufe0f|\\U0001f9dc\\U0001f3fe\\u200d\\u2642\\ufe0f|\\U0001f9dc\\U0001f3ff\\u200d\\u2642\\ufe0f|\\U0001f9dc\\U0001f3fb\\u200d\\u2640\\ufe0f|\\U0001f9dc\\U0001f3fc\\u200d\\u2640\\ufe0f|\\U0001f9dc\\U0001f3fd\\u200d\\u2640\\ufe0f|\\U0001f9dc\\U0001f3fe\\u200d\\u2640\\ufe0f|\\U0001f9dc\\U0001f3ff\\u200d\\u2640\\ufe0f|\\U0001f9dd\\U0001f3fb\\u200d\\u2642\\ufe0f|\\U0001f9dd\\U0001f3fc\\u200d\\u2642\\ufe0f|\\U0001f9dd\\U0001f3fd\\u200d\\u2642\\ufe0f|\\U0001f9dd\\U0001f3fe\\u200d\\u2642\\ufe0f|\\U0001f9dd\\U0001f3ff\\u200d\\u2642\\ufe0f|\\U0001f9dd\\U0001f3fb\\u200d\\u2640\\ufe0f|\\U0001f9dd\\U0001f3fc\\u200d\\u2640\\ufe0f|\\U0001f9dd\\U0001f3fd\\u200d\\u2640\\ufe0f|\\U0001f9dd\\U0001f3fe\\u200d\\u2640\\ufe0f|\\U0001f9dd\\U0001f3ff\\u200d\\u2640\\ufe0f|\\U0001f486\\U0001f3fb\\u200d\\u2642\\ufe0f|\\U0001f486\\U0001f3fc\\u200d\\u2642\\ufe0f|\\U0001f486\\U0001f3fd\\u200d\\u2642\\ufe0f|\\U0001f486\\U0001f3fe\\u200d\\u2642\\ufe0f|\\U0001f486\\U0001f3ff\\u200d\\u2642\\ufe0f|\\U0001f486\\U0001f3fb\\u200d\\u2640\\ufe0f|\\U0001f486\\U0001f3fc\\u200d\\u2640\\ufe0f|\\U0001f486\\U0001f3fd\\u200d\\u2640\\ufe0f|\\U0001f486\\U0001f3fe\\u200d\\u2640\\ufe0f|\\U0001f486\\U0001f3ff\\u200d\\u2640\\ufe0f|\\U0001f487\\U0001f3fb\\u200d\\u2642\\ufe0f|\\U0001f487\\U0001f3fc\\u200d\\u2642\\ufe0f|\\U0001f487\\U0001f3fd\\u200d\\u2642\\ufe0f|\\U0001f487\\U0001f3fe\\u200d\\u2642\\ufe0f|\\U0001f487\\U0001f3ff\\u200d\\u2642\\ufe0f|\\U0001f487\\U0001f3fb\\u200d\\u2640\\ufe0f|\\U0001f487\\U0001f3fc\\u200d\\u2640\\ufe0f|\\U0001f487\\U0001f3fd\\u200d\\u2640\\ufe0f|\\U0001f487\\U0001f3fe\\u200d\\u2640\\ufe0f|\\U0001f487\\U0001f3ff\\u200d\\u2640\\ufe0f|\\U0001f6b6\\U0001f3fb\\u200d\\u2642\\ufe0f|\\U0001f6b6\\U0001f3fc\\u200d\\u2642\\ufe0f|\\U0001f6b6\\U0001f3fd\\u200d\\u2642\\ufe0f|\\U0001f6b6\\U0001f3fe\\u200d\\u2642\\ufe0f|\\U0001f6b6\\U0001f3ff\\u200d\\u2642\\ufe0f|\\U0001f6b6\\U0001f3fb\\u200d\\u2640\\ufe0f|\\U0001f6b6\\U0001f3fc\\u200d\\u2640\\ufe0f|\\U0001f6b6\\U0001f3fd\\u200d\\u2640\\ufe0f|\\U0001f6b6\\U0001f3fe\\u200d\\u2640\\ufe0f|\\U0001f6b6\\U0001f3ff\\u200d\\u2640\\ufe0f|\\U0001f9cd\\U0001f3fb\\u200d\\u2642\\ufe0f|\\U0001f9cd\\U0001f3fc\\u200d\\u2642\\ufe0f|\\U0001f9cd\\U0001f3fd\\u200d\\u2642\\ufe0f|\\U0001f9cd\\U0001f3fe\\u200d\\u2642\\ufe0f|\\U0001f9cd\\U0001f3ff\\u200d\\u2642\\ufe0f|\\U0001f9cd\\U0001f3fb\\u200d\\u2640\\ufe0f|\\U0001f9cd\\U0001f3fc\\u200d\\u2640\\ufe0f|\\U0001f9cd\\U0001f3fd\\u200d\\u2640\\ufe0f|\\U0001f9cd\\U0001f3fe\\u200d\\u2640\\ufe0f|\\U0001f9cd\\U0001f3ff\\u200d\\u2640\\ufe0f|\\U0001f9ce\\U0001f3fb\\u200d\\u2642\\ufe0f|\\U0001f9ce\\U0001f3fc\\u200d\\u2642\\ufe0f|\\U0001f9ce\\U0001f3fd\\u200d\\u2642\\ufe0f|\\U0001f9ce\\U0001f3fe\\u200d\\u2642\\ufe0f|\\U0001f9ce\\U0001f3ff\\u200d\\u2642\\ufe0f|\\U0001f9ce\\U0001f3fb\\u200d\\u2640\\ufe0f|\\U0001f9ce\\U0001f3fc\\u200d\\u2640\\ufe0f|\\U0001f9ce\\U0001f3fd\\u200d\\u2640\\ufe0f|\\U0001f9ce\\U0001f3fe\\u200d\\u2640\\ufe0f|\\U0001f9ce\\U0001f3ff\\u200d\\u2640\\ufe0f|\\U0001f3c3\\U0001f3fb\\u200d\\u2642\\ufe0f|\\U0001f3c3\\U0001f3fc\\u200d\\u2642\\ufe0f|\\U0001f3c3\\U0001f3fd\\u200d\\u2642\\ufe0f|\\U0001f3c3\\U0001f3fe\\u200d\\u2642\\ufe0f|\\U0001f3c3\\U0001f3ff\\u200d\\u2642\\ufe0f|\\U0001f3c3\\U0001f3fb\\u200d\\u2640\\ufe0f|\\U0001f3c3\\U0001f3fc\\u200d\\u2640\\ufe0f|\\U0001f3c3\\U0001f3fd\\u200d\\u2640\\ufe0f|\\U0001f3c3\\U0001f3fe\\u200d\\u2640\\ufe0f|\\U0001f3c3\\U0001f3ff\\u200d\\u2640\\ufe0f|\\U0001f9d6\\U0001f3fb\\u200d\\u2642\\ufe0f|\\U0001f9d6\\U0001f3fc\\u200d\\u2642\\ufe0f|\\U0001f9d6\\U0001f3fd\\u200d\\u2642\\ufe0f|\\U0001f9d6\\U0001f3fe\\u200d\\u2642\\ufe0f|\\U0001f9d6\\U0001f3ff\\u200d\\u2642\\ufe0f|\\U0001f9d6\\U0001f3fb\\u200d\\u2640\\ufe0f|\\U0001f9d6\\U0001f3fc\\u200d\\u2640\\ufe0f|\\U0001f9d6\\U0001f3fd\\u200d\\u2640\\ufe0f|\\U0001f9d6\\U0001f3fe\\u200d\\u2640\\ufe0f|\\U0001f9d6\\U0001f3ff\\u200d\\u2640\\ufe0f|\\U0001f9d7\\U0001f3fb\\u200d\\u2642\\ufe0f|\\U0001f9d7\\U0001f3fc\\u200d\\u2642\\ufe0f|\\U0001f9d7\\U0001f3fd\\u200d\\u2642\\ufe0f|\\U0001f9d7\\U0001f3fe\\u200d\\u2642\\ufe0f|\\U0001f9d7\\U0001f3ff\\u200d\\u2642\\ufe0f|\\U0001f9d7\\U0001f3fb\\u200d\\u2640\\ufe0f|\\U0001f9d7\\U0001f3fc\\u200d\\u2640\\ufe0f|\\U0001f9d7\\U0001f3fd\\u200d\\u2640\\ufe0f|\\U0001f9d7\\U0001f3fe\\u200d\\u2640\\ufe0f|\\U0001f9d7\\U0001f3ff\\u200d\\u2640\\ufe0f|\\U0001f3cc\\ufe0f\\u200d\\u2642\\ufe0f|\\U0001f3cc\\U0001f3fb\\u200d\\u2642\\ufe0f|\\U0001f3cc\\U0001f3fc\\u200d\\u2642\\ufe0f|\\U0001f3cc\\U0001f3fd\\u200d\\u2642\\ufe0f|\\U0001f3cc\\U0001f3fe\\u200d\\u2642\\ufe0f|\\U0001f3cc\\U0001f3ff\\u200d\\u2642\\ufe0f|\\U0001f3cc\\ufe0f\\u200d\\u2640\\ufe0f|\\U0001f3cc\\U0001f3fb\\u200d\\u2640\\ufe0f|\\U0001f3cc\\U0001f3fc\\u200d\\u2640\\ufe0f|\\U0001f3cc\\U0001f3fd\\u200d\\u2640\\ufe0f|\\U0001f3cc\\U0001f3fe\\u200d\\u2640\\ufe0f|\\U0001f3cc\\U0001f3ff\\u200d\\u2640\\ufe0f|\\U0001f3c4\\U0001f3fb\\u200d\\u2642\\ufe0f|\\U0001f3c4\\U0001f3fc\\u200d\\u2642\\ufe0f|\\U0001f3c4\\U0001f3fd\\u200d\\u2642\\ufe0f|\\U0001f3c4\\U0001f3fe\\u200d\\u2642\\ufe0f|\\U0001f3c4\\U0001f3ff\\u200d\\u2642\\ufe0f|\\U0001f3c4\\U0001f3fb\\u200d\\u2640\\ufe0f|\\U0001f3c4\\U0001f3fc\\u200d\\u2640\\ufe0f|\\U0001f3c4\\U0001f3fd\\u200d\\u2640\\ufe0f|\\U0001f3c4\\U0001f3fe\\u200d\\u2640\\ufe0f|\\U0001f3c4\\U0001f3ff\\u200d\\u2640\\ufe0f|\\U0001f6a3\\U0001f3fb\\u200d\\u2642\\ufe0f|\\U0001f6a3\\U0001f3fc\\u200d\\u2642\\ufe0f|\\U0001f6a3\\U0001f3fd\\u200d\\u2642\\ufe0f|\\U0001f6a3\\U0001f3fe\\u200d\\u2642\\ufe0f|\\U0001f6a3\\U0001f3ff\\u200d\\u2642\\ufe0f|\\U0001f6a3\\U0001f3fb\\u200d\\u2640\\ufe0f|\\U0001f6a3\\U0001f3fc\\u200d\\u2640\\ufe0f|\\U0001f6a3\\U0001f3fd\\u200d\\u2640\\ufe0f|\\U0001f6a3\\U0001f3fe\\u200d\\u2640\\ufe0f|\\U0001f6a3\\U0001f3ff\\u200d\\u2640\\ufe0f|\\U0001f3ca\\U0001f3fb\\u200d\\u2642\\ufe0f|\\U0001f3ca\\U0001f3fc\\u200d\\u2642\\ufe0f|\\U0001f3ca\\U0001f3fd\\u200d\\u2642\\ufe0f|\\U0001f3ca\\U0001f3fe\\u200d\\u2642\\ufe0f|\\U0001f3ca\\U0001f3ff\\u200d\\u2642\\ufe0f|\\U0001f3ca\\U0001f3fb\\u200d\\u2640\\ufe0f|\\U0001f3ca\\U0001f3fc\\u200d\\u2640\\ufe0f|\\U0001f3ca\\U0001f3fd\\u200d\\u2640\\ufe0f|\\U0001f3ca\\U0001f3fe\\u200d\\u2640\\ufe0f|\\U0001f3ca\\U0001f3ff\\u200d\\u2640\\ufe0f|\\u26f9\\ufe0f\\u200d\\u2642\\ufe0f|\\u26f9\\U0001f3fb\\u200d\\u2642\\ufe0f|\\u26f9\\U0001f3fc\\u200d\\u2642\\ufe0f|\\u26f9\\U0001f3fd\\u200d\\u2642\\ufe0f|\\u26f9\\U0001f3fe\\u200d\\u2642\\ufe0f|\\u26f9\\U0001f3ff\\u200d\\u2642\\ufe0f|\\u26f9\\ufe0f\\u200d\\u2640\\ufe0f|\\u26f9\\U0001f3fb\\u200d\\u2640\\ufe0f|\\u26f9\\U0001f3fc\\u200d\\u2640\\ufe0f|\\u26f9\\U0001f3fd\\u200d\\u2640\\ufe0f|\\u26f9\\U0001f3fe\\u200d\\u2640\\ufe0f|\\u26f9\\U0001f3ff\\u200d\\u2640\\ufe0f|\\U0001f3cb\\ufe0f\\u200d\\u2642\\ufe0f|\\U0001f3cb\\U0001f3fb\\u200d\\u2642\\ufe0f|\\U0001f3cb\\U0001f3fc\\u200d\\u2642\\ufe0f|\\U0001f3cb\\U0001f3fd\\u200d\\u2642\\ufe0f|\\U0001f3cb\\U0001f3fe\\u200d\\u2642\\ufe0f|\\U0001f3cb\\U0001f3ff\\u200d\\u2642\\ufe0f|\\U0001f3cb\\ufe0f\\u200d\\u2640\\ufe0f|\\U0001f3cb\\U0001f3fb\\u200d\\u2640\\ufe0f|\\U0001f3cb\\U0001f3fc\\u200d\\u2640\\ufe0f|\\U0001f3cb\\U0001f3fd\\u200d\\u2640\\ufe0f|\\U0001f3cb\\U0001f3fe\\u200d\\u2640\\ufe0f|\\U0001f3cb\\U0001f3ff\\u200d\\u2640\\ufe0f|\\U0001f6b4\\U0001f3fb\\u200d\\u2642\\ufe0f|\\U0001f6b4\\U0001f3fc\\u200d\\u2642\\ufe0f|\\U0001f6b4\\U0001f3fd\\u200d\\u2642\\ufe0f|\\U0001f6b4\\U0001f3fe\\u200d\\u2642\\ufe0f|\\U0001f6b4\\U0001f3ff\\u200d\\u2642\\ufe0f|\\U0001f6b4\\U0001f3fb\\u200d\\u2640\\ufe0f|\\U0001f6b4\\U0001f3fc\\u200d\\u2640\\ufe0f|\\U0001f6b4\\U0001f3fd\\u200d\\u2640\\ufe0f|\\U0001f6b4\\U0001f3fe\\u200d\\u2640\\ufe0f|\\U0001f6b4\\U0001f3ff\\u200d\\u2640\\ufe0f|\\U0001f6b5\\U0001f3fb\\u200d\\u2642\\ufe0f|\\U0001f6b5\\U0001f3fc\\u200d\\u2642\\ufe0f|\\U0001f6b5\\U0001f3fd\\u200d\\u2642\\ufe0f|\\U0001f6b5\\U0001f3fe\\u200d\\u2642\\ufe0f|\\U0001f6b5\\U0001f3ff\\u200d\\u2642\\ufe0f|\\U0001f6b5\\U0001f3fb\\u200d\\u2640\\ufe0f|\\U0001f6b5\\U0001f3fc\\u200d\\u2640\\ufe0f|\\U0001f6b5\\U0001f3fd\\u200d\\u2640\\ufe0f|\\U0001f6b5\\U0001f3fe\\u200d\\u2640\\ufe0f|\\U0001f6b5\\U0001f3ff\\u200d\\u2640\\ufe0f|\\U0001f938\\U0001f3fb\\u200d\\u2642\\ufe0f|\\U0001f938\\U0001f3fc\\u200d\\u2642\\ufe0f|\\U0001f938\\U0001f3fd\\u200d\\u2642\\ufe0f|\\U0001f938\\U0001f3fe\\u200d\\u2642\\ufe0f|\\U0001f938\\U0001f3ff\\u200d\\u2642\\ufe0f|\\U0001f938\\U0001f3fb\\u200d\\u2640\\ufe0f|\\U0001f938\\U0001f3fc\\u200d\\u2640\\ufe0f|\\U0001f938\\U0001f3fd\\u200d\\u2640\\ufe0f|\\U0001f938\\U0001f3fe\\u200d\\u2640\\ufe0f|\\U0001f938\\U0001f3ff\\u200d\\u2640\\ufe0f|\\U0001f93d\\U0001f3fb\\u200d\\u2642\\ufe0f|\\U0001f93d\\U0001f3fc\\u200d\\u2642\\ufe0f|\\U0001f93d\\U0001f3fd\\u200d\\u2642\\ufe0f|\\U0001f93d\\U0001f3fe\\u200d\\u2642\\ufe0f|\\U0001f93d\\U0001f3ff\\u200d\\u2642\\ufe0f|\\U0001f93d\\U0001f3fb\\u200d\\u2640\\ufe0f|\\U0001f93d\\U0001f3fc\\u200d\\u2640\\ufe0f|\\U0001f93d\\U0001f3fd\\u200d\\u2640\\ufe0f|\\U0001f93d\\U0001f3fe\\u200d\\u2640\\ufe0f|\\U0001f93d\\U0001f3ff\\u200d\\u2640\\ufe0f|\\U0001f93e\\U0001f3fb\\u200d\\u2642\\ufe0f|\\U0001f93e\\U0001f3fc\\u200d\\u2642\\ufe0f|\\U0001f93e\\U0001f3fd\\u200d\\u2642\\ufe0f|\\U0001f93e\\U0001f3fe\\u200d\\u2642\\ufe0f|\\U0001f93e\\U0001f3ff\\u200d\\u2642\\ufe0f|\\U0001f93e\\U0001f3fb\\u200d\\u2640\\ufe0f|\\U0001f93e\\U0001f3fc\\u200d\\u2640\\ufe0f|\\U0001f93e\\U0001f3fd\\u200d\\u2640\\ufe0f|\\U0001f93e\\U0001f3fe\\u200d\\u2640\\ufe0f|\\U0001f93e\\U0001f3ff\\u200d\\u2640\\ufe0f|\\U0001f939\\U0001f3fb\\u200d\\u2642\\ufe0f|\\U0001f939\\U0001f3fc\\u200d\\u2642\\ufe0f|\\U0001f939\\U0001f3fd\\u200d\\u2642\\ufe0f|\\U0001f939\\U0001f3fe\\u200d\\u2642\\ufe0f|\\U0001f939\\U0001f3ff\\u200d\\u2642\\ufe0f|\\U0001f939\\U0001f3fb\\u200d\\u2640\\ufe0f|\\U0001f939\\U0001f3fc\\u200d\\u2640\\ufe0f|\\U0001f939\\U0001f3fd\\u200d\\u2640\\ufe0f|\\U0001f939\\U0001f3fe\\u200d\\u2640\\ufe0f|\\U0001f939\\U0001f3ff\\u200d\\u2640\\ufe0f|\\U0001f9d8\\U0001f3fb\\u200d\\u2642\\ufe0f|\\U0001f9d8\\U0001f3fc\\u200d\\u2642\\ufe0f|\\U0001f9d8\\U0001f3fd\\u200d\\u2642\\ufe0f|\\U0001f9d8\\U0001f3fe\\u200d\\u2642\\ufe0f|\\U0001f9d8\\U0001f3ff\\u200d\\u2642\\ufe0f|\\U0001f9d8\\U0001f3fb\\u200d\\u2640\\ufe0f|\\U0001f9d8\\U0001f3fc\\u200d\\u2640\\ufe0f|\\U0001f9d8\\U0001f3fd\\u200d\\u2640\\ufe0f|\\U0001f9d8\\U0001f3fe\\u200d\\u2640\\ufe0f|\\U0001f9d8\\U0001f3ff\\u200d\\u2640\\ufe0f|\\U0001f9d1\\u200d\\U0001f91d\\u200d\\U0001f9d1|\\U0001f469\\u200d\\u2764\\u200d\\U0001f468|\\U0001f468\\u200d\\u2764\\u200d\\U0001f468|\\U0001f469\\u200d\\u2764\\u200d\\U0001f469|\\U0001f468\\u200d\\U0001f469\\u200d\\U0001f466|\\U0001f468\\u200d\\U0001f469\\u200d\\U0001f467|\\U0001f468\\u200d\\U0001f468\\u200d\\U0001f466|\\U0001f468\\u200d\\U0001f468\\u200d\\U0001f467|\\U0001f469\\u200d\\U0001f469\\u200d\\U0001f466|\\U0001f469\\u200d\\U0001f469\\u200d\\U0001f467|\\U0001f468\\u200d\\U0001f466\\u200d\\U0001f466|\\U0001f468\\u200d\\U0001f467\\u200d\\U0001f466|\\U0001f468\\u200d\\U0001f467\\u200d\\U0001f467|\\U0001f469\\u200d\\U0001f466\\u200d\\U0001f466|\\U0001f469\\u200d\\U0001f467\\u200d\\U0001f466|\\U0001f469\\u200d\\U0001f467\\u200d\\U0001f467|\\U0001f441\\u200d\\U0001f5e8\\ufe0f|\\U0001f441\\ufe0f\\u200d\\U0001f5e8|\\U0001f471\\u200d\\u2642\\ufe0f|\\U0001f471\\U0001f3fb\\u200d\\u2642|\\U0001f471\\U0001f3fc\\u200d\\u2642|\\U0001f471\\U0001f3fd\\u200d\\u2642|\\U0001f471\\U0001f3fe\\u200d\\u2642|\\U0001f471\\U0001f3ff\\u200d\\u2642|\\U0001f468\\U0001f3fb\\u200d\\U0001f9b0|\\U0001f468\\U0001f3fc\\u200d\\U0001f9b0|\\U0001f468\\U0001f3fd\\u200d\\U0001f9b0|\\U0001f468\\U0001f3fe\\u200d\\U0001f9b0|\\U0001f468\\U0001f3ff\\u200d\\U0001f9b0|\\U0001f468\\U0001f3fb\\u200d\\U0001f9b1|\\U0001f468\\U0001f3fc\\u200d\\U0001f9b1|\\U0001f468\\U0001f3fd\\u200d\\U0001f9b1|\\U0001f468\\U0001f3fe\\u200d\\U0001f9b1|\\U0001f468\\U0001f3ff\\u200d\\U0001f9b1|\\U0001f468\\U0001f3fb\\u200d\\U0001f9b3|\\U0001f468\\U0001f3fc\\u200d\\U0001f9b3|\\U0001f468\\U0001f3fd\\u200d\\U0001f9b3|\\U0001f468\\U0001f3fe\\u200d\\U0001f9b3|\\U0001f468\\U0001f3ff\\u200d\\U0001f9b3|\\U0001f468\\U0001f3fb\\u200d\\U0001f9b2|\\U0001f468\\U0001f3fc\\u200d\\U0001f9b2|\\U0001f468\\U0001f3fd\\u200d\\U0001f9b2|\\U0001f468\\U0001f3fe\\u200d\\U0001f9b2|\\U0001f468\\U0001f3ff\\u200d\\U0001f9b2|\\U0001f471\\u200d\\u2640\\ufe0f|\\U0001f471\\U0001f3fb\\u200d\\u2640|\\U0001f471\\U0001f3fc\\u200d\\u2640|\\U0001f471\\U0001f3fd\\u200d\\u2640|\\U0001f471\\U0001f3fe\\u200d\\u2640|\\U0001f471\\U0001f3ff\\u200d\\u2640|\\U0001f469\\U0001f3fb\\u200d\\U0001f9b0|\\U0001f469\\U0001f3fc\\u200d\\U0001f9b0|\\U0001f469\\U0001f3fd\\u200d\\U0001f9b0|\\U0001f469\\U0001f3fe\\u200d\\U0001f9b0|\\U0001f469\\U0001f3ff\\u200d\\U0001f9b0|\\U0001f469\\U0001f3fb\\u200d\\U0001f9b1|\\U0001f469\\U0001f3fc\\u200d\\U0001f9b1|\\U0001f469\\U0001f3fd\\u200d\\U0001f9b1|\\U0001f469\\U0001f3fe\\u200d\\U0001f9b1|\\U0001f469\\U0001f3ff\\u200d\\U0001f9b1|\\U0001f469\\U0001f3fb\\u200d\\U0001f9b3|\\U0001f469\\U0001f3fc\\u200d\\U0001f9b3|\\U0001f469\\U0001f3fd\\u200d\\U0001f9b3|\\U0001f469\\U0001f3fe\\u200d\\U0001f9b3|\\U0001f469\\U0001f3ff\\u200d\\U0001f9b3|\\U0001f469\\U0001f3fb\\u200d\\U0001f9b2|\\U0001f469\\U0001f3fc\\u200d\\U0001f9b2|\\U0001f469\\U0001f3fd\\u200d\\U0001f9b2|\\U0001f469\\U0001f3fe\\u200d\\U0001f9b2|\\U0001f469\\U0001f3ff\\u200d\\U0001f9b2|\\U0001f64d\\u200d\\u2642\\ufe0f|\\U0001f64d\\U0001f3fb\\u200d\\u2642|\\U0001f64d\\U0001f3fc\\u200d\\u2642|\\U0001f64d\\U0001f3fd\\u200d\\u2642|\\U0001f64d\\U0001f3fe\\u200d\\u2642|\\U0001f64d\\U0001f3ff\\u200d\\u2642|\\U0001f64d\\u200d\\u2640\\ufe0f|\\U0001f64d\\U0001f3fb\\u200d\\u2640|\\U0001f64d\\U0001f3fc\\u200d\\u2640|\\U0001f64d\\U0001f3fd\\u200d\\u2640|\\U0001f64d\\U0001f3fe\\u200d\\u2640|\\U0001f64d\\U0001f3ff\\u200d\\u2640|\\U0001f64e\\u200d\\u2642\\ufe0f|\\U0001f64e\\U0001f3fb\\u200d\\u2642|\\U0001f64e\\U0001f3fc\\u200d\\u2642|\\U0001f64e\\U0001f3fd\\u200d\\u2642|\\U0001f64e\\U0001f3fe\\u200d\\u2642|\\U0001f64e\\U0001f3ff\\u200d\\u2642|\\U0001f64e\\u200d\\u2640\\ufe0f|\\U0001f64e\\U0001f3fb\\u200d\\u2640|\\U0001f64e\\U0001f3fc\\u200d\\u2640|\\U0001f64e\\U0001f3fd\\u200d\\u2640|\\U0001f64e\\U0001f3fe\\u200d\\u2640|\\U0001f64e\\U0001f3ff\\u200d\\u2640|\\U0001f645\\u200d\\u2642\\ufe0f|\\U0001f645\\U0001f3fb\\u200d\\u2642|\\U0001f645\\U0001f3fc\\u200d\\u2642|\\U0001f645\\U0001f3fd\\u200d\\u2642|\\U0001f645\\U0001f3fe\\u200d\\u2642|\\U0001f645\\U0001f3ff\\u200d\\u2642|\\U0001f645\\u200d\\u2640\\ufe0f|\\U0001f645\\U0001f3fb\\u200d\\u2640|\\U0001f645\\U0001f3fc\\u200d\\u2640|\\U0001f645\\U0001f3fd\\u200d\\u2640|\\U0001f645\\U0001f3fe\\u200d\\u2640|\\U0001f645\\U0001f3ff\\u200d\\u2640|\\U0001f646\\u200d\\u2642\\ufe0f|\\U0001f646\\U0001f3fb\\u200d\\u2642|\\U0001f646\\U0001f3fc\\u200d\\u2642|\\U0001f646\\U0001f3fd\\u200d\\u2642|\\U0001f646\\U0001f3fe\\u200d\\u2642|\\U0001f646\\U0001f3ff\\u200d\\u2642|\\U0001f646\\u200d\\u2640\\ufe0f|\\U0001f646\\U0001f3fb\\u200d\\u2640|\\U0001f646\\U0001f3fc\\u200d\\u2640|\\U0001f646\\U0001f3fd\\u200d\\u2640|\\U0001f646\\U0001f3fe\\u200d\\u2640|\\U0001f646\\U0001f3ff\\u200d\\u2640|\\U0001f481\\u200d\\u2642\\ufe0f|\\U0001f481\\U0001f3fb\\u200d\\u2642|\\U0001f481\\U0001f3fc\\u200d\\u2642|\\U0001f481\\U0001f3fd\\u200d\\u2642|\\U0001f481\\U0001f3fe\\u200d\\u2642|\\U0001f481\\U0001f3ff\\u200d\\u2642|\\U0001f481\\u200d\\u2640\\ufe0f|\\U0001f481\\U0001f3fb\\u200d\\u2640|\\U0001f481\\U0001f3fc\\u200d\\u2640|\\U0001f481\\U0001f3fd\\u200d\\u2640|\\U0001f481\\U0001f3fe\\u200d\\u2640|\\U0001f481\\U0001f3ff\\u200d\\u2640|\\U0001f64b\\u200d\\u2642\\ufe0f|\\U0001f64b\\U0001f3fb\\u200d\\u2642|\\U0001f64b\\U0001f3fc\\u200d\\u2642|\\U0001f64b\\U0001f3fd\\u200d\\u2642|\\U0001f64b\\U0001f3fe\\u200d\\u2642|\\U0001f64b\\U0001f3ff\\u200d\\u2642|\\U0001f64b\\u200d\\u2640\\ufe0f|\\U0001f64b\\U0001f3fb\\u200d\\u2640|\\U0001f64b\\U0001f3fc\\u200d\\u2640|\\U0001f64b\\U0001f3fd\\u200d\\u2640|\\U0001f64b\\U0001f3fe\\u200d\\u2640|\\U0001f64b\\U0001f3ff\\u200d\\u2640|\\U0001f9cf\\u200d\\u2642\\ufe0f|\\U0001f9cf\\U0001f3fb\\u200d\\u2642|\\U0001f9cf\\U0001f3fc\\u200d\\u2642|\\U0001f9cf\\U0001f3fd\\u200d\\u2642|\\U0001f9cf\\U0001f3fe\\u200d\\u2642|\\U0001f9cf\\U0001f3ff\\u200d\\u2642|\\U0001f9cf\\u200d\\u2640\\ufe0f|\\U0001f9cf\\U0001f3fb\\u200d\\u2640|\\U0001f9cf\\U0001f3fc\\u200d\\u2640|\\U0001f9cf\\U0001f3fd\\u200d\\u2640|\\U0001f9cf\\U0001f3fe\\u200d\\u2640|\\U0001f9cf\\U0001f3ff\\u200d\\u2640|\\U0001f647\\u200d\\u2642\\ufe0f|\\U0001f647\\U0001f3fb\\u200d\\u2642|\\U0001f647\\U0001f3fc\\u200d\\u2642|\\U0001f647\\U0001f3fd\\u200d\\u2642|\\U0001f647\\U0001f3fe\\u200d\\u2642|\\U0001f647\\U0001f3ff\\u200d\\u2642|\\U0001f647\\u200d\\u2640\\ufe0f|\\U0001f647\\U0001f3fb\\u200d\\u2640|\\U0001f647\\U0001f3fc\\u200d\\u2640|\\U0001f647\\U0001f3fd\\u200d\\u2640|\\U0001f647\\U0001f3fe\\u200d\\u2640|\\U0001f647\\U0001f3ff\\u200d\\u2640|\\U0001f926\\u200d\\u2642\\ufe0f|\\U0001f926\\U0001f3fb\\u200d\\u2642|\\U0001f926\\U0001f3fc\\u200d\\u2642|\\U0001f926\\U0001f3fd\\u200d\\u2642|\\U0001f926\\U0001f3fe\\u200d\\u2642|\\U0001f926\\U0001f3ff\\u200d\\u2642|\\U0001f926\\u200d\\u2640\\ufe0f|\\U0001f926\\U0001f3fb\\u200d\\u2640|\\U0001f926\\U0001f3fc\\u200d\\u2640|\\U0001f926\\U0001f3fd\\u200d\\u2640|\\U0001f926\\U0001f3fe\\u200d\\u2640|\\U0001f926\\U0001f3ff\\u200d\\u2640|\\U0001f937\\u200d\\u2642\\ufe0f|\\U0001f937\\U0001f3fb\\u200d\\u2642|\\U0001f937\\U0001f3fc\\u200d\\u2642|\\U0001f937\\U0001f3fd\\u200d\\u2642|\\U0001f937\\U0001f3fe\\u200d\\u2642|\\U0001f937\\U0001f3ff\\u200d\\u2642|\\U0001f937\\u200d\\u2640\\ufe0f|\\U0001f937\\U0001f3fb\\u200d\\u2640|\\U0001f937\\U0001f3fc\\u200d\\u2640|\\U0001f937\\U0001f3fd\\u200d\\u2640|\\U0001f937\\U0001f3fe\\u200d\\u2640|\\U0001f937\\U0001f3ff\\u200d\\u2640|\\U0001f468\\u200d\\u2695\\ufe0f|\\U0001f468\\U0001f3fb\\u200d\\u2695|\\U0001f468\\U0001f3fc\\u200d\\u2695|\\U0001f468\\U0001f3fd\\u200d\\u2695|\\U0001f468\\U0001f3fe\\u200d\\u2695|\\U0001f468\\U0001f3ff\\u200d\\u2695|\\U0001f469\\u200d\\u2695\\ufe0f|\\U0001f469\\U0001f3fb\\u200d\\u2695|\\U0001f469\\U0001f3fc\\u200d\\u2695|\\U0001f469\\U0001f3fd\\u200d\\u2695|\\U0001f469\\U0001f3fe\\u200d\\u2695|\\U0001f469\\U0001f3ff\\u200d\\u2695|\\U0001f468\\U0001f3fb\\u200d\\U0001f393|\\U0001f468\\U0001f3fc\\u200d\\U0001f393|\\U0001f468\\U0001f3fd\\u200d\\U0001f393|\\U0001f468\\U0001f3fe\\u200d\\U0001f393|\\U0001f468\\U0001f3ff\\u200d\\U0001f393|\\U0001f469\\U0001f3fb\\u200d\\U0001f393|\\U0001f469\\U0001f3fc\\u200d\\U0001f393|\\U0001f469\\U0001f3fd\\u200d\\U0001f393|\\U0001f469\\U0001f3fe\\u200d\\U0001f393|\\U0001f469\\U0001f3ff\\u200d\\U0001f393|\\U0001f468\\U0001f3fb\\u200d\\U0001f3eb|\\U0001f468\\U0001f3fc\\u200d\\U0001f3eb|\\U0001f468\\U0001f3fd\\u200d\\U0001f3eb|\\U0001f468\\U0001f3fe\\u200d\\U0001f3eb|\\U0001f468\\U0001f3ff\\u200d\\U0001f3eb|\\U0001f469\\U0001f3fb\\u200d\\U0001f3eb|\\U0001f469\\U0001f3fc\\u200d\\U0001f3eb|\\U0001f469\\U0001f3fd\\u200d\\U0001f3eb|\\U0001f469\\U0001f3fe\\u200d\\U0001f3eb|\\U0001f469\\U0001f3ff\\u200d\\U0001f3eb|\\U0001f468\\u200d\\u2696\\ufe0f|\\U0001f468\\U0001f3fb\\u200d\\u2696|\\U0001f468\\U0001f3fc\\u200d\\u2696|\\U0001f468\\U0001f3fd\\u200d\\u2696|\\U0001f468\\U0001f3fe\\u200d\\u2696|\\U0001f468\\U0001f3ff\\u200d\\u2696|\\U0001f469\\u200d\\u2696\\ufe0f|\\U0001f469\\U0001f3fb\\u200d\\u2696|\\U0001f469\\U0001f3fc\\u200d\\u2696|\\U0001f469\\U0001f3fd\\u200d\\u2696|\\U0001f469\\U0001f3fe\\u200d\\u2696|\\U0001f469\\U0001f3ff\\u200d\\u2696|\\U0001f468\\U0001f3fb\\u200d\\U0001f33e|\\U0001f468\\U0001f3fc\\u200d\\U0001f33e|\\U0001f468\\U0001f3fd\\u200d\\U0001f33e|\\U0001f468\\U0001f3fe\\u200d\\U0001f33e|\\U0001f468\\U0001f3ff\\u200d\\U0001f33e|\\U0001f469\\U0001f3fb\\u200d\\U0001f33e|\\U0001f469\\U0001f3fc\\u200d\\U0001f33e|\\U0001f469\\U0001f3fd\\u200d\\U0001f33e|\\U0001f469\\U0001f3fe\\u200d\\U0001f33e|\\U0001f469\\U0001f3ff\\u200d\\U0001f33e|\\U0001f468\\U0001f3fb\\u200d\\U0001f373|\\U0001f468\\U0001f3fc\\u200d\\U0001f373|\\U0001f468\\U0001f3fd\\u200d\\U0001f373|\\U0001f468\\U0001f3fe\\u200d\\U0001f373|\\U0001f468\\U0001f3ff\\u200d\\U0001f373|\\U0001f469\\U0001f3fb\\u200d\\U0001f373|\\U0001f469\\U0001f3fc\\u200d\\U0001f373|\\U0001f469\\U0001f3fd\\u200d\\U0001f373|\\U0001f469\\U0001f3fe\\u200d\\U0001f373|\\U0001f469\\U0001f3ff\\u200d\\U0001f373|\\U0001f468\\U0001f3fb\\u200d\\U0001f527|\\U0001f468\\U0001f3fc\\u200d\\U0001f527|\\U0001f468\\U0001f3fd\\u200d\\U0001f527|\\U0001f468\\U0001f3fe\\u200d\\U0001f527|\\U0001f468\\U0001f3ff\\u200d\\U0001f527|\\U0001f469\\U0001f3fb\\u200d\\U0001f527|\\U0001f469\\U0001f3fc\\u200d\\U0001f527|\\U0001f469\\U0001f3fd\\u200d\\U0001f527|\\U0001f469\\U0001f3fe\\u200d\\U0001f527|\\U0001f469\\U0001f3ff\\u200d\\U0001f527|\\U0001f468\\U0001f3fb\\u200d\\U0001f3ed|\\U0001f468\\U0001f3fc\\u200d\\U0001f3ed|\\U0001f468\\U0001f3fd\\u200d\\U0001f3ed|\\U0001f468\\U0001f3fe\\u200d\\U0001f3ed|\\U0001f468\\U0001f3ff\\u200d\\U0001f3ed|\\U0001f469\\U0001f3fb\\u200d\\U0001f3ed|\\U0001f469\\U0001f3fc\\u200d\\U0001f3ed|\\U0001f469\\U0001f3fd\\u200d\\U0001f3ed|\\U0001f469\\U0001f3fe\\u200d\\U0001f3ed|\\U0001f469\\U0001f3ff\\u200d\\U0001f3ed|\\U0001f468\\U0001f3fb\\u200d\\U0001f4bc|\\U0001f468\\U0001f3fc\\u200d\\U0001f4bc|\\U0001f468\\U0001f3fd\\u200d\\U0001f4bc|\\U0001f468\\U0001f3fe\\u200d\\U0001f4bc|\\U0001f468\\U0001f3ff\\u200d\\U0001f4bc|\\U0001f469\\U0001f3fb\\u200d\\U0001f4bc|\\U0001f469\\U0001f3fc\\u200d\\U0001f4bc|\\U0001f469\\U0001f3fd\\u200d\\U0001f4bc|\\U0001f469\\U0001f3fe\\u200d\\U0001f4bc|\\U0001f469\\U0001f3ff\\u200d\\U0001f4bc|\\U0001f468\\U0001f3fb\\u200d\\U0001f52c|\\U0001f468\\U0001f3fc\\u200d\\U0001f52c|\\U0001f468\\U0001f3fd\\u200d\\U0001f52c|\\U0001f468\\U0001f3fe\\u200d\\U0001f52c|\\U0001f468\\U0001f3ff\\u200d\\U0001f52c|\\U0001f469\\U0001f3fb\\u200d\\U0001f52c|\\U0001f469\\U0001f3fc\\u200d\\U0001f52c|\\U0001f469\\U0001f3fd\\u200d\\U0001f52c|\\U0001f469\\U0001f3fe\\u200d\\U0001f52c|\\U0001f469\\U0001f3ff\\u200d\\U0001f52c|\\U0001f468\\U0001f3fb\\u200d\\U0001f4bb|\\U0001f468\\U0001f3fc\\u200d\\U0001f4bb|\\U0001f468\\U0001f3fd\\u200d\\U0001f4bb|\\U0001f468\\U0001f3fe\\u200d\\U0001f4bb|\\U0001f468\\U0001f3ff\\u200d\\U0001f4bb|\\U0001f469\\U0001f3fb\\u200d\\U0001f4bb|\\U0001f469\\U0001f3fc\\u200d\\U0001f4bb|\\U0001f469\\U0001f3fd\\u200d\\U0001f4bb|\\U0001f469\\U0001f3fe\\u200d\\U0001f4bb|\\U0001f469\\U0001f3ff\\u200d\\U0001f4bb|\\U0001f468\\U0001f3fb\\u200d\\U0001f3a4|\\U0001f468\\U0001f3fc\\u200d\\U0001f3a4|\\U0001f468\\U0001f3fd\\u200d\\U0001f3a4|\\U0001f468\\U0001f3fe\\u200d\\U0001f3a4|\\U0001f468\\U0001f3ff\\u200d\\U0001f3a4|\\U0001f469\\U0001f3fb\\u200d\\U0001f3a4|\\U0001f469\\U0001f3fc\\u200d\\U0001f3a4|\\U0001f469\\U0001f3fd\\u200d\\U0001f3a4|\\U0001f469\\U0001f3fe\\u200d\\U0001f3a4|\\U0001f469\\U0001f3ff\\u200d\\U0001f3a4|\\U0001f468\\U0001f3fb\\u200d\\U0001f3a8|\\U0001f468\\U0001f3fc\\u200d\\U0001f3a8|\\U0001f468\\U0001f3fd\\u200d\\U0001f3a8|\\U0001f468\\U0001f3fe\\u200d\\U0001f3a8|\\U0001f468\\U0001f3ff\\u200d\\U0001f3a8|\\U0001f469\\U0001f3fb\\u200d\\U0001f3a8|\\U0001f469\\U0001f3fc\\u200d\\U0001f3a8|\\U0001f469\\U0001f3fd\\u200d\\U0001f3a8|\\U0001f469\\U0001f3fe\\u200d\\U0001f3a8|\\U0001f469\\U0001f3ff\\u200d\\U0001f3a8|\\U0001f468\\u200d\\u2708\\ufe0f|\\U0001f468\\U0001f3fb\\u200d\\u2708|\\U0001f468\\U0001f3fc\\u200d\\u2708|\\U0001f468\\U0001f3fd\\u200d\\u2708|\\U0001f468\\U0001f3fe\\u200d\\u2708|\\U0001f468\\U0001f3ff\\u200d\\u2708|\\U0001f469\\u200d\\u2708\\ufe0f|\\U0001f469\\U0001f3fb\\u200d\\u2708|\\U0001f469\\U0001f3fc\\u200d\\u2708|\\U0001f469\\U0001f3fd\\u200d\\u2708|\\U0001f469\\U0001f3fe\\u200d\\u2708|\\U0001f469\\U0001f3ff\\u200d\\u2708|\\U0001f468\\U0001f3fb\\u200d\\U0001f680|\\U0001f468\\U0001f3fc\\u200d\\U0001f680|\\U0001f468\\U0001f3fd\\u200d\\U0001f680|\\U0001f468\\U0001f3fe\\u200d\\U0001f680|\\U0001f468\\U0001f3ff\\u200d\\U0001f680|\\U0001f469\\U0001f3fb\\u200d\\U0001f680|\\U0001f469\\U0001f3fc\\u200d\\U0001f680|\\U0001f469\\U0001f3fd\\u200d\\U0001f680|\\U0001f469\\U0001f3fe\\u200d\\U0001f680|\\U0001f469\\U0001f3ff\\u200d\\U0001f680|\\U0001f468\\U0001f3fb\\u200d\\U0001f692|\\U0001f468\\U0001f3fc\\u200d\\U0001f692|\\U0001f468\\U0001f3fd\\u200d\\U0001f692|\\U0001f468\\U0001f3fe\\u200d\\U0001f692|\\U0001f468\\U0001f3ff\\u200d\\U0001f692|\\U0001f469\\U0001f3fb\\u200d\\U0001f692|\\U0001f469\\U0001f3fc\\u200d\\U0001f692|\\U0001f469\\U0001f3fd\\u200d\\U0001f692|\\U0001f469\\U0001f3fe\\u200d\\U0001f692|\\U0001f469\\U0001f3ff\\u200d\\U0001f692|\\U0001f46e\\u200d\\u2642\\ufe0f|\\U0001f46e\\U0001f3fb\\u200d\\u2642|\\U0001f46e\\U0001f3fc\\u200d\\u2642|\\U0001f46e\\U0001f3fd\\u200d\\u2642|\\U0001f46e\\U0001f3fe\\u200d\\u2642|\\U0001f46e\\U0001f3ff\\u200d\\u2642|\\U0001f46e\\u200d\\u2640\\ufe0f|\\U0001f46e\\U0001f3fb\\u200d\\u2640|\\U0001f46e\\U0001f3fc\\u200d\\u2640|\\U0001f46e\\U0001f3fd\\u200d\\u2640|\\U0001f46e\\U0001f3fe\\u200d\\u2640|\\U0001f46e\\U0001f3ff\\u200d\\u2640|\\U0001f575\\u200d\\u2642\\ufe0f|\\U0001f575\\ufe0f\\u200d\\u2642|\\U0001f575\\U0001f3fb\\u200d\\u2642|\\U0001f575\\U0001f3fc\\u200d\\u2642|\\U0001f575\\U0001f3fd\\u200d\\u2642|\\U0001f575\\U0001f3fe\\u200d\\u2642|\\U0001f575\\U0001f3ff\\u200d\\u2642|\\U0001f575\\u200d\\u2640\\ufe0f|\\U0001f575\\ufe0f\\u200d\\u2640|\\U0001f575\\U0001f3fb\\u200d\\u2640|\\U0001f575\\U0001f3fc\\u200d\\u2640|\\U0001f575\\U0001f3fd\\u200d\\u2640|\\U0001f575\\U0001f3fe\\u200d\\u2640|\\U0001f575\\U0001f3ff\\u200d\\u2640|\\U0001f482\\u200d\\u2642\\ufe0f|\\U0001f482\\U0001f3fb\\u200d\\u2642|\\U0001f482\\U0001f3fc\\u200d\\u2642|\\U0001f482\\U0001f3fd\\u200d\\u2642|\\U0001f482\\U0001f3fe\\u200d\\u2642|\\U0001f482\\U0001f3ff\\u200d\\u2642|\\U0001f482\\u200d\\u2640\\ufe0f|\\U0001f482\\U0001f3fb\\u200d\\u2640|\\U0001f482\\U0001f3fc\\u200d\\u2640|\\U0001f482\\U0001f3fd\\u200d\\u2640|\\U0001f482\\U0001f3fe\\u200d\\u2640|\\U0001f482\\U0001f3ff\\u200d\\u2640|\\U0001f477\\u200d\\u2642\\ufe0f|\\U0001f477\\U0001f3fb\\u200d\\u2642|\\U0001f477\\U0001f3fc\\u200d\\u2642|\\U0001f477\\U0001f3fd\\u200d\\u2642|\\U0001f477\\U0001f3fe\\u200d\\u2642|\\U0001f477\\U0001f3ff\\u200d\\u2642|\\U0001f477\\u200d\\u2640\\ufe0f|\\U0001f477\\U0001f3fb\\u200d\\u2640|\\U0001f477\\U0001f3fc\\u200d\\u2640|\\U0001f477\\U0001f3fd\\u200d\\u2640|\\U0001f477\\U0001f3fe\\u200d\\u2640|\\U0001f477\\U0001f3ff\\u200d\\u2640|\\U0001f473\\u200d\\u2642\\ufe0f|\\U0001f473\\U0001f3fb\\u200d\\u2642|\\U0001f473\\U0001f3fc\\u200d\\u2642|\\U0001f473\\U0001f3fd\\u200d\\u2642|\\U0001f473\\U0001f3fe\\u200d\\u2642|\\U0001f473\\U0001f3ff\\u200d\\u2642|\\U0001f473\\u200d\\u2640\\ufe0f|\\U0001f473\\U0001f3fb\\u200d\\u2640|\\U0001f473\\U0001f3fc\\u200d\\u2640|\\U0001f473\\U0001f3fd\\u200d\\u2640|\\U0001f473\\U0001f3fe\\u200d\\u2640|\\U0001f473\\U0001f3ff\\u200d\\u2640|\\U0001f9b8\\u200d\\u2642\\ufe0f|\\U0001f9b8\\U0001f3fb\\u200d\\u2642|\\U0001f9b8\\U0001f3fc\\u200d\\u2642|\\U0001f9b8\\U0001f3fd\\u200d\\u2642|\\U0001f9b8\\U0001f3fe\\u200d\\u2642|\\U0001f9b8\\U0001f3ff\\u200d\\u2642|\\U0001f9b8\\u200d\\u2640\\ufe0f|\\U0001f9b8\\U0001f3fb\\u200d\\u2640|\\U0001f9b8\\U0001f3fc\\u200d\\u2640|\\U0001f9b8\\U0001f3fd\\u200d\\u2640|\\U0001f9b8\\U0001f3fe\\u200d\\u2640|\\U0001f9b8\\U0001f3ff\\u200d\\u2640|\\U0001f9b9\\u200d\\u2642\\ufe0f|\\U0001f9b9\\U0001f3fb\\u200d\\u2642|\\U0001f9b9\\U0001f3fc\\u200d\\u2642|\\U0001f9b9\\U0001f3fd\\u200d\\u2642|\\U0001f9b9\\U0001f3fe\\u200d\\u2642|\\U0001f9b9\\U0001f3ff\\u200d\\u2642|\\U0001f9b9\\u200d\\u2640\\ufe0f|\\U0001f9b9\\U0001f3fb\\u200d\\u2640|\\U0001f9b9\\U0001f3fc\\u200d\\u2640|\\U0001f9b9\\U0001f3fd\\u200d\\u2640|\\U0001f9b9\\U0001f3fe\\u200d\\u2640|\\U0001f9b9\\U0001f3ff\\u200d\\u2640|\\U0001f9d9\\u200d\\u2642\\ufe0f|\\U0001f9d9\\U0001f3fb\\u200d\\u2642|\\U0001f9d9\\U0001f3fc\\u200d\\u2642|\\U0001f9d9\\U0001f3fd\\u200d\\u2642|\\U0001f9d9\\U0001f3fe\\u200d\\u2642|\\U0001f9d9\\U0001f3ff\\u200d\\u2642|\\U0001f9d9\\u200d\\u2640\\ufe0f|\\U0001f9d9\\U0001f3fb\\u200d\\u2640|\\U0001f9d9\\U0001f3fc\\u200d\\u2640|\\U0001f9d9\\U0001f3fd\\u200d\\u2640|\\U0001f9d9\\U0001f3fe\\u200d\\u2640|\\U0001f9d9\\U0001f3ff\\u200d\\u2640|\\U0001f9da\\u200d\\u2642\\ufe0f|\\U0001f9da\\U0001f3fb\\u200d\\u2642|\\U0001f9da\\U0001f3fc\\u200d\\u2642|\\U0001f9da\\U0001f3fd\\u200d\\u2642|\\U0001f9da\\U0001f3fe\\u200d\\u2642|\\U0001f9da\\U0001f3ff\\u200d\\u2642|\\U0001f9da\\u200d\\u2640\\ufe0f|\\U0001f9da\\U0001f3fb\\u200d\\u2640|\\U0001f9da\\U0001f3fc\\u200d\\u2640|\\U0001f9da\\U0001f3fd\\u200d\\u2640|\\U0001f9da\\U0001f3fe\\u200d\\u2640|\\U0001f9da\\U0001f3ff\\u200d\\u2640|\\U0001f9db\\u200d\\u2642\\ufe0f|\\U0001f9db\\U0001f3fb\\u200d\\u2642|\\U0001f9db\\U0001f3fc\\u200d\\u2642|\\U0001f9db\\U0001f3fd\\u200d\\u2642|\\U0001f9db\\U0001f3fe\\u200d\\u2642|\\U0001f9db\\U0001f3ff\\u200d\\u2642|\\U0001f9db\\u200d\\u2640\\ufe0f|\\U0001f9db\\U0001f3fb\\u200d\\u2640|\\U0001f9db\\U0001f3fc\\u200d\\u2640|\\U0001f9db\\U0001f3fd\\u200d\\u2640|\\U0001f9db\\U0001f3fe\\u200d\\u2640|\\U0001f9db\\U0001f3ff\\u200d\\u2640|\\U0001f9dc\\u200d\\u2642\\ufe0f|\\U0001f9dc\\U0001f3fb\\u200d\\u2642|\\U0001f9dc\\U0001f3fc\\u200d\\u2642|\\U0001f9dc\\U0001f3fd\\u200d\\u2642|\\U0001f9dc\\U0001f3fe\\u200d\\u2642|\\U0001f9dc\\U0001f3ff\\u200d\\u2642|\\U0001f9dc\\u200d\\u2640\\ufe0f|\\U0001f9dc\\U0001f3fb\\u200d\\u2640|\\U0001f9dc\\U0001f3fc\\u200d\\u2640|\\U0001f9dc\\U0001f3fd\\u200d\\u2640|\\U0001f9dc\\U0001f3fe\\u200d\\u2640|\\U0001f9dc\\U0001f3ff\\u200d\\u2640|\\U0001f9dd\\u200d\\u2642\\ufe0f|\\U0001f9dd\\U0001f3fb\\u200d\\u2642|\\U0001f9dd\\U0001f3fc\\u200d\\u2642|\\U0001f9dd\\U0001f3fd\\u200d\\u2642|\\U0001f9dd\\U0001f3fe\\u200d\\u2642|\\U0001f9dd\\U0001f3ff\\u200d\\u2642|\\U0001f9dd\\u200d\\u2640\\ufe0f|\\U0001f9dd\\U0001f3fb\\u200d\\u2640|\\U0001f9dd\\U0001f3fc\\u200d\\u2640|\\U0001f9dd\\U0001f3fd\\u200d\\u2640|\\U0001f9dd\\U0001f3fe\\u200d\\u2640|\\U0001f9dd\\U0001f3ff\\u200d\\u2640|\\U0001f9de\\u200d\\u2642\\ufe0f|\\U0001f9de\\u200d\\u2640\\ufe0f|\\U0001f9df\\u200d\\u2642\\ufe0f|\\U0001f9df\\u200d\\u2640\\ufe0f|\\U0001f486\\u200d\\u2642\\ufe0f|\\U0001f486\\U0001f3fb\\u200d\\u2642|\\U0001f486\\U0001f3fc\\u200d\\u2642|\\U0001f486\\U0001f3fd\\u200d\\u2642|\\U0001f486\\U0001f3fe\\u200d\\u2642|\\U0001f486\\U0001f3ff\\u200d\\u2642|\\U0001f486\\u200d\\u2640\\ufe0f|\\U0001f486\\U0001f3fb\\u200d\\u2640|\\U0001f486\\U0001f3fc\\u200d\\u2640|\\U0001f486\\U0001f3fd\\u200d\\u2640|\\U0001f486\\U0001f3fe\\u200d\\u2640|\\U0001f486\\U0001f3ff\\u200d\\u2640|\\U0001f487\\u200d\\u2642\\ufe0f|\\U0001f487\\U0001f3fb\\u200d\\u2642|\\U0001f487\\U0001f3fc\\u200d\\u2642|\\U0001f487\\U0001f3fd\\u200d\\u2642|\\U0001f487\\U0001f3fe\\u200d\\u2642|\\U0001f487\\U0001f3ff\\u200d\\u2642|\\U0001f487\\u200d\\u2640\\ufe0f|\\U0001f487\\U0001f3fb\\u200d\\u2640|\\U0001f487\\U0001f3fc\\u200d\\u2640|\\U0001f487\\U0001f3fd\\u200d\\u2640|\\U0001f487\\U0001f3fe\\u200d\\u2640|\\U0001f487\\U0001f3ff\\u200d\\u2640|\\U0001f6b6\\u200d\\u2642\\ufe0f|\\U0001f6b6\\U0001f3fb\\u200d\\u2642|\\U0001f6b6\\U0001f3fc\\u200d\\u2642|\\U0001f6b6\\U0001f3fd\\u200d\\u2642|\\U0001f6b6\\U0001f3fe\\u200d\\u2642|\\U0001f6b6\\U0001f3ff\\u200d\\u2642|\\U0001f6b6\\u200d\\u2640\\ufe0f|\\U0001f6b6\\U0001f3fb\\u200d\\u2640|\\U0001f6b6\\U0001f3fc\\u200d\\u2640|\\U0001f6b6\\U0001f3fd\\u200d\\u2640|\\U0001f6b6\\U0001f3fe\\u200d\\u2640|\\U0001f6b6\\U0001f3ff\\u200d\\u2640|\\U0001f9cd\\u200d\\u2642\\ufe0f|\\U0001f9cd\\U0001f3fb\\u200d\\u2642|\\U0001f9cd\\U0001f3fc\\u200d\\u2642|\\U0001f9cd\\U0001f3fd\\u200d\\u2642|\\U0001f9cd\\U0001f3fe\\u200d\\u2642|\\U0001f9cd\\U0001f3ff\\u200d\\u2642|\\U0001f9cd\\u200d\\u2640\\ufe0f|\\U0001f9cd\\U0001f3fb\\u200d\\u2640|\\U0001f9cd\\U0001f3fc\\u200d\\u2640|\\U0001f9cd\\U0001f3fd\\u200d\\u2640|\\U0001f9cd\\U0001f3fe\\u200d\\u2640|\\U0001f9cd\\U0001f3ff\\u200d\\u2640|\\U0001f9ce\\u200d\\u2642\\ufe0f|\\U0001f9ce\\U0001f3fb\\u200d\\u2642|\\U0001f9ce\\U0001f3fc\\u200d\\u2642|\\U0001f9ce\\U0001f3fd\\u200d\\u2642|\\U0001f9ce\\U0001f3fe\\u200d\\u2642|\\U0001f9ce\\U0001f3ff\\u200d\\u2642|\\U0001f9ce\\u200d\\u2640\\ufe0f|\\U0001f9ce\\U0001f3fb\\u200d\\u2640|\\U0001f9ce\\U0001f3fc\\u200d\\u2640|\\U0001f9ce\\U0001f3fd\\u200d\\u2640|\\U0001f9ce\\U0001f3fe\\u200d\\u2640|\\U0001f9ce\\U0001f3ff\\u200d\\u2640|\\U0001f468\\U0001f3fb\\u200d\\U0001f9af|\\U0001f468\\U0001f3fc\\u200d\\U0001f9af|\\U0001f468\\U0001f3fd\\u200d\\U0001f9af|\\U0001f468\\U0001f3fe\\u200d\\U0001f9af|\\U0001f468\\U0001f3ff\\u200d\\U0001f9af|\\U0001f469\\U0001f3fb\\u200d\\U0001f9af|\\U0001f469\\U0001f3fc\\u200d\\U0001f9af|\\U0001f469\\U0001f3fd\\u200d\\U0001f9af|\\U0001f469\\U0001f3fe\\u200d\\U0001f9af|\\U0001f469\\U0001f3ff\\u200d\\U0001f9af|\\U0001f468\\U0001f3fb\\u200d\\U0001f9bc|\\U0001f468\\U0001f3fc\\u200d\\U0001f9bc|\\U0001f468\\U0001f3fd\\u200d\\U0001f9bc|\\U0001f468\\U0001f3fe\\u200d\\U0001f9bc|\\U0001f468\\U0001f3ff\\u200d\\U0001f9bc|\\U0001f469\\U0001f3fb\\u200d\\U0001f9bc|\\U0001f469\\U0001f3fc\\u200d\\U0001f9bc|\\U0001f469\\U0001f3fd\\u200d\\U0001f9bc|\\U0001f469\\U0001f3fe\\u200d\\U0001f9bc|\\U0001f469\\U0001f3ff\\u200d\\U0001f9bc|\\U0001f468\\U0001f3fb\\u200d\\U0001f9bd|\\U0001f468\\U0001f3fc\\u200d\\U0001f9bd|\\U0001f468\\U0001f3fd\\u200d\\U0001f9bd|\\U0001f468\\U0001f3fe\\u200d\\U0001f9bd|\\U0001f468\\U0001f3ff\\u200d\\U0001f9bd|\\U0001f469\\U0001f3fb\\u200d\\U0001f9bd|\\U0001f469\\U0001f3fc\\u200d\\U0001f9bd|\\U0001f469\\U0001f3fd\\u200d\\U0001f9bd|\\U0001f469\\U0001f3fe\\u200d\\U0001f9bd|\\U0001f469\\U0001f3ff\\u200d\\U0001f9bd|\\U0001f3c3\\u200d\\u2642\\ufe0f|\\U0001f3c3\\U0001f3fb\\u200d\\u2642|\\U0001f3c3\\U0001f3fc\\u200d\\u2642|\\U0001f3c3\\U0001f3fd\\u200d\\u2642|\\U0001f3c3\\U0001f3fe\\u200d\\u2642|\\U0001f3c3\\U0001f3ff\\u200d\\u2642|\\U0001f3c3\\u200d\\u2640\\ufe0f|\\U0001f3c3\\U0001f3fb\\u200d\\u2640|\\U0001f3c3\\U0001f3fc\\u200d\\u2640|\\U0001f3c3\\U0001f3fd\\u200d\\u2640|\\U0001f3c3\\U0001f3fe\\u200d\\u2640|\\U0001f3c3\\U0001f3ff\\u200d\\u2640|\\U0001f46f\\u200d\\u2642\\ufe0f|\\U0001f46f\\u200d\\u2640\\ufe0f|\\U0001f9d6\\u200d\\u2642\\ufe0f|\\U0001f9d6\\U0001f3fb\\u200d\\u2642|\\U0001f9d6\\U0001f3fc\\u200d\\u2642|\\U0001f9d6\\U0001f3fd\\u200d\\u2642|\\U0001f9d6\\U0001f3fe\\u200d\\u2642|\\U0001f9d6\\U0001f3ff\\u200d\\u2642|\\U0001f9d6\\u200d\\u2640\\ufe0f|\\U0001f9d6\\U0001f3fb\\u200d\\u2640|\\U0001f9d6\\U0001f3fc\\u200d\\u2640|\\U0001f9d6\\U0001f3fd\\u200d\\u2640|\\U0001f9d6\\U0001f3fe\\u200d\\u2640|\\U0001f9d6\\U0001f3ff\\u200d\\u2640|\\U0001f9d7\\u200d\\u2642\\ufe0f|\\U0001f9d7\\U0001f3fb\\u200d\\u2642|\\U0001f9d7\\U0001f3fc\\u200d\\u2642|\\U0001f9d7\\U0001f3fd\\u200d\\u2642|\\U0001f9d7\\U0001f3fe\\u200d\\u2642|\\U0001f9d7\\U0001f3ff\\u200d\\u2642|\\U0001f9d7\\u200d\\u2640\\ufe0f|\\U0001f9d7\\U0001f3fb\\u200d\\u2640|\\U0001f9d7\\U0001f3fc\\u200d\\u2640|\\U0001f9d7\\U0001f3fd\\u200d\\u2640|\\U0001f9d7\\U0001f3fe\\u200d\\u2640|\\U0001f9d7\\U0001f3ff\\u200d\\u2640|\\U0001f3cc\\u200d\\u2642\\ufe0f|\\U0001f3cc\\ufe0f\\u200d\\u2642|\\U0001f3cc\\U0001f3fb\\u200d\\u2642|\\U0001f3cc\\U0001f3fc\\u200d\\u2642|\\U0001f3cc\\U0001f3fd\\u200d\\u2642|\\U0001f3cc\\U0001f3fe\\u200d\\u2642|\\U0001f3cc\\U0001f3ff\\u200d\\u2642|\\U0001f3cc\\u200d\\u2640\\ufe0f|\\U0001f3cc\\ufe0f\\u200d\\u2640|\\U0001f3cc\\U0001f3fb\\u200d\\u2640|\\U0001f3cc\\U0001f3fc\\u200d\\u2640|\\U0001f3cc\\U0001f3fd\\u200d\\u2640|\\U0001f3cc\\U0001f3fe\\u200d\\u2640|\\U0001f3cc\\U0001f3ff\\u200d\\u2640|\\U0001f3c4\\u200d\\u2642\\ufe0f|\\U0001f3c4\\U0001f3fb\\u200d\\u2642|\\U0001f3c4\\U0001f3fc\\u200d\\u2642|\\U0001f3c4\\U0001f3fd\\u200d\\u2642|\\U0001f3c4\\U0001f3fe\\u200d\\u2642|\\U0001f3c4\\U0001f3ff\\u200d\\u2642|\\U0001f3c4\\u200d\\u2640\\ufe0f|\\U0001f3c4\\U0001f3fb\\u200d\\u2640|\\U0001f3c4\\U0001f3fc\\u200d\\u2640|\\U0001f3c4\\U0001f3fd\\u200d\\u2640|\\U0001f3c4\\U0001f3fe\\u200d\\u2640|\\U0001f3c4\\U0001f3ff\\u200d\\u2640|\\U0001f6a3\\u200d\\u2642\\ufe0f|\\U0001f6a3\\U0001f3fb\\u200d\\u2642|\\U0001f6a3\\U0001f3fc\\u200d\\u2642|\\U0001f6a3\\U0001f3fd\\u200d\\u2642|\\U0001f6a3\\U0001f3fe\\u200d\\u2642|\\U0001f6a3\\U0001f3ff\\u200d\\u2642|\\U0001f6a3\\u200d\\u2640\\ufe0f|\\U0001f6a3\\U0001f3fb\\u200d\\u2640|\\U0001f6a3\\U0001f3fc\\u200d\\u2640|\\U0001f6a3\\U0001f3fd\\u200d\\u2640|\\U0001f6a3\\U0001f3fe\\u200d\\u2640|\\U0001f6a3\\U0001f3ff\\u200d\\u2640|\\U0001f3ca\\u200d\\u2642\\ufe0f|\\U0001f3ca\\U0001f3fb\\u200d\\u2642|\\U0001f3ca\\U0001f3fc\\u200d\\u2642|\\U0001f3ca\\U0001f3fd\\u200d\\u2642|\\U0001f3ca\\U0001f3fe\\u200d\\u2642|\\U0001f3ca\\U0001f3ff\\u200d\\u2642|\\U0001f3ca\\u200d\\u2640\\ufe0f|\\U0001f3ca\\U0001f3fb\\u200d\\u2640|\\U0001f3ca\\U0001f3fc\\u200d\\u2640|\\U0001f3ca\\U0001f3fd\\u200d\\u2640|\\U0001f3ca\\U0001f3fe\\u200d\\u2640|\\U0001f3ca\\U0001f3ff\\u200d\\u2640|\\u26f9\\u200d\\u2642\\ufe0f|\\u26f9\\ufe0f\\u200d\\u2642|\\u26f9\\U0001f3fb\\u200d\\u2642|\\u26f9\\U0001f3fc\\u200d\\u2642|\\u26f9\\U0001f3fd\\u200d\\u2642|\\u26f9\\U0001f3fe\\u200d\\u2642|\\u26f9\\U0001f3ff\\u200d\\u2642|\\u26f9\\u200d\\u2640\\ufe0f|\\u26f9\\ufe0f\\u200d\\u2640|\\u26f9\\U0001f3fb\\u200d\\u2640|\\u26f9\\U0001f3fc\\u200d\\u2640|\\u26f9\\U0001f3fd\\u200d\\u2640|\\u26f9\\U0001f3fe\\u200d\\u2640|\\u26f9\\U0001f3ff\\u200d\\u2640|\\U0001f3cb\\u200d\\u2642\\ufe0f|\\U0001f3cb\\ufe0f\\u200d\\u2642|\\U0001f3cb\\U0001f3fb\\u200d\\u2642|\\U0001f3cb\\U0001f3fc\\u200d\\u2642|\\U0001f3cb\\U0001f3fd\\u200d\\u2642|\\U0001f3cb\\U0001f3fe\\u200d\\u2642|\\U0001f3cb\\U0001f3ff\\u200d\\u2642|\\U0001f3cb\\u200d\\u2640\\ufe0f|\\U0001f3cb\\ufe0f\\u200d\\u2640|\\U0001f3cb\\U0001f3fb\\u200d\\u2640|\\U0001f3cb\\U0001f3fc\\u200d\\u2640|\\U0001f3cb\\U0001f3fd\\u200d\\u2640|\\U0001f3cb\\U0001f3fe\\u200d\\u2640|\\U0001f3cb\\U0001f3ff\\u200d\\u2640|\\U0001f6b4\\u200d\\u2642\\ufe0f|\\U0001f6b4\\U0001f3fb\\u200d\\u2642|\\U0001f6b4\\U0001f3fc\\u200d\\u2642|\\U0001f6b4\\U0001f3fd\\u200d\\u2642|\\U0001f6b4\\U0001f3fe\\u200d\\u2642|\\U0001f6b4\\U0001f3ff\\u200d\\u2642|\\U0001f6b4\\u200d\\u2640\\ufe0f|\\U0001f6b4\\U0001f3fb\\u200d\\u2640|\\U0001f6b4\\U0001f3fc\\u200d\\u2640|\\U0001f6b4\\U0001f3fd\\u200d\\u2640|\\U0001f6b4\\U0001f3fe\\u200d\\u2640|\\U0001f6b4\\U0001f3ff\\u200d\\u2640|\\U0001f6b5\\u200d\\u2642\\ufe0f|\\U0001f6b5\\U0001f3fb\\u200d\\u2642|\\U0001f6b5\\U0001f3fc\\u200d\\u2642|\\U0001f6b5\\U0001f3fd\\u200d\\u2642|\\U0001f6b5\\U0001f3fe\\u200d\\u2642|\\U0001f6b5\\U0001f3ff\\u200d\\u2642|\\U0001f6b5\\u200d\\u2640\\ufe0f|\\U0001f6b5\\U0001f3fb\\u200d\\u2640|\\U0001f6b5\\U0001f3fc\\u200d\\u2640|\\U0001f6b5\\U0001f3fd\\u200d\\u2640|\\U0001f6b5\\U0001f3fe\\u200d\\u2640|\\U0001f6b5\\U0001f3ff\\u200d\\u2640|\\U0001f938\\u200d\\u2642\\ufe0f|\\U0001f938\\U0001f3fb\\u200d\\u2642|\\U0001f938\\U0001f3fc\\u200d\\u2642|\\U0001f938\\U0001f3fd\\u200d\\u2642|\\U0001f938\\U0001f3fe\\u200d\\u2642|\\U0001f938\\U0001f3ff\\u200d\\u2642|\\U0001f938\\u200d\\u2640\\ufe0f|\\U0001f938\\U0001f3fb\\u200d\\u2640|\\U0001f938\\U0001f3fc\\u200d\\u2640|\\U0001f938\\U0001f3fd\\u200d\\u2640|\\U0001f938\\U0001f3fe\\u200d\\u2640|\\U0001f938\\U0001f3ff\\u200d\\u2640|\\U0001f93c\\u200d\\u2642\\ufe0f|\\U0001f93c\\u200d\\u2640\\ufe0f|\\U0001f93d\\u200d\\u2642\\ufe0f|\\U0001f93d\\U0001f3fb\\u200d\\u2642|\\U0001f93d\\U0001f3fc\\u200d\\u2642|\\U0001f93d\\U0001f3fd\\u200d\\u2642|\\U0001f93d\\U0001f3fe\\u200d\\u2642|\\U0001f93d\\U0001f3ff\\u200d\\u2642|\\U0001f93d\\u200d\\u2640\\ufe0f|\\U0001f93d\\U0001f3fb\\u200d\\u2640|\\U0001f93d\\U0001f3fc\\u200d\\u2640|\\U0001f93d\\U0001f3fd\\u200d\\u2640|\\U0001f93d\\U0001f3fe\\u200d\\u2640|\\U0001f93d\\U0001f3ff\\u200d\\u2640|\\U0001f93e\\u200d\\u2642\\ufe0f|\\U0001f93e\\U0001f3fb\\u200d\\u2642|\\U0001f93e\\U0001f3fc\\u200d\\u2642|\\U0001f93e\\U0001f3fd\\u200d\\u2642|\\U0001f93e\\U0001f3fe\\u200d\\u2642|\\U0001f93e\\U0001f3ff\\u200d\\u2642|\\U0001f93e\\u200d\\u2640\\ufe0f|\\U0001f93e\\U0001f3fb\\u200d\\u2640|\\U0001f93e\\U0001f3fc\\u200d\\u2640|\\U0001f93e\\U0001f3fd\\u200d\\u2640|\\U0001f93e\\U0001f3fe\\u200d\\u2640|\\U0001f93e\\U0001f3ff\\u200d\\u2640|\\U0001f939\\u200d\\u2642\\ufe0f|\\U0001f939\\U0001f3fb\\u200d\\u2642|\\U0001f939\\U0001f3fc\\u200d\\u2642|\\U0001f939\\U0001f3fd\\u200d\\u2642|\\U0001f939\\U0001f3fe\\u200d\\u2642|\\U0001f939\\U0001f3ff\\u200d\\u2642|\\U0001f939\\u200d\\u2640\\ufe0f|\\U0001f939\\U0001f3fb\\u200d\\u2640|\\U0001f939\\U0001f3fc\\u200d\\u2640|\\U0001f939\\U0001f3fd\\u200d\\u2640|\\U0001f939\\U0001f3fe\\u200d\\u2640|\\U0001f939\\U0001f3ff\\u200d\\u2640|\\U0001f9d8\\u200d\\u2642\\ufe0f|\\U0001f9d8\\U0001f3fb\\u200d\\u2642|\\U0001f9d8\\U0001f3fc\\u200d\\u2642|\\U0001f9d8\\U0001f3fd\\u200d\\u2642|\\U0001f9d8\\U0001f3fe\\u200d\\u2642|\\U0001f9d8\\U0001f3ff\\u200d\\u2642|\\U0001f9d8\\u200d\\u2640\\ufe0f|\\U0001f9d8\\U0001f3fb\\u200d\\u2640|\\U0001f9d8\\U0001f3fc\\u200d\\u2640|\\U0001f9d8\\U0001f3fd\\u200d\\u2640|\\U0001f9d8\\U0001f3fe\\u200d\\u2640|\\U0001f9d8\\U0001f3ff\\u200d\\u2640|\\U0001f3f3\\ufe0f\\u200d\\U0001f308|\\U0001f3f4\\u200d\\u2620\\ufe0f|\\U0001f441\\u200d\\U0001f5e8|\\U0001f471\\u200d\\u2642|\\U0001f468\\u200d\\U0001f9b0|\\U0001f468\\u200d\\U0001f9b1|\\U0001f468\\u200d\\U0001f9b3|\\U0001f468\\u200d\\U0001f9b2|\\U0001f471\\u200d\\u2640|\\U0001f469\\u200d\\U0001f9b0|\\U0001f469\\u200d\\U0001f9b1|\\U0001f469\\u200d\\U0001f9b3|\\U0001f469\\u200d\\U0001f9b2|\\U0001f64d\\u200d\\u2642|\\U0001f64d\\u200d\\u2640|\\U0001f64e\\u200d\\u2642|\\U0001f64e\\u200d\\u2640|\\U0001f645\\u200d\\u2642|\\U0001f645\\u200d\\u2640|\\U0001f646\\u200d\\u2642|\\U0001f646\\u200d\\u2640|\\U0001f481\\u200d\\u2642|\\U0001f481\\u200d\\u2640|\\U0001f64b\\u200d\\u2642|\\U0001f64b\\u200d\\u2640|\\U0001f9cf\\u200d\\u2642|\\U0001f9cf\\u200d\\u2640|\\U0001f647\\u200d\\u2642|\\U0001f647\\u200d\\u2640|\\U0001f926\\u200d\\u2642|\\U0001f926\\u200d\\u2640|\\U0001f937\\u200d\\u2642|\\U0001f937\\u200d\\u2640|\\U0001f468\\u200d\\u2695|\\U0001f469\\u200d\\u2695|\\U0001f468\\u200d\\U0001f393|\\U0001f469\\u200d\\U0001f393|\\U0001f468\\u200d\\U0001f3eb|\\U0001f469\\u200d\\U0001f3eb|\\U0001f468\\u200d\\u2696|\\U0001f469\\u200d\\u2696|\\U0001f468\\u200d\\U0001f33e|\\U0001f469\\u200d\\U0001f33e|\\U0001f468\\u200d\\U0001f373|\\U0001f469\\u200d\\U0001f373|\\U0001f468\\u200d\\U0001f527|\\U0001f469\\u200d\\U0001f527|\\U0001f468\\u200d\\U0001f3ed|\\U0001f469\\u200d\\U0001f3ed|\\U0001f468\\u200d\\U0001f4bc|\\U0001f469\\u200d\\U0001f4bc|\\U0001f468\\u200d\\U0001f52c|\\U0001f469\\u200d\\U0001f52c|\\U0001f468\\u200d\\U0001f4bb|\\U0001f469\\u200d\\U0001f4bb|\\U0001f468\\u200d\\U0001f3a4|\\U0001f469\\u200d\\U0001f3a4|\\U0001f468\\u200d\\U0001f3a8|\\U0001f469\\u200d\\U0001f3a8|\\U0001f468\\u200d\\u2708|\\U0001f469\\u200d\\u2708|\\U0001f468\\u200d\\U0001f680|\\U0001f469\\u200d\\U0001f680|\\U0001f468\\u200d\\U0001f692|\\U0001f469\\u200d\\U0001f692|\\U0001f46e\\u200d\\u2642|\\U0001f46e\\u200d\\u2640|\\U0001f575\\u200d\\u2642|\\U0001f575\\u200d\\u2640|\\U0001f482\\u200d\\u2642|\\U0001f482\\u200d\\u2640|\\U0001f477\\u200d\\u2642|\\U0001f477\\u200d\\u2640|\\U0001f473\\u200d\\u2642|\\U0001f473\\u200d\\u2640|\\U0001f9b8\\u200d\\u2642|\\U0001f9b8\\u200d\\u2640|\\U0001f9b9\\u200d\\u2642|\\U0001f9b9\\u200d\\u2640|\\U0001f9d9\\u200d\\u2642|\\U0001f9d9\\u200d\\u2640|\\U0001f9da\\u200d\\u2642|\\U0001f9da\\u200d\\u2640|\\U0001f9db\\u200d\\u2642|\\U0001f9db\\u200d\\u2640|\\U0001f9dc\\u200d\\u2642|\\U0001f9dc\\u200d\\u2640|\\U0001f9dd\\u200d\\u2642|\\U0001f9dd\\u200d\\u2640|\\U0001f9de\\u200d\\u2642|\\U0001f9de\\u200d\\u2640|\\U0001f9df\\u200d\\u2642|\\U0001f9df\\u200d\\u2640|\\U0001f486\\u200d\\u2642|\\U0001f486\\u200d\\u2640|\\U0001f487\\u200d\\u2642|\\U0001f487\\u200d\\u2640|\\U0001f6b6\\u200d\\u2642|\\U0001f6b6\\u200d\\u2640|\\U0001f9cd\\u200d\\u2642|\\U0001f9cd\\u200d\\u2640|\\U0001f9ce\\u200d\\u2642|\\U0001f9ce\\u200d\\u2640|\\U0001f468\\u200d\\U0001f9af|\\U0001f469\\u200d\\U0001f9af|\\U0001f468\\u200d\\U0001f9bc|\\U0001f469\\u200d\\U0001f9bc|\\U0001f468\\u200d\\U0001f9bd|\\U0001f469\\u200d\\U0001f9bd|\\U0001f3c3\\u200d\\u2642|\\U0001f3c3\\u200d\\u2640|\\U0001f46f\\u200d\\u2642|\\U0001f46f\\u200d\\u2640|\\U0001f9d6\\u200d\\u2642|\\U0001f9d6\\u200d\\u2640|\\U0001f9d7\\u200d\\u2642|\\U0001f9d7\\u200d\\u2640|\\U0001f3cc\\u200d\\u2642|\\U0001f3cc\\u200d\\u2640|\\U0001f3c4\\u200d\\u2642|\\U0001f3c4\\u200d\\u2640|\\U0001f6a3\\u200d\\u2642|\\U0001f6a3\\u200d\\u2640|\\U0001f3ca\\u200d\\u2642|\\U0001f3ca\\u200d\\u2640|\\u26f9\\u200d\\u2642|\\u26f9\\u200d\\u2640|\\U0001f3cb\\u200d\\u2642|\\U0001f3cb\\u200d\\u2640|\\U0001f6b4\\u200d\\u2642|\\U0001f6b4\\u200d\\u2640|\\U0001f6b5\\u200d\\u2642|\\U0001f6b5\\u200d\\u2640|\\U0001f938\\u200d\\u2642|\\U0001f938\\u200d\\u2640|\\U0001f93c\\u200d\\u2642|\\U0001f93c\\u200d\\u2640|\\U0001f93d\\u200d\\u2642|\\U0001f93d\\u200d\\u2640|\\U0001f93e\\u200d\\u2642|\\U0001f93e\\u200d\\u2640|\\U0001f939\\u200d\\u2642|\\U0001f939\\u200d\\u2640|\\U0001f9d8\\u200d\\u2642|\\U0001f9d8\\u200d\\u2640|\\U0001f468\\u200d\\U0001f466|\\U0001f468\\u200d\\U0001f467|\\U0001f469\\u200d\\U0001f466|\\U0001f469\\u200d\\U0001f467|\\U0001f415\\u200d\\U0001f9ba|\\\\#\\ufe0f\\u20e3|\\\\*\\ufe0f\\u20e3|0\\ufe0f\\u20e3|1\\ufe0f\\u20e3|2\\ufe0f\\u20e3|3\\ufe0f\\u20e3|4\\ufe0f\\u20e3|5\\ufe0f\\u20e3|6\\ufe0f\\u20e3|7\\ufe0f\\u20e3|8\\ufe0f\\u20e3|9\\ufe0f\\u20e3|\\U0001f3f3\\u200d\\U0001f308|\\U0001f3f4\\u200d\\u2620|\\u263a\\ufe0f|\\u2639\\ufe0f|\\u2620\\ufe0f|\\u2763\\ufe0f|\\u2764\\ufe0f|\\U0001f573\\ufe0f|\\U0001f5e8\\ufe0f|\\U0001f5ef\\ufe0f|\\U0001f44b\\U0001f3fb|\\U0001f44b\\U0001f3fc|\\U0001f44b\\U0001f3fd|\\U0001f44b\\U0001f3fe|\\U0001f44b\\U0001f3ff|\\U0001f91a\\U0001f3fb|\\U0001f91a\\U0001f3fc|\\U0001f91a\\U0001f3fd|\\U0001f91a\\U0001f3fe|\\U0001f91a\\U0001f3ff|\\U0001f590\\ufe0f|\\U0001f590\\U0001f3fb|\\U0001f590\\U0001f3fc|\\U0001f590\\U0001f3fd|\\U0001f590\\U0001f3fe|\\U0001f590\\U0001f3ff|\\u270b\\U0001f3fb|\\u270b\\U0001f3fc|\\u270b\\U0001f3fd|\\u270b\\U0001f3fe|\\u270b\\U0001f3ff|\\U0001f596\\U0001f3fb|\\U0001f596\\U0001f3fc|\\U0001f596\\U0001f3fd|\\U0001f596\\U0001f3fe|\\U0001f596\\U0001f3ff|\\U0001f44c\\U0001f3fb|\\U0001f44c\\U0001f3fc|\\U0001f44c\\U0001f3fd|\\U0001f44c\\U0001f3fe|\\U0001f44c\\U0001f3ff|\\U0001f90f\\U0001f3fb|\\U0001f90f\\U0001f3fc|\\U0001f90f\\U0001f3fd|\\U0001f90f\\U0001f3fe|\\U0001f90f\\U0001f3ff|\\u270c\\ufe0f|\\u270c\\U0001f3fb|\\u270c\\U0001f3fc|\\u270c\\U0001f3fd|\\u270c\\U0001f3fe|\\u270c\\U0001f3ff|\\U0001f91e\\U0001f3fb|\\U0001f91e\\U0001f3fc|\\U0001f91e\\U0001f3fd|\\U0001f91e\\U0001f3fe|\\U0001f91e\\U0001f3ff|\\U0001f91f\\U0001f3fb|\\U0001f91f\\U0001f3fc|\\U0001f91f\\U0001f3fd|\\U0001f91f\\U0001f3fe|\\U0001f91f\\U0001f3ff|\\U0001f918\\U0001f3fb|\\U0001f918\\U0001f3fc|\\U0001f918\\U0001f3fd|\\U0001f918\\U0001f3fe|\\U0001f918\\U0001f3ff|\\U0001f919\\U0001f3fb|\\U0001f919\\U0001f3fc|\\U0001f919\\U0001f3fd|\\U0001f919\\U0001f3fe|\\U0001f919\\U0001f3ff|\\U0001f448\\U0001f3fb|\\U0001f448\\U0001f3fc|\\U0001f448\\U0001f3fd|\\U0001f448\\U0001f3fe|\\U0001f448\\U0001f3ff|\\U0001f449\\U0001f3fb|\\U0001f449\\U0001f3fc|\\U0001f449\\U0001f3fd|\\U0001f449\\U0001f3fe|\\U0001f449\\U0001f3ff|\\U0001f446\\U0001f3fb|\\U0001f446\\U0001f3fc|\\U0001f446\\U0001f3fd|\\U0001f446\\U0001f3fe|\\U0001f446\\U0001f3ff|\\U0001f595\\U0001f3fb|\\U0001f595\\U0001f3fc|\\U0001f595\\U0001f3fd|\\U0001f595\\U0001f3fe|\\U0001f595\\U0001f3ff|\\U0001f447\\U0001f3fb|\\U0001f447\\U0001f3fc|\\U0001f447\\U0001f3fd|\\U0001f447\\U0001f3fe|\\U0001f447\\U0001f3ff|\\u261d\\ufe0f|\\u261d\\U0001f3fb|\\u261d\\U0001f3fc|\\u261d\\U0001f3fd|\\u261d\\U0001f3fe|\\u261d\\U0001f3ff|\\U0001f44d\\U0001f3fb|\\U0001f44d\\U0001f3fc|\\U0001f44d\\U0001f3fd|\\U0001f44d\\U0001f3fe|\\U0001f44d\\U0001f3ff|\\U0001f44e\\U0001f3fb|\\U0001f44e\\U0001f3fc|\\U0001f44e\\U0001f3fd|\\U0001f44e\\U0001f3fe|\\U0001f44e\\U0001f3ff|\\u270a\\U0001f3fb|\\u270a\\U0001f3fc|\\u270a\\U0001f3fd|\\u270a\\U0001f3fe|\\u270a\\U0001f3ff|\\U0001f44a\\U0001f3fb|\\U0001f44a\\U0001f3fc|\\U0001f44a\\U0001f3fd|\\U0001f44a\\U0001f3fe|\\U0001f44a\\U0001f3ff|\\U0001f91b\\U0001f3fb|\\U0001f91b\\U0001f3fc|\\U0001f91b\\U0001f3fd|\\U0001f91b\\U0001f3fe|\\U0001f91b\\U0001f3ff|\\U0001f91c\\U0001f3fb|\\U0001f91c\\U0001f3fc|\\U0001f91c\\U0001f3fd|\\U0001f91c\\U0001f3fe|\\U0001f91c\\U0001f3ff|\\U0001f44f\\U0001f3fb|\\U0001f44f\\U0001f3fc|\\U0001f44f\\U0001f3fd|\\U0001f44f\\U0001f3fe|\\U0001f44f\\U0001f3ff|\\U0001f64c\\U0001f3fb|\\U0001f64c\\U0001f3fc|\\U0001f64c\\U0001f3fd|\\U0001f64c\\U0001f3fe|\\U0001f64c\\U0001f3ff|\\U0001f450\\U0001f3fb|\\U0001f450\\U0001f3fc|\\U0001f450\\U0001f3fd|\\U0001f450\\U0001f3fe|\\U0001f450\\U0001f3ff|\\U0001f932\\U0001f3fb|\\U0001f932\\U0001f3fc|\\U0001f932\\U0001f3fd|\\U0001f932\\U0001f3fe|\\U0001f932\\U0001f3ff|\\U0001f64f\\U0001f3fb|\\U0001f64f\\U0001f3fc|\\U0001f64f\\U0001f3fd|\\U0001f64f\\U0001f3fe|\\U0001f64f\\U0001f3ff|\\u270d\\ufe0f|\\u270d\\U0001f3fb|\\u270d\\U0001f3fc|\\u270d\\U0001f3fd|\\u270d\\U0001f3fe|\\u270d\\U0001f3ff|\\U0001f485\\U0001f3fb|\\U0001f485\\U0001f3fc|\\U0001f485\\U0001f3fd|\\U0001f485\\U0001f3fe|\\U0001f485\\U0001f3ff|\\U0001f933\\U0001f3fb|\\U0001f933\\U0001f3fc|\\U0001f933\\U0001f3fd|\\U0001f933\\U0001f3fe|\\U0001f933\\U0001f3ff|\\U0001f4aa\\U0001f3fb|\\U0001f4aa\\U0001f3fc|\\U0001f4aa\\U0001f3fd|\\U0001f4aa\\U0001f3fe|\\U0001f4aa\\U0001f3ff|\\U0001f9b5\\U0001f3fb|\\U0001f9b5\\U0001f3fc|\\U0001f9b5\\U0001f3fd|\\U0001f9b5\\U0001f3fe|\\U0001f9b5\\U0001f3ff|\\U0001f9b6\\U0001f3fb|\\U0001f9b6\\U0001f3fc|\\U0001f9b6\\U0001f3fd|\\U0001f9b6\\U0001f3fe|\\U0001f9b6\\U0001f3ff|\\U0001f442\\U0001f3fb|\\U0001f442\\U0001f3fc|\\U0001f442\\U0001f3fd|\\U0001f442\\U0001f3fe|\\U0001f442\\U0001f3ff|\\U0001f9bb\\U0001f3fb|\\U0001f9bb\\U0001f3fc|\\U0001f9bb\\U0001f3fd|\\U0001f9bb\\U0001f3fe|\\U0001f9bb\\U0001f3ff|\\U0001f443\\U0001f3fb|\\U0001f443\\U0001f3fc|\\U0001f443\\U0001f3fd|\\U0001f443\\U0001f3fe|\\U0001f443\\U0001f3ff|\\U0001f441\\ufe0f|\\U0001f476\\U0001f3fb|\\U0001f476\\U0001f3fc|\\U0001f476\\U0001f3fd|\\U0001f476\\U0001f3fe|\\U0001f476\\U0001f3ff|\\U0001f9d2\\U0001f3fb|\\U0001f9d2\\U0001f3fc|\\U0001f9d2\\U0001f3fd|\\U0001f9d2\\U0001f3fe|\\U0001f9d2\\U0001f3ff|\\U0001f466\\U0001f3fb|\\U0001f466\\U0001f3fc|\\U0001f466\\U0001f3fd|\\U0001f466\\U0001f3fe|\\U0001f466\\U0001f3ff|\\U0001f467\\U0001f3fb|\\U0001f467\\U0001f3fc|\\U0001f467\\U0001f3fd|\\U0001f467\\U0001f3fe|\\U0001f467\\U0001f3ff|\\U0001f9d1\\U0001f3fb|\\U0001f9d1\\U0001f3fc|\\U0001f9d1\\U0001f3fd|\\U0001f9d1\\U0001f3fe|\\U0001f9d1\\U0001f3ff|\\U0001f471\\U0001f3fb|\\U0001f471\\U0001f3fc|\\U0001f471\\U0001f3fd|\\U0001f471\\U0001f3fe|\\U0001f471\\U0001f3ff|\\U0001f468\\U0001f3fb|\\U0001f468\\U0001f3fc|\\U0001f468\\U0001f3fd|\\U0001f468\\U0001f3fe|\\U0001f468\\U0001f3ff|\\U0001f9d4\\U0001f3fb|\\U0001f9d4\\U0001f3fc|\\U0001f9d4\\U0001f3fd|\\U0001f9d4\\U0001f3fe|\\U0001f9d4\\U0001f3ff|\\U0001f469\\U0001f3fb|\\U0001f469\\U0001f3fc|\\U0001f469\\U0001f3fd|\\U0001f469\\U0001f3fe|\\U0001f469\\U0001f3ff|\\U0001f9d3\\U0001f3fb|\\U0001f9d3\\U0001f3fc|\\U0001f9d3\\U0001f3fd|\\U0001f9d3\\U0001f3fe|\\U0001f9d3\\U0001f3ff|\\U0001f474\\U0001f3fb|\\U0001f474\\U0001f3fc|\\U0001f474\\U0001f3fd|\\U0001f474\\U0001f3fe|\\U0001f474\\U0001f3ff|\\U0001f475\\U0001f3fb|\\U0001f475\\U0001f3fc|\\U0001f475\\U0001f3fd|\\U0001f475\\U0001f3fe|\\U0001f475\\U0001f3ff|\\U0001f64d\\U0001f3fb|\\U0001f64d\\U0001f3fc|\\U0001f64d\\U0001f3fd|\\U0001f64d\\U0001f3fe|\\U0001f64d\\U0001f3ff|\\U0001f64e\\U0001f3fb|\\U0001f64e\\U0001f3fc|\\U0001f64e\\U0001f3fd|\\U0001f64e\\U0001f3fe|\\U0001f64e\\U0001f3ff|\\U0001f645\\U0001f3fb|\\U0001f645\\U0001f3fc|\\U0001f645\\U0001f3fd|\\U0001f645\\U0001f3fe|\\U0001f645\\U0001f3ff|\\U0001f646\\U0001f3fb|\\U0001f646\\U0001f3fc|\\U0001f646\\U0001f3fd|\\U0001f646\\U0001f3fe|\\U0001f646\\U0001f3ff|\\U0001f481\\U0001f3fb|\\U0001f481\\U0001f3fc|\\U0001f481\\U0001f3fd|\\U0001f481\\U0001f3fe|\\U0001f481\\U0001f3ff|\\U0001f64b\\U0001f3fb|\\U0001f64b\\U0001f3fc|\\U0001f64b\\U0001f3fd|\\U0001f64b\\U0001f3fe|\\U0001f64b\\U0001f3ff|\\U0001f9cf\\U0001f3fb|\\U0001f9cf\\U0001f3fc|\\U0001f9cf\\U0001f3fd|\\U0001f9cf\\U0001f3fe|\\U0001f9cf\\U0001f3ff|\\U0001f647\\U0001f3fb|\\U0001f647\\U0001f3fc|\\U0001f647\\U0001f3fd|\\U0001f647\\U0001f3fe|\\U0001f647\\U0001f3ff|\\U0001f926\\U0001f3fb|\\U0001f926\\U0001f3fc|\\U0001f926\\U0001f3fd|\\U0001f926\\U0001f3fe|\\U0001f926\\U0001f3ff|\\U0001f937\\U0001f3fb|\\U0001f937\\U0001f3fc|\\U0001f937\\U0001f3fd|\\U0001f937\\U0001f3fe|\\U0001f937\\U0001f3ff|\\U0001f46e\\U0001f3fb|\\U0001f46e\\U0001f3fc|\\U0001f46e\\U0001f3fd|\\U0001f46e\\U0001f3fe|\\U0001f46e\\U0001f3ff|\\U0001f575\\ufe0f|\\U0001f575\\U0001f3fb|\\U0001f575\\U0001f3fc|\\U0001f575\\U0001f3fd|\\U0001f575\\U0001f3fe|\\U0001f575\\U0001f3ff|\\U0001f482\\U0001f3fb|\\U0001f482\\U0001f3fc|\\U0001f482\\U0001f3fd|\\U0001f482\\U0001f3fe|\\U0001f482\\U0001f3ff|\\U0001f477\\U0001f3fb|\\U0001f477\\U0001f3fc|\\U0001f477\\U0001f3fd|\\U0001f477\\U0001f3fe|\\U0001f477\\U0001f3ff|\\U0001f934\\U0001f3fb|\\U0001f934\\U0001f3fc|\\U0001f934\\U0001f3fd|\\U0001f934\\U0001f3fe|\\U0001f934\\U0001f3ff|\\U0001f478\\U0001f3fb|\\U0001f478\\U0001f3fc|\\U0001f478\\U0001f3fd|\\U0001f478\\U0001f3fe|\\U0001f478\\U0001f3ff|\\U0001f473\\U0001f3fb|\\U0001f473\\U0001f3fc|\\U0001f473\\U0001f3fd|\\U0001f473\\U0001f3fe|\\U0001f473\\U0001f3ff|\\U0001f472\\U0001f3fb|\\U0001f472\\U0001f3fc|\\U0001f472\\U0001f3fd|\\U0001f472\\U0001f3fe|\\U0001f472\\U0001f3ff|\\U0001f9d5\\U0001f3fb|\\U0001f9d5\\U0001f3fc|\\U0001f9d5\\U0001f3fd|\\U0001f9d5\\U0001f3fe|\\U0001f9d5\\U0001f3ff|\\U0001f935\\U0001f3fb|\\U0001f935\\U0001f3fc|\\U0001f935\\U0001f3fd|\\U0001f935\\U0001f3fe|\\U0001f935\\U0001f3ff|\\U0001f470\\U0001f3fb|\\U0001f470\\U0001f3fc|\\U0001f470\\U0001f3fd|\\U0001f470\\U0001f3fe|\\U0001f470\\U0001f3ff|\\U0001f930\\U0001f3fb|\\U0001f930\\U0001f3fc|\\U0001f930\\U0001f3fd|\\U0001f930\\U0001f3fe|\\U0001f930\\U0001f3ff|\\U0001f931\\U0001f3fb|\\U0001f931\\U0001f3fc|\\U0001f931\\U0001f3fd|\\U0001f931\\U0001f3fe|\\U0001f931\\U0001f3ff|\\U0001f47c\\U0001f3fb|\\U0001f47c\\U0001f3fc|\\U0001f47c\\U0001f3fd|\\U0001f47c\\U0001f3fe|\\U0001f47c\\U0001f3ff|\\U0001f385\\U0001f3fb|\\U0001f385\\U0001f3fc|\\U0001f385\\U0001f3fd|\\U0001f385\\U0001f3fe|\\U0001f385\\U0001f3ff|\\U0001f936\\U0001f3fb|\\U0001f936\\U0001f3fc|\\U0001f936\\U0001f3fd|\\U0001f936\\U0001f3fe|\\U0001f936\\U0001f3ff|\\U0001f9b8\\U0001f3fb|\\U0001f9b8\\U0001f3fc|\\U0001f9b8\\U0001f3fd|\\U0001f9b8\\U0001f3fe|\\U0001f9b8\\U0001f3ff|\\U0001f9b9\\U0001f3fb|\\U0001f9b9\\U0001f3fc|\\U0001f9b9\\U0001f3fd|\\U0001f9b9\\U0001f3fe|\\U0001f9b9\\U0001f3ff|\\U0001f9d9\\U0001f3fb|\\U0001f9d9\\U0001f3fc|\\U0001f9d9\\U0001f3fd|\\U0001f9d9\\U0001f3fe|\\U0001f9d9\\U0001f3ff|\\U0001f9da\\U0001f3fb|\\U0001f9da\\U0001f3fc|\\U0001f9da\\U0001f3fd|\\U0001f9da\\U0001f3fe|\\U0001f9da\\U0001f3ff|\\U0001f9db\\U0001f3fb|\\U0001f9db\\U0001f3fc|\\U0001f9db\\U0001f3fd|\\U0001f9db\\U0001f3fe|\\U0001f9db\\U0001f3ff|\\U0001f9dc\\U0001f3fb|\\U0001f9dc\\U0001f3fc|\\U0001f9dc\\U0001f3fd|\\U0001f9dc\\U0001f3fe|\\U0001f9dc\\U0001f3ff|\\U0001f9dd\\U0001f3fb|\\U0001f9dd\\U0001f3fc|\\U0001f9dd\\U0001f3fd|\\U0001f9dd\\U0001f3fe|\\U0001f9dd\\U0001f3ff|\\U0001f486\\U0001f3fb|\\U0001f486\\U0001f3fc|\\U0001f486\\U0001f3fd|\\U0001f486\\U0001f3fe|\\U0001f486\\U0001f3ff|\\U0001f487\\U0001f3fb|\\U0001f487\\U0001f3fc|\\U0001f487\\U0001f3fd|\\U0001f487\\U0001f3fe|\\U0001f487\\U0001f3ff|\\U0001f6b6\\U0001f3fb|\\U0001f6b6\\U0001f3fc|\\U0001f6b6\\U0001f3fd|\\U0001f6b6\\U0001f3fe|\\U0001f6b6\\U0001f3ff|\\U0001f9cd\\U0001f3fb|\\U0001f9cd\\U0001f3fc|\\U0001f9cd\\U0001f3fd|\\U0001f9cd\\U0001f3fe|\\U0001f9cd\\U0001f3ff|\\U0001f9ce\\U0001f3fb|\\U0001f9ce\\U0001f3fc|\\U0001f9ce\\U0001f3fd|\\U0001f9ce\\U0001f3fe|\\U0001f9ce\\U0001f3ff|\\U0001f3c3\\U0001f3fb|\\U0001f3c3\\U0001f3fc|\\U0001f3c3\\U0001f3fd|\\U0001f3c3\\U0001f3fe|\\U0001f3c3\\U0001f3ff|\\U0001f483\\U0001f3fb|\\U0001f483\\U0001f3fc|\\U0001f483\\U0001f3fd|\\U0001f483\\U0001f3fe|\\U0001f483\\U0001f3ff|\\U0001f57a\\U0001f3fb|\\U0001f57a\\U0001f3fc|\\U0001f57a\\U0001f3fd|\\U0001f57a\\U0001f3fe|\\U0001f57a\\U0001f3ff|\\U0001f574\\ufe0f|\\U0001f574\\U0001f3fb|\\U0001f574\\U0001f3fc|\\U0001f574\\U0001f3fd|\\U0001f574\\U0001f3fe|\\U0001f574\\U0001f3ff|\\U0001f9d6\\U0001f3fb|\\U0001f9d6\\U0001f3fc|\\U0001f9d6\\U0001f3fd|\\U0001f9d6\\U0001f3fe|\\U0001f9d6\\U0001f3ff|\\U0001f9d7\\U0001f3fb|\\U0001f9d7\\U0001f3fc|\\U0001f9d7\\U0001f3fd|\\U0001f9d7\\U0001f3fe|\\U0001f9d7\\U0001f3ff|\\U0001f3c7\\U0001f3fb|\\U0001f3c7\\U0001f3fc|\\U0001f3c7\\U0001f3fd|\\U0001f3c7\\U0001f3fe|\\U0001f3c7\\U0001f3ff|\\u26f7\\ufe0f|\\U0001f3c2\\U0001f3fb|\\U0001f3c2\\U0001f3fc|\\U0001f3c2\\U0001f3fd|\\U0001f3c2\\U0001f3fe|\\U0001f3c2\\U0001f3ff|\\U0001f3cc\\ufe0f|\\U0001f3cc\\U0001f3fb|\\U0001f3cc\\U0001f3fc|\\U0001f3cc\\U0001f3fd|\\U0001f3cc\\U0001f3fe|\\U0001f3cc\\U0001f3ff|\\U0001f3c4\\U0001f3fb|\\U0001f3c4\\U0001f3fc|\\U0001f3c4\\U0001f3fd|\\U0001f3c4\\U0001f3fe|\\U0001f3c4\\U0001f3ff|\\U0001f6a3\\U0001f3fb|\\U0001f6a3\\U0001f3fc|\\U0001f6a3\\U0001f3fd|\\U0001f6a3\\U0001f3fe|\\U0001f6a3\\U0001f3ff|\\U0001f3ca\\U0001f3fb|\\U0001f3ca\\U0001f3fc|\\U0001f3ca\\U0001f3fd|\\U0001f3ca\\U0001f3fe|\\U0001f3ca\\U0001f3ff|\\u26f9\\ufe0f|\\u26f9\\U0001f3fb|\\u26f9\\U0001f3fc|\\u26f9\\U0001f3fd|\\u26f9\\U0001f3fe|\\u26f9\\U0001f3ff|\\U0001f3cb\\ufe0f|\\U0001f3cb\\U0001f3fb|\\U0001f3cb\\U0001f3fc|\\U0001f3cb\\U0001f3fd|\\U0001f3cb\\U0001f3fe|\\U0001f3cb\\U0001f3ff|\\U0001f6b4\\U0001f3fb|\\U0001f6b4\\U0001f3fc|\\U0001f6b4\\U0001f3fd|\\U0001f6b4\\U0001f3fe|\\U0001f6b4\\U0001f3ff|\\U0001f6b5\\U0001f3fb|\\U0001f6b5\\U0001f3fc|\\U0001f6b5\\U0001f3fd|\\U0001f6b5\\U0001f3fe|\\U0001f6b5\\U0001f3ff|\\U0001f938\\U0001f3fb|\\U0001f938\\U0001f3fc|\\U0001f938\\U0001f3fd|\\U0001f938\\U0001f3fe|\\U0001f938\\U0001f3ff|\\U0001f93d\\U0001f3fb|\\U0001f93d\\U0001f3fc|\\U0001f93d\\U0001f3fd|\\U0001f93d\\U0001f3fe|\\U0001f93d\\U0001f3ff|\\U0001f93e\\U0001f3fb|\\U0001f93e\\U0001f3fc|\\U0001f93e\\U0001f3fd|\\U0001f93e\\U0001f3fe|\\U0001f93e\\U0001f3ff|\\U0001f939\\U0001f3fb|\\U0001f939\\U0001f3fc|\\U0001f939\\U0001f3fd|\\U0001f939\\U0001f3fe|\\U0001f939\\U0001f3ff|\\U0001f9d8\\U0001f3fb|\\U0001f9d8\\U0001f3fc|\\U0001f9d8\\U0001f3fd|\\U0001f9d8\\U0001f3fe|\\U0001f9d8\\U0001f3ff|\\U0001f6c0\\U0001f3fb|\\U0001f6c0\\U0001f3fc|\\U0001f6c0\\U0001f3fd|\\U0001f6c0\\U0001f3fe|\\U0001f6c0\\U0001f3ff|\\U0001f6cc\\U0001f3fb|\\U0001f6cc\\U0001f3fc|\\U0001f6cc\\U0001f3fd|\\U0001f6cc\\U0001f3fe|\\U0001f6cc\\U0001f3ff|\\U0001f46d\\U0001f3fb|\\U0001f46d\\U0001f3fc|\\U0001f46d\\U0001f3fd|\\U0001f46d\\U0001f3fe|\\U0001f46d\\U0001f3ff|\\U0001f46b\\U0001f3fb|\\U0001f46b\\U0001f3fc|\\U0001f46b\\U0001f3fd|\\U0001f46b\\U0001f3fe|\\U0001f46b\\U0001f3ff|\\U0001f46c\\U0001f3fb|\\U0001f46c\\U0001f3fc|\\U0001f46c\\U0001f3fd|\\U0001f46c\\U0001f3fe|\\U0001f46c\\U0001f3ff|\\U0001f5e3\\ufe0f|\\U0001f43f\\ufe0f|\\U0001f54a\\ufe0f|\\U0001f577\\ufe0f|\\U0001f578\\ufe0f|\\U0001f3f5\\ufe0f|\\u2618\\ufe0f|\\U0001f336\\ufe0f|\\U0001f37d\\ufe0f|\\U0001f5fa\\ufe0f|\\U0001f3d4\\ufe0f|\\u26f0\\ufe0f|\\U0001f3d5\\ufe0f|\\U0001f3d6\\ufe0f|\\U0001f3dc\\ufe0f|\\U0001f3dd\\ufe0f|\\U0001f3de\\ufe0f|\\U0001f3df\\ufe0f|\\U0001f3db\\ufe0f|\\U0001f3d7\\ufe0f|\\U0001f3d8\\ufe0f|\\U0001f3da\\ufe0f|\\u26e9\\ufe0f|\\U0001f3d9\\ufe0f|\\u2668\\ufe0f|\\U0001f3ce\\ufe0f|\\U0001f3cd\\ufe0f|\\U0001f6e3\\ufe0f|\\U0001f6e4\\ufe0f|\\U0001f6e2\\ufe0f|\\U0001f6f3\\ufe0f|\\u26f4\\ufe0f|\\U0001f6e5\\ufe0f|\\u2708\\ufe0f|\\U0001f6e9\\ufe0f|\\U0001f6f0\\ufe0f|\\U0001f6ce\\ufe0f|\\u23f1\\ufe0f|\\u23f2\\ufe0f|\\U0001f570\\ufe0f|\\U0001f321\\ufe0f|\\u2600\\ufe0f|\\u2601\\ufe0f|\\u26c8\\ufe0f|\\U0001f324\\ufe0f|\\U0001f325\\ufe0f|\\U0001f326\\ufe0f|\\U0001f327\\ufe0f|\\U0001f328\\ufe0f|\\U0001f329\\ufe0f|\\U0001f32a\\ufe0f|\\U0001f32b\\ufe0f|\\U0001f32c\\ufe0f|\\u2602\\ufe0f|\\u26f1\\ufe0f|\\u2744\\ufe0f|\\u2603\\ufe0f|\\u2604\\ufe0f|\\U0001f397\\ufe0f|\\U0001f39f\\ufe0f|\\U0001f396\\ufe0f|\\u26f8\\ufe0f|\\U0001f579\\ufe0f|\\u2660\\ufe0f|\\u2665\\ufe0f|\\u2666\\ufe0f|\\u2663\\ufe0f|\\u265f\\ufe0f|\\U0001f5bc\\ufe0f|\\U0001f576\\ufe0f|\\U0001f6cd\\ufe0f|\\u26d1\\ufe0f|\\U0001f399\\ufe0f|\\U0001f39a\\ufe0f|\\U0001f39b\\ufe0f|\\u260e\\ufe0f|\\U0001f5a5\\ufe0f|\\U0001f5a8\\ufe0f|\\u2328\\ufe0f|\\U0001f5b1\\ufe0f|\\U0001f5b2\\ufe0f|\\U0001f39e\\ufe0f|\\U0001f4fd\\ufe0f|\\U0001f56f\\ufe0f|\\U0001f5de\\ufe0f|\\U0001f3f7\\ufe0f|\\u2709\\ufe0f|\\U0001f5f3\\ufe0f|\\u270f\\ufe0f|\\u2712\\ufe0f|\\U0001f58b\\ufe0f|\\U0001f58a\\ufe0f|\\U0001f58c\\ufe0f|\\U0001f58d\\ufe0f|\\U0001f5c2\\ufe0f|\\U0001f5d2\\ufe0f|\\U0001f5d3\\ufe0f|\\U0001f587\\ufe0f|\\u2702\\ufe0f|\\U0001f5c3\\ufe0f|\\U0001f5c4\\ufe0f|\\U0001f5d1\\ufe0f|\\U0001f5dd\\ufe0f|\\u26cf\\ufe0f|\\u2692\\ufe0f|\\U0001f6e0\\ufe0f|\\U0001f5e1\\ufe0f|\\u2694\\ufe0f|\\U0001f6e1\\ufe0f|\\u2699\\ufe0f|\\U0001f5dc\\ufe0f|\\u2696\\ufe0f|\\u26d3\\ufe0f|\\u2697\\ufe0f|\\U0001f6cf\\ufe0f|\\U0001f6cb\\ufe0f|\\u26b0\\ufe0f|\\u26b1\\ufe0f|\\u26a0\\ufe0f|\\u2622\\ufe0f|\\u2623\\ufe0f|\\u2b06\\ufe0f|\\u2197\\ufe0f|\\u27a1\\ufe0f|\\u2198\\ufe0f|\\u2b07\\ufe0f|\\u2199\\ufe0f|\\u2b05\\ufe0f|\\u2196\\ufe0f|\\u2195\\ufe0f|\\u2194\\ufe0f|\\u21a9\\ufe0f|\\u21aa\\ufe0f|\\u2934\\ufe0f|\\u2935\\ufe0f|\\u269b\\ufe0f|\\U0001f549\\ufe0f|\\u2721\\ufe0f|\\u2638\\ufe0f|\\u262f\\ufe0f|\\u271d\\ufe0f|\\u2626\\ufe0f|\\u262a\\ufe0f|\\u262e\\ufe0f|\\u25b6\\ufe0f|\\u23ed\\ufe0f|\\u23ef\\ufe0f|\\u25c0\\ufe0f|\\u23ee\\ufe0f|\\u23f8\\ufe0f|\\u23f9\\ufe0f|\\u23fa\\ufe0f|\\u23cf\\ufe0f|\\u2640\\ufe0f|\\u2642\\ufe0f|\\u2695\\ufe0f|\\u267e\\ufe0f|\\u267b\\ufe0f|\\u269c\\ufe0f|\\u2611\\ufe0f|\\u2714\\ufe0f|\\u2716\\ufe0f|\\u303d\\ufe0f|\\u2733\\ufe0f|\\u2734\\ufe0f|\\u2747\\ufe0f|\\u203c\\ufe0f|\\u2049\\ufe0f|\\u3030\\ufe0f|\\xa9\\ufe0f|\\xae\\ufe0f|\\u2122\\ufe0f|\\\\#\\u20e3|\\\\*\\u20e3|0\\u20e3|1\\u20e3|2\\u20e3|3\\u20e3|4\\u20e3|5\\u20e3|6\\u20e3|7\\u20e3|8\\u20e3|9\\u20e3|\\U0001f170\\ufe0f|\\U0001f171\\ufe0f|\\u2139\\ufe0f|\\u24c2\\ufe0f|\\U0001f17e\\ufe0f|\\U0001f17f\\ufe0f|\\U0001f202\\ufe0f|\\U0001f237\\ufe0f|\\u3297\\ufe0f|\\u3299\\ufe0f|\\u25fc\\ufe0f|\\u25fb\\ufe0f|\\u25aa\\ufe0f|\\u25ab\\ufe0f|\\U0001f3f3\\ufe0f|\\U0001f1e6\\U0001f1e8|\\U0001f1e6\\U0001f1e9|\\U0001f1e6\\U0001f1ea|\\U0001f1e6\\U0001f1eb|\\U0001f1e6\\U0001f1ec|\\U0001f1e6\\U0001f1ee|\\U0001f1e6\\U0001f1f1|\\U0001f1e6\\U0001f1f2|\\U0001f1e6\\U0001f1f4|\\U0001f1e6\\U0001f1f6|\\U0001f1e6\\U0001f1f7|\\U0001f1e6\\U0001f1f8|\\U0001f1e6\\U0001f1f9|\\U0001f1e6\\U0001f1fa|\\U0001f1e6\\U0001f1fc|\\U0001f1e6\\U0001f1fd|\\U0001f1e6\\U0001f1ff|\\U0001f1e7\\U0001f1e6|\\U0001f1e7\\U0001f1e7|\\U0001f1e7\\U0001f1e9|\\U0001f1e7\\U0001f1ea|\\U0001f1e7\\U0001f1eb|\\U0001f1e7\\U0001f1ec|\\U0001f1e7\\U0001f1ed|\\U0001f1e7\\U0001f1ee|\\U0001f1e7\\U0001f1ef|\\U0001f1e7\\U0001f1f1|\\U0001f1e7\\U0001f1f2|\\U0001f1e7\\U0001f1f3|\\U0001f1e7\\U0001f1f4|\\U0001f1e7\\U0001f1f6|\\U0001f1e7\\U0001f1f7|\\U0001f1e7\\U0001f1f8|\\U0001f1e7\\U0001f1f9|\\U0001f1e7\\U0001f1fb|\\U0001f1e7\\U0001f1fc|\\U0001f1e7\\U0001f1fe|\\U0001f1e7\\U0001f1ff|\\U0001f1e8\\U0001f1e6|\\U0001f1e8\\U0001f1e8|\\U0001f1e8\\U0001f1e9|\\U0001f1e8\\U0001f1eb|\\U0001f1e8\\U0001f1ec|\\U0001f1e8\\U0001f1ed|\\U0001f1e8\\U0001f1ee|\\U0001f1e8\\U0001f1f0|\\U0001f1e8\\U0001f1f1|\\U0001f1e8\\U0001f1f2|\\U0001f1e8\\U0001f1f3|\\U0001f1e8\\U0001f1f4|\\U0001f1e8\\U0001f1f5|\\U0001f1e8\\U0001f1f7|\\U0001f1e8\\U0001f1fa|\\U0001f1e8\\U0001f1fb|\\U0001f1e8\\U0001f1fc|\\U0001f1e8\\U0001f1fd|\\U0001f1e8\\U0001f1fe|\\U0001f1e8\\U0001f1ff|\\U0001f1e9\\U0001f1ea|\\U0001f1e9\\U0001f1ec|\\U0001f1e9\\U0001f1ef|\\U0001f1e9\\U0001f1f0|\\U0001f1e9\\U0001f1f2|\\U0001f1e9\\U0001f1f4|\\U0001f1e9\\U0001f1ff|\\U0001f1ea\\U0001f1e6|\\U0001f1ea\\U0001f1e8|\\U0001f1ea\\U0001f1ea|\\U0001f1ea\\U0001f1ec|\\U0001f1ea\\U0001f1ed|\\U0001f1ea\\U0001f1f7|\\U0001f1ea\\U0001f1f8|\\U0001f1ea\\U0001f1f9|\\U0001f1ea\\U0001f1fa|\\U0001f1eb\\U0001f1ee|\\U0001f1eb\\U0001f1ef|\\U0001f1eb\\U0001f1f0|\\U0001f1eb\\U0001f1f2|\\U0001f1eb\\U0001f1f4|\\U0001f1eb\\U0001f1f7|\\U0001f1ec\\U0001f1e6|\\U0001f1ec\\U0001f1e7|\\U0001f1ec\\U0001f1e9|\\U0001f1ec\\U0001f1ea|\\U0001f1ec\\U0001f1eb|\\U0001f1ec\\U0001f1ec|\\U0001f1ec\\U0001f1ed|\\U0001f1ec\\U0001f1ee|\\U0001f1ec\\U0001f1f1|\\U0001f1ec\\U0001f1f2|\\U0001f1ec\\U0001f1f3|\\U0001f1ec\\U0001f1f5|\\U0001f1ec\\U0001f1f6|\\U0001f1ec\\U0001f1f7|\\U0001f1ec\\U0001f1f8|\\U0001f1ec\\U0001f1f9|\\U0001f1ec\\U0001f1fa|\\U0001f1ec\\U0001f1fc|\\U0001f1ec\\U0001f1fe|\\U0001f1ed\\U0001f1f0|\\U0001f1ed\\U0001f1f2|\\U0001f1ed\\U0001f1f3|\\U0001f1ed\\U0001f1f7|\\U0001f1ed\\U0001f1f9|\\U0001f1ed\\U0001f1fa|\\U0001f1ee\\U0001f1e8|\\U0001f1ee\\U0001f1e9|\\U0001f1ee\\U0001f1ea|\\U0001f1ee\\U0001f1f1|\\U0001f1ee\\U0001f1f2|\\U0001f1ee\\U0001f1f3|\\U0001f1ee\\U0001f1f4|\\U0001f1ee\\U0001f1f6|\\U0001f1ee\\U0001f1f7|\\U0001f1ee\\U0001f1f8|\\U0001f1ee\\U0001f1f9|\\U0001f1ef\\U0001f1ea|\\U0001f1ef\\U0001f1f2|\\U0001f1ef\\U0001f1f4|\\U0001f1ef\\U0001f1f5|\\U0001f1f0\\U0001f1ea|\\U0001f1f0\\U0001f1ec|\\U0001f1f0\\U0001f1ed|\\U0001f1f0\\U0001f1ee|\\U0001f1f0\\U0001f1f2|\\U0001f1f0\\U0001f1f3|\\U0001f1f0\\U0001f1f5|\\U0001f1f0\\U0001f1f7|\\U0001f1f0\\U0001f1fc|\\U0001f1f0\\U0001f1fe|\\U0001f1f0\\U0001f1ff|\\U0001f1f1\\U0001f1e6|\\U0001f1f1\\U0001f1e7|\\U0001f1f1\\U0001f1e8|\\U0001f1f1\\U0001f1ee|\\U0001f1f1\\U0001f1f0|\\U0001f1f1\\U0001f1f7|\\U0001f1f1\\U0001f1f8|\\U0001f1f1\\U0001f1f9|\\U0001f1f1\\U0001f1fa|\\U0001f1f1\\U0001f1fb|\\U0001f1f1\\U0001f1fe|\\U0001f1f2\\U0001f1e6|\\U0001f1f2\\U0001f1e8|\\U0001f1f2\\U0001f1e9|\\U0001f1f2\\U0001f1ea|\\U0001f1f2\\U0001f1eb|\\U0001f1f2\\U0001f1ec|\\U0001f1f2\\U0001f1ed|\\U0001f1f2\\U0001f1f0|\\U0001f1f2\\U0001f1f1|\\U0001f1f2\\U0001f1f2|\\U0001f1f2\\U0001f1f3|\\U0001f1f2\\U0001f1f4|\\U0001f1f2\\U0001f1f5|\\U0001f1f2\\U0001f1f6|\\U0001f1f2\\U0001f1f7|\\U0001f1f2\\U0001f1f8|\\U0001f1f2\\U0001f1f9|\\U0001f1f2\\U0001f1fa|\\U0001f1f2\\U0001f1fb|\\U0001f1f2\\U0001f1fc|\\U0001f1f2\\U0001f1fd|\\U0001f1f2\\U0001f1fe|\\U0001f1f2\\U0001f1ff|\\U0001f1f3\\U0001f1e6|\\U0001f1f3\\U0001f1e8|\\U0001f1f3\\U0001f1ea|\\U0001f1f3\\U0001f1eb|\\U0001f1f3\\U0001f1ec|\\U0001f1f3\\U0001f1ee|\\U0001f1f3\\U0001f1f1|\\U0001f1f3\\U0001f1f4|\\U0001f1f3\\U0001f1f5|\\U0001f1f3\\U0001f1f7|\\U0001f1f3\\U0001f1fa|\\U0001f1f3\\U0001f1ff|\\U0001f1f4\\U0001f1f2|\\U0001f1f5\\U0001f1e6|\\U0001f1f5\\U0001f1ea|\\U0001f1f5\\U0001f1eb|\\U0001f1f5\\U0001f1ec|\\U0001f1f5\\U0001f1ed|\\U0001f1f5\\U0001f1f0|\\U0001f1f5\\U0001f1f1|\\U0001f1f5\\U0001f1f2|\\U0001f1f5\\U0001f1f3|\\U0001f1f5\\U0001f1f7|\\U0001f1f5\\U0001f1f8|\\U0001f1f5\\U0001f1f9|\\U0001f1f5\\U0001f1fc|\\U0001f1f5\\U0001f1fe|\\U0001f1f6\\U0001f1e6|\\U0001f1f7\\U0001f1ea|\\U0001f1f7\\U0001f1f4|\\U0001f1f7\\U0001f1f8|\\U0001f1f7\\U0001f1fa|\\U0001f1f7\\U0001f1fc|\\U0001f1f8\\U0001f1e6|\\U0001f1f8\\U0001f1e7|\\U0001f1f8\\U0001f1e8|\\U0001f1f8\\U0001f1e9|\\U0001f1f8\\U0001f1ea|\\U0001f1f8\\U0001f1ec|\\U0001f1f8\\U0001f1ed|\\U0001f1f8\\U0001f1ee|\\U0001f1f8\\U0001f1ef|\\U0001f1f8\\U0001f1f0|\\U0001f1f8\\U0001f1f1|\\U0001f1f8\\U0001f1f2|\\U0001f1f8\\U0001f1f3|\\U0001f1f8\\U0001f1f4|\\U0001f1f8\\U0001f1f7|\\U0001f1f8\\U0001f1f8|\\U0001f1f8\\U0001f1f9|\\U0001f1f8\\U0001f1fb|\\U0001f1f8\\U0001f1fd|\\U0001f1f8\\U0001f1fe|\\U0001f1f8\\U0001f1ff|\\U0001f1f9\\U0001f1e6|\\U0001f1f9\\U0001f1e8|\\U0001f1f9\\U0001f1e9|\\U0001f1f9\\U0001f1eb|\\U0001f1f9\\U0001f1ec|\\U0001f1f9\\U0001f1ed|\\U0001f1f9\\U0001f1ef|\\U0001f1f9\\U0001f1f0|\\U0001f1f9\\U0001f1f1|\\U0001f1f9\\U0001f1f2|\\U0001f1f9\\U0001f1f3|\\U0001f1f9\\U0001f1f4|\\U0001f1f9\\U0001f1f7|\\U0001f1f9\\U0001f1f9|\\U0001f1f9\\U0001f1fb|\\U0001f1f9\\U0001f1fc|\\U0001f1f9\\U0001f1ff|\\U0001f1fa\\U0001f1e6|\\U0001f1fa\\U0001f1ec|\\U0001f1fa\\U0001f1f2|\\U0001f1fa\\U0001f1f3|\\U0001f1fa\\U0001f1f8|\\U0001f1fa\\U0001f1fe|\\U0001f1fa\\U0001f1ff|\\U0001f1fb\\U0001f1e6|\\U0001f1fb\\U0001f1e8|\\U0001f1fb\\U0001f1ea|\\U0001f1fb\\U0001f1ec|\\U0001f1fb\\U0001f1ee|\\U0001f1fb\\U0001f1f3|\\U0001f1fb\\U0001f1fa|\\U0001f1fc\\U0001f1eb|\\U0001f1fc\\U0001f1f8|\\U0001f1fd\\U0001f1f0|\\U0001f1fe\\U0001f1ea|\\U0001f1fe\\U0001f1f9|\\U0001f1ff\\U0001f1e6|\\U0001f1ff\\U0001f1f2|\\U0001f1ff\\U0001f1fc|\\U0001f600|\\U0001f603|\\U0001f604|\\U0001f601|\\U0001f606|\\U0001f605|\\U0001f923|\\U0001f602|\\U0001f642|\\U0001f643|\\U0001f609|\\U0001f60a|\\U0001f607|\\U0001f970|\\U0001f60d|\\U0001f929|\\U0001f618|\\U0001f617|\\u263a|\\U0001f61a|\\U0001f619|\\U0001f60b|\\U0001f61b|\\U0001f61c|\\U0001f92a|\\U0001f61d|\\U0001f911|\\U0001f917|\\U0001f92d|\\U0001f92b|\\U0001f914|\\U0001f910|\\U0001f928|\\U0001f610|\\U0001f611|\\U0001f636|\\U0001f60f|\\U0001f612|\\U0001f644|\\U0001f62c|\\U0001f925|\\U0001f60c|\\U0001f614|\\U0001f62a|\\U0001f924|\\U0001f634|\\U0001f637|\\U0001f912|\\U0001f915|\\U0001f922|\\U0001f92e|\\U0001f927|\\U0001f975|\\U0001f976|\\U0001f974|\\U0001f635|\\U0001f92f|\\U0001f920|\\U0001f973|\\U0001f60e|\\U0001f913|\\U0001f9d0|\\U0001f615|\\U0001f61f|\\U0001f641|\\u2639|\\U0001f62e|\\U0001f62f|\\U0001f632|\\U0001f633|\\U0001f97a|\\U0001f626|\\U0001f627|\\U0001f628|\\U0001f630|\\U0001f625|\\U0001f622|\\U0001f62d|\\U0001f631|\\U0001f616|\\U0001f623|\\U0001f61e|\\U0001f613|\\U0001f629|\\U0001f62b|\\U0001f971|\\U0001f624|\\U0001f621|\\U0001f620|\\U0001f92c|\\U0001f608|\\U0001f47f|\\U0001f480|\\u2620|\\U0001f4a9|\\U0001f921|\\U0001f479|\\U0001f47a|\\U0001f47b|\\U0001f47d|\\U0001f47e|\\U0001f916|\\U0001f63a|\\U0001f638|\\U0001f639|\\U0001f63b|\\U0001f63c|\\U0001f63d|\\U0001f640|\\U0001f63f|\\U0001f63e|\\U0001f648|\\U0001f649|\\U0001f64a|\\U0001f48b|\\U0001f48c|\\U0001f498|\\U0001f49d|\\U0001f496|\\U0001f497|\\U0001f493|\\U0001f49e|\\U0001f495|\\U0001f49f|\\u2763|\\U0001f494|\\u2764|\\U0001f9e1|\\U0001f49b|\\U0001f49a|\\U0001f499|\\U0001f49c|\\U0001f90e|\\U0001f5a4|\\U0001f90d|\\U0001f4af|\\U0001f4a2|\\U0001f4a5|\\U0001f4ab|\\U0001f4a6|\\U0001f4a8|\\U0001f573|\\U0001f4a3|\\U0001f4ac|\\U0001f5e8|\\U0001f5ef|\\U0001f4ad|\\U0001f4a4|\\U0001f44b|\\U0001f91a|\\U0001f590|\\u270b|\\U0001f596|\\U0001f44c|\\U0001f90f|\\u270c|\\U0001f91e|\\U0001f91f|\\U0001f918|\\U0001f919|\\U0001f448|\\U0001f449|\\U0001f446|\\U0001f595|\\U0001f447|\\u261d|\\U0001f44d|\\U0001f44e|\\u270a|\\U0001f44a|\\U0001f91b|\\U0001f91c|\\U0001f44f|\\U0001f64c|\\U0001f450|\\U0001f932|\\U0001f91d|\\U0001f64f|\\u270d|\\U0001f485|\\U0001f933|\\U0001f4aa|\\U0001f9be|\\U0001f9bf|\\U0001f9b5|\\U0001f9b6|\\U0001f442|\\U0001f9bb|\\U0001f443|\\U0001f9e0|\\U0001f9b7|\\U0001f9b4|\\U0001f440|\\U0001f441|\\U0001f445|\\U0001f444|\\U0001f476|\\U0001f9d2|\\U0001f466|\\U0001f467|\\U0001f9d1|\\U0001f471|\\U0001f468|\\U0001f9d4|\\U0001f469|\\U0001f9d3|\\U0001f474|\\U0001f475|\\U0001f64d|\\U0001f64e|\\U0001f645|\\U0001f646|\\U0001f481|\\U0001f64b|\\U0001f9cf|\\U0001f647|\\U0001f926|\\U0001f937|\\U0001f46e|\\U0001f575|\\U0001f482|\\U0001f477|\\U0001f934|\\U0001f478|\\U0001f473|\\U0001f472|\\U0001f9d5|\\U0001f935|\\U0001f470|\\U0001f930|\\U0001f931|\\U0001f47c|\\U0001f385|\\U0001f936|\\U0001f9b8|\\U0001f9b9|\\U0001f9d9|\\U0001f9da|\\U0001f9db|\\U0001f9dc|\\U0001f9dd|\\U0001f9de|\\U0001f9df|\\U0001f486|\\U0001f487|\\U0001f6b6|\\U0001f9cd|\\U0001f9ce|\\U0001f3c3|\\U0001f483|\\U0001f57a|\\U0001f574|\\U0001f46f|\\U0001f9d6|\\U0001f9d7|\\U0001f93a|\\U0001f3c7|\\u26f7|\\U0001f3c2|\\U0001f3cc|\\U0001f3c4|\\U0001f6a3|\\U0001f3ca|\\u26f9|\\U0001f3cb|\\U0001f6b4|\\U0001f6b5|\\U0001f938|\\U0001f93c|\\U0001f93d|\\U0001f93e|\\U0001f939|\\U0001f9d8|\\U0001f6c0|\\U0001f6cc|\\U0001f46d|\\U0001f46b|\\U0001f46c|\\U0001f48f|\\U0001f491|\\U0001f46a|\\U0001f5e3|\\U0001f464|\\U0001f465|\\U0001f463|\\U0001f3fb|\\U0001f3fc|\\U0001f3fd|\\U0001f3fe|\\U0001f3ff|\\U0001f9b0|\\U0001f9b1|\\U0001f9b3|\\U0001f9b2|\\U0001f435|\\U0001f412|\\U0001f98d|\\U0001f9a7|\\U0001f436|\\U0001f415|\\U0001f9ae|\\U0001f429|\\U0001f43a|\\U0001f98a|\\U0001f99d|\\U0001f431|\\U0001f408|\\U0001f981|\\U0001f42f|\\U0001f405|\\U0001f406|\\U0001f434|\\U0001f40e|\\U0001f984|\\U0001f993|\\U0001f98c|\\U0001f42e|\\U0001f402|\\U0001f403|\\U0001f404|\\U0001f437|\\U0001f416|\\U0001f417|\\U0001f43d|\\U0001f40f|\\U0001f411|\\U0001f410|\\U0001f42a|\\U0001f42b|\\U0001f999|\\U0001f992|\\U0001f418|\\U0001f98f|\\U0001f99b|\\U0001f42d|\\U0001f401|\\U0001f400|\\U0001f439|\\U0001f430|\\U0001f407|\\U0001f43f|\\U0001f994|\\U0001f987|\\U0001f43b|\\U0001f428|\\U0001f43c|\\U0001f9a5|\\U0001f9a6|\\U0001f9a8|\\U0001f998|\\U0001f9a1|\\U0001f43e|\\U0001f983|\\U0001f414|\\U0001f413|\\U0001f423|\\U0001f424|\\U0001f425|\\U0001f426|\\U0001f427|\\U0001f54a|\\U0001f985|\\U0001f986|\\U0001f9a2|\\U0001f989|\\U0001f9a9|\\U0001f99a|\\U0001f99c|\\U0001f438|\\U0001f40a|\\U0001f422|\\U0001f98e|\\U0001f40d|\\U0001f432|\\U0001f409|\\U0001f995|\\U0001f996|\\U0001f433|\\U0001f40b|\\U0001f42c|\\U0001f41f|\\U0001f420|\\U0001f421|\\U0001f988|\\U0001f419|\\U0001f41a|\\U0001f40c|\\U0001f98b|\\U0001f41b|\\U0001f41c|\\U0001f41d|\\U0001f41e|\\U0001f997|\\U0001f577|\\U0001f578|\\U0001f982|\\U0001f99f|\\U0001f9a0|\\U0001f490|\\U0001f338|\\U0001f4ae|\\U0001f3f5|\\U0001f339|\\U0001f940|\\U0001f33a|\\U0001f33b|\\U0001f33c|\\U0001f337|\\U0001f331|\\U0001f332|\\U0001f333|\\U0001f334|\\U0001f335|\\U0001f33e|\\U0001f33f|\\u2618|\\U0001f340|\\U0001f341|\\U0001f342|\\U0001f343|\\U0001f347|\\U0001f348|\\U0001f349|\\U0001f34a|\\U0001f34b|\\U0001f34c|\\U0001f34d|\\U0001f96d|\\U0001f34e|\\U0001f34f|\\U0001f350|\\U0001f351|\\U0001f352|\\U0001f353|\\U0001f95d|\\U0001f345|\\U0001f965|\\U0001f951|\\U0001f346|\\U0001f954|\\U0001f955|\\U0001f33d|\\U0001f336|\\U0001f952|\\U0001f96c|\\U0001f966|\\U0001f9c4|\\U0001f9c5|\\U0001f344|\\U0001f95c|\\U0001f330|\\U0001f35e|\\U0001f950|\\U0001f956|\\U0001f968|\\U0001f96f|\\U0001f95e|\\U0001f9c7|\\U0001f9c0|\\U0001f356|\\U0001f357|\\U0001f969|\\U0001f953|\\U0001f354|\\U0001f35f|\\U0001f355|\\U0001f32d|\\U0001f96a|\\U0001f32e|\\U0001f32f|\\U0001f959|\\U0001f9c6|\\U0001f95a|\\U0001f373|\\U0001f958|\\U0001f372|\\U0001f963|\\U0001f957|\\U0001f37f|\\U0001f9c8|\\U0001f9c2|\\U0001f96b|\\U0001f371|\\U0001f358|\\U0001f359|\\U0001f35a|\\U0001f35b|\\U0001f35c|\\U0001f35d|\\U0001f360|\\U0001f362|\\U0001f363|\\U0001f364|\\U0001f365|\\U0001f96e|\\U0001f361|\\U0001f95f|\\U0001f960|\\U0001f961|\\U0001f980|\\U0001f99e|\\U0001f990|\\U0001f991|\\U0001f9aa|\\U0001f366|\\U0001f367|\\U0001f368|\\U0001f369|\\U0001f36a|\\U0001f382|\\U0001f370|\\U0001f9c1|\\U0001f967|\\U0001f36b|\\U0001f36c|\\U0001f36d|\\U0001f36e|\\U0001f36f|\\U0001f37c|\\U0001f95b|\\u2615|\\U0001f375|\\U0001f376|\\U0001f37e|\\U0001f377|\\U0001f378|\\U0001f379|\\U0001f37a|\\U0001f37b|\\U0001f942|\\U0001f943|\\U0001f964|\\U0001f9c3|\\U0001f9c9|\\U0001f9ca|\\U0001f962|\\U0001f37d|\\U0001f374|\\U0001f944|\\U0001f52a|\\U0001f3fa|\\U0001f30d|\\U0001f30e|\\U0001f30f|\\U0001f310|\\U0001f5fa|\\U0001f5fe|\\U0001f9ed|\\U0001f3d4|\\u26f0|\\U0001f30b|\\U0001f5fb|\\U0001f3d5|\\U0001f3d6|\\U0001f3dc|\\U0001f3dd|\\U0001f3de|\\U0001f3df|\\U0001f3db|\\U0001f3d7|\\U0001f9f1|\\U0001f3d8|\\U0001f3da|\\U0001f3e0|\\U0001f3e1|\\U0001f3e2|\\U0001f3e3|\\U0001f3e4|\\U0001f3e5|\\U0001f3e6|\\U0001f3e8|\\U0001f3e9|\\U0001f3ea|\\U0001f3eb|\\U0001f3ec|\\U0001f3ed|\\U0001f3ef|\\U0001f3f0|\\U0001f492|\\U0001f5fc|\\U0001f5fd|\\u26ea|\\U0001f54c|\\U0001f6d5|\\U0001f54d|\\u26e9|\\U0001f54b|\\u26f2|\\u26fa|\\U0001f301|\\U0001f303|\\U0001f3d9|\\U0001f304|\\U0001f305|\\U0001f306|\\U0001f307|\\U0001f309|\\u2668|\\U0001f3a0|\\U0001f3a1|\\U0001f3a2|\\U0001f488|\\U0001f3aa|\\U0001f682|\\U0001f683|\\U0001f684|\\U0001f685|\\U0001f686|\\U0001f687|\\U0001f688|\\U0001f689|\\U0001f68a|\\U0001f69d|\\U0001f69e|\\U0001f68b|\\U0001f68c|\\U0001f68d|\\U0001f68e|\\U0001f690|\\U0001f691|\\U0001f692|\\U0001f693|\\U0001f694|\\U0001f695|\\U0001f696|\\U0001f697|\\U0001f698|\\U0001f699|\\U0001f69a|\\U0001f69b|\\U0001f69c|\\U0001f3ce|\\U0001f3cd|\\U0001f6f5|\\U0001f9bd|\\U0001f9bc|\\U0001f6fa|\\U0001f6b2|\\U0001f6f4|\\U0001f6f9|\\U0001f68f|\\U0001f6e3|\\U0001f6e4|\\U0001f6e2|\\u26fd|\\U0001f6a8|\\U0001f6a5|\\U0001f6a6|\\U0001f6d1|\\U0001f6a7|\\u2693|\\u26f5|\\U0001f6f6|\\U0001f6a4|\\U0001f6f3|\\u26f4|\\U0001f6e5|\\U0001f6a2|\\u2708|\\U0001f6e9|\\U0001f6eb|\\U0001f6ec|\\U0001fa82|\\U0001f4ba|\\U0001f681|\\U0001f69f|\\U0001f6a0|\\U0001f6a1|\\U0001f6f0|\\U0001f680|\\U0001f6f8|\\U0001f6ce|\\U0001f9f3|\\u231b|\\u23f3|\\u231a|\\u23f0|\\u23f1|\\u23f2|\\U0001f570|\\U0001f55b|\\U0001f567|\\U0001f550|\\U0001f55c|\\U0001f551|\\U0001f55d|\\U0001f552|\\U0001f55e|\\U0001f553|\\U0001f55f|\\U0001f554|\\U0001f560|\\U0001f555|\\U0001f561|\\U0001f556|\\U0001f562|\\U0001f557|\\U0001f563|\\U0001f558|\\U0001f564|\\U0001f559|\\U0001f565|\\U0001f55a|\\U0001f566|\\U0001f311|\\U0001f312|\\U0001f313|\\U0001f314|\\U0001f315|\\U0001f316|\\U0001f317|\\U0001f318|\\U0001f319|\\U0001f31a|\\U0001f31b|\\U0001f31c|\\U0001f321|\\u2600|\\U0001f31d|\\U0001f31e|\\U0001fa90|\\u2b50|\\U0001f31f|\\U0001f320|\\U0001f30c|\\u2601|\\u26c5|\\u26c8|\\U0001f324|\\U0001f325|\\U0001f326|\\U0001f327|\\U0001f328|\\U0001f329|\\U0001f32a|\\U0001f32b|\\U0001f32c|\\U0001f300|\\U0001f308|\\U0001f302|\\u2602|\\u2614|\\u26f1|\\u26a1|\\u2744|\\u2603|\\u26c4|\\u2604|\\U0001f525|\\U0001f4a7|\\U0001f30a|\\U0001f383|\\U0001f384|\\U0001f386|\\U0001f387|\\U0001f9e8|\\u2728|\\U0001f388|\\U0001f389|\\U0001f38a|\\U0001f38b|\\U0001f38d|\\U0001f38e|\\U0001f38f|\\U0001f390|\\U0001f391|\\U0001f9e7|\\U0001f380|\\U0001f381|\\U0001f397|\\U0001f39f|\\U0001f3ab|\\U0001f396|\\U0001f3c6|\\U0001f3c5|\\U0001f947|\\U0001f948|\\U0001f949|\\u26bd|\\u26be|\\U0001f94e|\\U0001f3c0|\\U0001f3d0|\\U0001f3c8|\\U0001f3c9|\\U0001f3be|\\U0001f94f|\\U0001f3b3|\\U0001f3cf|\\U0001f3d1|\\U0001f3d2|\\U0001f94d|\\U0001f3d3|\\U0001f3f8|\\U0001f94a|\\U0001f94b|\\U0001f945|\\u26f3|\\u26f8|\\U0001f3a3|\\U0001f93f|\\U0001f3bd|\\U0001f3bf|\\U0001f6f7|\\U0001f94c|\\U0001f3af|\\U0001fa80|\\U0001fa81|\\U0001f3b1|\\U0001f52e|\\U0001f9ff|\\U0001f3ae|\\U0001f579|\\U0001f3b0|\\U0001f3b2|\\U0001f9e9|\\U0001f9f8|\\u2660|\\u2665|\\u2666|\\u2663|\\u265f|\\U0001f0cf|\\U0001f004|\\U0001f3b4|\\U0001f3ad|\\U0001f5bc|\\U0001f3a8|\\U0001f9f5|\\U0001f9f6|\\U0001f453|\\U0001f576|\\U0001f97d|\\U0001f97c|\\U0001f9ba|\\U0001f454|\\U0001f455|\\U0001f456|\\U0001f9e3|\\U0001f9e4|\\U0001f9e5|\\U0001f9e6|\\U0001f457|\\U0001f458|\\U0001f97b|\\U0001fa71|\\U0001fa72|\\U0001fa73|\\U0001f459|\\U0001f45a|\\U0001f45b|\\U0001f45c|\\U0001f45d|\\U0001f6cd|\\U0001f392|\\U0001f45e|\\U0001f45f|\\U0001f97e|\\U0001f97f|\\U0001f460|\\U0001f461|\\U0001fa70|\\U0001f462|\\U0001f451|\\U0001f452|\\U0001f3a9|\\U0001f393|\\U0001f9e2|\\u26d1|\\U0001f4ff|\\U0001f484|\\U0001f48d|\\U0001f48e|\\U0001f507|\\U0001f508|\\U0001f509|\\U0001f50a|\\U0001f4e2|\\U0001f4e3|\\U0001f4ef|\\U0001f514|\\U0001f515|\\U0001f3bc|\\U0001f3b5|\\U0001f3b6|\\U0001f399|\\U0001f39a|\\U0001f39b|\\U0001f3a4|\\U0001f3a7|\\U0001f4fb|\\U0001f3b7|\\U0001f3b8|\\U0001f3b9|\\U0001f3ba|\\U0001f3bb|\\U0001fa95|\\U0001f941|\\U0001f4f1|\\U0001f4f2|\\u260e|\\U0001f4de|\\U0001f4df|\\U0001f4e0|\\U0001f50b|\\U0001f50c|\\U0001f4bb|\\U0001f5a5|\\U0001f5a8|\\u2328|\\U0001f5b1|\\U0001f5b2|\\U0001f4bd|\\U0001f4be|\\U0001f4bf|\\U0001f4c0|\\U0001f9ee|\\U0001f3a5|\\U0001f39e|\\U0001f4fd|\\U0001f3ac|\\U0001f4fa|\\U0001f4f7|\\U0001f4f8|\\U0001f4f9|\\U0001f4fc|\\U0001f50d|\\U0001f50e|\\U0001f56f|\\U0001f4a1|\\U0001f526|\\U0001f3ee|\\U0001fa94|\\U0001f4d4|\\U0001f4d5|\\U0001f4d6|\\U0001f4d7|\\U0001f4d8|\\U0001f4d9|\\U0001f4da|\\U0001f4d3|\\U0001f4d2|\\U0001f4c3|\\U0001f4dc|\\U0001f4c4|\\U0001f4f0|\\U0001f5de|\\U0001f4d1|\\U0001f516|\\U0001f3f7|\\U0001f4b0|\\U0001f4b4|\\U0001f4b5|\\U0001f4b6|\\U0001f4b7|\\U0001f4b8|\\U0001f4b3|\\U0001f9fe|\\U0001f4b9|\\U0001f4b1|\\U0001f4b2|\\u2709|\\U0001f4e7|\\U0001f4e8|\\U0001f4e9|\\U0001f4e4|\\U0001f4e5|\\U0001f4e6|\\U0001f4eb|\\U0001f4ea|\\U0001f4ec|\\U0001f4ed|\\U0001f4ee|\\U0001f5f3|\\u270f|\\u2712|\\U0001f58b|\\U0001f58a|\\U0001f58c|\\U0001f58d|\\U0001f4dd|\\U0001f4bc|\\U0001f4c1|\\U0001f4c2|\\U0001f5c2|\\U0001f4c5|\\U0001f4c6|\\U0001f5d2|\\U0001f5d3|\\U0001f4c7|\\U0001f4c8|\\U0001f4c9|\\U0001f4ca|\\U0001f4cb|\\U0001f4cc|\\U0001f4cd|\\U0001f4ce|\\U0001f587|\\U0001f4cf|\\U0001f4d0|\\u2702|\\U0001f5c3|\\U0001f5c4|\\U0001f5d1|\\U0001f512|\\U0001f513|\\U0001f50f|\\U0001f510|\\U0001f511|\\U0001f5dd|\\U0001f528|\\U0001fa93|\\u26cf|\\u2692|\\U0001f6e0|\\U0001f5e1|\\u2694|\\U0001f52b|\\U0001f3f9|\\U0001f6e1|\\U0001f527|\\U0001f529|\\u2699|\\U0001f5dc|\\u2696|\\U0001f9af|\\U0001f517|\\u26d3|\\U0001f9f0|\\U0001f9f2|\\u2697|\\U0001f9ea|\\U0001f9eb|\\U0001f9ec|\\U0001f52c|\\U0001f52d|\\U0001f4e1|\\U0001f489|\\U0001fa78|\\U0001f48a|\\U0001fa79|\\U0001fa7a|\\U0001f6aa|\\U0001f6cf|\\U0001f6cb|\\U0001fa91|\\U0001f6bd|\\U0001f6bf|\\U0001f6c1|\\U0001fa92|\\U0001f9f4|\\U0001f9f7|\\U0001f9f9|\\U0001f9fa|\\U0001f9fb|\\U0001f9fc|\\U0001f9fd|\\U0001f9ef|\\U0001f6d2|\\U0001f6ac|\\u26b0|\\u26b1|\\U0001f5ff|\\U0001f3e7|\\U0001f6ae|\\U0001f6b0|\\u267f|\\U0001f6b9|\\U0001f6ba|\\U0001f6bb|\\U0001f6bc|\\U0001f6be|\\U0001f6c2|\\U0001f6c3|\\U0001f6c4|\\U0001f6c5|\\u26a0|\\U0001f6b8|\\u26d4|\\U0001f6ab|\\U0001f6b3|\\U0001f6ad|\\U0001f6af|\\U0001f6b1|\\U0001f6b7|\\U0001f4f5|\\U0001f51e|\\u2622|\\u2623|\\u2b06|\\u2197|\\u27a1|\\u2198|\\u2b07|\\u2199|\\u2b05|\\u2196|\\u2195|\\u2194|\\u21a9|\\u21aa|\\u2934|\\u2935|\\U0001f503|\\U0001f504|\\U0001f519|\\U0001f51a|\\U0001f51b|\\U0001f51c|\\U0001f51d|\\U0001f6d0|\\u269b|\\U0001f549|\\u2721|\\u2638|\\u262f|\\u271d|\\u2626|\\u262a|\\u262e|\\U0001f54e|\\U0001f52f|\\u2648|\\u2649|\\u264a|\\u264b|\\u264c|\\u264d|\\u264e|\\u264f|\\u2650|\\u2651|\\u2652|\\u2653|\\u26ce|\\U0001f500|\\U0001f501|\\U0001f502|\\u25b6|\\u23e9|\\u23ed|\\u23ef|\\u25c0|\\u23ea|\\u23ee|\\U0001f53c|\\u23eb|\\U0001f53d|\\u23ec|\\u23f8|\\u23f9|\\u23fa|\\u23cf|\\U0001f3a6|\\U0001f505|\\U0001f506|\\U0001f4f6|\\U0001f4f3|\\U0001f4f4|\\u2640|\\u2642|\\u2695|\\u267e|\\u267b|\\u269c|\\U0001f531|\\U0001f4db|\\U0001f530|\\u2b55|\\u2705|\\u2611|\\u2714|\\u2716|\\u274c|\\u274e|\\u2795|\\u2796|\\u2797|\\u27b0|\\u27bf|\\u303d|\\u2733|\\u2734|\\u2747|\\u203c|\\u2049|\\u2753|\\u2754|\\u2755|\\u2757|\\u3030|\\xa9|\\xae|\\u2122|\\U0001f51f|\\U0001f520|\\U0001f521|\\U0001f522|\\U0001f523|\\U0001f524|\\U0001f170|\\U0001f18e|\\U0001f171|\\U0001f191|\\U0001f192|\\U0001f193|\\u2139|\\U0001f194|\\u24c2|\\U0001f195|\\U0001f196|\\U0001f17e|\\U0001f197|\\U0001f17f|\\U0001f198|\\U0001f199|\\U0001f19a|\\U0001f201|\\U0001f202|\\U0001f237|\\U0001f236|\\U0001f22f|\\U0001f250|\\U0001f239|\\U0001f21a|\\U0001f232|\\U0001f251|\\U0001f238|\\U0001f234|\\U0001f233|\\u3297|\\u3299|\\U0001f23a|\\U0001f235|\\U0001f534|\\U0001f7e0|\\U0001f7e1|\\U0001f7e2|\\U0001f535|\\U0001f7e3|\\U0001f7e4|\\u26ab|\\u26aa|\\U0001f7e5|\\U0001f7e7|\\U0001f7e8|\\U0001f7e9|\\U0001f7e6|\\U0001f7ea|\\U0001f7eb|\\u2b1b|\\u2b1c|\\u25fc|\\u25fb|\\u25fe|\\u25fd|\\u25aa|\\u25ab|\\U0001f536|\\U0001f537|\\U0001f538|\\U0001f539|\\U0001f53a|\\U0001f53b|\\U0001f4a0|\\U0001f518|\\U0001f533|\\U0001f532|\\U0001f3c1|\\U0001f6a9|\\U0001f38c|\\U0001f3f4|\\U0001f3f3\")\n",
        "  return emoji_pattern.sub(r' ', s)\n",
        "\n",
        "def replaceLinks(s):\n",
        "  link_pattern = regex.compile(r\"https?:\\/\\/(www\\.)?[-a-zA-Z0-9@:%._\\+~#=]{1,256}\\.[a-zA-Z0-9()]{1,6}\\b([-a-zA-Z0-9()@:%_\\+.~#?&//=]*)\")\n",
        "  matches = [m.group() for m in link_pattern.finditer(s)]\n",
        "  to_replace = set(matches)\n",
        "  # IDEA : for each occurence in the set, replace with LINK_i\n",
        "  for idx, val in enumerate(to_replace):\n",
        "    s = s.replace(val, \"<LINK_\" + str(idx)+ \"> \")\n",
        "  return s \n",
        "\n",
        "def removeComments(s):\n",
        "  block_comment_pattern = regex.compile(r\"/\\*([^*]|[\\r\\n]|(\\*+([^*/]|[\\r\\n])))*\\*+/\")\n",
        "  inline_comment_pattern = regex.compile(r\"(?<!:)\\/\\/.*\")\n",
        "  s = block_comment_pattern.sub(r' ', s)\n",
        "  s = inline_comment_pattern.sub(r' ', s)\n",
        "  return s\n",
        "\n",
        "def isNonLatin(s):\n",
        "\treturn bool(regex.search(r'[^\\x00-\\x7F]+', s))\n",
        " \n",
        "# false if string does not contains any letter (e.g., `------------`)\n",
        "def hasChar(s):\n",
        "  return bool(regex.search(r'[a-zA-Z]+', s))\n",
        "\n",
        "def removeExtraSpaces(s):\n",
        "  return \" \".join(s.split())\n",
        "\n",
        "def cleanString(s):\n",
        "    s = s.replace(\"\\n\",' ').replace(\"\\t\",' ').replace(\"</s>\",' ').replace(\"<s>\",' ').strip()\n",
        "    return removeExtraSpaces(s)\n",
        "\n",
        "invalid_tags = [\"img\", \"s\", \"b\", \"dl\", \"dd\", \"i\", \"sub\",\"sup\", \"kbd\", \"code\", \"pre\", \"a\", \"hr\", \"br\" ,\"h1\" ,\"h2\" ,\"h3\" ,\"h4\" ,\"h5\" ,\"h6\" ,\"strong\" ,\"ul\" ,\"ol\" ,\"li\" ,\"p\" ,\"blockquote\" ,\"em\" ,\"s\" ,\"strike\", \"body\" ,\"html\"]\n"
      ],
      "execution_count": 2,
      "outputs": []
    },
    {
      "cell_type": "markdown",
      "metadata": {
        "id": "ExJ1Xpg5LQsJ"
      },
      "source": [
        "## Import & cleaning of stackoverflow archive"
      ]
    },
    {
      "cell_type": "code",
      "metadata": {
        "colab": {
          "base_uri": "https://localhost:8080/"
        },
        "id": "SpfXKquiK3Dh",
        "outputId": "c8865b3b-133c-4836-d21a-63e7eef634dd"
      },
      "source": [
        "!gsutil cp gs://{bucket_name}/raw_data/pretraining/stackoverflow_EXT.csv ./stackoverflow.csv\n",
        "\n",
        "with open('stackoverflow.csv') as f:\n",
        "  SO_lines = f.read().splitlines()"
      ],
      "execution_count": 3,
      "outputs": [
        {
          "output_type": "stream",
          "text": [
            "Copying gs://code_review_automation/raw_data/pretraining/stackoverflow_EXT.csv...\n",
            "| [1 files][  1.2 GiB/  1.2 GiB]   25.5 MiB/s                                   \n",
            "Operation completed over 1 objects/1.2 GiB.                                      \n"
          ],
          "name": "stdout"
        }
      ]
    },
    {
      "cell_type": "code",
      "metadata": {
        "colab": {
          "base_uri": "https://localhost:8080/"
        },
        "id": "7vy7ujA4pfIx",
        "outputId": "4e24aa22-1ef2-4cfa-9865-2e3ca4a42ab2"
      },
      "source": [
        "!wc -l ./stackoverflow.csv"
      ],
      "execution_count": 4,
      "outputs": [
        {
          "output_type": "stream",
          "text": [
            "1018163 ./stackoverflow.csv\n"
          ],
          "name": "stdout"
        }
      ]
    },
    {
      "cell_type": "code",
      "metadata": {
        "colab": {
          "base_uri": "https://localhost:8080/"
        },
        "id": "cJ1gGPPwIbQ0",
        "outputId": "0047c916-78c1-4d55-f6e4-291a1994ffcd"
      },
      "source": [
        "answers = []\n",
        "\n",
        "for line in SO_lines:\n",
        "  soup = BeautifulSoup(line)\n",
        "\n",
        "  # discard whole \"del\" tag if any\n",
        "  for s in soup.select('del'):\n",
        "    s.extract()\n",
        "\n",
        "  # strucures like `<code><pre>...</pre></code>` or `<pre><code>...</code></pre>` are replaced with\n",
        "  # <CODICE>...</CODICE>, this tag is temporary kept untill we clean any other tag including <code> \n",
        "  # and <pre> and we will replace it back with <code></code>\n",
        "  for outer in soup.find_all(['pre','code']):\n",
        "    inner_tag = \"code\" if outer.name == \"pre\" else \"pre\"  \n",
        "    for inner in outer.find_all(inner_tag, recursive=False):\n",
        "      inner.string = removeComments(inner.get_text())\n",
        "      code_tag = soup.new_tag('CODICE')\n",
        "      inner.wrap(code_tag)\n",
        "\n",
        "  # clan any other markdown tag in the invalid tag list\n",
        "  for tag in invalid_tags: \n",
        "    for match in soup.findAll(tag):\n",
        "        match.replaceWithChildren()\n",
        "\n",
        "  # check non latin + replace weird chars should be done\n",
        "  clean_line = str(soup)\n",
        "  clean_line = replaceLinks(clean_line)\n",
        "  clean_line = removeEmojis(clean_line)\n",
        "\n",
        "  # replace back 'CODICE' with 'code'\n",
        "  clean_line = clean_line.replace(\"<CODICE>\",\"<code>\").replace(\"</CODICE>\",\"</code>\").strip() \n",
        "   \n",
        "  # process the line such that we have natural language comments enclosed in `<technical_language></technical_language>` tag\n",
        "  processed_line = \"\"\n",
        "  code_pattern = regex.compile(r'<code>.+?</code>', regex.DOTALL)\n",
        "  \n",
        "  texts = regex.split(code_pattern, clean_line)\n",
        "  codes = regex.findall(code_pattern, clean_line)\n",
        "\n",
        "  next_text = texts.pop(0)\n",
        "  if len(next_text.strip()) > 0:\n",
        "    processed_line += \" <technical_language> \" + next_text + \" </technical_language> \" \n",
        "  \n",
        "  while len(codes)>0:\n",
        "    next_code = codes.pop(0)\n",
        "    processed_line += next_code\n",
        "    next_text = texts.pop(0)\n",
        "    if len(next_text.strip()) > 0:\n",
        "      processed_line += \" <technical_language> \" + next_text + \" </technical_language> \" \n",
        "\n",
        "  # final cleaning by replacing controls character and removing extra spaces\n",
        "  processed_line = processed_line.replace(\"&amp;\",'&').replace(\"&#xA;\",r' ').replace(\"&gt;\",'>').replace(\"&lt;\",'<').strip() \n",
        "  processed_line = removeExtraSpaces(processed_line)\n",
        "\n",
        "  # Add entry to dataset if the total number of tokens is below 512\n",
        "  number_of_tokens = len(word_tokenize(processed_line))\n",
        "  if number_of_tokens >= 5 and number_of_tokens <= 512 :\n",
        "    answers.append(processed_line)\n",
        "\n",
        "print(len(answers))\n",
        "\n",
        "with open('./pretraining_so.txt', 'w') as f:\n",
        "  for line in answers:\n",
        "    f.write(\"%s\\n\" % line)\n",
        "\n",
        "!gsutil cp ./pretraining_so.txt  gs://{bucket_name}/raw_data/pretraining/processed/pretraining_so.txt"
      ],
      "execution_count": null,
      "outputs": [
        {
          "output_type": "stream",
          "text": [
            "95\n",
            "Copying file://./pretraining_so.txt [Content-Type=text/plain]...\n",
            "/ [1 files][ 69.9 KiB/ 69.9 KiB]                                                \n",
            "Operation completed over 1 objects/69.9 KiB.                                     \n"
          ],
          "name": "stdout"
        }
      ]
    },
    {
      "cell_type": "markdown",
      "metadata": {
        "id": "bRzxF4AZ_Eft"
      },
      "source": [
        "## Import & cleaning of CodeSearchNet archive\n"
      ]
    },
    {
      "cell_type": "code",
      "metadata": {
        "colab": {
          "base_uri": "https://localhost:8080/"
        },
        "id": "g4xK_SgZ-B-C",
        "outputId": "f0dd7dfe-c2cf-4640-fe3d-9d700e9d0cdb"
      },
      "source": [
        "!gsutil cp gs://{bucket_name}/raw_data/pretraining/java_dedupe_definitions_v2.pkl ./java_dedupe_definitions_v2.pkl\n",
        "\n",
        "with open('./java_dedupe_definitions_v2.pkl', 'rb') as CodeSearchNetLines:\n",
        "  CSNData = pickle.load(CodeSearchNetLines)\n",
        "  \n",
        "# keep only entries with code AND comment\n",
        "print(len(CSNData))\n",
        "CSNData = [entry for entry in CSNData if len(entry['function']) > 0 and len(entry['docstring']) > 0]\n",
        "len(CSNData)"
      ],
      "execution_count": 3,
      "outputs": [
        {
          "output_type": "stream",
          "text": [
            "Copying gs://code_review_automation/raw_data/pretraining/java_dedupe_definitions_v2.pkl...\n",
            "/ [1 files][  3.6 GiB/  3.6 GiB]   46.3 MiB/s                                   \n",
            "Operation completed over 1 objects/3.6 GiB.                                      \n",
            "1569889\n"
          ],
          "name": "stdout"
        },
        {
          "output_type": "execute_result",
          "data": {
            "text/plain": [
              "542991"
            ]
          },
          "metadata": {
            "tags": []
          },
          "execution_count": 3
        }
      ]
    },
    {
      "cell_type": "code",
      "metadata": {
        "id": "kAh6k1DoyiTy",
        "colab": {
          "base_uri": "https://localhost:8080/"
        },
        "outputId": "604057f7-f347-4d05-9bc9-29034a4dd6a9"
      },
      "source": [
        "dataset = []\n",
        "\n",
        "def replaceLinks(s1, s2):\n",
        "\tlink_pattern = regex.compile(r\"https?:\\/\\/(www\\.)?[-a-zA-Z0-9@:%._\\+~#=]{1,256}\\.[a-zA-Z0-9()]{1,6}\\b([-a-zA-Z0-9()@:%_\\+.~#?&//=]*)\")\n",
        "\tmatches = [m.group() for m in link_pattern.finditer(s1 + \" \" + s2)]\n",
        "\tto_replace = set(matches)\n",
        "\n",
        "\t# IDEA : for each occurence in the set, replace with LINK_i\n",
        "\tfor idx, val in enumerate(to_replace):\n",
        "\t\ts1 = s1.replace(val, \" <LINK_\" + str(idx)+ \"> \")\n",
        "\t\ts2 = s2.replace(val, \" <LINK_\" + str(idx)+ \"> \")\n",
        "\treturn s1, s2\n",
        "\n",
        "# build list of regex to discard markdown tags\n",
        "patterns = []\n",
        "for tag in invalid_tags:\n",
        "  patterns.append(regex.compile(\"<\\s*\\/?\\s*\"+tag+\"\\s*[^>]*\\s*>\"))\n",
        "\n",
        "count_nochar_filter = 0\n",
        "count_nonlatin_filter = 0\n",
        "count_token_filter = 0\n",
        "\n",
        "for entry in CSNData:\n",
        "  comment = entry['docstring']\n",
        "\n",
        "  # meaningless comments (e.g., \"-------\")\n",
        "  if not hasChar(comment):\n",
        "    count_nochar_filter += 1\n",
        "    continue\n",
        "  \n",
        "  # other languages\n",
        "  if isNonLatin(comment):\n",
        "    count_nonlatin_filter += 1\n",
        "    continue\n",
        "\n",
        "  # discard markdown from string\n",
        "  for pattern in patterns:\n",
        "    comment = pattern.sub(r' ', comment)\n",
        "\n",
        "  comment = removeEmojis(comment)\n",
        "\n",
        "  # replace bunch of weird characters with proper ones\n",
        "  comment = comment.replace(\"─\",\"-\").replace(\"’\",\"'\").replace(\"≤\",\"<=\").replace(\"≥\",\">=\").replace(\"∞\",\"inf\").replace(\"±\",\"+-\").replace(\"“\",\"\\\"\").replace(\"”\",\"\\\"\").replace(\"└\",\" \").replace(\"├\",\" \").replace(\"（\",\"(\").replace(\"）\",\")\")\n",
        "  comment = cleanString(comment)\n",
        "\n",
        "  code = entry['function']\n",
        "  code = removeComments(code)\n",
        "  code = cleanString(code)\n",
        "\n",
        "  code, comment = replaceLinks(code, comment)\n",
        "\n",
        "  code_len = len(word_tokenize(code))\n",
        "  comment_len = len(word_tokenize(comment))\n",
        "\n",
        "  if code_len + comment_len <= 512:\n",
        "    dataset.append([code, comment, code_len, comment_len])\n",
        "  else :\n",
        "    count_token_filter += 1\n",
        "\n",
        "print(len(dataset))\n",
        "print(\"count_nochar_filter\", count_nochar_filter)\n",
        "print(\"count_nonlatin_filter\", count_nonlatin_filter)\n",
        "print(\"count_token_filter\", count_token_filter)\n",
        "\n",
        "codeSearchNetDataset = [\"<technical_language> \" + line[1] + \" </technical_language><code> \" + line[0] + \" </code>\" for line in dataset]\n",
        "with open('./pretraining_csn.txt', 'w') as f:\n",
        "    for line in codeSearchNetDataset:\n",
        "        f.write(\"%s\\n\" % line)\n",
        "\n",
        "# !gsutil cp ./pretraining_csn.txt  gs://{bucket_name}/raw_data/pretraining/processed/pretraining_csn.txt"
      ],
      "execution_count": 9,
      "outputs": [
        {
          "output_type": "stream",
          "text": [
            "507947\n",
            "count_nochar_filter 7857\n",
            "count_nonlatin_filter 15229\n",
            "count_token_filter 11958\n"
          ],
          "name": "stdout"
        }
      ]
    },
    {
      "cell_type": "code",
      "metadata": {
        "id": "ZCEWU0lOltXD",
        "colab": {
          "base_uri": "https://localhost:8080/"
        },
        "outputId": "3c624142-fe5f-4556-8f02-36ffdd34d0cd"
      },
      "source": [
        "final_dataset = codeSearchNetDataset + answers \n",
        "with open('./pretraining.txt', 'w') as f:\n",
        "    for line in final_dataset:\n",
        "        f.write(\"%s\\n\" % line)\n",
        "\n",
        "!gsutil cp ./pretraining.txt  gs://{bucket_name}/raw_data/pretraining/processed/pretraining.txt\n",
        "!wc -l ./pretraining.txt  "
      ],
      "execution_count": null,
      "outputs": [
        {
          "output_type": "stream",
          "text": [
            "Copying file://./pretraining.txt [Content-Type=text/plain]...\n",
            "/ [0 files][    0.0 B/129.2 KiB]                                                \r/ [1 files][129.2 KiB/129.2 KiB]                                                \r\n",
            "Operation completed over 1 objects/129.2 KiB.                                    \n",
            "193 ./pretraining.txt\n"
          ],
          "name": "stdout"
        }
      ]
    },
    {
      "cell_type": "markdown",
      "metadata": {
        "id": "HD6_mawZ05-d"
      },
      "source": [
        "## preparing pre-processing"
      ]
    },
    {
      "cell_type": "code",
      "metadata": {
        "colab": {
          "base_uri": "https://localhost:8080/"
        },
        "id": "aq2-MD_wgc3N",
        "outputId": "83fc5e29-0831-41a7-9e09-5857ee4b9cac"
      },
      "source": [
        "!gsutil cp gs://{bucket_name}/raw_data/pretraining/processed/pretraining.txt ./pretraining.txt\n",
        "!wc -l ./pretraining.txt\n",
        "!gsutil cp  gs://{bucket_name}/CodeReviewModel/TestModel.model ./TestModel.model\n",
        "!gsutil cp  gs://{bucket_name}/CodeReviewModel/TestModel.vocab ./TestModel.vocab"
      ],
      "execution_count": 3,
      "outputs": [
        {
          "output_type": "stream",
          "text": [
            "Copying gs://code_review_automation/raw_data/pretraining/processed/pretraining.txt...\n",
            "/ [1 files][977.4 MiB/977.4 MiB]   44.6 MiB/s                                   \n",
            "Operation completed over 1 objects/977.4 MiB.                                    \n",
            "1485619 ./pretraining.txt\n",
            "Copying gs://code_review_automation/CodeReviewModel/TestModel.model...\n",
            "- [1 files][762.0 KiB/762.0 KiB]                                                \n",
            "Operation completed over 1 objects/762.0 KiB.                                    \n",
            "Copying gs://code_review_automation/CodeReviewModel/TestModel.vocab...\n",
            "- [1 files][557.4 KiB/557.4 KiB]                                                \n",
            "Operation completed over 1 objects/557.4 KiB.                                    \n"
          ],
          "name": "stdout"
        }
      ]
    },
    {
      "cell_type": "code",
      "metadata": {
        "id": "UfzaFLTWmW2l",
        "colab": {
          "base_uri": "https://localhost:8080/"
        },
        "outputId": "3c6ed343-80a1-4e84-cd5a-e2c49c52894a"
      },
      "source": [
        "spm.SentencePieceTrainer.train('--user_defined_symbols=<code>,</code>,<technical_language>,</technical_language> --input=./pretraining.txt --model_prefix=TestModel --vocab_size=32000 --bos_id=-1 --eos_id=1 --unk_id=2 --pad_id=0')\n",
        "!gsutil cp ./TestModel.model gs://{bucket_name}/CodeReviewModel/TestModel.model\n",
        "!gsutil cp ./TestModel.vocab gs://{bucket_name}/CodeReviewModel/TestModel.vocab"
      ],
      "execution_count": null,
      "outputs": [
        {
          "output_type": "stream",
          "text": [
            "Copying file://./TestModel.model [Content-Type=application/octet-stream]...\n",
            "/ [1 files][762.0 KiB/762.0 KiB]                                                \n",
            "Operation completed over 1 objects/762.0 KiB.                                    \n",
            "Copying file://./TestModel.vocab [Content-Type=application/octet-stream]...\n",
            "/ [1 files][557.4 KiB/557.4 KiB]                                                \n",
            "Operation completed over 1 objects/557.4 KiB.                                    \n"
          ],
          "name": "stdout"
        }
      ]
    },
    {
      "cell_type": "code",
      "metadata": {
        "colab": {
          "base_uri": "https://localhost:8080/"
        },
        "id": "PEfxsa8CmW5b",
        "outputId": "93b53e72-a178-48c2-96f4-62d5d9f0e4d7"
      },
      "source": [
        "!gsutil cp gs://{bucket_name}/utils/T5-masking.py ./T5-masking.py\n",
        "!python3 ./T5-masking.py --train_data_file ./pretraining.txt --tokenizer_name ./TestModel.model --save_folder ."
      ],
      "execution_count": null,
      "outputs": [
        {
          "output_type": "stream",
          "text": [
            "Copying gs://code_review_automation/utils/T5-masking.py...\n",
            "/ [0 files][    0.0 B/  6.8 KiB]                                                \r/ [1 files][  6.8 KiB/  6.8 KiB]                                                \r\n",
            "Operation completed over 1 objects/6.8 KiB.                                      \n",
            "Calling T5Tokenizer.from_pretrained() with the path to a single file or url is deprecated\n",
            "  0% 0/1485619 [00:00<?, ?it/s]2021-03-11 22:16:45.277629: I tensorflow/stream_executor/platform/default/dso_loader.cc:49] Successfully opened dynamic library libcudart.so.11.0\n",
            "100% 1485619/1485619 [6:46:53<00:00, 60.85it/s]\n"
          ],
          "name": "stdout"
        }
      ]
    },
    {
      "cell_type": "markdown",
      "metadata": {
        "id": "TEtTcB70NV52"
      },
      "source": [
        "creation of the dataframe for exporting .tsv file \n"
      ]
    },
    {
      "cell_type": "code",
      "metadata": {
        "id": "XGeOKLvcIA21",
        "colab": {
          "base_uri": "https://localhost:8080/"
        },
        "outputId": "490cc331-ca08-4751-bc09-16a4bf80892b"
      },
      "source": [
        "df_list_inputs = [] \n",
        "with open(\"./train_inputs.txt\",\"r\") as f:\n",
        "  for line in f:\n",
        "    df_list_inputs.append(line)\n",
        "\n",
        "df_list_labels = [] \n",
        "with open(\"./train_labels.txt\",\"r\") as f:\n",
        "  for line in f:\n",
        "    df_list_labels.append(line)\n",
        "\n",
        "df = pd.DataFrame()\n",
        "df['Inputs']  = df_list_inputs\n",
        "df['Labels']  = df_list_labels\n",
        "\n",
        "# df.to_csv(path_or_buf='./pre-training.tsv', sep='\\t', header=False, index=False, index_label=False)\n",
        "\n",
        "f = open(\"./pre-training.tsv\", \"w\")\n",
        "for index, row in df.iterrows():\n",
        "  f.write(row['Inputs'].strip() + \"\\t\" + row['Labels'].strip() + \"\\n\" )\n",
        "f.close()\n",
        "\n",
        "!gsutil cp ./pre-training.tsv  gs://{bucket_name}/raw_data/pretraining/processed/pre-training.tsv\n",
        "! head -6 ./pre-training.tsv\n",
        "! wc -l pre-training.tsv"
      ],
      "execution_count": null,
      "outputs": [
        {
          "output_type": "stream",
          "text": [
            "Copying file://./pre-training.tsv [Content-Type=text/tab-separated-values]...\n",
            "/ [0 files][    0.0 B/  1.7 GiB]                                                \r==> NOTE: You are uploading one or more large file(s), which would run\n",
            "significantly faster if you enable parallel composite uploads. This\n",
            "feature can be enabled by editing the\n",
            "\"parallel_composite_upload_threshold\" value in your .boto\n",
            "configuration file. However, note that if you do this large files will\n",
            "be uploaded as `composite objects\n",
            "<https://cloud.google.com/storage/docs/composite-objects>`_,which\n",
            "means that any user who downloads such objects will need to have a\n",
            "compiled crcmod installed (see \"gsutil help crcmod\"). This is because\n",
            "without a compiled crcmod, computing checksums on composite objects is\n",
            "so slow that gsutil disables downloads of composite objects.\n",
            "\n",
            "-\n",
            "Operation completed over 1 objects/1.7 GiB.                                      \n",
            "<extra_id_0> <technical_language> Bind indexed elements to the<extra_id_1> collection. @param name the<extra_id_2> of the<extra_id_3> to bind<extra_id_4> param target the target bindable @param elementBinder the binder<extra_id_5> use for elements @param<extra_id_6> Type the aggregate type, may be a collection<extra_id_7> an array @param elementType<extra_id_8> type @param result<extra_id_9> destination for results <extra_id_10> <code> protected final void bindIndexed(ConfigurationPropertyName name, Bindable<?> target, AggregateElementBinder<extra_id_11> Binder, ResolvableType aggregateType, ResolvableType elementType, IndexedCollectionSupplier result<extra_id_12> {<extra_id_13> (ConfigurationPropertySource<extra_id_14> : getContext().getSources())<extra_id_15> bindIndexed(source, name, target, elementBinder, result<extra_id_16> aggregate<extra_id_17> , elementType); if (result.wasSuppl<extra_id_18> ()<extra_id_19> result.<extra_id_20> ()<extra_id_21> null) { return;<extra_id_22> } } </code></s>\t<extra_id_0> supplied<extra_id_1> name<extra_id_2> property<extra_id_3> @<extra_id_4> to<extra_id_5> aggregate<extra_id_6> or<extra_id_7> the element<extra_id_8> the<extra_id_9> </technical_language><extra_id_10> element<extra_id_11> )<extra_id_12> for<extra_id_13> source<extra_id_14> {<extra_id_15> ,<extra_id_16> Type<extra_id_17> ied<extra_id_18> &&<extra_id_19> get<extra_id_20> !=<extra_id_21> }<extra_id_22>\n",
            "<technical_language> Set {@link ServletRegistrationBean}<extra_id_0> that the filter will be registered against. @param servletRegistrationBeans<extra_id_1> Servlet registration<extra_id_2> </technical_language><code> public<extra_id_3> setServlet<extra_id_4> s( Collection<?<extra_id_5> ServletRegistrationBean<?>><extra_id_6> RegistrationBeans) { Assert.notNull<extra_id_7> servletRegistrationBeans, \"ServletRegistrationBeans<extra_id_8> be null\"); this.servletRegistrationBeans =<extra_id_9> LinkedHashSet<extra_id_10> servletRegistrationBeans); } </code></s>\t<extra_id_0> s<extra_id_1> the<extra_id_2> beans<extra_id_3> void<extra_id_4> RegistrationBean<extra_id_5> extends<extra_id_6> servlet<extra_id_7> (<extra_id_8> must not<extra_id_9> new<extra_id_10> <>(<extra_id_11>\n",
            "<technical_language> Add<extra_id_0> link ServletRegistrationBean}s for the filter. @param<extra_id_1> RegistrationBeans the<extra_id_2> registration beans to<extra_id_3> @see #<extra_id_4> ServletRegistrationBeans </technical_language><code> public void<extra_id_5> Servlet<extra_id_6> s( ServletRegistrationBean<?>... servletRegistrationBeans) { Assert.notNull(servletRegistrationBeans<extra_id_7> \"ServletRegistrationBeans must not<extra_id_8> null\");<extra_id_9> .addAll(this.servletRegistrationBean<extra_id_10> , servletRegistrationBeans<extra_id_11> } </code></s>\t<extra_id_0> {@<extra_id_1> servlet<extra_id_2> servlet<extra_id_3> add<extra_id_4> set<extra_id_5> add<extra_id_6> RegistrationBean<extra_id_7> ,<extra_id_8> be<extra_id_9> Collections<extra_id_10> s<extra_id_11> );<extra_id_12>\n",
            "<extra_id_0> Set servlet names that the filter will be registered<extra_id_1> .<extra_id_2> will replace any previously specified servlet names. @param servletNames the servlet names @<extra_id_3> #setServlet<extra_id_4> @see<extra_id_5> setUrlPatterns </technical_language><extra_id_6> void set<extra_id_7> (Collection<String> servletNames<extra_id_8> { Assert.notNull(servletNames, \"ServletNames must not be null<extra_id_9> this.servletNames = new LinkedHashSet<>(servletNames); } </code></s>\t<extra_id_0> <technical_language><extra_id_1> against<extra_id_2> This<extra_id_3> see<extra_id_4> RegistrationBeans<extra_id_5> #<extra_id_6> <code> public<extra_id_7> ServletNames<extra_id_8> )<extra_id_9> \");<extra_id_10>\n",
            "<technical_language> Add servlet names for the<extra_id_0> . @param servletNames the<extra_id_1> names to<extra_id_2> </technical_language><code> public<extra_id_3> ServletNames(String... servletNames)<extra_id_4> notNull(servletNames, \"ServletNames must not be null\"); this.servletNames.addAll(Arrays.asList(servletNames<extra_id_5> } </code></s>\t<extra_id_0> filter<extra_id_1> servlet<extra_id_2> add<extra_id_3> void add<extra_id_4> { Assert.<extra_id_5> ));<extra_id_6>\n",
            "<extra_id_0> <technical_language> Set the URL patterns that the filter will be registered against. This<extra_id_1> replace any previously specified URL<extra_id_2> . @param urlPatterns the URL patterns @see #setServletRegistrationBeans @<extra_id_3> Servlet<extra_id_4> </technical_language><code> public void<extra_id_5> setUrlPatterns(Collection<String<extra_id_6> <extra_id_7> ) { Assert<extra_id_8> notNull(urlPatterns, \"UrlPatterns must not be null\"); this.urlPatterns<extra_id_9> new LinkedHashSet<>(urlPatterns); } </code></s>\t<extra_id_0> will<extra_id_1> patterns<extra_id_2> see #set<extra_id_3> Names <extra_id_4> <extra_id_5> ><extra_id_6> urlPatterns<extra_id_7> .<extra_id_8> =<extra_id_9>\n",
            "1485619 pre-training.tsv\n"
          ],
          "name": "stdout"
        }
      ]
    },
    {
      "cell_type": "markdown",
      "metadata": {
        "id": "8ut9GfJB6lWy"
      },
      "source": [
        "# Cleaning fine tuning dataset"
      ]
    },
    {
      "cell_type": "code",
      "metadata": {
        "colab": {
          "base_uri": "https://localhost:8080/"
        },
        "id": "Ymvbg1-kCXV8",
        "outputId": "fa79f4d7-ea17-40fd-96fc-740546d18811"
      },
      "source": [
        "!gsutil cp gs://{bucket_name}/dataset/old/fineTuningDataset_v2/stop-words-english.txt stop-words.txt\n",
        "!gsutil cp gs://{bucket_name}/dataset/old/fineTuningDataset_v2/my_idioms_300.csv idioms.txt\n",
        "\n",
        "keywords = ['abstract', 'assert', 'boolean', 'break', 'byte', 'case', 'catch',\n",
        "            'char', 'class', 'const', 'continue', 'default', 'do', 'double',\n",
        "            'else', 'enum', 'extends', 'final', 'finally', 'float', 'for', 'if',\n",
        "            'goto', 'implements', 'import', 'instanceof', 'int', 'interface',\n",
        "            'long', 'native', 'new', 'package', 'private', 'protected', 'public',\n",
        "            'return', 'short', 'static', 'strictfp', 'super', 'switch',\n",
        "            'synchronized', 'this', 'throw', 'throws', 'transient', 'try', 'void',\n",
        "            'volatile', 'while', 'true', 'false', 'null', '+=', '&&', '-=', '!=',\n",
        "            '++', '||', '<=', '>=', '<<=', '>>=', '...', '--', '/=', '>>>=', '<<<=',\n",
        "            'equals', 'inline', 'override']\n",
        "\n",
        "keywords = [k.upper() for k in keywords]\n",
        "\n",
        "stopwords = [line.strip().upper() for line in open(\"stop-words.txt\")]\n",
        "print(len(stopwords))\n",
        "\n",
        "idioms = [line.strip().upper() for line in open(\"idioms.txt\")]\n",
        "print(len(idioms))\n",
        "\n",
        "for word in stopwords:\n",
        "  if word in idioms or word in keywords:\n",
        "    stopwords.pop(stopwords.index(word))\n",
        "\n",
        "print(len(stopwords))\n",
        "\n",
        "stopwords.append('nit')"
      ],
      "execution_count": 12,
      "outputs": [
        {
          "output_type": "stream",
          "text": [
            "Copying gs://code_review_automation/dataset/old/fineTuningDataset_v2/stop-words-english.txt...\n",
            "/ [1 files][  3.8 KiB/  3.8 KiB]                                                \n",
            "Operation completed over 1 objects/3.8 KiB.                                      \n",
            "Copying gs://code_review_automation/dataset/old/fineTuningDataset_v2/my_idioms_300.csv...\n",
            "/ [1 files][  2.0 KiB/  2.0 KiB]                                                \n",
            "Operation completed over 1 objects/2.0 KiB.                                      \n",
            "592\n",
            "300\n",
            "573\n"
          ],
          "name": "stdout"
        }
      ]
    },
    {
      "cell_type": "code",
      "metadata": {
        "colab": {
          "base_uri": "https://localhost:8080/"
        },
        "id": "OE4ZLuLEonc4",
        "outputId": "e3c244f1-548c-4c70-ab77-2a273994a01f"
      },
      "source": [
        "!gsutil cp gs://{bucket_name}/raw_data/finetuning/old/test.csv ./test.csv\n",
        "!gsutil cp gs://{bucket_name}/raw_data/finetuning/old/train.csv ./train.csv\n",
        "!gsutil cp gs://{bucket_name}/raw_data/finetuning/old/val.csv ./val.csv\n",
        "\n",
        "!mkdir fineTuningCleanDatasets\n",
        "\n",
        "!mkdir fineTuningCleanDatasets/code_code\n",
        "!mkdir fineTuningCleanDatasets/code_comment\n",
        "!mkdir fineTuningCleanDatasets/codeANDcomment_code\n"
      ],
      "execution_count": 15,
      "outputs": [
        {
          "output_type": "stream",
          "text": [
            "Copying gs://code_review_automation/raw_data/finetuning/old/test.csv...\n",
            "/ [0 files][    0.0 B/  1.8 MiB]                                                \r/ [1 files][  1.8 MiB/  1.8 MiB]                                                \r\n",
            "Operation completed over 1 objects/1.8 MiB.                                      \n",
            "Copying gs://code_review_automation/raw_data/finetuning/old/train.csv...\n",
            "- [1 files][ 14.7 MiB/ 14.7 MiB]                                                \n",
            "Operation completed over 1 objects/14.7 MiB.                                     \n",
            "Copying gs://code_review_automation/raw_data/finetuning/old/val.csv...\n",
            "/ [1 files][  1.8 MiB/  1.8 MiB]                                                \n",
            "Operation completed over 1 objects/1.8 MiB.                                      \n",
            "mkdir: cannot create directory ‘fineTuningCleanDatasets’: File exists\n",
            "mkdir: cannot create directory ‘fineTuningCleanDatasets/code_code’: File exists\n",
            "mkdir: cannot create directory ‘fineTuningCleanDatasets/code_comment’: File exists\n",
            "mkdir: cannot create directory ‘fineTuningCleanDatasets/codeANDcomment_code’: File exists\n"
          ],
          "name": "stdout"
        }
      ]
    },
    {
      "cell_type": "code",
      "metadata": {
        "colab": {
          "base_uri": "https://localhost:8080/"
        },
        "id": "i43JM-dhqNgF",
        "outputId": "d09fc40a-79a6-400d-e032-42098021eee6"
      },
      "source": [
        "def replaceLinks_FourStrings(s1, s2, s3, s4):\n",
        "  link_pattern = regex.compile(r\"https?:\\/\\/(www\\.)?[-a-zA-Z0-9@:%._\\+~#=]{1,256}\\.[a-zA-Z0-9()]{1,6}\\b([-a-zA-Z0-9()@:%_\\+.~#?&//=]*)\")\n",
        "  matches = [m.group() for m in link_pattern.finditer(s1 + \" \" + s2 + \" \" + s3 + \" \" + s4)]\n",
        "  to_replace = set(matches)\n",
        "\n",
        "  # IDEA : for each occurence in the set, replace with LINK_i\n",
        "  for idx, val in enumerate(to_replace):\n",
        "    s1 = s1.replace(val, \"<LINK_\" + str(idx)+ \">\")\n",
        "    s2 = s2.replace(val, \"<LINK_\" + str(idx)+ \">\")\n",
        "    s3 = s3.replace(val, \"<LINK_\" + str(idx)+ \">\")\n",
        "    s4 = s4.replace(val, \"<LINK_\" + str(idx)+ \">\")\n",
        "\n",
        "  return s1, s2, s3, s4\n",
        "\n",
        "def removeComments(s):\n",
        "  block_comment_pattern = regex.compile(r\"/\\*([^*]|[\\r\\n]|(\\*+([^*/]|[\\r\\n])))*\\*+/\")\n",
        "  inline_marked_comment_pattern = regex.compile(r\"(?<!:)\\/\\/.*?(?=<END>)\")\n",
        "  inline_comment_pattern = regex.compile(r\"(?<!:)\\/\\/.*\")\n",
        "\n",
        "  s = block_comment_pattern.sub(r' ', s)\n",
        "  s = inline_marked_comment_pattern.sub(r' ', s)\n",
        "  s = inline_comment_pattern.sub(r' ', s)\n",
        "\n",
        "  return s\n",
        "\n",
        "def trasformCSV(original_path, new_path):\n",
        "  df = pd.read_csv(filepath_or_buffer = original_path, index_col=0, na_filter= False)\n",
        "  print(\"original len:\", len(df))\n",
        "  count_nonlatin_filter = 0\n",
        "  count_token_filter = 0\n",
        "  for idx, row in df.iterrows():\n",
        "\n",
        "    comment = row[\"comment\"]\n",
        "    code_before = row[\"before\"]\n",
        "    code_after = row[\"after\"]\n",
        "    code_before_marked = row[\"before_marked\"]\n",
        "    \n",
        "    start_end_pattern = regex.compile(r\"(START )(.*?(?= END))( END)\", flags=re.MULTILINE|re.DOTALL)\n",
        "    matches = [m.group() for m in start_end_pattern.finditer(code_before_marked)]\n",
        "    if len(matches) == 1:\n",
        "      code_before_marked = start_end_pattern.sub(r\"<START> \\2 <END>\", code_before_marked)\n",
        "\n",
        "    if not \"<START> \" in code_before_marked or not \" <END>\" in code_before_marked :\n",
        "      print(code_before_marked)\n",
        "    \n",
        "    comment, code_before, code_after, code_before_marked = replaceLinks_FourStrings(comment, code_before, code_after, code_before_marked)\n",
        "    \n",
        "    comment = removeEmojis(comment)\n",
        "    comment = cleanString(comment)\n",
        "    comment = comment.replace(\"`\",\"\").replace(\"←\",\"<-\").replace(\"१२\",\"\").replace(\"⁻⁵\",\"\").replace(\"•\",\"\").replace(\"．\",\"\").replace(\"￼\",\"\").replace(\"°\",\"\").replace(\"»«\",\"\").replace(\"ｔ\",\"t\").replace(\"е\",\"e\").replace(\"≈\",\"\").replace(\"⇒\",\"\").replace(\"¯\",\"\").replace(\"۸\",\"\").replace(\"३\",\"\").replace(\"‘\",\"'\").replace(\"➜\",\"->\").replace(\"≠\",\"!=\").replace(\"？\",\"?\").replace(\"¦¦\",\"\").replace(\"�\",\"\").replace(\"ह\",\"\").replace(\"µ\",\"mu\").replace(\"с\",\"c\").replace(\"×\",\"x\").replace(\"»\",\"\").replace(\"²\",\"\").replace(\"️\",\"\").replace(\"ö\",\"\").replace(\"ô\",\"\").replace(\"ó\",\"\").replace(\"ツ\",\"\").replace(\"⌘\",\"\").replace(\"«\",\"\").replace(\"„\",\"\").replace(\"·\",\"\").replace(\"İ\",\"\").replace(\"。。。\",\"...\").replace(\"λ\",\"lambda\").replace(\"§\",\"\").replace(\"ø\",\"\").replace(\"�\",\"\").replace(\"￼\",\"\").replace(\"→\",\"->\").replace(\"´\",\"'\").replace(\"…\",\" \").replace(\"–\",\"-\").replace(\"—\",\"-\").replace(\"─\",\"-\").replace(\"’\",\"'\").replace(\"≤\",\"<=\").replace(\"≥\",\">=\").replace(\"∞\",\"inf\").replace(\"±\",\"+-\").replace(\"“\",\"\\\"\").replace(\"”\",\"\\\"\").replace(\"└\",\" \").replace(\"├\",\" \").replace(\"（\",\"(\").replace(\"）\",\")\")\n",
        "\n",
        "    ###### EXTRA CLEAN COMMENTS ROSALIA ######\n",
        "    comment = ''.join(w + ' ' for w in comment.split() if w.upper() not in stopwords).strip()\n",
        "    \n",
        "    punctuation = ('-', '.', ':', '>')\n",
        "    if comment.endswith((\"?\", \"!\", \".\")):\n",
        "      comment = comment[:-1]\n",
        "\n",
        "    if comment.startswith(punctuation):\n",
        "      comment = comment[1:].strip()\n",
        "              \n",
        "              # lowercase di tutto tranne idiomi e keyword, relativo ad astrazione : scartato\n",
        "              # new_text = ''\n",
        "              # for token in comment.split():\n",
        "              #     if token.upper() in idioms or token.upper() in keywords:\n",
        "              #         new_text += token + ' '\n",
        "              #     else:\n",
        "              #         new_text += token.lower() + ' '\n",
        "              # comment = new_text.strip()    \n",
        "\n",
        "    ##########################################\n",
        "\n",
        "    if isNonLatin(comment):\n",
        "      count_nonlatin_filter += 1\n",
        "      df = df.drop(idx)\n",
        "      continue\n",
        "\n",
        "    code_before = removeComments(code_before)\n",
        "    code_before = cleanString(code_before)\n",
        "\n",
        "    code_after = removeComments(code_after)\n",
        "    code_after = cleanString(code_after)\n",
        "\n",
        "    code_before_marked = removeComments(code_before_marked)\n",
        "    code_before_marked = cleanString(code_before_marked)\n",
        "\n",
        "    if len(comment) == 0 or len(code_before) == 0 or len(code_after) == 0 or len(code_before_marked) == 0 :\n",
        "      print(\" --- check len --- \")\n",
        "      count_token_filter += 1\n",
        "      continue\n",
        "\n",
        "    df.loc[idx, 'comment'] = comment\n",
        "    df.loc[idx, 'before'] = code_before\n",
        "    df.loc[idx, 'after'] = code_after\n",
        "    df.loc[idx, 'before_marked'] = code_before_marked\n",
        "\n",
        "  df.to_csv(new_path, index=False)\n",
        "\n",
        "  print(\"count_nonlatin_filter\", count_nonlatin_filter)\n",
        "  print(\"count_token_filter\", count_token_filter)\n",
        "\n",
        "\n",
        "trasformCSV('./test.csv', \"./fineTuningCleanDatasets/test.csv\")\n",
        "trasformCSV('./train.csv', \"./fineTuningCleanDatasets/train.csv\")\n",
        "trasformCSV('./val.csv', \"./fineTuningCleanDatasets/val.csv\")\n",
        "\n",
        "\n",
        "# !gsutil cp ./fineTuningCleanDatasets/test.csv gs://{bucket_name}/dataset/old/fineTuningDataset_v2/test.csv\n",
        "# !gsutil cp ./fineTuningCleanDatasets/val.csv gs://{bucket_name}/dataset/old/fineTuningDataset_v2/val.csv\n",
        "# !gsutil cp ./fineTuningCleanDatasets/train.csv gs://{bucket_name}/dataset/old/fineTuningDataset_v2/train.csv\n",
        "\n",
        "!wc -l ./fineTuningCleanDatasets/test.csv\n",
        "!wc -l ./fineTuningCleanDatasets/train.csv\n",
        "!wc -l ./fineTuningCleanDatasets/val.csv"
      ],
      "execution_count": 17,
      "outputs": [
        {
          "output_type": "stream",
          "text": [
            "original len: 1719\n",
            "count_nonlatin_filter 11\n",
            "count_token_filter 0\n",
            "original len: 13756\n",
            "count_nonlatin_filter 86\n",
            "count_token_filter 0\n",
            "original len: 1719\n",
            "count_nonlatin_filter 6\n",
            "count_token_filter 0\n",
            "1709 ./fineTuningCleanDatasets/test.csv\n",
            "13671 ./fineTuningCleanDatasets/train.csv\n",
            "1714 ./fineTuningCleanDatasets/val.csv\n"
          ],
          "name": "stdout"
        }
      ]
    },
    {
      "cell_type": "code",
      "metadata": {
        "id": "6jNOhooQgdPy"
      },
      "source": [
        "def exportVersions(df_name):\n",
        "  df = pd.read_csv(\"./fineTuningCleanDatasets/\" + df_name + \".csv\")  \n",
        "\n",
        "  with open(\"fineTuningCleanDatasets/code_code/\" + df_name + \".tsv\", \"w\") as f:\n",
        "    for index, row in df.iterrows():\n",
        "      f.write(row['before'].strip() + \"\\t\" + row['after'].strip() + \"\\n\")\n",
        "\n",
        "  with open(\"fineTuningCleanDatasets/code_comment/\" + df_name + \".tsv\", \"w\") as f:\n",
        "    for index, row in df.iterrows():\n",
        "      f.write(row['before'].strip() + \"\\t\" + row['comment'].strip() + \"\\n\")\n",
        "\n",
        "  with open(\"fineTuningCleanDatasets/codeANDcomment_code/\" + df_name + \".tsv\", \"w\") as f:\n",
        "    for index, row in df.iterrows():\n",
        "      f.write(\"<code> \" + row['before_marked'].strip() + \" </code><technical_language> \" + row['comment'].strip() + \" </technical_language>\\t\" + row['after'].strip() + \"\\n\")\n",
        "\n",
        "exportVersions(\"val\")\n",
        "exportVersions(\"train\")\n",
        "exportVersions(\"test\")\n",
        "\n",
        "!gsutil cp ./fineTuningCleanDatasets/code_code/test.tsv gs://{bucket_name}/dataset/old/fineTuningDataset_v2/code_code/test.tsv\n",
        "!gsutil cp ./fineTuningCleanDatasets/code_code/val.tsv gs://{bucket_name}/dataset/old/fineTuningDataset_v2/code_code/val.tsv\n",
        "!gsutil cp ./fineTuningCleanDatasets/code_code/train.tsv gs://{bucket_name}/dataset/old/fineTuningDataset_v2/code_code/train.tsv\n",
        "\n",
        "!gsutil cp ./fineTuningCleanDatasets/codeANDcomment_code/test.tsv gs://{bucket_name}/dataset/old/fineTuningDataset_v2/codeANDcomment_code/test.tsv\n",
        "!gsutil cp ./fineTuningCleanDatasets/codeANDcomment_code/val.tsv gs://{bucket_name}/dataset/old/fineTuningDataset_v2/codeANDcomment_code/val.tsv\n",
        "!gsutil cp ./fineTuningCleanDatasets/codeANDcomment_code/train.tsv gs://{bucket_name}/dataset/old/fineTuningDataset_v2/codeANDcomment_code/train.tsv\n",
        "\n",
        "!gsutil cp ./fineTuningCleanDatasets/code_comment/test.tsv gs://{bucket_name}/dataset/old/fineTuningDataset_v2/code_comment/test.tsv\n",
        "!gsutil cp ./fineTuningCleanDatasets/code_comment/val.tsv gs://{bucket_name}/dataset/old/fineTuningDataset_v2/code_comment/val.tsv\n",
        "!gsutil cp ./fineTuningCleanDatasets/code_comment/train.tsv gs://{bucket_name}/dataset/old/fineTuningDataset_v2/code_comment/train.tsv\n"
      ],
      "execution_count": null,
      "outputs": []
    },
    {
      "cell_type": "code",
      "metadata": {
        "colab": {
          "base_uri": "https://localhost:8080/"
        },
        "id": "8aOWIUioLbJm",
        "outputId": "6bbe9aa0-c6de-4332-d0aa-2e6466c568aa"
      },
      "source": [
        "! wc -l /content/fineTuningCleanDatasets/codeANDcomment_code/val.tsv\n",
        "! wc -l /content/fineTuningCleanDatasets/codeANDcomment_code/train.tsv\n"
      ],
      "execution_count": null,
      "outputs": [
        {
          "output_type": "stream",
          "text": [
            "1713 /content/fineTuningCleanDatasets/codeANDcomment_code/val.tsv\n",
            "13670 /content/fineTuningCleanDatasets/codeANDcomment_code/train.tsv\n"
          ],
          "name": "stdout"
        }
      ]
    },
    {
      "cell_type": "markdown",
      "metadata": {
        "id": "UAGrotXqoXAo"
      },
      "source": [
        "# Preparing New Dataset\n"
      ]
    },
    {
      "cell_type": "code",
      "metadata": {
        "colab": {
          "base_uri": "https://localhost:8080/"
        },
        "id": "3eNvudPXo1bJ",
        "outputId": "c59f5506-88fa-411f-e97d-6529b5a0df9a"
      },
      "source": [
        "!gsutil cp gs://{bucket_name}/dataset/new/final_df.csv ./final_df.csv\n",
        "df = pd.read_csv(filepath_or_buffer = \"./final_df.csv\", index_col=0, na_filter=False).reset_index().drop([\"index\"], axis=1)\n",
        "print(df)\n",
        "\n",
        "# shuffle data\n",
        "df = df.sample(frac=1) \n",
        "fractions = np.array([0.8, 0.10, 0.10])\n",
        "# split into 3 parts\n",
        "train, val, test = np.array_split(df, (fractions[:-1].cumsum() * len(df)).astype(int))\n",
        "\n",
        "print(len(train))\n",
        "print(len(test))\n",
        "print(len(val))\n",
        "\n",
        "train.to_csv(\"./train.csv\", index=False)\n",
        "test.to_csv(\"./test.csv\", index=False)\n",
        "val.to_csv(\"./val.csv\", index=False)\n",
        "\n",
        "!mkdir fineTuningCleanDatasets\n",
        "\n",
        "!mkdir fineTuningCleanDatasets/code_code\n",
        "!mkdir fineTuningCleanDatasets/code_comment\n",
        "!mkdir fineTuningCleanDatasets/codeANDcomment_code\n",
        "!mkdir fineTuningCleanDatasets/marked_code\n",
        "\n",
        "!gsutil cp ./train.csv gs://{bucket_name}/dataset/new/train.csv\n",
        "!gsutil cp ./test.csv gs://{bucket_name}/dataset/new/test.csv\n",
        "!gsutil cp ./val.csv gs://{bucket_name}/dataset/new/val.csv\n"
      ],
      "execution_count": null,
      "outputs": [
        {
          "output_type": "stream",
          "text": [
            "Copying gs://code_review_automation/dataset/new/final_df.csv...\n",
            "- [1 files][350.6 MiB/350.6 MiB]                                                \n",
            "Operation completed over 1 objects/350.6 MiB.                                    \n",
            "                                                  comment  ...                               comment_no_stopwords\n",
            "0       Don't initialize to null - the value is set in...  ...  initialize null - is set in paths setting null...\n",
            "1       There's no need to have a remove of the proper...  ...                 need a remove of property is there\n",
            "2                                   Why use a LinkedList?  ...                                       a LinkedList\n",
            "3        Please use map and not the deprecated transform.  ...                    Please map deprecated transform\n",
            "4       Don't provide a name to newTopology and the na...  ...  provide a name newTopology name of test used, ...\n",
            "...                                                   ...  ...                                                ...\n",
            "168048  This is not safe, you need to actually check i...  ...  This is safe, need check if started, wait if c...\n",
            "168049                                N 24 09.208 please.  ...                                 N 24 09.208 please\n",
            "168050  I wonder what we are saying with this error. M...  ...  I this error. this a fatal error - pretty happ...\n",
            "168051  Previously we used:  java Map<String, String[]...  ...  Previously used: java Map<String, String[]> ac...\n",
            "168052  Use Collections.enumeration(Arrays.asList(...)...  ...  Collections.enumeration(Arrays.asList(...)) in...\n",
            "\n",
            "[168053 rows x 5 columns]\n",
            "134442\n",
            "16806\n",
            "16805\n",
            "mkdir: cannot create directory ‘fineTuningCleanDatasets’: File exists\n",
            "mkdir: cannot create directory ‘fineTuningCleanDatasets/code_code’: File exists\n",
            "mkdir: cannot create directory ‘fineTuningCleanDatasets/code_comment’: File exists\n",
            "mkdir: cannot create directory ‘fineTuningCleanDatasets/codeANDcomment_code’: File exists\n",
            "mkdir: cannot create directory ‘fineTuningCleanDatasets/marked_code’: File exists\n",
            "Copying file://./train.csv [Content-Type=text/csv]...\n",
            "==> NOTE: You are uploading one or more large file(s), which would run\n",
            "significantly faster if you enable parallel composite uploads. This\n",
            "feature can be enabled by editing the\n",
            "\"parallel_composite_upload_threshold\" value in your .boto\n",
            "configuration file. However, note that if you do this large files will\n",
            "be uploaded as `composite objects\n",
            "<https://cloud.google.com/storage/docs/composite-objects>`_,which\n",
            "means that any user who downloads such objects will need to have a\n",
            "compiled crcmod installed (see \"gsutil help crcmod\"). This is because\n",
            "without a compiled crcmod, computing checksums on composite objects is\n",
            "so slow that gsutil disables downloads of composite objects.\n",
            "\n",
            "/ [1 files][279.8 MiB/279.8 MiB]                                                \n",
            "Operation completed over 1 objects/279.8 MiB.                                    \n",
            "Copying file://./test.csv [Content-Type=text/csv]...\n",
            "-\n",
            "Operation completed over 1 objects/34.9 MiB.                                     \n",
            "Copying file://./val.csv [Content-Type=text/csv]...\n",
            "/ [1 files][ 35.0 MiB/ 35.0 MiB]                                                \n",
            "Operation completed over 1 objects/35.0 MiB.                                     \n"
          ],
          "name": "stdout"
        }
      ]
    },
    {
      "cell_type": "code",
      "metadata": {
        "colab": {
          "base_uri": "https://localhost:8080/"
        },
        "id": "cG_DcrOp6UlI",
        "outputId": "13c9283c-eb68-40d2-e8b1-b6e22746d88d"
      },
      "source": [
        "def exportVersions(df_name):\n",
        "  df = pd.read_csv(\"./\" + df_name + \".csv\")  \n",
        "  all_columns = list(df)\n",
        "  df[all_columns] = df[all_columns].astype(str)\n",
        "\n",
        "  with open(\"fineTuningCleanDatasets/code_code/\" + df_name + \".tsv\", \"w\") as f:\n",
        "    for index, row in df.iterrows():\n",
        "      f.write(row['before'].strip() + \"\\t\" + row['after'].strip() + \"\\n\")\n",
        "\n",
        "  with open(\"fineTuningCleanDatasets/code_comment/\" + df_name + \".tsv\", \"w\") as f:\n",
        "    for index, row in df.iterrows():\n",
        "      f.write(row['before'].strip() + \"\\t\" + row['comment'].strip() + \"\\n\")\n",
        "  \n",
        "  with open(\"fineTuningCleanDatasets/marked_code/\" + df_name + \".tsv\", \"w\") as f:\n",
        "    for index, row in df.iterrows():\n",
        "      f.write(row['before_marked'].strip() + \"\\t\" + row['after'].strip() + \"\\n\")\n",
        "\n",
        "  with open(\"fineTuningCleanDatasets/codeANDcomment_code/\" + df_name + \".tsv\", \"w\") as f:\n",
        "    for index, row in df.iterrows():\n",
        "      f.write(\"<code>\" + row['before_marked'].strip() + \"</code><technical_language>\" + row['comment_no_stopwords'].strip() + \"</technical_language>\\t\" + row['after'].strip() + \"\\n\")\n",
        "\n",
        "exportVersions(\"val\")\n",
        "exportVersions(\"train\")\n",
        "exportVersions(\"test\")\n",
        "\n",
        "!gsutil cp ./fineTuningCleanDatasets/code_code/test.tsv gs://{bucket_name}/dataset/new/fineTuningDatasets/code_code/test.tsv\n",
        "!gsutil cp ./fineTuningCleanDatasets/code_code/train.tsv gs://{bucket_name}/dataset/new/fineTuningDatasets/code_code/train.tsv\n",
        "!gsutil cp ./fineTuningCleanDatasets/code_code/val.tsv gs://{bucket_name}/dataset/new/fineTuningDatasets/code_code/val.tsv\n",
        "\n",
        "!gsutil cp ./fineTuningCleanDatasets/codeANDcomment_code/test.tsv gs://{bucket_name}/dataset/new/fineTuningDatasets/codeANDcomment_code/test.tsv\n",
        "!gsutil cp ./fineTuningCleanDatasets/codeANDcomment_code/train.tsv gs://{bucket_name}/dataset/new/fineTuningDatasets/codeANDcomment_code/train.tsv\n",
        "!gsutil cp ./fineTuningCleanDatasets/codeANDcomment_code/val.tsv gs://{bucket_name}/dataset/new/fineTuningDatasets/codeANDcomment_code/val.tsv\n",
        "\n",
        "!gsutil cp ./fineTuningCleanDatasets/code_comment/test.tsv gs://{bucket_name}/dataset/new/fineTuningDatasets/code_comment/test.tsv\n",
        "!gsutil cp ./fineTuningCleanDatasets/code_comment/train.tsv gs://{bucket_name}/dataset/new/fineTuningDatasets/code_comment/train.tsv\n",
        "!gsutil cp ./fineTuningCleanDatasets/code_comment/val.tsv gs://{bucket_name}/dataset/new/fineTuningDatasets/code_comment/val.tsv\n",
        "\n",
        "!gsutil cp ./fineTuningCleanDatasets/marked_code/test.tsv gs://{bucket_name}/dataset/new/fineTuningDatasets/marked_code/test.tsv\n",
        "!gsutil cp ./fineTuningCleanDatasets/marked_code/train.tsv gs://{bucket_name}/dataset/new/fineTuningDatasets/marked_code/train.tsv\n",
        "!gsutil cp ./fineTuningCleanDatasets/marked_code/val.tsv gs://{bucket_name}/dataset/new/fineTuningDatasets/marked_code/val.tsv"
      ],
      "execution_count": null,
      "outputs": [
        {
          "output_type": "stream",
          "text": [
            "Copying file://./fineTuningCleanDatasets/code_code/test.tsv [Content-Type=text/tab-separated-values]...\n",
            "-\n",
            "Operation completed over 1 objects/20.7 MiB.                                     \n",
            "Copying file://./fineTuningCleanDatasets/code_code/train.tsv [Content-Type=text/tab-separated-values]...\n",
            "==> NOTE: You are uploading one or more large file(s), which would run\n",
            "significantly faster if you enable parallel composite uploads. This\n",
            "feature can be enabled by editing the\n",
            "\"parallel_composite_upload_threshold\" value in your .boto\n",
            "configuration file. However, note that if you do this large files will\n",
            "be uploaded as `composite objects\n",
            "<https://cloud.google.com/storage/docs/composite-objects>`_,which\n",
            "means that any user who downloads such objects will need to have a\n",
            "compiled crcmod installed (see \"gsutil help crcmod\"). This is because\n",
            "without a compiled crcmod, computing checksums on composite objects is\n",
            "so slow that gsutil disables downloads of composite objects.\n",
            "\n",
            "|\n",
            "Operation completed over 1 objects/166.1 MiB.                                    \n",
            "Copying file://./fineTuningCleanDatasets/code_code/val.tsv [Content-Type=text/tab-separated-values]...\n",
            "/ [1 files][ 20.8 MiB/ 20.8 MiB]                                                \n",
            "Operation completed over 1 objects/20.8 MiB.                                     \n",
            "Copying file://./fineTuningCleanDatasets/codeANDcomment_code/test.tsv [Content-Type=text/tab-separated-values]...\n",
            "-\n",
            "Operation completed over 1 objects/23.1 MiB.                                     \n",
            "Copying file://./fineTuningCleanDatasets/codeANDcomment_code/train.tsv [Content-Type=text/tab-separated-values]...\n",
            "==> NOTE: You are uploading one or more large file(s), which would run\n",
            "significantly faster if you enable parallel composite uploads. This\n",
            "feature can be enabled by editing the\n",
            "\"parallel_composite_upload_threshold\" value in your .boto\n",
            "configuration file. However, note that if you do this large files will\n",
            "be uploaded as `composite objects\n",
            "<https://cloud.google.com/storage/docs/composite-objects>`_,which\n",
            "means that any user who downloads such objects will need to have a\n",
            "compiled crcmod installed (see \"gsutil help crcmod\"). This is because\n",
            "without a compiled crcmod, computing checksums on composite objects is\n",
            "so slow that gsutil disables downloads of composite objects.\n",
            "\n",
            "/\n",
            "Operation completed over 1 objects/185.0 MiB.                                    \n",
            "Copying file://./fineTuningCleanDatasets/codeANDcomment_code/val.tsv [Content-Type=text/tab-separated-values]...\n",
            "/ [1 files][ 23.1 MiB/ 23.1 MiB]                                                \n",
            "Operation completed over 1 objects/23.1 MiB.                                     \n",
            "Copying file://./fineTuningCleanDatasets/code_comment/test.tsv [Content-Type=text/tab-separated-values]...\n",
            "/ [1 files][ 12.3 MiB/ 12.3 MiB]                                                \n",
            "Operation completed over 1 objects/12.3 MiB.                                     \n",
            "Copying file://./fineTuningCleanDatasets/code_comment/train.tsv [Content-Type=text/tab-separated-values]...\n",
            "\\\n",
            "Operation completed over 1 objects/98.8 MiB.                                     \n",
            "Copying file://./fineTuningCleanDatasets/code_comment/val.tsv [Content-Type=text/tab-separated-values]...\n",
            "/ [1 files][ 12.4 MiB/ 12.4 MiB]                                                \n",
            "Operation completed over 1 objects/12.4 MiB.                                     \n",
            "Copying file://./fineTuningCleanDatasets/marked_code/test.tsv [Content-Type=text/tab-separated-values]...\n",
            "/ [1 files][ 20.9 MiB/ 20.9 MiB]                                                \n",
            "Operation completed over 1 objects/20.9 MiB.                                     \n",
            "Copying file://./fineTuningCleanDatasets/marked_code/train.tsv [Content-Type=text/tab-separated-values]...\n",
            "==> NOTE: You are uploading one or more large file(s), which would run\n",
            "significantly faster if you enable parallel composite uploads. This\n",
            "feature can be enabled by editing the\n",
            "\"parallel_composite_upload_threshold\" value in your .boto\n",
            "configuration file. However, note that if you do this large files will\n",
            "be uploaded as `composite objects\n",
            "<https://cloud.google.com/storage/docs/composite-objects>`_,which\n",
            "means that any user who downloads such objects will need to have a\n",
            "compiled crcmod installed (see \"gsutil help crcmod\"). This is because\n",
            "without a compiled crcmod, computing checksums on composite objects is\n",
            "so slow that gsutil disables downloads of composite objects.\n",
            "\n",
            "|\n",
            "Operation completed over 1 objects/167.8 MiB.                                    \n",
            "Copying file://./fineTuningCleanDatasets/marked_code/val.tsv [Content-Type=text/tab-separated-values]...\n",
            "/ [1 files][ 21.0 MiB/ 21.0 MiB]                                                \n",
            "Operation completed over 1 objects/21.0 MiB.                                     \n"
          ],
          "name": "stdout"
        }
      ]
    },
    {
      "cell_type": "code",
      "metadata": {
        "colab": {
          "base_uri": "https://localhost:8080/"
        },
        "id": "XHIJEUTYC5Hk",
        "outputId": "4c76d87f-d821-419b-8172-9ad8b21144aa"
      },
      "source": [
        "!head -n6 ./fineTuningCleanDatasets/code_code/test.tsv\n",
        "print()\n",
        "!head -n6 ./fineTuningCleanDatasets/codeANDcomment_code/test.tsv\n",
        "print()\n",
        "!head -n6 ./fineTuningCleanDatasets/marked_code/test.tsv\n",
        "print()\n",
        "!head -n6 ./fineTuningCleanDatasets/code_comment/test.tsv"
      ],
      "execution_count": null,
      "outputs": [
        {
          "output_type": "stream",
          "text": [
            "public static EnvironmentVariableConfig fromJSON(JsonReader jsonReader) { String name = jsonReader.getString(\"name\"); Boolean secure = jsonReader.optBoolean(\"secure\").orElse(false); Optional<String> optValue = jsonReader.optString(\"value\"); Optional<String> optEncValue = jsonReader.optString(\"encrypted_value\"); if (!optValue.isPresent() && !optEncValue.isPresent()) { HaltApiResponses.haltBecauseOfReason(\"Environment variable must contain either 'value' or 'encrypted_value'\"); } String value = secure ? optValue.orElse(null) : jsonReader.getString(\"value\"); String encryptedValue = optEncValue.orElse(null); try { EnvironmentVariableConfig environmentVariableConfig = new EnvironmentVariableConfig(); environmentVariableConfig.deserialize(name, value, secure, encryptedValue); return environmentVariableConfig; } catch (CryptoException e) { throw new InvalidGoCipherTextRuntimeException(e.getMessage(), e); } }\tpublic static EnvironmentVariableConfig fromJSON(JsonReader jsonReader) { String name = jsonReader.getString(\"name\"); Boolean secure = jsonReader.optBoolean(\"secure\").orElse(false); Optional<String> optValue = jsonReader.optString(\"value\"); Optional<String> optEncValue = jsonReader.optString(\"encrypted_value\"); if (!optValue.isPresent() && !optEncValue.isPresent()) { HaltApiResponses.haltBecauseOfReason(\"Environment variable must contain either 'value' or 'encrypted_value'\"); } String value = secure ? optValue.orElse(null) : jsonReader.getString(\"value\"); String encryptedValue = optEncValue.orElse(null); EnvironmentVariableConfig environmentVariableConfig = new EnvironmentVariableConfig(); try { environmentVariableConfig.deserialize(name, value, secure, encryptedValue); } catch (CryptoException e) { environmentVariableConfig.addError(name, e.getMessage()); } return environmentVariableConfig; }\n",
            "public void addUserMetaData(Map<String, String> userMetaDataMap) { StringBuilder userMetadata = new StringBuilder(\"?SDK=Android&Version=\" + SDK_VERSION); if (userMetaDataMap != null) { for (Map.Entry<String, String> metaData : userMetaDataMap.entrySet()) { userMetadata.append(\"&\" + metaData.getKey() + \"=\" + metaData.getValue()); } } if(userMetadata.length() > 255) { LOGGER.warn(\"Too many characters. User metadata was truncated.\", new IllegalArgumentException(\"Total number of characters in user metadata\" + \" cannot exceed \" + (255 - (\"?SDK=Android&Version=\" + SDK_VERSION).length()))); this.userMetaData = userMetadata.substring(0, 255); } else { this.userMetaData = userMetadata.toString(); } }\tpublic void addUserMetaData(Map<String, String> userMetaDataMap) { StringBuilder userMetadata = new StringBuilder(\"?SDK=Android&Version=\" + SDK_VERSION); int baseLength = userMetadata.length(); if (userMetaDataMap != null) { for (Map.Entry<String, String> metaData : userMetaDataMap.entrySet()) { userMetadata.append(\"&\" + metaData.getKey() + \"=\" + metaData.getValue()); } } if(userMetadata.length() > 255) { LOGGER.warn(\"Too many characters. User metadata was truncated.\", new IllegalArgumentException(\"Total number of characters in user metadata\" + \" cannot exceed \" + (255 - baseLength))); this.userMetaData = userMetadata.substring(0, 255); } else { this.userMetaData = userMetadata.toString(); } }\n",
            "private static long fillNextLeafNode(HistoryTreeStub ht, long leafNodeStart) { int prevCount = ht.getNodeCount(); int prevDepth = ht.getDepth(); HTNode node = ht.getLatestLeaf(); int intervalSize = new HTInterval(10, 20, 1, STRING_VALUE).getIntervalSize(); int nodeFreeSpace = node.getNodeFreeSpace(); int nbIntervals = nodeFreeSpace / intervalSize; long ret = fillValues(ht, STRING_VALUE, nbIntervals, leafNodeStart); assertEquals(prevCount, ht.getNodeCount()); assertEquals(prevDepth, ht.getDepth()); return ret; }\tprivate static long fillNextLeafNode(HistoryTreeStub ht, long leafNodeStart) { int prevCount = ht.getNodeCount(); int prevDepth = ht.getDepth(); HTNode node = ht.getLatestLeaf(); int intervalSize = STRING_INTERVAL.getIntervalSizeOnDisk(); int nodeFreeSpace = node.getNodeFreeSpace(); int nbIntervals = nodeFreeSpace / intervalSize; long ret = fillValues(ht, STRING_VALUE, nbIntervals, leafNodeStart); assertEquals(prevCount, ht.getNodeCount()); assertEquals(prevDepth, ht.getDepth()); return ret; }\n",
            "public void onCompletion(Void result, Exception exception) { long processingStartTimeMs = SystemTime.getInstance().milliseconds(); metrics.getSignedUrlSecurityPostProcessRequestTimeInMs.update(processingStartTimeMs - operationStartTimeMs); try { if (exception == null) { String signedUrl = urlSigningService.getSignedUrl(restRequest); LOGGER.debug(\"Generated {} from {}\", signedUrl, restRequest); restResponseChannel.setHeader(RestUtils.Headers.DATE, new GregorianCalendar().getTime()); restResponseChannel.setHeader(RestUtils.Headers.SIGNED_URL, signedUrl); restResponseChannel.setHeader(RestUtils.Headers.CONTENT_LENGTH, 0); final long processResponseStartTimeMs = SystemTime.getInstance().milliseconds(); securityService.processResponse(restRequest, restResponseChannel, null, (voidResult, processResponseException) -> { metrics.getSignedUrlSecurityResponseTimeInMs.update( SystemTime.getInstance().milliseconds() - processResponseStartTimeMs); callback.onCompletion(null, processResponseException); }); } } catch (Exception e) { exception = e; } finally { metrics.getSignedUrlProcessingTimeInMs.update(SystemTime.getInstance().milliseconds() - processingStartTimeMs); if (exception != null) { callback.onCompletion(null, exception); } } }\tpublic void onCompletion(Void result, Exception exception) { long processingStartTimeMs = SystemTime.getInstance().milliseconds(); metrics.getSignedUrlSecurityPostProcessRequestTimeInMs.update(processingStartTimeMs - operationStartTimeMs); try { if (exception == null) { String signedUrl = urlSigningService.getSignedUrl(restRequest); LOGGER.debug(\"Generated {} from {}\", signedUrl, restRequest); restResponseChannel.setHeader(RestUtils.Headers.DATE, new GregorianCalendar().getTime()); restResponseChannel.setHeader(RestUtils.Headers.SIGNED_URL, signedUrl); restResponseChannel.setHeader(RestUtils.Headers.CONTENT_LENGTH, 0); final long processResponseStartTimeMs = SystemTime.getInstance().milliseconds(); securityService.processResponse(restRequest, restResponseChannel, null, (processResponseResult, processResponseException) -> { metrics.getSignedUrlSecurityResponseTimeInMs.update( SystemTime.getInstance().milliseconds() - processResponseStartTimeMs); callback.onCompletion(null, processResponseException); }); } } catch (Exception e) { exception = e; } finally { metrics.getSignedUrlProcessingTimeInMs.update(SystemTime.getInstance().milliseconds() - processingStartTimeMs); if (exception != null) { callback.onCompletion(null, exception); } } }\n",
            "public void steps_are_not_executed_on_dry_run() throws Throwable { { StepDefinition stepDefinition = mock(StepDefinition.class); Runtime runtime = createRuntime(backend); runtime.getRunner().runPickle(createPickleEventMatchingStepDefinitions(asList(stepDefinition), runtime)); verify(stepDefinition).execute(Matchers.anyString(), Matchers.<Object[]>any()); } { StepDefinition stepDefinition = mock(StepDefinition.class); Runtime dryRuntime = createRuntime(backend, \"--dry-run\"); dryRuntime.getRunner().runPickle(createPickleEventMatchingStepDefinitions(asList(stepDefinition), dryRuntime)); verify(stepDefinition, never()).execute(Matchers.anyString(), Matchers.<Object[]>any()); } }\tpublic void steps_are_not_executed_on_dry_run() throws Throwable { final StepDefinition stepDefinition = mock(StepDefinition.class); final Runtime dryRuntime = createRuntime(backend, \"--dry-run\"); dryRuntime.getRunner().runPickle(createPickleEventMatchingStepDefinitions(asList(stepDefinition), dryRuntime)); verify(stepDefinition, never()).execute(Matchers.anyString(), Matchers.<Object[]>any()); }\n",
            "public void testValidationChecksumBuilderChecksumArtifactsNullFails() { final Builder builder = new ValidationChecksum.Builder().destination(checksumdirectory); final Artifact a1 = TestArtifactBuilder.testArtifact().groupId(\"org.apache.maven.plugins\") .artifactId(\"maven-compiler-plugin\").packaging(\"jar\").version(\"1.0\").build(); final Artifact a2 = TestArtifactBuilder.testArtifact().groupId(\"org.apache.commons\").artifactId(\"commons-io\") .packaging(\"jar\").version(\"1.0\").build(); assertThatThrownBy(() -> builder.artifacts(asList(a1, a2, null)).build()) .isExactlyInstanceOf(NullPointerException.class); }\tpublic void testValidationChecksumBuilderChecksumArtifactsNullFails() { final Builder builder = new ValidationChecksum.Builder().destination(checksumdirectory); final Artifact a1 = TestArtifactBuilder.testArtifact().groupId(\"org.apache.maven.plugins\") .artifactId(\"maven-compiler-plugin\").packaging(\"jar\").version(\"1.0\").build(); final Artifact a2 = TestArtifactBuilder.testArtifact().groupId(\"org.apache.commons\").artifactId(\"commons-io\") .packaging(\"jar\").version(\"1.0\").build(); final List<Artifact> artifacts = asList(a1, a2, null); assertThatCode(() -> builder.artifacts(artifacts).build()) .isExactlyInstanceOf(NullPointerException.class); }\n",
            "\n",
            "<code>public static EnvironmentVariableConfig fromJSON(JsonReader jsonReader) { String name = jsonReader.getString(\"name\"); Boolean secure = jsonReader.optBoolean(\"secure\").orElse(false); Optional<String> optValue = jsonReader.optString(\"value\"); Optional<String> optEncValue = jsonReader.optString(\"encrypted_value\"); if (!optValue.isPresent() && !optEncValue.isPresent()) { HaltApiResponses.haltBecauseOfReason(\"Environment variable must contain either 'value' or 'encrypted_value'\"); } String value = secure ? optValue.orElse(null) : jsonReader.getString(\"value\"); String encryptedValue = optEncValue.orElse(null); try { EnvironmentVariableConfig environmentVariableConfig = new EnvironmentVariableConfig(); <START> environmentVariableConfig.deserialize(name, value, secure, encryptedValue); <END> return environmentVariableConfig; } catch (CryptoException e) { throw new InvalidGoCipherTextRuntimeException(e.getMessage(), e); } }</code><technical_language>perform this check environmentVariableConfig.deserialize handles it? <LINK_0></technical_language>\tpublic static EnvironmentVariableConfig fromJSON(JsonReader jsonReader) { String name = jsonReader.getString(\"name\"); Boolean secure = jsonReader.optBoolean(\"secure\").orElse(false); Optional<String> optValue = jsonReader.optString(\"value\"); Optional<String> optEncValue = jsonReader.optString(\"encrypted_value\"); if (!optValue.isPresent() && !optEncValue.isPresent()) { HaltApiResponses.haltBecauseOfReason(\"Environment variable must contain either 'value' or 'encrypted_value'\"); } String value = secure ? optValue.orElse(null) : jsonReader.getString(\"value\"); String encryptedValue = optEncValue.orElse(null); EnvironmentVariableConfig environmentVariableConfig = new EnvironmentVariableConfig(); try { environmentVariableConfig.deserialize(name, value, secure, encryptedValue); } catch (CryptoException e) { environmentVariableConfig.addError(name, e.getMessage()); } return environmentVariableConfig; }\n",
            "<code>public void addUserMetaData(Map<String, String> userMetaDataMap) { StringBuilder userMetadata = new StringBuilder(\"?SDK=Android&Version=\" + SDK_VERSION); if (userMetaDataMap != null) { for (Map.Entry<String, String> metaData : userMetaDataMap.entrySet()) { userMetadata.append(\"&\" + metaData.getKey() + \"=\" + metaData.getValue()); } } if(userMetadata.length() > 255) { LOGGER.warn(\"Too many characters. User metadata was truncated.\", new IllegalArgumentException(\"Total number of characters in user metadata\" + <START> \" cannot exceed \" + (255 - (\"?SDK=Android&Version=\" + SDK_VERSION).length()))); <END> this.userMetaData = userMetadata.substring(0, 255); } else { this.userMetaData = userMetadata.toString(); } }</code><technical_language>Aovid code duplication capturing length line 222 a local variable</technical_language>\tpublic void addUserMetaData(Map<String, String> userMetaDataMap) { StringBuilder userMetadata = new StringBuilder(\"?SDK=Android&Version=\" + SDK_VERSION); int baseLength = userMetadata.length(); if (userMetaDataMap != null) { for (Map.Entry<String, String> metaData : userMetaDataMap.entrySet()) { userMetadata.append(\"&\" + metaData.getKey() + \"=\" + metaData.getValue()); } } if(userMetadata.length() > 255) { LOGGER.warn(\"Too many characters. User metadata was truncated.\", new IllegalArgumentException(\"Total number of characters in user metadata\" + \" cannot exceed \" + (255 - baseLength))); this.userMetaData = userMetadata.substring(0, 255); } else { this.userMetaData = userMetadata.toString(); } }\n",
            "<code>private static long fillNextLeafNode(HistoryTreeStub ht, long leafNodeStart) { int prevCount = ht.getNodeCount(); int prevDepth = ht.getDepth(); HTNode node = ht.getLatestLeaf(); <START> int intervalSize = new HTInterval(10, 20, 1, STRING_VALUE).getIntervalSize(); <END> int nodeFreeSpace = node.getNodeFreeSpace(); int nbIntervals = nodeFreeSpace / intervalSize; long ret = fillValues(ht, STRING_VALUE, nbIntervals, leafNodeStart); assertEquals(prevCount, ht.getNodeCount()); assertEquals(prevDepth, ht.getDepth()); return ret; }</code><technical_language>hard-code values (static final int, for type), instead of creating a dummy interval time</technical_language>\tprivate static long fillNextLeafNode(HistoryTreeStub ht, long leafNodeStart) { int prevCount = ht.getNodeCount(); int prevDepth = ht.getDepth(); HTNode node = ht.getLatestLeaf(); int intervalSize = STRING_INTERVAL.getIntervalSizeOnDisk(); int nodeFreeSpace = node.getNodeFreeSpace(); int nbIntervals = nodeFreeSpace / intervalSize; long ret = fillValues(ht, STRING_VALUE, nbIntervals, leafNodeStart); assertEquals(prevCount, ht.getNodeCount()); assertEquals(prevDepth, ht.getDepth()); return ret; }\n",
            "<code>public void onCompletion(Void result, Exception exception) { long processingStartTimeMs = SystemTime.getInstance().milliseconds(); metrics.getSignedUrlSecurityPostProcessRequestTimeInMs.update(processingStartTimeMs - operationStartTimeMs); try { if (exception == null) { String signedUrl = urlSigningService.getSignedUrl(restRequest); LOGGER.debug(\"Generated {} from {}\", signedUrl, restRequest); restResponseChannel.setHeader(RestUtils.Headers.DATE, new GregorianCalendar().getTime()); restResponseChannel.setHeader(RestUtils.Headers.SIGNED_URL, signedUrl); restResponseChannel.setHeader(RestUtils.Headers.CONTENT_LENGTH, 0); final long processResponseStartTimeMs = SystemTime.getInstance().milliseconds(); securityService.processResponse(restRequest, restResponseChannel, null, <START> (voidResult, processResponseException) -> { <END> metrics.getSignedUrlSecurityResponseTimeInMs.update( SystemTime.getInstance().milliseconds() - processResponseStartTimeMs); callback.onCompletion(null, processResponseException); }); } } catch (Exception e) { exception = e; } finally { metrics.getSignedUrlProcessingTimeInMs.update(SystemTime.getInstance().milliseconds() - processingStartTimeMs); if (exception != null) { callback.onCompletion(null, exception); } } }</code><technical_language>minor: instead of voidResult processResponseResult name</technical_language>\tpublic void onCompletion(Void result, Exception exception) { long processingStartTimeMs = SystemTime.getInstance().milliseconds(); metrics.getSignedUrlSecurityPostProcessRequestTimeInMs.update(processingStartTimeMs - operationStartTimeMs); try { if (exception == null) { String signedUrl = urlSigningService.getSignedUrl(restRequest); LOGGER.debug(\"Generated {} from {}\", signedUrl, restRequest); restResponseChannel.setHeader(RestUtils.Headers.DATE, new GregorianCalendar().getTime()); restResponseChannel.setHeader(RestUtils.Headers.SIGNED_URL, signedUrl); restResponseChannel.setHeader(RestUtils.Headers.CONTENT_LENGTH, 0); final long processResponseStartTimeMs = SystemTime.getInstance().milliseconds(); securityService.processResponse(restRequest, restResponseChannel, null, (processResponseResult, processResponseException) -> { metrics.getSignedUrlSecurityResponseTimeInMs.update( SystemTime.getInstance().milliseconds() - processResponseStartTimeMs); callback.onCompletion(null, processResponseException); }); } } catch (Exception e) { exception = e; } finally { metrics.getSignedUrlProcessingTimeInMs.update(SystemTime.getInstance().milliseconds() - processingStartTimeMs); if (exception != null) { callback.onCompletion(null, exception); } } }\n",
            "<code><START> public void steps_are_not_executed_on_dry_run() throws Throwable { <END> { StepDefinition stepDefinition = mock(StepDefinition.class); Runtime runtime = createRuntime(backend); runtime.getRunner().runPickle(createPickleEventMatchingStepDefinitions(asList(stepDefinition), runtime)); verify(stepDefinition).execute(Matchers.anyString(), Matchers.<Object[]>any()); } { StepDefinition stepDefinition = mock(StepDefinition.class); Runtime dryRuntime = createRuntime(backend, \"--dry-run\"); dryRuntime.getRunner().runPickle(createPickleEventMatchingStepDefinitions(asList(stepDefinition), dryRuntime)); verify(stepDefinition, never()).execute(Matchers.anyString(), Matchers.<Object[]>any()); } }</code><technical_language>This test verifies things. I tests</technical_language>\tpublic void steps_are_not_executed_on_dry_run() throws Throwable { final StepDefinition stepDefinition = mock(StepDefinition.class); final Runtime dryRuntime = createRuntime(backend, \"--dry-run\"); dryRuntime.getRunner().runPickle(createPickleEventMatchingStepDefinitions(asList(stepDefinition), dryRuntime)); verify(stepDefinition, never()).execute(Matchers.anyString(), Matchers.<Object[]>any()); }\n",
            "<code>public void testValidationChecksumBuilderChecksumArtifactsNullFails() { final Builder builder = new ValidationChecksum.Builder().destination(checksumdirectory); final Artifact a1 = TestArtifactBuilder.testArtifact().groupId(\"org.apache.maven.plugins\") .artifactId(\"maven-compiler-plugin\").packaging(\"jar\").version(\"1.0\").build(); final Artifact a2 = TestArtifactBuilder.testArtifact().groupId(\"org.apache.commons\").artifactId(\"commons-io\") .packaging(\"jar\").version(\"1.0\").build(); <START> assertThatThrownBy(() -> builder.artifacts(asList(a1, a2, null)).build()) <END> .isExactlyInstanceOf(NullPointerException.class); }</code><technical_language>in this case asList(a1, a2, null) assigned variable, call build method</technical_language>\tpublic void testValidationChecksumBuilderChecksumArtifactsNullFails() { final Builder builder = new ValidationChecksum.Builder().destination(checksumdirectory); final Artifact a1 = TestArtifactBuilder.testArtifact().groupId(\"org.apache.maven.plugins\") .artifactId(\"maven-compiler-plugin\").packaging(\"jar\").version(\"1.0\").build(); final Artifact a2 = TestArtifactBuilder.testArtifact().groupId(\"org.apache.commons\").artifactId(\"commons-io\") .packaging(\"jar\").version(\"1.0\").build(); final List<Artifact> artifacts = asList(a1, a2, null); assertThatCode(() -> builder.artifacts(artifacts).build()) .isExactlyInstanceOf(NullPointerException.class); }\n",
            "\n",
            "public static EnvironmentVariableConfig fromJSON(JsonReader jsonReader) { String name = jsonReader.getString(\"name\"); Boolean secure = jsonReader.optBoolean(\"secure\").orElse(false); Optional<String> optValue = jsonReader.optString(\"value\"); Optional<String> optEncValue = jsonReader.optString(\"encrypted_value\"); if (!optValue.isPresent() && !optEncValue.isPresent()) { HaltApiResponses.haltBecauseOfReason(\"Environment variable must contain either 'value' or 'encrypted_value'\"); } String value = secure ? optValue.orElse(null) : jsonReader.getString(\"value\"); String encryptedValue = optEncValue.orElse(null); try { EnvironmentVariableConfig environmentVariableConfig = new EnvironmentVariableConfig(); <START> environmentVariableConfig.deserialize(name, value, secure, encryptedValue); <END> return environmentVariableConfig; } catch (CryptoException e) { throw new InvalidGoCipherTextRuntimeException(e.getMessage(), e); } }\tpublic static EnvironmentVariableConfig fromJSON(JsonReader jsonReader) { String name = jsonReader.getString(\"name\"); Boolean secure = jsonReader.optBoolean(\"secure\").orElse(false); Optional<String> optValue = jsonReader.optString(\"value\"); Optional<String> optEncValue = jsonReader.optString(\"encrypted_value\"); if (!optValue.isPresent() && !optEncValue.isPresent()) { HaltApiResponses.haltBecauseOfReason(\"Environment variable must contain either 'value' or 'encrypted_value'\"); } String value = secure ? optValue.orElse(null) : jsonReader.getString(\"value\"); String encryptedValue = optEncValue.orElse(null); EnvironmentVariableConfig environmentVariableConfig = new EnvironmentVariableConfig(); try { environmentVariableConfig.deserialize(name, value, secure, encryptedValue); } catch (CryptoException e) { environmentVariableConfig.addError(name, e.getMessage()); } return environmentVariableConfig; }\n",
            "public void addUserMetaData(Map<String, String> userMetaDataMap) { StringBuilder userMetadata = new StringBuilder(\"?SDK=Android&Version=\" + SDK_VERSION); if (userMetaDataMap != null) { for (Map.Entry<String, String> metaData : userMetaDataMap.entrySet()) { userMetadata.append(\"&\" + metaData.getKey() + \"=\" + metaData.getValue()); } } if(userMetadata.length() > 255) { LOGGER.warn(\"Too many characters. User metadata was truncated.\", new IllegalArgumentException(\"Total number of characters in user metadata\" + <START> \" cannot exceed \" + (255 - (\"?SDK=Android&Version=\" + SDK_VERSION).length()))); <END> this.userMetaData = userMetadata.substring(0, 255); } else { this.userMetaData = userMetadata.toString(); } }\tpublic void addUserMetaData(Map<String, String> userMetaDataMap) { StringBuilder userMetadata = new StringBuilder(\"?SDK=Android&Version=\" + SDK_VERSION); int baseLength = userMetadata.length(); if (userMetaDataMap != null) { for (Map.Entry<String, String> metaData : userMetaDataMap.entrySet()) { userMetadata.append(\"&\" + metaData.getKey() + \"=\" + metaData.getValue()); } } if(userMetadata.length() > 255) { LOGGER.warn(\"Too many characters. User metadata was truncated.\", new IllegalArgumentException(\"Total number of characters in user metadata\" + \" cannot exceed \" + (255 - baseLength))); this.userMetaData = userMetadata.substring(0, 255); } else { this.userMetaData = userMetadata.toString(); } }\n",
            "private static long fillNextLeafNode(HistoryTreeStub ht, long leafNodeStart) { int prevCount = ht.getNodeCount(); int prevDepth = ht.getDepth(); HTNode node = ht.getLatestLeaf(); <START> int intervalSize = new HTInterval(10, 20, 1, STRING_VALUE).getIntervalSize(); <END> int nodeFreeSpace = node.getNodeFreeSpace(); int nbIntervals = nodeFreeSpace / intervalSize; long ret = fillValues(ht, STRING_VALUE, nbIntervals, leafNodeStart); assertEquals(prevCount, ht.getNodeCount()); assertEquals(prevDepth, ht.getDepth()); return ret; }\tprivate static long fillNextLeafNode(HistoryTreeStub ht, long leafNodeStart) { int prevCount = ht.getNodeCount(); int prevDepth = ht.getDepth(); HTNode node = ht.getLatestLeaf(); int intervalSize = STRING_INTERVAL.getIntervalSizeOnDisk(); int nodeFreeSpace = node.getNodeFreeSpace(); int nbIntervals = nodeFreeSpace / intervalSize; long ret = fillValues(ht, STRING_VALUE, nbIntervals, leafNodeStart); assertEquals(prevCount, ht.getNodeCount()); assertEquals(prevDepth, ht.getDepth()); return ret; }\n",
            "public void onCompletion(Void result, Exception exception) { long processingStartTimeMs = SystemTime.getInstance().milliseconds(); metrics.getSignedUrlSecurityPostProcessRequestTimeInMs.update(processingStartTimeMs - operationStartTimeMs); try { if (exception == null) { String signedUrl = urlSigningService.getSignedUrl(restRequest); LOGGER.debug(\"Generated {} from {}\", signedUrl, restRequest); restResponseChannel.setHeader(RestUtils.Headers.DATE, new GregorianCalendar().getTime()); restResponseChannel.setHeader(RestUtils.Headers.SIGNED_URL, signedUrl); restResponseChannel.setHeader(RestUtils.Headers.CONTENT_LENGTH, 0); final long processResponseStartTimeMs = SystemTime.getInstance().milliseconds(); securityService.processResponse(restRequest, restResponseChannel, null, <START> (voidResult, processResponseException) -> { <END> metrics.getSignedUrlSecurityResponseTimeInMs.update( SystemTime.getInstance().milliseconds() - processResponseStartTimeMs); callback.onCompletion(null, processResponseException); }); } } catch (Exception e) { exception = e; } finally { metrics.getSignedUrlProcessingTimeInMs.update(SystemTime.getInstance().milliseconds() - processingStartTimeMs); if (exception != null) { callback.onCompletion(null, exception); } } }\tpublic void onCompletion(Void result, Exception exception) { long processingStartTimeMs = SystemTime.getInstance().milliseconds(); metrics.getSignedUrlSecurityPostProcessRequestTimeInMs.update(processingStartTimeMs - operationStartTimeMs); try { if (exception == null) { String signedUrl = urlSigningService.getSignedUrl(restRequest); LOGGER.debug(\"Generated {} from {}\", signedUrl, restRequest); restResponseChannel.setHeader(RestUtils.Headers.DATE, new GregorianCalendar().getTime()); restResponseChannel.setHeader(RestUtils.Headers.SIGNED_URL, signedUrl); restResponseChannel.setHeader(RestUtils.Headers.CONTENT_LENGTH, 0); final long processResponseStartTimeMs = SystemTime.getInstance().milliseconds(); securityService.processResponse(restRequest, restResponseChannel, null, (processResponseResult, processResponseException) -> { metrics.getSignedUrlSecurityResponseTimeInMs.update( SystemTime.getInstance().milliseconds() - processResponseStartTimeMs); callback.onCompletion(null, processResponseException); }); } } catch (Exception e) { exception = e; } finally { metrics.getSignedUrlProcessingTimeInMs.update(SystemTime.getInstance().milliseconds() - processingStartTimeMs); if (exception != null) { callback.onCompletion(null, exception); } } }\n",
            "<START> public void steps_are_not_executed_on_dry_run() throws Throwable { <END> { StepDefinition stepDefinition = mock(StepDefinition.class); Runtime runtime = createRuntime(backend); runtime.getRunner().runPickle(createPickleEventMatchingStepDefinitions(asList(stepDefinition), runtime)); verify(stepDefinition).execute(Matchers.anyString(), Matchers.<Object[]>any()); } { StepDefinition stepDefinition = mock(StepDefinition.class); Runtime dryRuntime = createRuntime(backend, \"--dry-run\"); dryRuntime.getRunner().runPickle(createPickleEventMatchingStepDefinitions(asList(stepDefinition), dryRuntime)); verify(stepDefinition, never()).execute(Matchers.anyString(), Matchers.<Object[]>any()); } }\tpublic void steps_are_not_executed_on_dry_run() throws Throwable { final StepDefinition stepDefinition = mock(StepDefinition.class); final Runtime dryRuntime = createRuntime(backend, \"--dry-run\"); dryRuntime.getRunner().runPickle(createPickleEventMatchingStepDefinitions(asList(stepDefinition), dryRuntime)); verify(stepDefinition, never()).execute(Matchers.anyString(), Matchers.<Object[]>any()); }\n",
            "public void testValidationChecksumBuilderChecksumArtifactsNullFails() { final Builder builder = new ValidationChecksum.Builder().destination(checksumdirectory); final Artifact a1 = TestArtifactBuilder.testArtifact().groupId(\"org.apache.maven.plugins\") .artifactId(\"maven-compiler-plugin\").packaging(\"jar\").version(\"1.0\").build(); final Artifact a2 = TestArtifactBuilder.testArtifact().groupId(\"org.apache.commons\").artifactId(\"commons-io\") .packaging(\"jar\").version(\"1.0\").build(); <START> assertThatThrownBy(() -> builder.artifacts(asList(a1, a2, null)).build()) <END> .isExactlyInstanceOf(NullPointerException.class); }\tpublic void testValidationChecksumBuilderChecksumArtifactsNullFails() { final Builder builder = new ValidationChecksum.Builder().destination(checksumdirectory); final Artifact a1 = TestArtifactBuilder.testArtifact().groupId(\"org.apache.maven.plugins\") .artifactId(\"maven-compiler-plugin\").packaging(\"jar\").version(\"1.0\").build(); final Artifact a2 = TestArtifactBuilder.testArtifact().groupId(\"org.apache.commons\").artifactId(\"commons-io\") .packaging(\"jar\").version(\"1.0\").build(); final List<Artifact> artifacts = asList(a1, a2, null); assertThatCode(() -> builder.artifacts(artifacts).build()) .isExactlyInstanceOf(NullPointerException.class); }\n",
            "\n",
            "public static EnvironmentVariableConfig fromJSON(JsonReader jsonReader) { String name = jsonReader.getString(\"name\"); Boolean secure = jsonReader.optBoolean(\"secure\").orElse(false); Optional<String> optValue = jsonReader.optString(\"value\"); Optional<String> optEncValue = jsonReader.optString(\"encrypted_value\"); if (!optValue.isPresent() && !optEncValue.isPresent()) { HaltApiResponses.haltBecauseOfReason(\"Environment variable must contain either 'value' or 'encrypted_value'\"); } String value = secure ? optValue.orElse(null) : jsonReader.getString(\"value\"); String encryptedValue = optEncValue.orElse(null); try { EnvironmentVariableConfig environmentVariableConfig = new EnvironmentVariableConfig(); environmentVariableConfig.deserialize(name, value, secure, encryptedValue); return environmentVariableConfig; } catch (CryptoException e) { throw new InvalidGoCipherTextRuntimeException(e.getMessage(), e); } }\tWhy perform this check when environmentVariableConfig.deserialize handles it? <LINK_0>\n",
            "public void addUserMetaData(Map<String, String> userMetaDataMap) { StringBuilder userMetadata = new StringBuilder(\"?SDK=Android&Version=\" + SDK_VERSION); if (userMetaDataMap != null) { for (Map.Entry<String, String> metaData : userMetaDataMap.entrySet()) { userMetadata.append(\"&\" + metaData.getKey() + \"=\" + metaData.getValue()); } } if(userMetadata.length() > 255) { LOGGER.warn(\"Too many characters. User metadata was truncated.\", new IllegalArgumentException(\"Total number of characters in user metadata\" + \" cannot exceed \" + (255 - (\"?SDK=Android&Version=\" + SDK_VERSION).length()))); this.userMetaData = userMetadata.substring(0, 255); } else { this.userMetaData = userMetadata.toString(); } }\tAovid the code duplication here by capturing the length after line 222 into a local variable\n",
            "private static long fillNextLeafNode(HistoryTreeStub ht, long leafNodeStart) { int prevCount = ht.getNodeCount(); int prevDepth = ht.getDepth(); HTNode node = ht.getLatestLeaf(); int intervalSize = new HTInterval(10, 20, 1, STRING_VALUE).getIntervalSize(); int nodeFreeSpace = node.getNodeFreeSpace(); int nbIntervals = nodeFreeSpace / intervalSize; long ret = fillValues(ht, STRING_VALUE, nbIntervals, leafNodeStart); assertEquals(prevCount, ht.getNodeCount()); assertEquals(prevDepth, ht.getDepth()); return ret; }\tjust hard-code these values (static final int, one for each value type), instead of creating a dummy interval every time.\n",
            "public void onCompletion(Void result, Exception exception) { long processingStartTimeMs = SystemTime.getInstance().milliseconds(); metrics.getSignedUrlSecurityPostProcessRequestTimeInMs.update(processingStartTimeMs - operationStartTimeMs); try { if (exception == null) { String signedUrl = urlSigningService.getSignedUrl(restRequest); LOGGER.debug(\"Generated {} from {}\", signedUrl, restRequest); restResponseChannel.setHeader(RestUtils.Headers.DATE, new GregorianCalendar().getTime()); restResponseChannel.setHeader(RestUtils.Headers.SIGNED_URL, signedUrl); restResponseChannel.setHeader(RestUtils.Headers.CONTENT_LENGTH, 0); final long processResponseStartTimeMs = SystemTime.getInstance().milliseconds(); securityService.processResponse(restRequest, restResponseChannel, null, (voidResult, processResponseException) -> { metrics.getSignedUrlSecurityResponseTimeInMs.update( SystemTime.getInstance().milliseconds() - processResponseStartTimeMs); callback.onCompletion(null, processResponseException); }); } } catch (Exception e) { exception = e; } finally { metrics.getSignedUrlProcessingTimeInMs.update(SystemTime.getInstance().milliseconds() - processingStartTimeMs); if (exception != null) { callback.onCompletion(null, exception); } } }\tminor: instead of voidResult you could use processResponseResult as the name\n",
            "public void steps_are_not_executed_on_dry_run() throws Throwable { { StepDefinition stepDefinition = mock(StepDefinition.class); Runtime runtime = createRuntime(backend); runtime.getRunner().runPickle(createPickleEventMatchingStepDefinitions(asList(stepDefinition), runtime)); verify(stepDefinition).execute(Matchers.anyString(), Matchers.<Object[]>any()); } { StepDefinition stepDefinition = mock(StepDefinition.class); Runtime dryRuntime = createRuntime(backend, \"--dry-run\"); dryRuntime.getRunner().runPickle(createPickleEventMatchingStepDefinitions(asList(stepDefinition), dryRuntime)); verify(stepDefinition, never()).execute(Matchers.anyString(), Matchers.<Object[]>any()); } }\tThis test verifies two things. I think it should make into two tests.\n",
            "public void testValidationChecksumBuilderChecksumArtifactsNullFails() { final Builder builder = new ValidationChecksum.Builder().destination(checksumdirectory); final Artifact a1 = TestArtifactBuilder.testArtifact().groupId(\"org.apache.maven.plugins\") .artifactId(\"maven-compiler-plugin\").packaging(\"jar\").version(\"1.0\").build(); final Artifact a2 = TestArtifactBuilder.testArtifact().groupId(\"org.apache.commons\").artifactId(\"commons-io\") .packaging(\"jar\").version(\"1.0\").build(); assertThatThrownBy(() -> builder.artifacts(asList(a1, a2, null)).build()) .isExactlyInstanceOf(NullPointerException.class); }\tin this case asList(a1, a2, null) should be assigned to variable, and don't call build method\n"
          ],
          "name": "stdout"
        }
      ]
    },
    {
      "cell_type": "code",
      "metadata": {
        "colab": {
          "base_uri": "https://localhost:8080/"
        },
        "id": "c84Dx8_EspDs",
        "outputId": "49d53056-e1ee-4088-be0d-3e67dacb8b68"
      },
      "source": [
        "!gsutil -m cp \\\n",
        "  \"gs://code_review_automation/raw_data/pretraining/processed/pretraining_csn.txt\" \\\n",
        "  \"gs://code_review_automation/raw_data/pretraining/processed/pretraining_so.txt\" \\\n",
        "  ."
      ],
      "execution_count": 5,
      "outputs": [
        {
          "output_type": "stream",
          "text": [
            "Copying gs://code_review_automation/raw_data/pretraining/processed/pretraining_csn.txt...\n",
            "Copying gs://code_review_automation/raw_data/pretraining/processed/pretraining_so.txt...\n",
            "- [2/2 files][977.4 MiB/977.4 MiB] 100% Done  23.6 MiB/s ETA 00:00:00           \n",
            "Operation completed over 2 objects/977.4 MiB.                                    \n"
          ],
          "name": "stdout"
        }
      ]
    },
    {
      "cell_type": "code",
      "metadata": {
        "colab": {
          "base_uri": "https://localhost:8080/"
        },
        "id": "obbXP9wptEnE",
        "outputId": "03dcca38-9d6b-4add-ccae-1bc6d0466bc9"
      },
      "source": [
        "!wc -l ./pretraining_csn.txt\n",
        "!wc -l ./pretraining_so.txt"
      ],
      "execution_count": 6,
      "outputs": [
        {
          "output_type": "stream",
          "text": [
            "507947 ./pretraining_csn.txt\n",
            "977672 ./pretraining_so.txt\n"
          ],
          "name": "stdout"
        }
      ]
    }
  ]
}