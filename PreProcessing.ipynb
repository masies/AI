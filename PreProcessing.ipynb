{
  "nbformat": 4,
  "nbformat_minor": 0,
  "metadata": {
    "colab": {
      "name": "PreProcessing.ipynb",
      "provenance": [],
      "collapsed_sections": [
        "dI43He_1LYV0",
        "ms4kn2EJ37rb"
      ],
      "toc_visible": true,
      "machine_shape": "hm",
      "authorship_tag": "ABX9TyMFWpbVZKxmqG+tBkmvs6bR",
      "include_colab_link": true
    },
    "kernelspec": {
      "display_name": "Python 3",
      "name": "python3"
    }
  },
  "cells": [
    {
      "cell_type": "markdown",
      "metadata": {
        "id": "view-in-github",
        "colab_type": "text"
      },
      "source": [
        "<a href=\"https://colab.research.google.com/github/masies/AI/blob/master/PreProcessing.ipynb\" target=\"_parent\"><img src=\"https://colab.research.google.com/assets/colab-badge.svg\" alt=\"Open In Colab\"/></a>"
      ]
    },
    {
      "cell_type": "markdown",
      "metadata": {
        "id": "mqSdLS2U66m_"
      },
      "source": [
        "# PRE_PROCESSING\n"
      ]
    },
    {
      "cell_type": "code",
      "metadata": {
        "colab": {
          "base_uri": "https://localhost:8080/"
        },
        "id": "VSYsm4tNgk7e",
        "outputId": "7cd1f403-3c7a-4b14-a91c-91d46fc5cb0e"
      },
      "source": [
        "from google.colab import auth\n",
        "auth.authenticate_user()\n",
        "project_id = 'helical-loop-303918'\n",
        "bucket_name = 'code_review_automation'\n",
        "!gcloud config set project {project_id}"
      ],
      "execution_count": 1,
      "outputs": [
        {
          "output_type": "stream",
          "text": [
            "Updated property [core/project].\n"
          ],
          "name": "stdout"
        }
      ]
    },
    {
      "cell_type": "code",
      "metadata": {
        "colab": {
          "base_uri": "https://localhost:8080/"
        },
        "id": "jANwa6hJm-Pu",
        "outputId": "2e92ac85-d446-4d26-cb93-16ffe7aea886"
      },
      "source": [
        "!pip install sentencepiece\n",
        "!pip3 install pip install transformers\n",
        "\n",
        "import json\n",
        "import pickle\n",
        "import string\n",
        "import numpy as np\n",
        "import pandas as pd\n",
        "import seaborn as sns\n",
        "import matplotlib.pyplot as plt\n",
        "import sentencepiece as spm\n",
        "import re\n",
        "import unicodedata\n",
        "\n",
        "!pip install nltk\n",
        "from nltk.tokenize import word_tokenize\n",
        "import nltk\n",
        "nltk.download('punkt')"
      ],
      "execution_count": 2,
      "outputs": [
        {
          "output_type": "stream",
          "text": [
            "Requirement already satisfied: sentencepiece in /usr/local/lib/python3.6/dist-packages (0.1.95)\n",
            "Requirement already satisfied: pip in /usr/local/lib/python3.6/dist-packages (19.3.1)\n",
            "Requirement already satisfied: install in /usr/local/lib/python3.6/dist-packages (1.3.4)\n",
            "Requirement already satisfied: transformers in /usr/local/lib/python3.6/dist-packages (4.3.2)\n",
            "Requirement already satisfied: filelock in /usr/local/lib/python3.6/dist-packages (from transformers) (3.0.12)\n",
            "Requirement already satisfied: tokenizers<0.11,>=0.10.1 in /usr/local/lib/python3.6/dist-packages (from transformers) (0.10.1)\n",
            "Requirement already satisfied: numpy>=1.17 in /usr/local/lib/python3.6/dist-packages (from transformers) (1.19.5)\n",
            "Requirement already satisfied: sacremoses in /usr/local/lib/python3.6/dist-packages (from transformers) (0.0.43)\n",
            "Requirement already satisfied: packaging in /usr/local/lib/python3.6/dist-packages (from transformers) (20.9)\n",
            "Requirement already satisfied: dataclasses; python_version < \"3.7\" in /usr/local/lib/python3.6/dist-packages (from transformers) (0.8)\n",
            "Requirement already satisfied: tqdm>=4.27 in /usr/local/lib/python3.6/dist-packages (from transformers) (4.41.1)\n",
            "Requirement already satisfied: importlib-metadata; python_version < \"3.8\" in /usr/local/lib/python3.6/dist-packages (from transformers) (3.4.0)\n",
            "Requirement already satisfied: requests in /usr/local/lib/python3.6/dist-packages (from transformers) (2.23.0)\n",
            "Requirement already satisfied: regex!=2019.12.17 in /usr/local/lib/python3.6/dist-packages (from transformers) (2019.12.20)\n",
            "Requirement already satisfied: joblib in /usr/local/lib/python3.6/dist-packages (from sacremoses->transformers) (1.0.0)\n",
            "Requirement already satisfied: click in /usr/local/lib/python3.6/dist-packages (from sacremoses->transformers) (7.1.2)\n",
            "Requirement already satisfied: six in /usr/local/lib/python3.6/dist-packages (from sacremoses->transformers) (1.15.0)\n",
            "Requirement already satisfied: pyparsing>=2.0.2 in /usr/local/lib/python3.6/dist-packages (from packaging->transformers) (2.4.7)\n",
            "Requirement already satisfied: typing-extensions>=3.6.4; python_version < \"3.8\" in /usr/local/lib/python3.6/dist-packages (from importlib-metadata; python_version < \"3.8\"->transformers) (3.7.4.3)\n",
            "Requirement already satisfied: zipp>=0.5 in /usr/local/lib/python3.6/dist-packages (from importlib-metadata; python_version < \"3.8\"->transformers) (3.4.0)\n",
            "Requirement already satisfied: urllib3!=1.25.0,!=1.25.1,<1.26,>=1.21.1 in /usr/local/lib/python3.6/dist-packages (from requests->transformers) (1.24.3)\n",
            "Requirement already satisfied: certifi>=2017.4.17 in /usr/local/lib/python3.6/dist-packages (from requests->transformers) (2020.12.5)\n",
            "Requirement already satisfied: idna<3,>=2.5 in /usr/local/lib/python3.6/dist-packages (from requests->transformers) (2.10)\n",
            "Requirement already satisfied: chardet<4,>=3.0.2 in /usr/local/lib/python3.6/dist-packages (from requests->transformers) (3.0.4)\n",
            "Requirement already satisfied: nltk in /usr/local/lib/python3.6/dist-packages (3.2.5)\n",
            "Requirement already satisfied: six in /usr/local/lib/python3.6/dist-packages (from nltk) (1.15.0)\n",
            "[nltk_data] Downloading package punkt to /root/nltk_data...\n",
            "[nltk_data]   Package punkt is already up-to-date!\n"
          ],
          "name": "stdout"
        },
        {
          "output_type": "execute_result",
          "data": {
            "text/plain": [
              "True"
            ]
          },
          "metadata": {
            "tags": []
          },
          "execution_count": 2
        }
      ]
    },
    {
      "cell_type": "markdown",
      "metadata": {
        "id": "ExJ1Xpg5LQsJ"
      },
      "source": [
        "## Import java codeSearchNet and stackoverflow archives + cleaning"
      ]
    },
    {
      "cell_type": "code",
      "metadata": {
        "colab": {
          "base_uri": "https://localhost:8080/"
        },
        "id": "SpfXKquiK3Dh",
        "outputId": "fd69402e-f7c3-468a-e2e0-609bbc379954"
      },
      "source": [
        "!gsutil cp gs://{bucket_name}/raw_data/java_dedupe_definitions_v2.pkl ./java_dedupe_definitions_v2.pkl\n",
        "!gsutil cp gs://{bucket_name}/raw_data/stackoverflow.csv ./stackoverflow.csv"
      ],
      "execution_count": null,
      "outputs": [
        {
          "output_type": "stream",
          "text": [
            "Copying gs://code_review_automation/raw_data/java_dedupe_definitions_v2.pkl...\n",
            "- [1 files][  3.6 GiB/  3.6 GiB]   46.4 MiB/s                                   \n",
            "Operation completed over 1 objects/3.6 GiB.                                      \n",
            "Copying gs://code_review_automation/raw_data/stackoverflow.csv...\n",
            "\\ [1 files][883.4 MiB/883.4 MiB]   48.8 MiB/s                                   \n",
            "Operation completed over 1 objects/883.4 MiB.                                    \n"
          ],
          "name": "stdout"
        }
      ]
    },
    {
      "cell_type": "code",
      "metadata": {
        "colab": {
          "base_uri": "https://localhost:8080/"
        },
        "id": "z1XAIzczuMPI",
        "outputId": "bf1e34d5-812f-423c-b33b-caae00554b04"
      },
      "source": [
        "stackOverflowArchive = open(\"stackoverflow.csv\", \"r\")\n",
        "answers = stackOverflowArchive.readlines()\n",
        "stackOverflowArchive.close()\n",
        "\n",
        "answers = answers\n",
        "\n",
        "# remove bunch of markdown trash\n",
        "\n",
        "answers = [x.strip()\n",
        "\t\t\t\t  .replace(\"&#xA;\",'')\n",
        "          .replace(\"\\t\",\" \")\n",
        "\t\t\t\t  .replace(\"&gt;\",'>')\n",
        "\t\t\t\t  .replace(\"&lt;\",'<')\n",
        "\t\t\t\t  .replace(\"<em>\",' ')\n",
        "\t\t\t\t  .replace(\"</em>\",' ')\n",
        "\t\t\t\t  .replace(\"<blockquote>\",' ')\n",
        "\t\t\t\t  .replace(\"</blockquote>\",' ')\n",
        "\t\t\t\t  .replace(\"<p>\",' ')\n",
        "\t\t\t\t  .replace(\"</p>\",' ')\n",
        "\t\t\t\t  .replace(\"<ol>\",' ')\n",
        "\t\t\t\t  .replace(\"</ol>\",' ')\n",
        "\t\t\t\t  .replace(\"<li>\",' ')\n",
        "\t\t\t\t  .replace(\"</li>\",' ')\n",
        "\t\t\t\t  .replace(\"<ul>\",' ')\n",
        "\t\t\t\t  .replace(\"</ul>\",' ')\n",
        "\t\t\t\t  .replace(\"<strong>\",' ')\n",
        "\t\t\t\t  .replace(\"</strong>\",' ')\n",
        "\t\t\t\t  .replace(\"<code>\",' ')\n",
        "\t\t\t\t  .replace(\"</code>\",' ')\n",
        "\t\t\t\t  .replace(\"<pre>\",' ')\n",
        "\t\t\t\t  .replace(\"</pre>\",' ')\n",
        "\t\t\t\t  .replace(\"<h1>\",' ')\n",
        "\t\t\t\t  .replace(\"</h1>\",' ')\n",
        "\t\t\t\t  .replace(\"<h2>\",' ')\n",
        "\t\t\t\t  .replace(\"</h2>\",' ')\n",
        "\t\t\t\t  .replace(\"<h3>\",' ')\n",
        "\t\t\t\t  .replace(\"</h3>\",' ')\n",
        "\t\t\t\t  .replace(\"<h4>\",' ')\n",
        "\t\t\t\t  .replace(\"</h4>\",' ')\n",
        "\t\t\t\t  .replace(\"<h5>\",' ')\n",
        "\t\t\t\t  .replace(\"</h5>\",' ')\n",
        "\t\t\t\t  .replace(\"<h6>\",' ')\n",
        "\t\t\t\t  .replace(\"</h6>\",' ')\n",
        "\t\t\t\t  .replace(\"<hr>\",' ')\n",
        "\t\t\t\t  .replace(\"<br>\",' ')\n",
        "          .replace(\"</s>\",' ')\n",
        "          .replace(\"<s>\",' ')\n",
        "\t\t\t\t  [1:-1] for x in answers ]\n",
        "\n",
        "# remove links tags\n",
        "regex_a_open = re.compile(r\"<\\s*a href[^>]*>\", re.IGNORECASE)\n",
        "regex_a_close = re.compile(r\"<\\s*\\/\\s*a>\", re.IGNORECASE)\n",
        "answers = [regex_a_open.sub(r'',x) for x in answers]\n",
        "answers = [regex_a_close.sub(r'',x) for x in answers]\n",
        "\n",
        "# remove extra spaces\n",
        "answers = [\" \".join(x.split()) for x in answers ]\n",
        "\n",
        "clean_answer_list = []\n",
        "for i in range(len(answers)):\n",
        "  line = answers[i]\n",
        "  number_of_tokens = len(word_tokenize(line))\n",
        "  if number_of_tokens >= 5 and number_of_tokens <= 512 :\n",
        "    clean_answer_list.append(line)\n",
        "  if (i % 10000 == 0):\n",
        "    print(\"completed \" + str(round(i/len(answers),2)))\n",
        "len(clean_answer_list)\n",
        "\n",
        "with open('./pretraining_so.txt', 'w') as f:\n",
        "    for line in clean_answer_list:\n",
        "        f.write(\"%s\\n\" % line)"
      ],
      "execution_count": null,
      "outputs": [
        {
          "output_type": "stream",
          "text": [
            "completed 0.0\n",
            "completed 0.01\n",
            "completed 0.03\n",
            "completed 0.04\n",
            "completed 0.05\n",
            "completed 0.06\n",
            "completed 0.08\n",
            "completed 0.09\n",
            "completed 0.1\n",
            "completed 0.11\n",
            "completed 0.13\n",
            "completed 0.14\n",
            "completed 0.15\n",
            "completed 0.16\n",
            "completed 0.18\n",
            "completed 0.19\n",
            "completed 0.2\n",
            "completed 0.21\n",
            "completed 0.23\n",
            "completed 0.24\n",
            "completed 0.25\n",
            "completed 0.27\n",
            "completed 0.28\n",
            "completed 0.29\n",
            "completed 0.3\n",
            "completed 0.32\n",
            "completed 0.33\n",
            "completed 0.34\n",
            "completed 0.35\n",
            "completed 0.37\n",
            "completed 0.38\n",
            "completed 0.39\n",
            "completed 0.4\n",
            "completed 0.42\n",
            "completed 0.43\n",
            "completed 0.44\n",
            "completed 0.45\n",
            "completed 0.47\n",
            "completed 0.48\n",
            "completed 0.49\n",
            "completed 0.5\n",
            "completed 0.52\n",
            "completed 0.53\n",
            "completed 0.54\n",
            "completed 0.56\n",
            "completed 0.57\n",
            "completed 0.58\n",
            "completed 0.59\n",
            "completed 0.61\n",
            "completed 0.62\n",
            "completed 0.63\n",
            "completed 0.64\n",
            "completed 0.66\n",
            "completed 0.67\n",
            "completed 0.68\n",
            "completed 0.69\n",
            "completed 0.71\n",
            "completed 0.72\n",
            "completed 0.73\n",
            "completed 0.74\n",
            "completed 0.76\n",
            "completed 0.77\n",
            "completed 0.78\n",
            "completed 0.8\n",
            "completed 0.81\n",
            "completed 0.82\n",
            "completed 0.83\n",
            "completed 0.85\n",
            "completed 0.86\n",
            "completed 0.87\n",
            "completed 0.88\n",
            "completed 0.9\n",
            "completed 0.91\n",
            "completed 0.92\n",
            "completed 0.93\n",
            "completed 0.95\n",
            "completed 0.96\n",
            "completed 0.97\n",
            "completed 0.98\n",
            "completed 1.0\n"
          ],
          "name": "stdout"
        }
      ]
    },
    {
      "cell_type": "code",
      "metadata": {
        "colab": {
          "base_uri": "https://localhost:8080/"
        },
        "id": "lkb2TXMYiXNi",
        "outputId": "9e611029-9110-4700-a2b3-e01c00f989f1"
      },
      "source": [
        "CodeSearchNet = open('./java_dedupe_definitions_v2.pkl', 'rb')\n",
        "# dump information to that file\n",
        "data = pickle.load(CodeSearchNet)\n",
        "CodeSearchNet.close"
      ],
      "execution_count": null,
      "outputs": [
        {
          "output_type": "execute_result",
          "data": {
            "text/plain": [
              "<function BufferedReader.close>"
            ]
          },
          "metadata": {
            "tags": []
          },
          "execution_count": 5
        }
      ]
    },
    {
      "cell_type": "code",
      "metadata": {
        "id": "ywyKVfqEnILJ"
      },
      "source": [
        "dataset = []\n",
        "\n",
        "def cleanString(s):\n",
        "    # return \"\".join(ch for ch in s if unicodedata.category(ch)[0]!=\"C\")\n",
        "    s = s.replace(\"\\n\",' ').replace(\"\\t\",' ').replace(\"</s>\",' ').replace(\"<s>\",' ')\n",
        "    \n",
        "    s = \" \".join(s.split())\n",
        "    return s\n",
        "\n",
        "def isAscii(s):\n",
        "    return all(ord(c) < 128 for c in s)\n",
        "\n",
        "for entry in data:\n",
        "  code = cleanString(entry['function'].strip())\n",
        "  comment = cleanString(entry['docstring'].strip())\n",
        "\n",
        "  code_len = len(word_tokenize(code))\n",
        "  comment_len = len(word_tokenize(comment))\n",
        "\n",
        "  if (comment_len <= 10):\n",
        "    continue\n",
        "  \n",
        "  if (code_len <= 5):\n",
        "    continue\n",
        "\n",
        "  if not (isAscii(comment)):\n",
        "    continue\n",
        "\n",
        "  if not (' ' in comment):\n",
        "    continue\n",
        "    \n",
        "  if (code_len + comment_len <= 512):\n",
        "    dataset.append([code, comment, code_len, comment_len])\n",
        "\n",
        "\n",
        "codeSearchNetDataset = [line[1] + \" \" + line[0] for line in dataset]\n",
        "with open('./pretraining_csn.txt', 'w') as f:\n",
        "    for line in codeSearchNetDataset:\n",
        "        f.write(\"%s\\n\" % line)"
      ],
      "execution_count": null,
      "outputs": []
    },
    {
      "cell_type": "code",
      "metadata": {
        "id": "ZCEWU0lOltXD"
      },
      "source": [
        "final_dataset = codeSearchNetDataset + clean_answer_list \n",
        "with open('./pretraining.txt', 'w') as f:\n",
        "    for line in final_dataset:\n",
        "        f.write(\"%s\\n\" % line)"
      ],
      "execution_count": null,
      "outputs": []
    },
    {
      "cell_type": "code",
      "metadata": {
        "colab": {
          "base_uri": "https://localhost:8080/"
        },
        "id": "q-b3qg0__WJw",
        "outputId": "f0ee6499-07a6-4bf2-98ea-1aa5091939cf"
      },
      "source": [
        "!gsutil cp ./pretraining_so.txt  gs://{bucket_name}/dataset/pretraining_so.txt\n",
        "!gsutil cp ./pretraining_csn.txt  gs://{bucket_name}/dataset/pretraining_csn.txt\n",
        "!gsutil cp ./pretraining.txt  gs://{bucket_name}/dataset/pretraining.txt"
      ],
      "execution_count": null,
      "outputs": [
        {
          "output_type": "stream",
          "text": [
            "Copying file://./pretraining_so.txt [Content-Type=text/plain]...\n",
            "/ [0 files][    0.0 B/492.8 MiB]                                                \r==> NOTE: You are uploading one or more large file(s), which would run\n",
            "significantly faster if you enable parallel composite uploads. This\n",
            "feature can be enabled by editing the\n",
            "\"parallel_composite_upload_threshold\" value in your .boto\n",
            "configuration file. However, note that if you do this large files will\n",
            "be uploaded as `composite objects\n",
            "<https://cloud.google.com/storage/docs/composite-objects>`_,which\n",
            "means that any user who downloads such objects will need to have a\n",
            "compiled crcmod installed (see \"gsutil help crcmod\"). This is because\n",
            "without a compiled crcmod, computing checksums on composite objects is\n",
            "so slow that gsutil disables downloads of composite objects.\n",
            "\n",
            "|\n",
            "Operation completed over 1 objects/492.8 MiB.                                    \n",
            "Copying file://./pretraining_csn.txt [Content-Type=text/plain]...\n",
            "==> NOTE: You are uploading one or more large file(s), which would run\n",
            "significantly faster if you enable parallel composite uploads. This\n",
            "feature can be enabled by editing the\n",
            "\"parallel_composite_upload_threshold\" value in your .boto\n",
            "configuration file. However, note that if you do this large files will\n",
            "be uploaded as `composite objects\n",
            "<https://cloud.google.com/storage/docs/composite-objects>`_,which\n",
            "means that any user who downloads such objects will need to have a\n",
            "compiled crcmod installed (see \"gsutil help crcmod\"). This is because\n",
            "without a compiled crcmod, computing checksums on composite objects is\n",
            "so slow that gsutil disables downloads of composite objects.\n",
            "\n",
            "-\n",
            "Operation completed over 1 objects/275.3 MiB.                                    \n",
            "Copying file://./pretraining.txt [Content-Type=text/plain]...\n",
            "==> NOTE: You are uploading one or more large file(s), which would run\n",
            "significantly faster if you enable parallel composite uploads. This\n",
            "feature can be enabled by editing the\n",
            "\"parallel_composite_upload_threshold\" value in your .boto\n",
            "configuration file. However, note that if you do this large files will\n",
            "be uploaded as `composite objects\n",
            "<https://cloud.google.com/storage/docs/composite-objects>`_,which\n",
            "means that any user who downloads such objects will need to have a\n",
            "compiled crcmod installed (see \"gsutil help crcmod\"). This is because\n",
            "without a compiled crcmod, computing checksums on composite objects is\n",
            "so slow that gsutil disables downloads of composite objects.\n",
            "\n",
            "|\n",
            "Operation completed over 1 objects/768.0 MiB.                                    \n"
          ],
          "name": "stdout"
        }
      ]
    },
    {
      "cell_type": "markdown",
      "metadata": {
        "id": "dI43He_1LYV0"
      },
      "source": [
        "## Some stats about our java data"
      ]
    },
    {
      "cell_type": "code",
      "metadata": {
        "colab": {
          "base_uri": "https://localhost:8080/",
          "height": 1000
        },
        "id": "H22kKbJUKr-q",
        "outputId": "61022c01-fed1-43d6-d4aa-210ed104f771"
      },
      "source": [
        "pd.set_option('display.max_colwidth', None)\n",
        "\n",
        "df = pd.DataFrame(dataset, columns =['Code', 'Comment', 'Code_Len', 'Comment_Len']) \n",
        "df_eligible = df[(df['Code_Len']+df['Comment_Len'] < 512)]\n",
        "sns.displot(df_eligible[\"Comment_Len\"])\n",
        "sns.displot(df_eligible[\"Code_Len\"])\n",
        "df_eligible\n",
        "\n",
        "print(len(df),\"number of entries\")\n",
        "print()\n",
        "\n",
        "print(\"%.2f\" % df[\"Code_Len\"].max(), \"max code length\")\n",
        "print(\"%.2f\" % df[\"Code_Len\"].min(), \"min code length\")\n",
        "\n",
        "print(\"%.2f\" % df[\"Code_Len\"].mean(), \"mean code length\")\n",
        "print(\"%.2f\" % df[\"Code_Len\"].median(), \"median code length\")\n",
        "print(\"%.2f\" % df[\"Code_Len\"].std(), \"std code length\")\n",
        "\n",
        "print()\n",
        "print(\"%.2f\" % df[\"Comment_Len\"].max(), \"max Comment length\")\n",
        "print(\"%.2f\" % df[\"Comment_Len\"].min(), \"min Comment length\")\n",
        "\n",
        "print(\"%.2f\" % df[\"Comment_Len\"].mean(), \"mean comment length\")\n",
        "print(\"%.2f\" % df[\"Comment_Len\"].median(), \"median comment length\")\n",
        "print(\"%.2f\" % df[\"Comment_Len\"].std(), \"std comment length\")\n",
        "\n",
        "\n",
        "print(df.loc[df['Code_Len'] == df['Code_Len'].max()])\n",
        "print(df.loc[df['Code_Len'] == df['Code_Len'].min()])\n"
      ],
      "execution_count": null,
      "outputs": [
        {
          "output_type": "stream",
          "text": [
            "2324 number of entries\n",
            "\n",
            "473.00 max code length\n",
            "18.00 min code length\n",
            "74.42 mean code length\n",
            "53.00 median code length\n",
            "61.14 std code length\n",
            "\n",
            "458.00 max Comment length\n",
            "11.00 min Comment length\n",
            "63.95 mean comment length\n",
            "44.00 median comment length\n",
            "61.92 std comment length\n",
            "                                                                                                                                                                                                                                                                                                                                                                                                                                                                                                                                                                                                                                                                                                                                                                                                                                                                                                                                                                                                                                                                                                                                                                                                                                                                                                                                                                                                                                                                                                                                                                                                                                                                                                                                                                                                                                                                                                                                                                                                                                                                                                                                                                                                                                                                                                                                                                                                                                    Code  ... Comment_Len\n",
            "1702  static <F, T> Spliterator<T> flatMap( Spliterator<F> fromSpliterator, Function<? super F, Spliterator<T>> function, int topCharacteristics, long topSize) { checkArgument( (topCharacteristics & Spliterator.SUBSIZED) == 0, \"flatMap does not support SUBSIZED characteristic\"); checkArgument( (topCharacteristics & Spliterator.SORTED) == 0, \"flatMap does not support SORTED characteristic\"); checkNotNull(fromSpliterator); checkNotNull(function); class FlatMapSpliterator implements Spliterator<T> { @Nullable Spliterator<T> prefix; final Spliterator<F> from; int characteristics; long estimatedSize; FlatMapSpliterator( Spliterator<T> prefix, Spliterator<F> from, int characteristics, long estimatedSize) { this.prefix = prefix; this.from = from; this.characteristics = characteristics; this.estimatedSize = estimatedSize; } @Override public boolean tryAdvance(Consumer<? super T> action) { while (true) { if (prefix != null && prefix.tryAdvance(action)) { if (estimatedSize != Long.MAX_VALUE) { estimatedSize--; } return true; } else { prefix = null; } if (!from.tryAdvance(fromElement -> prefix = function.apply(fromElement))) { return false; } } } @Override public void forEachRemaining(Consumer<? super T> action) { if (prefix != null) { prefix.forEachRemaining(action); prefix = null; } from.forEachRemaining(fromElement -> function.apply(fromElement).forEachRemaining(action)); estimatedSize = 0; } @Override public Spliterator<T> trySplit() { Spliterator<F> fromSplit = from.trySplit(); if (fromSplit != null) { int splitCharacteristics = characteristics & ~Spliterator.SIZED; long estSplitSize = estimateSize(); if (estSplitSize < Long.MAX_VALUE) { estSplitSize /= 2; this.estimatedSize -= estSplitSize; this.characteristics = splitCharacteristics; } Spliterator<T> result = new FlatMapSpliterator(this.prefix, fromSplit, splitCharacteristics, estSplitSize); this.prefix = null; return result; } else if (prefix != null) { Spliterator<T> result = prefix; this.prefix = null; return result; } else { return null; } } @Override public long estimateSize() { if (prefix != null) { estimatedSize = Math.max(estimatedSize, prefix.estimateSize()); } return Math.max(estimatedSize, 0); } @Override public int characteristics() { return characteristics; } } return new FlatMapSpliterator(null, fromSpliterator, topCharacteristics, topSize); }  ...          32\n",
            "\n",
            "[1 rows x 4 columns]\n",
            "                                                                                              Code  ... Comment_Len\n",
            "666  public java.util.Optional<T> toJavaUtil() { return java.util.Optional.ofNullable(orNull()); }  ...          64\n",
            "\n",
            "[1 rows x 4 columns]\n"
          ],
          "name": "stdout"
        },
        {
          "output_type": "display_data",
          "data": {
            "image/png": "[encoded data removed]",
            "text/plain": [
              "<Figure size 360x360 with 1 Axes>"
            ]
          },
          "metadata": {
            "tags": []
          }
        },
        {
          "output_type": "display_data",
          "data": {
            "image/png": "[encoded data removed]",
            "text/plain": [
              "<Figure size 360x360 with 1 Axes>"
            ]
          },
          "metadata": {
            "tags": []
          }
        }
      ]
    },
    {
      "cell_type": "markdown",
      "metadata": {
        "id": "ms4kn2EJ37rb"
      },
      "source": [
        "## IF WE DO NOT NEED TO PROCESS RAW DATA WE CAN JUST EXECUTE THIS"
      ]
    },
    {
      "cell_type": "code",
      "metadata": {
        "colab": {
          "base_uri": "https://localhost:8080/"
        },
        "id": "KaTO6_FBwlQg",
        "outputId": "ea95e009-ca82-4930-d328-73d506962578"
      },
      "source": [
        "!gsutil cp gs://{bucket_name}/dataset/pretraining_so.txt ./pretraining_so.txt  \n",
        "!gsutil cp gs://{bucket_name}/dataset/pretraining_csn.txt ./pretraining_csn.txt  \n",
        "\n",
        "lines_so = []\n",
        "lines_csn = []\n",
        "\n",
        "with open('./pretraining_so.txt') as f:\n",
        "    lines_so = f.read().splitlines()\n",
        "\n",
        "with open('./pretraining_csn.txt') as f:\n",
        "    lines_csn = f.read().splitlines()\n",
        "\n",
        "lines = lines_so + lines_csn\n",
        "\n",
        "with open('./pretraining.txt', 'w') as f:\n",
        "    for line in lines:\n",
        "        f.write(\"%s\\n\" % line)"
      ],
      "execution_count": null,
      "outputs": [
        {
          "output_type": "stream",
          "text": [
            "Copying gs://code_review_automation/dataset/pretraining_so.txt...\n",
            "| [1 files][492.8 MiB/492.8 MiB]                                                \n",
            "Operation completed over 1 objects/492.8 MiB.                                    \n",
            "Copying gs://code_review_automation/dataset/pretraining_csn.txt...\n",
            "\\ [1 files][272.8 MiB/272.8 MiB]                                                \n",
            "Operation completed over 1 objects/272.8 MiB.                                    \n"
          ],
          "name": "stdout"
        }
      ]
    },
    {
      "cell_type": "markdown",
      "metadata": {
        "id": "HD6_mawZ05-d"
      },
      "source": [
        "## preparing pre-processing"
      ]
    },
    {
      "cell_type": "code",
      "metadata": {
        "colab": {
          "base_uri": "https://localhost:8080/"
        },
        "id": "aq2-MD_wgc3N",
        "outputId": "b6fc6d7e-0781-46ae-e55e-d456dd0bea2e"
      },
      "source": [
        "!gsutil cp gs://{bucket_name}/dataset/pretraining.txt ./pretraining.txt"
      ],
      "execution_count": 3,
      "outputs": [
        {
          "output_type": "stream",
          "text": [
            "Copying gs://code_review_automation/dataset/pretraining.txt...\n",
            "\\ [1 files][768.0 MiB/768.0 MiB]   45.0 MiB/s                                   \n",
            "Operation completed over 1 objects/768.0 MiB.                                    \n"
          ],
          "name": "stdout"
        }
      ]
    },
    {
      "cell_type": "code",
      "metadata": {
        "colab": {
          "base_uri": "https://localhost:8080/"
        },
        "id": "n5FEwK9zmP8P",
        "outputId": "d18e8a09-e197-413b-8f6f-02bd92d4a37e"
      },
      "source": [
        "!wc -l ./pretraining.txt"
      ],
      "execution_count": 4,
      "outputs": [
        {
          "output_type": "stream",
          "text": [
            "1166811 ./pretraining.txt\n"
          ],
          "name": "stdout"
        }
      ]
    },
    {
      "cell_type": "code",
      "metadata": {
        "id": "UfzaFLTWmW2l"
      },
      "source": [
        "spm.SentencePieceTrainer.train('--input=./pretraining.txt --model_prefix=TestModel --hard_vocab_limit=false --vocab_size=32000 --bos_id=-1 --eos_id=1 --unk_id=2 --pad_id=0')"
      ],
      "execution_count": 5,
      "outputs": []
    },
    {
      "cell_type": "code",
      "metadata": {
        "id": "xdUnQOdZvyf2",
        "colab": {
          "base_uri": "https://localhost:8080/"
        },
        "outputId": "f7cc851c-5b61-4d65-978a-861b1b5f4b4d"
      },
      "source": [
        "!gsutil cp ./TestModel.model gs://{bucket_name}/models/TestModel.model\n",
        "!gsutil cp ./TestModel.vocab gs://{bucket_name}/vocab/TestModel.vocab"
      ],
      "execution_count": 6,
      "outputs": [
        {
          "output_type": "stream",
          "text": [
            "Copying file://./TestModel.model [Content-Type=application/octet-stream]...\n",
            "/ [1 files][764.7 KiB/764.7 KiB]                                                \n",
            "Operation completed over 1 objects/764.7 KiB.                                    \n",
            "Copying file://./TestModel.vocab [Content-Type=application/octet-stream]...\n",
            "/ [1 files][560.4 KiB/560.4 KiB]                                                \n",
            "Operation completed over 1 objects/560.4 KiB.                                    \n"
          ],
          "name": "stdout"
        }
      ]
    },
    {
      "cell_type": "code",
      "metadata": {
        "colab": {
          "base_uri": "https://localhost:8080/"
        },
        "id": "PEfxsa8CmW5b",
        "outputId": "39622f42-d40f-48e0-98be-bff6c328a50a"
      },
      "source": [
        "!gsutil cp gs://{bucket_name}/utils/T5-masking.py ./T5-masking.py\n",
        "!python3 ./T5-masking.py --train_data_file ./pretraining.txt --tokenizer_name ./TestModel.model --save_folder ."
      ],
      "execution_count": 7,
      "outputs": [
        {
          "output_type": "stream",
          "text": [
            "Copying gs://code_review_automation/utils/T5-masking.py...\n",
            "/ [1 files][  6.8 KiB/  6.8 KiB]                                                \n",
            "Operation completed over 1 objects/6.8 KiB.                                      \n",
            "Calling T5Tokenizer.from_pretrained() with the path to a single file or url is deprecated\n",
            "  0% 0/1166811 [00:00<?, ?it/s]2021-02-23 15:06:14.497079: I tensorflow/stream_executor/platform/default/dso_loader.cc:49] Successfully opened dynamic library libcudart.so.10.1\n",
            "100% 1166811/1166811 [5:09:29<00:00, 62.84it/s]\n"
          ],
          "name": "stdout"
        }
      ]
    },
    {
      "cell_type": "markdown",
      "metadata": {
        "id": "TEtTcB70NV52"
      },
      "source": [
        "creation of the dataframe for exporting .tsv file \n"
      ]
    },
    {
      "cell_type": "code",
      "metadata": {
        "id": "XGeOKLvcIA21"
      },
      "source": [
        "df_list_inputs = [] \n",
        "with open(\"./train_inputs.txt\",\"r\") as f:\n",
        "  for line in f:\n",
        "    df_list_inputs.append(line)\n",
        "\n",
        "df_list_labels = [] \n",
        "with open(\"./train_labels.txt\",\"r\") as f:\n",
        "  for line in f:\n",
        "    df_list_labels.append(line)\n",
        "\n",
        "df = pd.DataFrame()\n",
        "df['Inputs']  = df_list_inputs\n",
        "df['Labels']  = df_list_labels\n",
        "\n",
        "# df.to_csv(path_or_buf='./pre-training.tsv', sep='\\t', header=False, index=False, index_label=False)\n",
        "\n",
        "f = open(\"./pre-training.tsv\", \"w\")\n",
        "for index, row in df.iterrows():\n",
        "  f.write(row['Inputs'].strip() + \"\\t\" + row['Labels'].strip() + \"\\n\" )\n",
        "f.close()"
      ],
      "execution_count": 8,
      "outputs": []
    },
    {
      "cell_type": "code",
      "metadata": {
        "colab": {
          "base_uri": "https://localhost:8080/"
        },
        "id": "GFhgbpS_IA_r",
        "outputId": "e4ef0686-13d8-4d1d-b69b-3e8fa56d0ac4"
      },
      "source": [
        "!gsutil cp ./pre-training.tsv  gs://{bucket_name}/dataset/pre-training.tsv\n",
        "! head -6 ./pre-training.tsv\n",
        "! wc -l pre-training.tsv"
      ],
      "execution_count": 9,
      "outputs": [
        {
          "output_type": "stream",
          "text": [
            "Copying file://./pre-training.tsv [Content-Type=text/tab-separated-values]...\n",
            "/ [0 files][    0.0 B/  1.4 GiB]                                                \r==> NOTE: You are uploading one or more large file(s), which would run\n",
            "significantly faster if you enable parallel composite uploads. This\n",
            "feature can be enabled by editing the\n",
            "\"parallel_composite_upload_threshold\" value in your .boto\n",
            "configuration file. However, note that if you do this large files will\n",
            "be uploaded as `composite objects\n",
            "<https://cloud.google.com/storage/docs/composite-objects>`_,which\n",
            "means that any user who downloads such objects will need to have a\n",
            "compiled crcmod installed (see \"gsutil help crcmod\"). This is because\n",
            "without a compiled crcmod, computing checksums on composite objects is\n",
            "so slow that gsutil disables downloads of composite objects.\n",
            "\n",
            "/\n",
            "Operation completed over 1 objects/1.4 GiB.                                      \n",
            "Bind indexed elements<extra_id_0> the supplied<extra_id_1> .<extra_id_2> param name the name<extra_id_3> the property to bind @param target the target bindable @<extra_id_4> elementBinder the binder to use for elements<extra_id_5> aggregate<extra_id_6> the aggregate type<extra_id_7> may be<extra_id_8> collection or an array @<extra_id_9> elementType the element type @param result the destination for results protected<extra_id_10> void<extra_id_11> Indexed(ConfigurationPropertyName name<extra_id_12> able<?> target, AggregateElementBinder elementBinder,<extra_id_13> aggregateType,<extra_id_14> elementType, IndexedCollectionSupplier result) { for (ConfigurationPropertySource source :<extra_id_15> getSource<extra_id_16> ()) { bindIndexed(source, name, target, elementBinder,<extra_id_17> , aggregateType, elementType); if (<extra_id_18> .<extra_id_19> Supplied() && result.get() != null) { return; } } }</s>\t<extra_id_0> to<extra_id_1> collection<extra_id_2> @<extra_id_3> of<extra_id_4> param<extra_id_5> @param<extra_id_6> Type<extra_id_7> ,<extra_id_8> a<extra_id_9> param<extra_id_10> final<extra_id_11> bind<extra_id_12> , Bind<extra_id_13> ResolvableType<extra_id_14> ResolvableType<extra_id_15> getContext().<extra_id_16> s<extra_id_17> result<extra_id_18> result<extra_id_19> was<extra_id_20>\n",
            "Set<extra_id_0> link ServletRegistrationBean<extra_id_1> s<extra_id_2> the filter will be registered against. @param<extra_id_3> RegistrationBean<extra_id_4> Servlet registration beans public void set<extra_id_5> RegistrationBeans( Collection<? extends ServletRegistrationBean<?>> servletRegistrationBeans) { Assert.notNull(servletRegistrationBeans, \"Servlet<extra_id_6> s must<extra_id_7> be null\");<extra_id_8> .servletRegistrationBeans =<extra_id_9> LinkedHashSet<>(servletRegistrationBeans); }</s>\t<extra_id_0> {@<extra_id_1> }<extra_id_2> that<extra_id_3> servlet<extra_id_4> s the<extra_id_5> Servlet<extra_id_6> RegistrationBean<extra_id_7> not<extra_id_8> this<extra_id_9> new<extra_id_10>\n",
            "Add {@link ServletRegistrationBean}s for the filter. @param servletRegistrationBeans the<extra_id_0> registration<extra_id_1> to add @see #setServletRegistrationBeans public void addServletRegistrationBeans<extra_id_2> RegistrationBean<?>... servletRegistrationBeans) {<extra_id_3> .notNull<extra_id_4> servletRegistrationBeans, \"Servlet<extra_id_5> s must<extra_id_6> be null<extra_id_7> Collections.addAll<extra_id_8> this<extra_id_9> servletRegistrationBeans, servletRegistrationBeans); }</s>\t<extra_id_0> servlet<extra_id_1> beans<extra_id_2> ( Servlet<extra_id_3> Assert<extra_id_4> (<extra_id_5> RegistrationBean<extra_id_6> not<extra_id_7> \");<extra_id_8> (<extra_id_9> .<extra_id_10>\n",
            "Set servlet names that the filter will be registered against. This will replace any previously specified<extra_id_0> names<extra_id_1> @param servletNames the servlet names @see #set<extra_id_2> RegistrationBeans<extra_id_3> see<extra_id_4> setUrlPatterns public void setServletNames(Collection<String> servletNames) { Assert.<extra_id_5> (servletNames<extra_id_6> \"Servlet<extra_id_7> must not<extra_id_8> null<extra_id_9> this.servlet<extra_id_10> = new LinkedHashSet<>(servletNames<extra_id_11> }</s>\t<extra_id_0> servlet<extra_id_1> .<extra_id_2> Servlet<extra_id_3> @<extra_id_4> #<extra_id_5> notNull<extra_id_6> ,<extra_id_7> Names<extra_id_8> be<extra_id_9> \");<extra_id_10> Names<extra_id_11> );<extra_id_12>\n",
            "Add servlet<extra_id_0> for the filter. @param servletNames the servlet names to add public void addServlet<extra_id_1> String... servletNames)<extra_id_2> Assert.notNull(servletNames, \"ServletNames must<extra_id_3> be null\"); this<extra_id_4> servlet<extra_id_5> .addAll<extra_id_6> Arrays.asList(servletNames)); }</s>\t<extra_id_0> names<extra_id_1> Names(<extra_id_2> {<extra_id_3> not<extra_id_4> .<extra_id_5> Names<extra_id_6> (<extra_id_7>\n",
            "Set the URL patterns that the filter will be registered against. This will replace any<extra_id_0> URL patterns. @param urlPatterns the URL patterns @see #set<extra_id_1> RegistrationBean<extra_id_2> @see<extra_id_3> ServletNames<extra_id_4> void setUrlPatterns(Collection<String<extra_id_5> Patterns) { Assert<extra_id_6> (urlPatterns, \"UrlPatterns must not be null\"); this.urlPatterns =<extra_id_7> LinkedHashSet<>(urlPatterns); }</s>\t<extra_id_0> previously specified<extra_id_1> Servlet<extra_id_2> s<extra_id_3> #set<extra_id_4> public<extra_id_5> > url<extra_id_6> .notNull<extra_id_7> new<extra_id_8>\n",
            "1166811 pre-training.tsv\n"
          ],
          "name": "stdout"
        }
      ]
    },
    {
      "cell_type": "markdown",
      "metadata": {
        "id": "8ut9GfJB6lWy"
      },
      "source": [
        "# PRETRAINING"
      ]
    },
    {
      "cell_type": "code",
      "metadata": {
        "id": "wwkk4vFN7IpZ",
        "colab": {
          "base_uri": "https://localhost:8080/"
        },
        "outputId": "3bb522c4-1f2f-489b-da3d-3eea89bc29df"
      },
      "source": [
        "!awk 'NR >= 900000 && NR <= 900100' ./pre-training.tsv"
      ],
      "execution_count": 10,
      "outputs": [
        {
          "output_type": "stream",
          "text": [
            "Your containers (Swing vs. JavaFX) have different background colors, so the color<extra_id_0> shines through<extra_id_1> transparent component is<extra_id_2> . I slightly<extra_id_3> run() method<extra_id_4> @Overridepublic void run() {<extra_id_5> new Pane(); contents.setBackground(new Background( new BackgroundFill<extra_id_6> jfxColour<extra_id_7> new<extra_id_8> CornerRadii(0), new Insets(0))));<extra_id_9> scene = new Scene(contents<extra_id_10> jfxPanel.setScene(scene);} This still<extra_id_11> the issue. However, if I now<extra_id_12> the Scene background<extra_id_13> to BLACK , the colors are rendered the<extra_id_14> : @Overridepublic void<extra_id_15> () { Pane contents = new Pane<extra_id_16> contents.setBackground(new<extra_id_17> (<extra_id_18> BackgroundFill(jfxColour, new CornerRadii(0), new<extra_id_19> (0)))<extra_id_20> //<extra_id_21> scene = new Scene(contents);<extra_id_22> scene = new<extra_id_23> contents, javafx.<extra_id_24> .<extra_id_25> .Color.BLACK); // !!!!!!!!<extra_id_26> jfxPanel.setScene(scene);} In summary, if you do dlg.getContentPane().setBackground(SomeA<extra_id_27> tColor<extra_id_28> you also need to do Scene scene = new Scene(contents, CorrespondingJFXColor); and then add your transparent<extra_id_29> the Scene .</s>\t<extra_id_0> which<extra_id_1> your<extra_id_2> different<extra_id_3> modified your<extra_id_4> :<extra_id_5> Pane contents =<extra_id_6> (<extra_id_7> ,<extra_id_8> <extra_id_9> Scene<extra_id_10> );<extra_id_11> reproduces<extra_id_12> set<extra_id_13> color<extra_id_14> same<extra_id_15> run<extra_id_16> ();<extra_id_17> Background<extra_id_18> new<extra_id_19> Insets<extra_id_20> );<extra_id_21> Scene<extra_id_22> Scene<extra_id_23> Scene(<extra_id_24> scene<extra_id_25> paint<extra_id_26> <extra_id_27> w<extra_id_28> );<extra_id_29> components to<extra_id_30>\n",
            "export JAVA_<extra_id_0> <unk> (/usr/libexec/<extra_id_1> 1.8) that<extra_id_2> for Java 8 .... original link where I found it is here Installing Java on Mac OS X <extra_id_3> Yosemite and 10.11 El Capitan But the accepted answer works too. Just need<extra_id_4> pay attention to path changes after updates<extra_id_5> </s>\t<extra_id_0> HOME=<extra_id_1> java_home -v<extra_id_2> is<extra_id_3> 10.10<extra_id_4> to<extra_id_5> .<extra_id_6>\n",
            "You can generalize this code for any matrix...for now it prints correct output for above specified matrix<extra_id_0> : [4 ] [3<extra_id_1> ] [2 7<extra_id_2> ] [<extra_id_3> ] [<extra_id_4> ] class Diagonal{ public static void main<extra_id_5> String[] args) { int r<extra_id_6> ,<extra_id_7> =4; int Mat[][]={{<extra_id_8> },{5, 6 ,7 ,8},{9,10,11,12}}; int<extra_id_9> ,y;<extra_id_10> (int i<extra_id_11> c-1;<extra_id_12> ><extra_id_13> i<extra_id_14> { y=i;x=0; System.out.print(\"\"[\"\"); while(y<c) { System.out.<extra_id_15> (Mat[x][y]+\"\" \"\");<extra_id_16> ++;y++; } System<extra_id_17> out.print(\"\"] \"\"); } for(int i=1;i<r;i<extra_id_18> { x=i;y=0; System.out.print(\"\"[\"\"); while<extra_id_19> x<r) { System<extra_id_20> out.print(Mat<extra_id_21> x][y]+\"\" \"\"); x++;y++; } System.out.<extra_id_22> (\"\"] \"\"); } }} For anti<extra_id_23> onal:<extra_id_24> [1 ] [<extra_id_25> 5 ]<extra_id_26> 3 6 9<extra_id_27> [4 7 10 ] [8<extra_id_28> ]<extra_id_29> ] class Diagonal{ public static void<extra_id_30> (<extra_id_31> [] args) {<extra_id_32> =3,c=4<extra_id_33> int Mat[][]={{1,2,3,4},{5, 6 ,7 ,8},{<extra_id_34> 10,11,<extra_id_35> }}; int x,y; for(int i<extra_id_36> i<c;<extra_id_37> { y=i;x<extra_id_38> System.out.print(\"\"[\"\"); while(y><extra_id_39> &amp;&amp; x<extra_id_40> r) { System.out.print(Mat[x<extra_id_41> y]+\"\" \"\"); x<extra_id_42> --;<extra_id_43> System<extra_id_44> out.<extra_id_45> (\"\"] \"\"); } for(int i=1;i<r;i++)<extra_id_46> =i;<extra_id_47> =c<extra_id_48> System.<extra_id_49> .print(\"\"[\"\"); while(x<r) { System.<extra_id_50> .print(Mat[x][y]+\"\" \"\"); x++;<extra_id_51> --; } System.out<extra_id_52> print(\"\"] \"\"); } }}</s>\t<extra_id_0> output<extra_id_1> 8<extra_id_2> 12<extra_id_3> 5 10<extra_id_4> 9<extra_id_5> (<extra_id_6> =3<extra_id_7> c<extra_id_8> 1,2,3,4<extra_id_9> x<extra_id_10> for<extra_id_11> =<extra_id_12> i<extra_id_13> 0;<extra_id_14> --)<extra_id_15> print<extra_id_16> x<extra_id_17> .<extra_id_18> ++)<extra_id_19> (<extra_id_20> .<extra_id_21> [<extra_id_22> print<extra_id_23> -diag<extra_id_24> output:<extra_id_25> 2<extra_id_26> [<extra_id_27> ]<extra_id_28> 11<extra_id_29> [12<extra_id_30> main<extra_id_31> String<extra_id_32> int r<extra_id_33> ;<extra_id_34> 9,<extra_id_35> 12<extra_id_36> =0;<extra_id_37> i++)<extra_id_38> =0;<extra_id_39> =0<extra_id_40> <<extra_id_41> ][<extra_id_42> ++;y<extra_id_43> }<extra_id_44> .<extra_id_45> print<extra_id_46> { x<extra_id_47> y<extra_id_48> -1;<extra_id_49> out<extra_id_50> out<extra_id_51> y<extra_id_52> .<extra_id_53>\n",
            "Java indexes<extra_id_0> ways start with 0. so 0,0<extra_id_1> be the very first element. Just add 1 to both<extra_id_2> indexes befor returning. Also: Can an \"\"id\"\" be found at multiple positions,<extra_id_3> is it unique? If it<extra_id_4> unique and you allways want<extra_id_5> result to be returned<extra_id_6> \"\"x<extra_id_7> \"\"<extra_id_8> should immedia<extra_id_9> ly<extra_id_10> as soon as you found the id: public String get<extra_id_11> (int id){for(int i<extra_id_12> 0; i<extra_id_13> ;i++ ){ for(int j<extra_id_14> 0; j<5 ;<extra_id_15> ++){ if(this.arr[i][j] == id) return (i+1) + \"\",\"\" + (j+1);<extra_id_16> If<extra_id_17> id<extra_id_18> be found multiple times, you have to think about<extra_id_19> to mark<extra_id_20> multiple<extra_id_21> , because currently you program<extra_id_22> possibly return something like \"\"1,56,<extra_id_23> (if supplied id is found at both 1,5<extra_id_24> 6,2) Something like: public String<extra_id_25> Pos(int<extra_id_26> ){String res =<extra_id_27> for(int<extra_id_28> = 0; i<extra_id_29> 9 ;i<extra_id_30> ){ for(int j =<extra_id_31> j<5 ;j<extra_id_32> if(this.<extra_id_33> i][j] == id<extra_id_34> res = res +\"\"[\"\"+ (i<extra_id_35> + \"\",\"\" + (<extra_id_36> +1)+\"\"<extra_id_37> }}return res; <unk> - would return \"\"[1,5][<extra_id_38> 2]\"\", wrapping found results in braces and making them<extra_id_39> readable.</s>\t<extra_id_0> all<extra_id_1> would<extra_id_2> found<extra_id_3> or<extra_id_4> is<extra_id_5> the<extra_id_6> as<extra_id_7> ,y<extra_id_8> you<extra_id_9> t<extra_id_10> return<extra_id_11> Pos<extra_id_12> =<extra_id_13> <9<extra_id_14> =<extra_id_15> j<extra_id_16> }}<extra_id_17> an<extra_id_18> can<extra_id_19> how<extra_id_20> those<extra_id_21> results<extra_id_22> could<extra_id_23> 2\"\"<extra_id_24> and<extra_id_25> get<extra_id_26> id<extra_id_27> \"\"\"\";<extra_id_28> i<extra_id_29> <<extra_id_30> ++<extra_id_31> 0;<extra_id_32> ++){<extra_id_33> arr[<extra_id_34> )<extra_id_35> +1)<extra_id_36> j<extra_id_37> ]\"\";<extra_id_38> 6,<extra_id_39> more<extra_id_40>\n",
            "<extra_id_0> ,<extra_id_1> is not polling. This example<extra_id_2> an event<extra_id_3> , which will fire up once an state change occurs in the GPIO Pin As you can read on the Pi<extra_id_4> library page:<extra_id_5> listener implementation is<extra_id_6> on GPIO hardware interrupts<extra_id_7> state polling. The<extra_id_8> (;;) is intended for keeping the program alive until<extra_id_9> users stops it (as<extra_id_10> can read in the comment)</s>\tNo<extra_id_0> this<extra_id_1> uses<extra_id_2> listener<extra_id_3> 4J<extra_id_4> The<extra_id_5> based<extra_id_6> not<extra_id_7> for<extra_id_8> the<extra_id_9> you<extra_id_10>\n",
            "try this: String text = \"\"{\\\"\"<extra_id_0> type\\\"\":\\\"\"N<extra_id_1> \\\"\",\\\"\"cat\\\"\":\\\"\"WP\\\"\"}\"\";<extra_id_2> { response.getWriter().write(text); response.<extra_id_3> ().close<extra_id_4> return;}<extra_id_5> (IOException e) {<extra_id_6> TODO Auto-generated catch block e<extra_id_7> printStackTrace(); return;} You can view the json<extra_id_8> your browser with a plugin e.g. JSON<extra_id_9> for<extra_id_10> </s>\t<extra_id_0> phone<extra_id_1> 95<extra_id_2> try<extra_id_3> getWriter<extra_id_4> ();<extra_id_5> catch<extra_id_6> //<extra_id_7> .<extra_id_8> in<extra_id_9> View<extra_id_10> Firefox<extra_id_11>\n",
            "This will make all<extra_id_0> characters uppercase when<extra_id_1> edittext<extra_id_2> setFilters(new InputFilter[] {new InputFilter.AllCaps()}); Original answer here.</s>\t<extra_id_0> the<extra_id_1> writing.<extra_id_2> .<extra_id_3>\n",
            "On your<extra_id_0> Process always throws BusinessException<extra_id_1> if<extra_id_2> _<extra_id_3> _matched){ line runs. Throwed BusinessException catched on mainFlowMethod. if doProcess does not throw BusinessException<extra_id_4> condition_matched, outermethod throws<extra_id_5> Exception and catched by mainFlowMethod. You want to have a look Checked<extra_id_6> unchecked exception Checked exceptions are subject to the Catch or Specify Requirement<extra_id_7> All exceptions are checked exceptions<extra_id_8> except for those indicated<extra_id_9> ,<extra_id_10> RuntimeException<extra_id_11> and their<extra_id_12> . So checked exceptions never lost and you have to catch them otherwise your code never compile. But unchecked exceptions may cause your application crash.<extra_id_13>\t<extra_id_0> example; do<extra_id_1> so never<extra_id_2> (some<extra_id_3> condition<extra_id_4> and<extra_id_5> System<extra_id_6> and<extra_id_7> .<extra_id_8> ,<extra_id_9> by Error<extra_id_10> <extra_id_11> ,<extra_id_12> subclasses<extra_id_13> </s>\n",
            "See this example<extra_id_0> are not saving ItemId anywhere. If you<extra_id_1> 't want to create a new Object, you can create a new<extra_id_2> to save ItemIds or you can create a<extra_id_3> pMap<String, String> like [\"\"name1\"\":\"\"id1\"\",\"\"name2<extra_id_4> 2\"\"]<extra_id_5> depending on what<extra_id_6> use to save ItemId <extra_id_7> Listener(new OnItemClickListener() { @<extra_id_8> public void onItemClick<extra_id_9> AdapterView<?> parent, View view, int position,<extra_id_10> ) { String<extra_id_11> = (String<extra_id_12> parent.getItemAtPosition(position); // if you used a<extra_id_13> String ID = exampleHashMap.get(selected<extra_id_14> ); }}</s>\t<extra_id_0> you<extra_id_1> don<extra_id_2> list<extra_id_3> Has<extra_id_4> \"\":\"\"id<extra_id_5> and then<extra_id_6> you<extra_id_7> setOnItemClick<extra_id_8> Override<extra_id_9> (<extra_id_10> long id<extra_id_11> selectedName<extra_id_12> )<extra_id_13> HashMap<extra_id_14> Name<extra_id_15>\n",
            "I've got this working by using execute<extra_id_0> instead of<extra_id_1> executeAsync function<extra_id_2> So<extra_id_3> this is how the final looks like public<extra_id_4> <<extra_id_5> , String> getFacebookFriends(AccessToken accessToken<extra_id_6> Profile profile)<extra_id_7> InterruptedException, ExecutionException { final Map<String<extra_id_8> String> friends<extra_id_9> =<extra_id_10> HashMap<>(); GraphRequest.Callback gCallback = new<extra_id_11> Request<extra_id_12> ()<extra_id_13> public void on<extra_id_14> (GraphResponse response) { JSONObject jGraphObj = response<extra_id_15> getJSONObject();<extra_id_16> { JSONArray friendsData =<extra_id_17> GraphObj.getJSONArray(\"\"data\"\"); for (int i =<extra_id_18> i < friends<extra_id_19> .length<extra_id_20> i++) {<extra_id_21> friend = friendsData.getJSONObject(i); String<extra_id_22> Id<extra_id_23> .getString(\"\"id<extra_id_24> String friendName = friend.getString(\"\"name\"\"); friendsMap.put(friendId, friendName<extra_id_25> } } catch (Exception e) { e.printStackTrace(); }<extra_id_26> }; final GraphRequest graphRequest = new GraphRequest(accessToken, \"\"/me/friends<extra_id_27> null, HttpMethod.GET, gCallback); // Run<extra_id_28> graphRequest.<extra_id_29> t = new<extra_id_30> (new Runnable() { @Override public void run() {<extra_id_31> Response<extra_id_32> Response = graphRequest<extra_id_33> executeAndWait(); } }); t.start<extra_id_34> t.join(); return friendsMap;}</s>\t<extra_id_0> AndWait<extra_id_1> <extra_id_2> .<extra_id_3> ,<extra_id_4> static Map<extra_id_5> String<extra_id_6> ,<extra_id_7> throws<extra_id_8> ,<extra_id_9> Map<extra_id_10> new<extra_id_11> Graph<extra_id_12> .Callback<extra_id_13> {<extra_id_14> Completed<extra_id_15> .<extra_id_16> try<extra_id_17> j<extra_id_18> 0;<extra_id_19> Data<extra_id_20> ();<extra_id_21> JSONObject<extra_id_22> friend<extra_id_23> = friend<extra_id_24> \"\");<extra_id_25> );<extra_id_26> }<extra_id_27> \"\",<extra_id_28> facebook<extra_id_29> Thread<extra_id_30> Thread<extra_id_31> Graph<extra_id_32> g<extra_id_33> .<extra_id_34> ();<extra_id_35>\n",
            "Would it be enough to set<extra_id_0> true on<extra_id_1> .xml<extra_id_2> ? If not, following seems to work<extra_id_3> with logback 1.1.5 version but<extra_id_4> create a direct dependency<extra_id_5> logback<extra_id_6> LoggerContext context = (LoggerContext<extra_id_7> LoggerFactory.getILoggerFactory(); System.out .println(ConfigurationWatchListUtil.<extra_id_8> WatchList(context).getCopyOfFileWatch<extra_id_9> ().get(0));</s>\t<extra_id_0> debug=<extra_id_1> logback<extra_id_2> files<extra_id_3> at least<extra_id_4> will<extra_id_5> to<extra_id_6> :<extra_id_7> )<extra_id_8> getConfiguration<extra_id_9> List<extra_id_10>\n",
            "The straightforward<extra_id_0> would be what you have in<extra_id_1> post: loop<extra_id_2> the ids, select the first Foo having<extra_id_3> id and if one if found<extra_id_4> it into a List . Put into code, it would look like the following<extra_id_5> each id is mapped to the<extra_id_6> Foo that is found by calling<extra_id_7> () on<extra_id_8> foo<extra_id_9> having that<extra_id_10> . This<extra_id_11> an Optional that are<extra_id_12> out it the Foo<extra_id_13> 't exist. List<Integer<extra_id_14> ids = Arrays.asList(1, 2, 3);List<Foo> foos = Arrays.asList(<extra_id_15> Foo(\"\"2\"\"), new Foo(\"\"1\"\"), new<extra_id_16> (\"\"4<extra_id_17> List<Foo> result<extra_id_18> ids.stream() .map(id<extra_id_19> foos<extra_id_20> ().<extra_id_21> (foo -> foo.getId<extra_id_22> (id.toString())).findFirst()) .<extra_id_23> (Optional<extra_id_24> isPresent) .map(Optional::get) .collect<extra_id_25> Collectors.toList()); The big problem with this approach<extra_id_26> that you<extra_id_27> to traverse the<extra_id_28> s list as many times as there are<extra_id_29> to look. A better solution would first be<extra_id_30> create a look-up Map where each id maps to the Foo : Map<extra_id_31> Integer, Foo> map = foo<extra_id_32> .stream().collect(Collectors<extra_id_33> toMap(f -> Integer.valueOf(f.getId()), f -> f));List<Foo> result =<extra_id_34> .stream().map(map::get<extra_id_35> filter(Objects::nonNull).collect(<extra_id_36> .<extra_id_37> ()); In this case, we<extra_id_38> up the Foo and<extra_id_39> out null elements that means no Foo was found. Another whole different approach is not to traverse the ids and search<extra_id_40> Foo , but filter<extra_id_41> Foo s having an id<extra_id_42> is contained in the<extra_id_43> list of ids<extra_id_44> The problem with approach is that<extra_id_45> requires to<extra_id_46> then<extra_id_47> sort the output list<extra_id_48> that<extra_id_49> order of the resulting list matches the order of the<extra_id_50> .</s>\t<extra_id_0> way<extra_id_1> your<extra_id_2> over<extra_id_3> that<extra_id_4> , collect<extra_id_5> :<extra_id_6> corresponding<extra_id_7> findFirst<extra_id_8> the<extra_id_9> s<extra_id_10> id<extra_id_11> returns<extra_id_12> filtered<extra_id_13> doesn<extra_id_14> ><extra_id_15> new<extra_id_16> Foo<extra_id_17> \"\"));<extra_id_18> =<extra_id_19> -><extra_id_20> .stream<extra_id_21> filter<extra_id_22> ().equals<extra_id_23> filter<extra_id_24> ::<extra_id_25> (<extra_id_26> is<extra_id_27> need<extra_id_28> foo<extra_id_29> id<extra_id_30> to<extra_id_31> <<extra_id_32> s<extra_id_33> .<extra_id_34> ids<extra_id_35> ).<extra_id_36> Collectors<extra_id_37> toList<extra_id_38> look-<extra_id_39> filter<extra_id_40> the<extra_id_41> the<extra_id_42> that<extra_id_43> wanted<extra_id_44> .<extra_id_45> it<extra_id_46> ,<extra_id_47> ,<extra_id_48> so<extra_id_49> the<extra_id_50> ids<extra_id_51>\n",
            "I<extra_id_0> able to solve<extra_id_1> problem by using the latest version of Apache Commons Math library. It turns out that Apache Commons Math 3.2<extra_id_2> earlier version had a major<extra_id_3> reported here : https://issues<extra_id_4> apache.org/jira/browse<extra_id_5> H<extra_id_6> 33 The problem<extra_id_7> measNoise column<extra_id_8> always had to be 1<extra_id_9> matrix R should always have only 1 column // row dimension<extra_id_10> must be equal to row dimension of Hif (<extra_id_11> asNoise<extra_id_12> getRowDimension<extra_id_13> != measurementMatrix<extra_id_14> getRowDimension() || measNoise.getColumnDimension() != 1) { throw new Matrix<extra_id_15> MismatchException(measNoise.<extra_id_16> Dimension(), measNoise.getColumnDimension<extra_id_17> measurementMatrix.getRowDimension(), 1); }</s>\t<extra_id_0> was<extra_id_1> this<extra_id_2> and<extra_id_3> bug<extra_id_4> .<extra_id_5> /MAT<extra_id_6> -10<extra_id_7> was<extra_id_8> dimension<extra_id_9> which means<extra_id_10> of R<extra_id_11> me<extra_id_12> .<extra_id_13> ()<extra_id_14> .<extra_id_15> Dimension<extra_id_16> getRow<extra_id_17> (),<extra_id_18>\n",
            "From looking at the character<extra_id_0> you provided, it<extra_id_1> that \"\"Basic Latin\"\" and<extra_id_2> Latin-1 Supplements\"\" are<extra_id_3> ( 0x00 - 0x7F and 0x80 -<extra_id_4> xFF ). So you<extra_id_5> the same regex you provided, just extended<extra_id_6> include the \"\"Latin-1 Supplement\"\" characters. That would look like this:<extra_id_7> clean<extra_id_8> description = description.replaceAll(\"\"[<extra_id_9> \\\\x<extra_id_10> -\\\\<extra_id_11> ]\"\", \"\"\"\").trim(); As pointed<extra_id_12> the comments by<extra_id_13> Quinn, this does not get rid of the spaces between the removed sections, so the result has excess spaces<extra_id_14> which may or may not be what you want). If<extra_id_15> want those spaces removed, Quin<extra_id_16> 's regex (<extra_id_17> <unk> <extra_id_18> x00-\\\\xFF)]+(?:<unk> |\\\\s*) ,<extra_id_19> case the comment<extra_id_20> ) may work<extra_id_21> you.</s>\t<extra_id_0> ranges<extra_id_1> appears<extra_id_2> \"\"<extra_id_3> adjacent<extra_id_4> 0<extra_id_5> can use<extra_id_6> out to<extra_id_7> String<extra_id_8> _<extra_id_9> <unk> <extra_id_10> 00<extra_id_11> xFF<extra_id_12> out in<extra_id_13> <extra_id_14> (<extra_id_15> you<extra_id_16> n<extra_id_17> [<extra_id_18> (\\\\<extra_id_19> in<extra_id_20> is deleted<extra_id_21> for<extra_id_22>\n",
            "Don'<extra_id_0> use Runtime<extra_id_1> exec<extra_id_2> , use a ProcessBuilder<extra_id_3> .inheritIO() :<extra_id_4> List<String> command = Arrays.asList<extra_id_5> \"\"7za\"\", \"\"x\"\", \"\"-o\"\", tempFolder,<extra_id_6> Str);final<extra_id_7> pb = new ProcessBuilder(command).inheritIO();<extra_id_8> int<extra_id_9> code = pb.start().waitFor(); etc etc</s>\t<extra_id_0> t<extra_id_1> .<extra_id_2> ()<extra_id_3> and<extra_id_4> final<extra_id_5> (<extra_id_6> source<extra_id_7> ProcessBuilder<extra_id_8> final<extra_id_9> ret<extra_id_10>\n",
            "<extra_id_0> you set your board<extra_id_1> the protected modifier<extra_id_2> than private , then you could have direct access to it, like you suggested.Another<extra_id_3> (doesn't necessarily reflect the correct practice),<extra_id_4> as you<extra_id_5> , is to define a getter for it:<extra_id_6> Block[][] getBoard(){ return board<extra_id_7> Regarding your comment<extra_id_8> , protected has<extra_id_9> -wide access. There is no subclasses-<extra_id_10> modifier. Java originally had such a modifier. It<extra_id_11> private protected , but<extra_id_12> removed<extra_id_13> 1.0. If you wish to emulate such design, you<extra_id_14> use the<extra_id_15> modifier and enforce that only the parent class and its subclasses are in the same<extra_id_16> .</s>\tIf<extra_id_0> with<extra_id_1> rather<extra_id_2> approach<extra_id_3> also<extra_id_4> stated<extra_id_5> public<extra_id_6> ;}<extra_id_7> , yes<extra_id_8> package<extra_id_9> only<extra_id_10> was<extra_id_11> was<extra_id_12> in Java<extra_id_13> may<extra_id_14> protected<extra_id_15> package<extra_id_16>\n",
            "you CAN place any jar library you want into your JRE to achieve same result - classes from<extra_id_0> be available in classpath at runtime though it is not recommended to do so without a reason<extra_id_1> But if<extra_id_2> are just learning and do<extra_id_3> want bother<extra_id_4> build tools it'<extra_id_5> OK [java-<extra_id_6> ]/lib/ext - standart place for your libraries[<extra_id_7> -home]/<extra_id_8> /<extra_id_9> - place for<extra_id_10> libraries which API's overwrite default JRE's<extra_id_11> </s>\t<extra_id_0> this jar will<extra_id_1> :)<extra_id_2> you<extra_id_3> not<extra_id_4> with<extra_id_5> s<extra_id_6> home<extra_id_7> java<extra_id_8> lib<extra_id_9> endorsed<extra_id_10> the<extra_id_11> ones<extra_id_12>\n",
            "<unk> and (<extra_id_0> have special meanings in regex and should be escaped to match their<extra_id_1> : \\\\(\\\\<unk> .*?\\\\)<extra_id_2>\t<extra_id_0> )<extra_id_1> original characters<extra_id_2> </s>\n",
            "One of<extra_id_0> problems in your<extra_id_1> is that you're always copying the element at index tempIndex+1<extra_id_2> tempIndex : it's always<extra_id_3> next element.In<extra_id_4> after deleting let's say<extra_id_5> elements from the array, you'll have to copy tempIndex+5<extra_id_6> tempIndex<extra_id_7> I think this is a good way of<extra_id_8> it: public<extra_id_9> deleteValues(<extra_id_10> a, int value) { int j=0; for(int i=0; i<a.length; i++) { if<extra_id_11> a[<extra_id_12> ]<extra_id_13> value<extra_id_14> {<extra_id_15> [j]<extra_id_16> a[i];<extra_id_17> } } // fill the rest<extra_id_18> the array with zeros while(j<a<extra_id_19> length<extra_id_20> { a[j] = 0;<extra_id_21> ++; } } Basically, you keep two indices<extra_id_22> i and j .The<extra_id_23> i follows the \"\"original\"\" array, while index j follows the \"\"new\"\" array (after<extra_id_24> ).Index<extra_id_25> loops<extra_id_26> all the elements: if a<extra_id_27> i] is<extra_id_28> equal to value ,<extra_id_29> new position<extra_id_30> and increment both j and i<extra_id_31> a[i] is equal to value , skip it and increment i without<extra_id_32> j .After all the elements have been copied or skipped, fill the end of the array with zeros.<extra_id_33> input: a =<extra_id_34> 4, 2, 3, 4, 4, 4, 4, 1, 2, 3}value = 4 Output:<extra_id_35> = {2, 3, 1,<extra_id_36> 3, 0, 0, 0, 0, 0}</s>\t<extra_id_0> the<extra_id_1> code<extra_id_2> into<extra_id_3> the<extra_id_4> fact,<extra_id_5> 5<extra_id_6> into<extra_id_7> .<extra_id_8> doing<extra_id_9> void<extra_id_10> int[]<extra_id_11> (<extra_id_12> i<extra_id_13> !=<extra_id_14> )<extra_id_15> a<extra_id_16> =<extra_id_17> j++;<extra_id_18> of<extra_id_19> .<extra_id_20> )<extra_id_21> j<extra_id_22> :<extra_id_23> index<extra_id_24> deletion<extra_id_25> i<extra_id_26> over<extra_id_27> [<extra_id_28> not<extra_id_29> copy it into its<extra_id_30> j<extra_id_31> . If<extra_id_32> incrementing<extra_id_33> Sample<extra_id_34> {<extra_id_35> a<extra_id_36> 2,<extra_id_37>\n",
            "<extra_id_0> I understood correctly, what you<extra_id_1> to do is,<extra_id_2> clicking a button and expanding its sub-menu, change the background of that button until it is clicked again. You can<extra_id_3> this with a Tag on the Button: btn<extra_id_4> .setOnClickListener(new View.OnClickListener() { @Override public void onClick(View<extra_id_5> { // DO <extra_id_6> FF //<extra_id_7> button is not selected,<extra_id_8> background and tag the View<extra_id_9> if(<extra_id_10> .getTag() == null || v.getTag().equals(\"\"not<extra_id_11> selected\"\"))<extra_id_12> setBackgroundColor<extra_id_13> Color<extra_id_14> v.setTag(\"\"selected\"\"); //show sub-<extra_id_15> } //if button is already selected, reset background and tag the View as not selected else{ v.setBackgroundResource(android<extra_id_16> R.drawable.btn_<extra_id_17> .setTag(\"\"not_selected\"\");<extra_id_18> hide sub menu } }}); Notice<extra_id_19> v.setBackgroundResource(android.R.drawable.btn_default); is resetting the Button background to<extra_id_20> drawable. You may want<extra_id_21> change this to a<extra_id_22> drawable or color.<extra_id_23> could have used an ExpandableList<extra_id_24> to implement this kind of menu.</s>\tIf<extra_id_0> want<extra_id_1> when<extra_id_2> do<extra_id_3> Settings<extra_id_4> v)<extra_id_5> STU<extra_id_6> if<extra_id_7> change<extra_id_8> as selected<extra_id_9> v<extra_id_10> _<extra_id_11> { v.<extra_id_12> (<extra_id_13> .RED);<extra_id_14> menu<extra_id_15> .<extra_id_16> default); v<extra_id_17> //<extra_id_18> that<extra_id_19> an android<extra_id_20> to<extra_id_21> custom<extra_id_22> You<extra_id_23> View<extra_id_24>\n",
            "It looks like DESC<extra_id_0> just a shortcut for a query of the information schema with aliases for the columns. Column aliases can be retrieved with<extra_id_1> Metadata.getColumnLabel(<extra_id_2> )<extra_id_3> JDBC defines<extra_id_4> label as:<extra_id_5> designated column<extra_id_6> s<extra_id_7> title<extra_id_8> use in printouts and displays. The suggested title is usually specified by the SQL AS clause<extra_id_9> a<extra_id_10> AS is not specified<extra_id_11> the value returned from getColumnLabel will be the same as the value returned by the getColumnName method. This also means that in almost all<extra_id_12> should be using getColumnLabel<extra_id_13> of getColumnName .</s>\t<extra_id_0> is<extra_id_1> ResultSet<extra_id_2> int<extra_id_3> .<extra_id_4> column<extra_id_5> Gets the<extra_id_6> '<extra_id_7> suggested<extra_id_8> for<extra_id_9> . If<extra_id_10> SQL<extra_id_11> ,<extra_id_12> situation you<extra_id_13> instead<extra_id_14>\n",
            "Each Swing<extra_id_0> has an InputMap that is<extra_id_1> by all components of the same type. Changes to<extra_id_2> InputMap will affect<extra_id_3> components. For example all<extra_id_4> s share a focusInputMap . To disable the ability to select all the text using Control-A<extra_id_5> can use code like: InputMap im =<extra_id_6> InputMap)<extra_id_7> .get(\"\"TextArea.focusInputMap\"\");KeyStroke<extra_id_8> Stroke<extra_id_9> KeyStroke.getKeyStroke(\"\"control A\"\");im.put(key<extra_id_10> , \"\"none<extra_id_11> You can check out UIManager Defaults to see which InputMaps<extra_id_12> implemented for a given<extra_id_13> component. Frame and Dialog don't appear in the UIManager so I don't<extra_id_14> if InputMap<extra_id_15> are supported for them<extra_id_16> . You can try adding \"\"<extra_id_17> InputMap\"\" and creating your own bindings to see if<extra_id_18> works. Otherwise you<extra_id_19> using \"\"Root<extra_id_20> .ancestorInputMap\"\" although I would guess this InputMap<extra_id_21> be shared<extra_id_22> frames<extra_id_23> dialogs. You can also check out Escape<extra_id_24> Dialog for an Action that is bound to the InputMap of a<extra_id_25> RootPane<extra_id_26> </s>\t<extra_id_0> component<extra_id_1> shared<extra_id_2> this<extra_id_3> all<extra_id_4> JTextArea<extra_id_5> you<extra_id_6> (<extra_id_7> UIManager<extra_id_8> key<extra_id_9> =<extra_id_10> Stroke<extra_id_11> \"\");<extra_id_12> are<extra_id_13> Swing<extra_id_14> know<extra_id_15> s<extra_id_16> or not<extra_id_17> Dialog.ancestor<extra_id_18> this<extra_id_19> can try<extra_id_20> Pane<extra_id_21> would<extra_id_22> by<extra_id_23> and<extra_id_24> Key and<extra_id_25> J<extra_id_26> .<extra_id_27>\n",
            "You call<extra_id_0> .run() (which you normally shouldn<extra_id_1> t call directly), and that does nothing<extra_id_2> has completed<extra_id_3> cleaned itself up<extra_id_4> @Overridepublic void run() { if (target !=<extra_id_5> { target.run();<extra_id_6> Source: Java 7 update 79 Where target is the provided runnable. The field target<extra_id_7> set to null when the thread has ended<extra_id_8> /** * This method is called by the system<extra_id_9> give a Thread * a<extra_id_10> to clean up before it actually exits. */private void exit() { if (<extra_id_11> !=<extra_id_12> ) { group<extra_id_13> threadTerminated(this);<extra_id_14> = null; } /* Aggressively null out all reference fields<extra_id_15> see bug 4006245 */ target = null;<extra_id_16> <extra_id_17> release<extra_id_18> some of these resources */ threadLocals =<extra_id_19> ; inheritableThreadLocals = null; inheritedAccessControlContext = null; blocker<extra_id_20> null; uncaughtExceptionHandler = null;} Source: Java 7 update 79 So<extra_id_21> exact output (<extra_id_22> , and<extra_id_23> you get two<extra_id_24> three<extra_id_25> ) depends on<extra_id_26> , scheduling, etc.<extra_id_27>\t<extra_id_0> Thread<extra_id_1> '<extra_id_2> if the Thread<extra_id_3> and<extra_id_4> :<extra_id_5> null)<extra_id_6> }}<extra_id_7> is<extra_id_8> :<extra_id_9> to<extra_id_10> chance<extra_id_11> group<extra_id_12> null<extra_id_13> .<extra_id_14> group<extra_id_15> :<extra_id_16> /*<extra_id_17> Speed the<extra_id_18> of<extra_id_19> null<extra_id_20> =<extra_id_21> the<extra_id_22> including order<extra_id_23> if<extra_id_24> or<extra_id_25> messages<extra_id_26> timing<extra_id_27> </s>\n",
            "Create an Action .<extra_id_0> Action can be used as<extra_id_1> ActionListener of the button and can<extra_id_2> used in the<extra_id_3> for the given KeyStroke. From<extra_id_4> tutorial you can read sections on: How to<extra_id_5> Actions How to Use Key<extra_id_6> You can check out:<extra_id_7> ing A Single Action Listener To All Buttons<extra_id_8> an example with Actions and Key<extra_id_9> . Edit: That's my<extra_id_10> right now to have that<extra_id_11> being pressed down animation\"\" when you hit the keys. Then in the Action for the Key Binding<extra_id_12> need to invoke doClick()<extra_id_13> the related button, instead of<extra_id_14> the Action. So for each<extra_id_15> you<extra_id_16> 2<extra_id_17> one the play the sound<extra_id_18> other to do<extra_id_19> click on the button which in turn will play the sound</s>\t<extra_id_0> The<extra_id_1> the<extra_id_2> be<extra_id_3> Key Bindings<extra_id_4> the Swing<extra_id_5> Use<extra_id_6> Bindings<extra_id_7> Attach<extra_id_8> for<extra_id_9> Bindings<extra_id_10> goal<extra_id_11> \"\"<extra_id_12> you<extra_id_13> on<extra_id_14> sharing<extra_id_15> button<extra_id_16> need<extra_id_17> Actions<extra_id_18> the<extra_id_19> the<extra_id_20>\n",
            "Network oprations/call cannot<extra_id_0> done main thread. You need to run it from another thread or asynchronous task or an intent service Note : All UI opration shoud be done onPostExecute<extra_id_1> onPreExecute The below code may help<extra_id_2> . public void onClick(View v<extra_id_3> switch (v.getId()){ new Lichterkette().execute(); }} class L<extra_id_4> terkette extends AsyncTask<String,Void,<extra_id_5> >{ @Override protected void<extra_id_6> super.onPreExecute<extra_id_7> } @Override protected String doInBackground(String... params) { StringBuilder sb=null; BufferedReader reader=null; String server<extra_id_8> =null; try<extra_id_9> URL url =<extra_id_10> URL(\"\"http://192.168.<extra_id_11> 106/?<extra_id_12> ich<extra_id_13> kette=1\"\"); HttpURLConnection<extra_id_14> = (HttpURLConnection)<extra_id_15> .openConnection(); connection.setRequestProperty(\"\"Content-Type\"\", \"\"<extra_id_16> /x-www-form-urlencoded\"\"); connection<extra_id_17> setConnectTimeout(5000); connection.setRequestMethod(\"\"GET\"\"); connection<extra_id_18> (); int statusCode = connection.getResponseCode(); //Log.e(\"\"statusCode<extra_id_19> \"\"\"\" +<extra_id_20> if (statusCode<extra_id_21> {<extra_id_22> new StringBuilder(); reader = new BufferedReader(<extra_id_23> InputStreamReader(connection.getInputStream<extra_id_24> String line; while (<extra_id_25> line = reader.readLine()) != null) {<extra_id_26> .append<extra_id_27> line + \"\"\\<extra_id_28> \"\"); } } connection.disconnect<extra_id_29> if (sb!=null<extra_id_30> server<extra_id_31> =sb.toString();<extra_id_32> (Exception e) { e<extra_id_33> ();<extra_id_34> finally { if (<extra_id_35> != null) { try { reader.<extra_id_36> (); } catch (Exception e) { e.printStackTrace(); } } } return serverResponse<extra_id_37> } @Override protected void onPostExecute(String s) { super.onPostExecute(s<extra_id_38> //All your UI operation can be performed here<extra_id_39> out<extra_id_40> println<extra_id_41> s); } }</s>\t<extra_id_0> be<extra_id_1> ,<extra_id_2> you to solve<extra_id_3> ) {<extra_id_4> ich<extra_id_5> String<extra_id_6> onPreExecute() {<extra_id_7> ();<extra_id_8> Response<extra_id_9> {<extra_id_10> new<extra_id_11> 2.<extra_id_12> L<extra_id_13> ter<extra_id_14> connection<extra_id_15> url<extra_id_16> application<extra_id_17> .<extra_id_18> .connect<extra_id_19> \"\",<extra_id_20> statusCode);<extra_id_21> == 200)<extra_id_22> sb =<extra_id_23> new<extra_id_24> ()));<extra_id_25> (<extra_id_26> sb<extra_id_27> (<extra_id_28> n<extra_id_29> ();<extra_id_30> )<extra_id_31> Response<extra_id_32> } catch<extra_id_33> .printStackTrace<extra_id_34> }<extra_id_35> reader<extra_id_36> close<extra_id_37> ;<extra_id_38> );<extra_id_39> System.<extra_id_40> .<extra_id_41> (<extra_id_42>\n",
            "<extra_id_0> 's to<extra_id_1> that the number is a power of two,<extra_id_2> not a completely<extra_id_3> choice. It<extra_id_4> alert<extra_id_5> developers<extra_id_6> ing with different<extra_id_7> that they<extra_id_8> use other numbers in the pattern (e.g<extra_id_9> , 1<extra_id_10> 3 or 1 << 5 , rather than 20 ) so they don<extra_id_11> t break the methods which<extra_id_12> on the<extra_id_13> of two<extra_id_14> . There is a comment just<extra_id_15> : /** * The default initial capacity - MUST be a power of two. */static final int DEFAULT_INITIAL_CAPACITY =<extra_id_16> << 4; // aka<extra_id_17> capacity<extra_id_18> table length) of any java.util.HashMap is always a power of two. It<extra_id_19> s designed that way because that allows the use of<extra_id_20> fast<extra_id_21> AND operation<extra_id_22> &<extra_id_23> ; ) to wrap each key's<extra_id_24> code into the range of the length<extra_id_25> the<extra_id_26> ,<extra_id_27> done in methods that access the table: final Node<K,<extra_id_28> > getNode(int<extra_id_29> , Object key) { Node<K,<extra_id_30> >[] tab; Node<extra_id_31> K,V<extra_id_32> first, e<extra_id_33> int n;<extra_id_34> ; if ((tab = table) != null &<extra_id_35> ;&amp; (n = tab.length<extra_id_36> > 0 &amp;&amp; (first = tab[(n<extra_id_37> 1) &<extra_id_38> ; hash]) != null<extra_id_39> { /// <-- bitwise 'AND' here<extra_id_40> There, n is the capacity, and (<extra_id_41> - 1) &amp; hash wraps the hash value to fit that range, selecting the appropriate bucket of the table<extra_id_42> that hash.<extra_id_43> If<extra_id_44> were not a power of two,<extra_id_45> formula would need to be Math.<extra_id_46> hash %<extra_id_47> ) ,<extra_id_48> the modulo operator to calculate the remainder after division<extra_id_49> n , plus an extra step to deal with negative hash values. That would<extra_id_50> , but be slower.<extra_id_51> an example in decimal ,<extra_id_52> have some<extra_id_53> hash value<extra_id_54> 3,498,212, and an arbitrary table length of 1,234;<extra_id_55> '<extra_id_56> not obvious that 193498212 % 1234 happens to be<extra_id_57> 42<extra_id_58> but with<extra_id_59> that is an<extra_id_60> power of ten , the result of 193498212 % 1000 is simply 212,<extra_id_61> last 3 digits. In binary , a power of<extra_id_62> is a 1<extra_id_63> by some number of 0s, so a<extra_id_64> trick is possible.)</s>\tIt<extra_id_0> emphasize<extra_id_1> and<extra_id_2> arbitrary<extra_id_3> thus<extra_id_4> s<extra_id_5> experiment<extra_id_6> numbers<extra_id_7> should<extra_id_8> .<extra_id_9> <<<extra_id_10> '<extra_id_11> rely<extra_id_12> power<extra_id_13> requirement<extra_id_14> above<extra_id_15> 1<extra_id_16> 16 The<extra_id_17> (<extra_id_18> '<extra_id_19> a<extra_id_20> bitwise<extra_id_21> (<extra_id_22> amp<extra_id_23> hash<extra_id_24> of<extra_id_25> table<extra_id_26> as<extra_id_27> V<extra_id_28> hash<extra_id_29> V<extra_id_30> <<extra_id_31> ><extra_id_32> ;<extra_id_33> K k<extra_id_34> amp<extra_id_35> )<extra_id_36> -<extra_id_37> amp<extra_id_38> )<extra_id_39> ...<extra_id_40> n<extra_id_41> for<extra_id_42> (<extra_id_43> n<extra_id_44> the<extra_id_45> abs(<extra_id_46> n<extra_id_47> using<extra_id_48> by<extra_id_49> work<extra_id_50> Imagine<extra_id_51> where you<extra_id_52> arbitrary<extra_id_53> 19<extra_id_54> it<extra_id_55> s<extra_id_56> 8<extra_id_57> ,<extra_id_58> a table length<extra_id_59> exact<extra_id_60> the<extra_id_61> two<extra_id_62> followed<extra_id_63> similar<extra_id_64>\n",
            "I can't read the<extra_id_0> 's mind<extra_id_1> we do<extra_id_2> that to indicate a relationship between the numbers. Compare this: int<extra_id_3> = 86400; vs<extra_id_4> day = 60 * 60 * 24; // 86400 The second example clearly<extra_id_5> the relationship between the numbers, and Java<extra_id_6> smart enough to<extra_id_7> that as a constant.</s>\t<extra_id_0> developer<extra_id_1> , but<extra_id_2> things like<extra_id_3> day<extra_id_4> int<extra_id_5> shows<extra_id_6> is<extra_id_7> compile<extra_id_8>\n",
            "You can use DependencyManagement instead of<extra_id_0> Not everyone likes inheriting from the spring-<extra_id_1> -starter-<extra_id_2> . You may have your own corporate standard parent that you need<extra_id_3> use, or you may<extra_id_4> prefer to explicitly declare all your Maven configuration <dependency<extra_id_5> > <dependencies> <dependency> <!--<extra_id_6> dependency<extra_id_7> from Spring Boot --> <<extra_id_8> >org.<extra_id_9> .boot</groupId> <artifactId<extra_id_10> spring-boot-dependencies</artifactId> <version><extra_id_11> 3.3.<extra_id_12> </version><extra_id_13> type>pom</type<extra_id_14> <scope<extra_id_15> import</scope><extra_id_16> dependency<extra_id_17> </dependencies></dependencyManagement> Source: Spring Boot Documentation</s>\t<extra_id_0> parent<extra_id_1> boot<extra_id_2> parent POM<extra_id_3> to<extra_id_4> just<extra_id_5> Management<extra_id_6> Import<extra_id_7> management<extra_id_8> groupId<extra_id_9> springframework<extra_id_10> ><extra_id_11> 1.<extra_id_12> RELEASE<extra_id_13> <<extra_id_14> ><extra_id_15> ><extra_id_16> </<extra_id_17> ><extra_id_18>\n",
            "<extra_id_0> way it<extra_id_1> is<extra_id_2> - Abh<extra_id_3> ekServiceImpl bean is wrapped in a proxy. findByMatchingCriteria is @Transactional , so<extra_id_4> the method is<extra_id_5> Spring gets new database connection from the connection pool and sets auto commit to false. The transactions are bound to a thread, so the<extra_id_6> methods on this thread will use<extra_id_7> connection. The methods<extra_id_8> MatchingCriteria and get<extra_id_9> are executed after findByMatchingCriteria Spring<extra_id_10> commit on the connection(<extra_id_11> rollback<extra_id_12> RuntimeException<extra_id_13> code<extra_id_14> in transaction that's around findByMatchingCriteria A case where a transaction will<extra_id_15> be created is if you have @Transactional<extra_id_16> getAbs ,<extra_id_17> on<extra_id_18> Criteria (reverse the calling) and you call findByMatchingCriteria outside of the service.<extra_id_19> you call only getAbs outside of the service it will<extra_id_20> . More clear<extra_id_21> : @<extra_id_22> class My<extra_id_23> implements MyService{ @Autowired private<extra_id_24> Dao myDao; @<extra_id_25> public List<<extra_id_26> transactionalMethod() {<extra_id_27> this.myDao.get(4L); } public List<T> notTransactionalMethod(){ return transactionalMethod(); }} In some other<extra_id_28> : @Component public class SomeClass { @Autowired private MyService myService; public void someMethod(){ myService.transactionalMethod();//will be in transaction. Here actualy you go<extra_id_29> the proxy first and then it calls the real method. myService.notTransactionalMethod();//will<extra_id_30> in transaction and hibernate will throw<extra_id_31> .<extra_id_32> go to the proxy,<extra_id_33> doesent do anything<extra_id_34> because the method is not transactional and it calls the real method,<extra_id_35> but here you dont't got tr<extra_id_36> the proxy so the @Transactional is ignored. } }</s>\tThe<extra_id_0> works<extra_id_1> :<extra_id_2> ish<extra_id_3> before<extra_id_4> invoked<extra_id_5> other<extra_id_6> this<extra_id_7> findBy<extra_id_8> Abs<extra_id_9> calls<extra_id_10> or<extra_id_11> if<extra_id_12> occurs). So your<extra_id_13> is<extra_id_14> not<extra_id_15> on<extra_id_16> but not<extra_id_17> findByMatching<extra_id_18> But if<extra_id_19> be in transaction<extra_id_20> example<extra_id_21> Servicepublic<extra_id_22> ServiceImpl<extra_id_23> My<extra_id_24> Transactional<extra_id_25> T><extra_id_26> return<extra_id_27> class<extra_id_28> to<extra_id_29> not be<extra_id_30> an error<extra_id_31> //You<extra_id_32> but<extra_id_33> special<extra_id_34> //<extra_id_35> ough<extra_id_36>\n",
            "<extra_id_0> import statements are in code<extra_id_1> is<extra_id_2> buildSrc and not main<extra_id_3> which means that the dependencies are required by the buildscript dependencies section. Instead<extra_id_4> are applying dependencies<extra_id_5> the general dependencies section which applies to<extra_id_6> which lives in the main directory. Add to your build.gradle<extra_id_7> buildscript{ repositories {<extra_id_8> ()<extra_id_9> dependencies { compile 'org.<extra_id_10> .groovy:groovy<extra_id_11> :2.0.0' compile 'org.apache.hadoop:hadoop-common:2.<extra_id_12> ' }}</s>\tThe<extra_id_0> that<extra_id_1> in<extra_id_2> ,<extra_id_3> you<extra_id_4> to<extra_id_5> source<extra_id_6> :<extra_id_7> mavenCentral<extra_id_8> }<extra_id_9> codehaus<extra_id_10> -all<extra_id_11> 7.1<extra_id_12>\n",
            "I believe the problem lies with your JButton Openbtn .Every time the actionPerformed of your class is<extra_id_0> , you add another<extra_id_1> listener to the very<extra_id_2> JButton. Which means the more<extra_id_3> do this, the more times<extra_id_4> thing\"\" is being written to the<extra_id_5> . You need to<extra_id_6> JButton Open<extra_id_7> = new JButton<extra_id_8> Open\"\"); again at the beginning of your actionPerformed() method.</s>\t<extra_id_0> called<extra_id_1> action<extra_id_2> same<extra_id_3> often you<extra_id_4> \"\"Som<extra_id_5> output<extra_id_6> call<extra_id_7> btn<extra_id_8> (\"\"<extra_id_9>\n",
            "The logic of your square ensures that the top<extra_id_0> is<extra_id_1> written<extra_id_2> . if in the<extra_id_3> right corner, then drop down to next row.<extra_id_4> here's the code that does it<extra_id_5> if (row == 0 &amp;&amp<extra_id_6> column == n<extra_id_7> 1) { column = n -1; row +=<extra_id_8> So, you're always going<extra_id_9> away from that location before you enter any value on your next iteration. You don't actually need that<extra_id_10> that sets the column<extra_id_11> n - 1 as it'<extra_id_12> already n<extra_id_13> 1 by definition of the logic above it. You're actually writing the<extra_id_14> 2<extra_id_15> the<extra_id_16> third column. It is then later overwritten by the value 5. If<extra_id_17> output<extra_id_18> values of your array after each iteration of your program,<extra_id_19> you'll see how<extra_id_20> of your model is changing.</s>\t<extra_id_0> right corner<extra_id_1> never<extra_id_2> to<extra_id_3> upper<extra_id_4> And<extra_id_5> ...<extra_id_6> ;<extra_id_7> -<extra_id_8> 1;<extra_id_9> to move<extra_id_10> line<extra_id_11> to<extra_id_12> s<extra_id_13> -<extra_id_14> value<extra_id_15> to<extra_id_16> second row,<extra_id_17> you<extra_id_18> the<extra_id_19> then<extra_id_20> the state<extra_id_21>\n",
            "as this works<extra_id_0> if u refresh the browser, i<extra_id_1> suggest u not to use any other code.<extra_id_2> if u<extra_id_3> to<extra_id_4> how to close the window<extra_id_5> refresh browser,<extra_id_6> the below code after launch: //wait until the<extra_id_7> loaded.//than use this codedriver.findElement(By.<extra_id_8> (\"\"div.<extra_id_9> fest<extra_id_10> container.appfest_container<extra_id_11> .visible-md<extra_id_12> visible-lg >a.appfest_container-close.<extra_id_13> -right.<extra_id_14> fix\"\")).click(); my css path is long but u may change it by using xpath. //*[@id=\"\"htmlDoc\"\"]/<extra_id_15> /div[13]/<extra_id_16> /a[1] and hope<extra_id_17> accept the answer<extra_id_18> </s>\t<extra_id_0> fine<extra_id_1> will<extra_id_2> But<extra_id_3> want<extra_id_4> know<extra_id_5> without<extra_id_6> write<extra_id_7> browser<extra_id_8> cssSelector<extra_id_9> app<extra_id_10> _<extra_id_11> -bg<extra_id_12> .<extra_id_13> pull<extra_id_14> clear<extra_id_15> body<extra_id_16> div<extra_id_17> u will<extra_id_18> .<extra_id_19>\n",
            "The<extra_id_0> is<extra_id_1> do not cast integer result of division operation to byte: A =<extra_id_2> byte) C / (byte<extra_id_3> B<extra_id_4> // you cast C to byte, cast B to byte and then make division Instead, cast only<extra_id_5> A = (byte)<extra_id_6> C / B); // this is casting result to<extra_id_7> </s>\t<extra_id_0> reason<extra_id_1> you<extra_id_2> (<extra_id_3> )<extra_id_4> ;<extra_id_5> the result<extra_id_6> (<extra_id_7> byte<extra_id_8>\n",
            "I tried to test both of them by a na<unk> ve way<extra_id_0> System.currentTimeMillis() on 10000 random doubles.<extra_id_1> a =<extra_id_2> .<extra_id_3> ();bubbleSort<extra_id_4> array);long b<extra_id_5> System.currentTimeMillis()<extra_id_6> a<extra_id_7> The first sort<extra_id_8> little faster. I have tested always with random data separately. The first one in milliseconds: 179, 170, 185 The second<extra_id_9> in milliseconds<extra_id_10> 292, 241, 244 The result is they work both<extra_id_11> and fast<extra_id_12> In general in Java there is not much need to find<extra_id_13> fastest way at all costs.<extra_id_14> 't worry and<extra_id_15> any of<extra_id_16> .</s>\t<extra_id_0> with<extra_id_1> long<extra_id_2> System<extra_id_3> currentTimeMillis<extra_id_4> (<extra_id_5> =<extra_id_6> -<extra_id_7> ;<extra_id_8> is<extra_id_9> one<extra_id_10> :<extra_id_11> same<extra_id_12> .<extra_id_13> the<extra_id_14> So don<extra_id_15> use<extra_id_16> them<extra_id_17>\n",
            "<extra_id_0> 3.4 will probably fix your code<extra_id_1> public static void main(String[] args) { System<extra_id_2> out.print(\"\"<extra_id_3> odd number<extra_id_4> \"\"); int n = console.nextInt(); int[][] magicSquare = new int[n][n]; int number =<extra_id_5> row = 0; int column =<extra_id_6> /<extra_id_7> int curr_row; int curr_col; while (number <= n * n<extra_id_8> magicSquare[<extra_id_9> column]<extra_id_10> number; number++; curr_<extra_id_11> row; curr_<extra_id_12> = column; row -= 1; column += 1; if (<extra_id_13> ==<extra_id_14> { row = n<extra_id_15> } if (column<extra_id_16> n) { column = 0; } if (magic<extra_id_17> [row][column] !=<extra_id_18> { row = curr_row + 1; column = curr_col; if (row == -1) { row =<extra_id_19> - 1;<extra_id_20> } } for (int i = 0; i <<extra_id_21> Square.length; i++) { for (int j =<extra_id_22> j < magicSquare.length; j++) { System<extra_id_23> out.print(<extra_id_24> Square<extra_id_25> i][j]<extra_id_26> \"\"); } System.out.println(); }} Setting n =<extra_id_27> gets me<extra_id_28> following<extra_id_29> which seems correct. 8 1 6 3 5 7 4 9 2</s>\tRemoving<extra_id_0> .<extra_id_1> .<extra_id_2> Give an<extra_id_3> :<extra_id_4> 1; int<extra_id_5> n<extra_id_6> 2;<extra_id_7> ) {<extra_id_8> row][<extra_id_9> =<extra_id_10> row =<extra_id_11> col<extra_id_12> row<extra_id_13> -1)<extra_id_14> - 1;<extra_id_15> ==<extra_id_16> Square<extra_id_17> 0)<extra_id_18> n<extra_id_19> }<extra_id_20> magic<extra_id_21> 0;<extra_id_22> .<extra_id_23> magic<extra_id_24> [<extra_id_25> + \"\"<extra_id_26> 3<extra_id_27> the<extra_id_28> output<extra_id_29>\n",
            "If you use Java8 you can do: String<extra_id_0> = Arrays.stream(<extra_id_1> s) .filter<extra_id_2> s -> s<extra_id_3> (\"\"AL<extra_id_4> P\"\") &amp;&amp; s.endsWith(\"\"F.zip\"\")) .max(getReleaseComparator())<extra_id_5> orElse(null); where release comparator is based<extra_id_6> extracting<extra_id_7> from file name and comparing<extra_id_8> </s>\t<extra_id_0> file<extra_id_1> filename<extra_id_2> (<extra_id_3> .startsWith<extra_id_4> F<extra_id_5> .<extra_id_6> on<extra_id_7> numbers<extra_id_8> them<extra_id_9>\n",
            "You can do that<extra_id_0> a grouping collector: Map<<extra_id_1> , Employee<extra_id_2> topEmployees = allEmployees<extra_id_3> stream() .collect(groupingBy( e -> e.department, collectingAndThen(maxBy<extra_id_4> (e -> e.<extra_id_5> ))<extra_id_6> Optional::get) )); with the static imports<extra_id_7> static java.util.Comparator.<extra_id_8> ;import static java.util<extra_id_9> stream.Collectors.collectingAndThen;import<extra_id_10> java.util.stream.Collectors.groupingBy;import<extra_id_11> java.util.stream<extra_id_12> .maxBy; This code creates a<extra_id_13> of all the employees and groups them with their department with the help of Collectors.groupingBy . For all<extra_id_14> values classified to the same key<extra_id_15> need to keep<extra_id_16> employee<extra_id_17> the maximum salary,<extra_id_18> we collect them with Collectors<extra_id_19> maxBy<extra_id_20> comparator compares<extra_id_21> Comparator.comparingInt . Since maxBy returns an Optional<Employee> (to handle the case where<extra_id_22> the list is empty), we wrap it with a call to Collectors<extra_id_23> collectingAndThen with a finisher that<extra_id_24> returns the<extra_id_25> : we know in this case that the optional won<extra_id_26> t be empty.</s>\t<extra_id_0> with<extra_id_1> String<extra_id_2> ><extra_id_3> .<extra_id_4> (comparingInt<extra_id_5> salary<extra_id_6> ,<extra_id_7> import<extra_id_8> comparingInt<extra_id_9> .<extra_id_10> static<extra_id_11> static<extra_id_12> .Collectors<extra_id_13> Stream<extra_id_14> the<extra_id_15> , we<extra_id_16> only the<extra_id_17> with<extra_id_18> so<extra_id_19> .<extra_id_20> and the<extra_id_21> the salary with<extra_id_22> there<extra_id_23> .<extra_id_24> just<extra_id_25> employee<extra_id_26> '<extra_id_27>\n",
            "Solved it<extra_id_0> my own. I also should have mentioned,<extra_id_1> 'm trying<extra_id_2> connect from another machine to<extra_id_3> MongoDB-instance. That is not allowed<extra_id_4> the MongoDB-<extra_id_5> set<extra_id_6> . So I had to<extra_id_7> in<extra_id_8> /etc/mongod.conf File the value behind bindIp from 127.0.0.1 to 0.0.0.0. [Source]</s>\t<extra_id_0> on<extra_id_1> that I<extra_id_2> to<extra_id_3> the<extra_id_4> with<extra_id_5> pre<extra_id_6> s<extra_id_7> change<extra_id_8> the<extra_id_9>\n",
            "<extra_id_0> result of selectedKeys contains the keys to<extra_id_1> that are currently available for their selected<extra_id_2> (eg READ ,<extra_id_3> WRITE ). If you don't<extra_id_4> the key, it will<extra_id_5> the set, and a<extra_id_6> call to<extra_id_7> () (and<extra_id_8> ) will still include<extra_id_9> , even though the associated channel is<extra_id_10> for the<extra_id_11> . From the documentation of Selector : A selectable channel's registration with a selector<extra_id_12> by a SelectionKey object. A selector maintains three sets of selection keys:<extra_id_13> key set contains the keys representing the current channel<extra_id_14> s of this selector<extra_id_15> This set is returned by the<extra_id_16> method. The selected-key set is the set of keys such that each key's channel was detected<extra_id_17> for at<extra_id_18> one of the operations identified in the key'<extra_id_19> interest set during<extra_id_20> operation. This set is returned by the selectedKeys method. The selected-key set<extra_id_21> always<extra_id_22> subset of the key set. [..<extra_id_23> Keys<extra_id_24> added<extra_id_25> the selected<extra_id_26> key set by selection operations.<extra_id_27> key may be removed directly from the selected-key set by invoking the set's remove method or by invoking the remove method<extra_id_28> an iterator<extra_id_29> the set. Keys are never removed from the selected-key set<extra_id_30> other<extra_id_31> ; they are not<extra_id_32> in particular, removed as a side effect of selection operations . Keys<extra_id_33> not be added directly to the selected-key set. (emphasis mine)</s>\tThe<extra_id_0> channels<extra_id_1> operations<extra_id_2> <extra_id_3> remove<extra_id_4> remain in<extra_id_5> next<extra_id_6> select<extra_id_7> family<extra_id_8> it<extra_id_9> not ready<extra_id_10> selected operation<extra_id_11> is represented<extra_id_12> The<extra_id_13> registration<extra_id_14> .<extra_id_15> keys<extra_id_16> to be ready<extra_id_17> least<extra_id_18> s<extra_id_19> a prior selection<extra_id_20> is<extra_id_21> a<extra_id_22> ]<extra_id_23> are<extra_id_24> to<extra_id_25> -<extra_id_26> A<extra_id_27> of<extra_id_28> obtained from<extra_id_29> in any<extra_id_30> way<extra_id_31> ,<extra_id_32> may<extra_id_33>\n",
            "You cannot navigate in<extra_id_0> on a ToMany relation. You must use JOIN<extra_id_1> select o from<extra_id_2> Offre o<extra_id_3> .com<extra_id_4> ences c<extra_id_5> o.typeContrat.titre = :<extra_id_6> or o.ville.nomVille = :b or c.libelleCompetance = :c<extra_id_7>\t<extra_id_0> the query<extra_id_1> :<extra_id_2> <extra_id_3> join o<extra_id_4> pet<extra_id_5> where<extra_id_6> a<extra_id_7> </s>\n",
            "Alternative solution: Map<String,<extra_id_0> > topEmployees<extra_id_1> allEmployees.stream() .collect(Collectors<extra_id_2> toMap( e -> e.<extra_id_3> -><extra_id_4> , BinaryOperator<extra_id_5> maxBy(Comparator.comparingInt(e -> e<extra_id_6> salary)) )); When we<extra_id_7> the first<extra_id_8> from the department, we add a new entry to the Map . When another employee is found, one with higher salary is<extra_id_9> . This<extra_id_10> you don't need to meddle with<extra_id_11> s.</s>\t<extra_id_0> Employee<extra_id_1> =<extra_id_2> .<extra_id_3> department, e<extra_id_4> e<extra_id_5> .<extra_id_6> .<extra_id_7> encounter<extra_id_8> employee<extra_id_9> kept<extra_id_10> way<extra_id_11> optional<extra_id_12>\n",
            "So, it was a bit easier than I<extra_id_0> . Here is Groovy<extra_id_1> to do that<extra_id_2> import org<extra_id_3> apache.pdfbox.<extra_id_4> model<extra_id_5> PDDocumentimport org.apache.<extra_id_6> .rendering.<extra_id_7> Rendererimport javax.<extra_id_8> .ImageIO<extra_id_9> java.awt.*import<extra_id_10> .awt.geom<extra_id_11> AffineTransform<extra_id_12> java<extra_id_13> awt.geom.Rectangle2Dimport java.awt.<extra_id_14> .BufferedImageimport java.awt.image.RenderedImageclass RegionPDFRenderer<extra_id_15> private static final int POINT<extra_id_16> _IN_INCH = 72 private final PDDocument document private final PDFRenderer renderer private final int resolutionDotPerInch Region<extra_id_17> Renderer(PDDocument document, int resolutionDotPer<extra_id_18> ch)<extra_id_19> .document<extra_id_20> document this.renderer = new PDFRenderer(document) this.resolutionDotPerInch = resolutionDotPerInch } RenderedImage renderRect<extra_id_21> int pageIndex,<extra_id_22> 2D rect) { BufferedImage image = createImage<extra_id_23> rect<extra_id_24> Graphics2D graphics = createGraphics(image, rect)<extra_id_25> .renderPageToGraphics(pageIndex, graphics)<extra_id_26> .dispose() image } private<extra_id_27> createImage(Rectangle2D rect) { double scale<extra_id_28> Dot<extra_id_29> Inch<extra_id_30> POINT<extra_id_31> _IN_INCH int bitmap<extra_id_32> rect.width * scale<extra_id_33> bitmapHeight = rect.height * scale<extra_id_34> BufferedImage(bitmapWidth<extra_id_35> Height,<extra_id_36> .TYPE_INT_RGB) } private Graphics2D createGraphics(BufferedImage image, Rectangle<extra_id_37> D rect<extra_id_38> scale = resolution<extra_id_39> PerInch / <extra_id_40> S_<extra_id_41> _INCH<extra_id_42> transform = AffineTransform.getScaleInstance(<extra_id_43> scale) transform.concatenate(AffineTransform.getTranslateInstance(-rect.<extra_id_44> , -rect.y)) Graphics2D graphics = image.createGraphics()<extra_id_45> .setBackground(Color.WHITE) graphics.setTransform(transform<extra_id_46> graphics } static<extra_id_47> main(String[]<extra_id_48> ) { String filePath =<extra_id_49> .<extra_id_50> .pdf' def pageIndex = 0 def region = new Rectangle<extra_id_51> 70,<extra_id_52> 2, 498, 289)<extra_id_53> resolutionForHi<extra_id_54> ScreenRendering = 220 /* dpi<extra_id_55> PDDocument<extra_id_56> = PDDocument.load(new File<extra_id_57> filePath))<extra_id_58> { def renderer<extra_id_59> new RegionPDFRenderer(doc, resolutionForHiDPIScreenRendering) def image = renderer.render<extra_id_60> (pageIndex, region) ImageIO.write(image,<extra_id_61> png\"\", new File(\"\"./<extra_id_62> image.png\"\")) } finally {<extra_id_63> .close() } }}</s>\t<extra_id_0> initially thought<extra_id_1> code<extra_id_2> .<extra_id_3> .<extra_id_4> pd<extra_id_5> .<extra_id_6> pdfbox<extra_id_7> PDF<extra_id_8> imageio<extra_id_9> import<extra_id_10> java<extra_id_11> .<extra_id_12> import<extra_id_13> .<extra_id_14> image<extra_id_15> {<extra_id_16> S<extra_id_17> PDF<extra_id_18> In<extra_id_19> { this<extra_id_20> =<extra_id_21> (<extra_id_22> Rectangle<extra_id_23> (<extra_id_24> )<extra_id_25> renderer<extra_id_26> graphics<extra_id_27> BufferedImage<extra_id_28> = resolution<extra_id_29> Per<extra_id_30> /<extra_id_31> S<extra_id_32> Width =<extra_id_33> int<extra_id_34> new<extra_id_35> , bitmap<extra_id_36> BufferedImage<extra_id_37> 2<extra_id_38> ) { double<extra_id_39> Dot<extra_id_40> POINT<extra_id_41> IN<extra_id_42> AffineTransform<extra_id_43> scale,<extra_id_44> x<extra_id_45> graphics<extra_id_46> )<extra_id_47> void<extra_id_48> args<extra_id_49> '<extra_id_50> /input<extra_id_51> (<extra_id_52> 47<extra_id_53> def<extra_id_54> DPI<extra_id_55> */<extra_id_56> doc<extra_id_57> (<extra_id_58> try<extra_id_59> =<extra_id_60> Rect<extra_id_61> \"\"<extra_id_62> output/<extra_id_63> doc<extra_id_64>\n",
            "You can do it directly in the<extra_id_0> mapping<extra_id_1> , using the<extra_id_2> operator: <int:<extra_id_3> input-channel=\"\"powRouterChan<extra_id_4> resolution-required=\"\"false\"\" expression=\"\"payload.avengers<extra_id_5> powType\"\"<extra_id_6> -<extra_id_7> channel=\"\"flowEndPoint\"\"> <int:<extra_id_8> =\"\"#{T<extra_id_9> com.marvel.avengers.hulc.util.<extra_id_10> ExampleConstants)<extra_id_11> FOO1}\"\" channel=\"\"avengersHulcChan\"\" /> ...</int:router> or using the static: <int:router input-channel=\"\"powRouterChan\"\" resolution<extra_id_12> required=\"\"false<extra_id_13> =\"\"payload.avengersVO.powType\"\" default-output<extra_id_14> channel<extra_id_15> flowEndPoint\"\"> <int<extra_id_16> mapping value=\"\"#{foo1}\"\" channel=\"\"avengersHulcChan\"\" /> ...</int<extra_id_17> router> If<extra_id_18> must do it<extra_id_19> the<extra_id_20> some reason,<extra_id_21> @<extra_id_22> 1 where the @ means reference<extra_id_23> a bean. But the first<extra_id_24> solutions are more<extra_id_25> .</s>\t<extra_id_0> original<extra_id_1> router<extra_id_2> T<extra_id_3> router<extra_id_4> \"\"<extra_id_5> VO.<extra_id_6> default<extra_id_7> output-<extra_id_8> mapping value<extra_id_9> (<extra_id_10> My<extra_id_11> .<extra_id_12> -<extra_id_13> \"\" expression<extra_id_14> -<extra_id_15> =\"\"<extra_id_16> :<extra_id_17> :<extra_id_18> you<extra_id_19> in<extra_id_20> expression for<extra_id_21> use<extra_id_22> foo<extra_id_23> to<extra_id_24> two<extra_id_25> efficient<extra_id_26>\n",
            "\"\"Receiver\"\" is<extra_id_0> spelled twice in your<extra_id_1> android:name<extra_id_2> .AlarmReciever\"\"android:label=\"\"@string/title_activity_alarm_reciever\"\" Should be: android:<extra_id_3> =\"\".AlarmReceiver\"\"android:label=\"\"@string<extra_id_4> title<extra_id_5> _alarm_receiver\"\"<extra_id_6>\t<extra_id_0> mis<extra_id_1> manifest:<extra_id_2> =\"\"<extra_id_3> name<extra_id_4> /<extra_id_5> _activity<extra_id_6> </s>\n",
            "To rotate anti-clockwise by a<extra_id_0> angle around<extra_id_1> origin, the formula is: x_new = cos(<extra_id_2> )*x - sin(theta)*<extra_id_3> new = sin(<extra_id_4> )*x + cos(theta)*y So<extra_id_5> if you want<extra_id_6> rotate by some<extra_id_7> of<extra_id_8> degrees,<extra_id_9> can simply use: double theta<extra_id_10> Math.<extra_id_11> (<extra_id_12> * N); and substitute<extra_id_13> into the<extra_id_14> . This<extra_id_15> that you<extra_id_16> '<extra_id_17> need a loop to rotate N times - just rotate once by the actual<extra_id_18> . However, if you want to do it by 90 degrees on<extra_id_19> rotation<extra_id_20> you<extra_id_21> substitute in the values of<extra_id_22> (90 deg) and sin(90 deg) (to do an anticlockwise<extra_id_23> )<extra_id_24> x_new = cos(90 deg)*x - sin(90 deg)*y = 0*x - 1<extra_id_25> y = -yy<extra_id_26> new =<extra_id_27> (90 deg)*x +<extra_id_28> (90 deg<extra_id_29> y = 1*x + 0*y = x Hence: x_new = -yy_new<extra_id_30> x There is advantage<extra_id_31> doing it this way, since<extra_id_32> couple of assignments like this are a lot faster<extra_id_33> doing the full math<extra_id_34> Note that you have to be careful not to write: x = -y;y = x; because<extra_id_35> of these statements uses the result of the first. You need<extra_id_36> store the original<extra_id_37> in<extra_id_38> to do this correctly.</s>\t<extra_id_0> general<extra_id_1> the<extra_id_2> theta<extra_id_3> yy_<extra_id_4> theta<extra_id_5> ,<extra_id_6> to<extra_id_7> multiple<extra_id_8> 90<extra_id_9> you<extra_id_10> =<extra_id_11> toRadians<extra_id_12> 90<extra_id_13> that<extra_id_14> formula<extra_id_15> means<extra_id_16> don<extra_id_17> t<extra_id_18> angle<extra_id_19> each<extra_id_20> ,<extra_id_21> can simply<extra_id_22> cos<extra_id_23> rotation<extra_id_24> :<extra_id_25> *<extra_id_26> _<extra_id_27> sin<extra_id_28> cos<extra_id_29> )*<extra_id_30> =<extra_id_31> in<extra_id_32> a<extra_id_33> than<extra_id_34> .<extra_id_35> the second<extra_id_36> to<extra_id_37> x<extra_id_38> a temporary variable<extra_id_39>\n",
            "I<extra_id_0> 't tested this but I think it should work. private String returnMostRecent(String<extra_id_1> fileNames) { String file = null<extra_id_2> double<extra_id_3> -1;<extra_id_4> (String name : listNames) { // skip files that don't<extra_id_5> if (!name.matches(\"\"ALF<extra_id_6> [0-9]*F.<extra_id_7> \"\")) continue<extra_id_8> // get<extra_id_9> only String digits = name.replaceAll(\"\"\\\\D+\"\",\"\"\"\"); // format digits to <year><extra_id_10> <version> String vstr<extra_id_11> digits<extra_id_12> substring(digits.<extra_id_13> -2,digits.length())<extra_id_14> \"\".\"\"; if (digits.length() < 4) vstr += \"\"0\"\"; vstr<extra_id_15> digits.substring(0,<extra_id_16> .length()-2);<extra_id_17> v = Double.parseDouble<extra_id_18> v<extra_id_19> ); if (<extra_id_20> > version)<extra_id_21> = v; file = name<extra_id_22> } } return file;}</s>\t<extra_id_0> haven<extra_id_1> []<extra_id_2> ;<extra_id_3> version =<extra_id_4> for<extra_id_5> match<extra_id_6> P<extra_id_7> zip<extra_id_8> ;<extra_id_9> digits<extra_id_10> .<extra_id_11> =<extra_id_12> .<extra_id_13> length<extra_id_14> +<extra_id_15> =<extra_id_16> digits<extra_id_17> double<extra_id_18> (<extra_id_19> str<extra_id_20> v<extra_id_21> { version<extra_id_22> ;<extra_id_23>\n",
            "To make the Syntax<extra_id_0> disappear and to assign a value to distance<extra_id_1> ed modify the<extra_id_2> public Water update(int<extra_id_3> ) as follows: public Water update<extra_id_4> int time) { graphic<extra_id_5> draw(); distanceTravel<extra_id_6> =<extra_id_7> // assign a value before returning return Water<extra_id_8> this;}<extra_id_9> you should read a bit<extra_id_10> Java and doing some tutorials, because this is very basic stuff (<extra_id_11> least if I'm not getting you wrong<extra_id_12> .</s>\t<extra_id_0> error<extra_id_1> Travel<extra_id_2> method<extra_id_3> time<extra_id_4> (<extra_id_5> .<extra_id_6> ed<extra_id_7> 1;<extra_id_8> .<extra_id_9> Maybe<extra_id_10> about<extra_id_11> at<extra_id_12> )<extra_id_13>\n",
            "<extra_id_0> , without any other<extra_id_1> To add 8 days:<extra_id_2> today=new Date();long ltime=today.getTime()+8*<extra_id_3> *60*1000;Date today8=new Date(ltime);</s>\tSimple<extra_id_0> API:<extra_id_1> Date<extra_id_2> 24*60<extra_id_3>\n",
            "You have the wrong event<extra_id_0> as a parameter to your handle method.<extra_id_1> pressed and mouse released<extra_id_2> MouseEvent<extra_id_3> , not ActionEvent s. Hence you get<extra_id_4> class cast exception,<extra_id_5> when the handler created by the FXML loader passes the event object (a MouseEvent ) to the method, it tries to cast it to an<extra_id_6> . In general, though, you have fundamentally misunderstood how event handling in a controller class<extra_id_7> up. There is no need<extra_id_8> your<extra_id_9> implement EventHandler . When the<extra_id_10> loader loads the fxml file, it will create the<extra_id_11> event handlers for you, whose handle<extra_id_12> invoke the methods you specify in the fxml<extra_id_13> and it will register those handlers with the nodes you define. So all you need to do is to write a method to handle the \"\"mouse pressed\"\" event,<extra_id_14> a method to<extra_id_15> the<extra_id_16> mouse released\"\" event, and specify those methods in the<extra_id_17> . The handler methods you specify can have any name, and can either have zero parameters,<extra_id_18> can have a single<extra_id_19> for the appropriate event type<extra_id_20> i.e. MouseEvent<extra_id_21> this<extra_id_22> )<extra_id_23> So<extra_id_24> controller should look like: public<extra_id_25> LandingController<extra_id_26> Application implements Initializable { @FXML private ImageView<extra_id_27> ImgView; @FXML<extra_id_28> Image avatar;<extra_id_29> FXML<extra_id_30> Button exit; @FXML private Label enterRT; @<extra_id_31> void handleMouse<extra_id_32> (MouseEvent event) { //<extra_id_33> is executed when the<extra_id_34> is<extra_id_35> // on<extra_id_36> node with onMousePressed=\"\"#handleMousePress\"\" } @FXML private void handleMouseRelease(MouseEvent event) { // code in this method is executed<extra_id_37> mouse is released // on a node with on<extra_id_38> Pressed<extra_id_39> MouseRelease<extra_id_40> } @FXML<extra_id_41> add(ActionEvent event) { // code in this method is executed when an<extra_id_42> event //<extra_id_43> a node with onAction<extra_id_44> add\"\" } @Override public void<extra_id_45> (URL location, ResourceBundle resources) { }} and now for<extra_id_46> label(s) of interest, simply<extra_id_47> onMousePress=\"\"#<extra_id_48> MousePress\"\" and<extra_id_49> MouseRelease=\"\"handleMouseRelease\"\" in the FXML<extra_id_50> , or select the methods in the appropriate boxes<extra_id_51> Scene<extra_id_52> . Again,<extra_id_53> FXMLLoader<extra_id_54> care<extra_id_55> implementing EventHandler and registering the handlers<extra_id_56> you, there is no need (and it's incorrect<extra_id_57> to do<extra_id_58> yourself.</s>\t<extra_id_0> type<extra_id_1> Mouse<extra_id_2> events generate<extra_id_3> s<extra_id_4> the<extra_id_5> because<extra_id_6> ActionEvent<extra_id_7> is set<extra_id_8> for<extra_id_9> controller to<extra_id_10> FXML<extra_id_11> necessary<extra_id_12> methods<extra_id_13> ,<extra_id_14> and<extra_id_15> handle<extra_id_16> \"\"<extra_id_17> fxml<extra_id_18> or<extra_id_19> parameter<extra_id_20> (<extra_id_21> in<extra_id_22> case<extra_id_23> .<extra_id_24> your<extra_id_25> class<extra_id_26> extends<extra_id_27> avatar<extra_id_28> private<extra_id_29> @<extra_id_30> private<extra_id_31> FXML private<extra_id_32> Press<extra_id_33> code in this method<extra_id_34> mouse<extra_id_35> pressed<extra_id_36> a<extra_id_37> when the<extra_id_38> Mouse<extra_id_39> =\"\"#handle<extra_id_40> \"\"<extra_id_41> private void<extra_id_42> action<extra_id_43> occurs on<extra_id_44> =\"\"#<extra_id_45> initialize<extra_id_46> the<extra_id_47> specify<extra_id_48> handle<extra_id_49> on<extra_id_50> file<extra_id_51> in<extra_id_52> Builder<extra_id_53> the<extra_id_54> takes<extra_id_55> of<extra_id_56> for<extra_id_57> )<extra_id_58> this<extra_id_59>\n",
            "You should change b > 0 to b >= 0 , then the result seems to be ok. Note that for larger values you can't rely on double<extra_id_0> (<extra_id_1> pow<extra_id_2> in<extra_id_3> Mod<extra_id_4> they have limited precision.<extra_id_5> should work with integers and use this equality: a<unk> <extra_id_6> b+c) mod m =<extra_id_7> <unk> <extra_id_8> mod m) * (a<unk> c mod<extra_id_9> ) mod m</s>\t<extra_id_0> numbers<extra_id_1> with<extra_id_2> )<extra_id_3> power<extra_id_4> , as<extra_id_5> You<extra_id_6> (<extra_id_7> (a<extra_id_8> b<extra_id_9> m<extra_id_10>\n",
            "First off, define<extra_id_0> exception for each especial HTTP error you're going to handle.<extra_id_1> m just defining one for handling 404 Not Found case:<extra_id_2> class NotFoundException extends RuntimeException {} To replace the default Spring Boot's error handling mechanism<extra_id_3> , we can implement<extra_id_4> Controller . Instead of<extra_id_5> the<extra_id_6> Controller ,<extra_id_7> 'm extending AbstractErrorController , which<extra_id_8> the Error<extra_id_9> and provides some auxiliary methods<extra_id_10> getStatus() . Anyway, the basic idea is to handle all<extra_id_11> using an endpoint, say /error , and throw those pre-defined exceptions in case of their corresponding HTTP status codes: @<extra_id_12> public class CustomErrorController extends AbstractErrorController { private static final String ERROR_PATH= \"\"/error\"\"; @Autowired public Custom<extra_id_13> Controller<extra_id_14> ErrorAttributes errorAttributes) { super(errorAttributes<extra_id_15> } /** * Just catching the {@<extra_id_16> NotFoundException} exceptions and render * the 404<extra_id_17> jsp<extra_id_18> */ @ExceptionHandler(NotFoundException.class<extra_id_19> public String notFound() { return \"\"<extra_id_20> \"\"; } /** * Responsible for handling all errors and throw e<extra_id_21> exceptions * for some HTTP status codes.<extra_id_22> , it will return a map that * ultimately will be converted to a json<extra_id_23> .<extra_id_24> @RequestMapping<extra_id_25> ERROR<extra_id_26> ) public ResponseEntity<?> handleErrors(HttpServletRequest request)<extra_id_27> HttpStatus status = getStatus(request<extra_id_28> (status.equals(HttpStatus.NOT_FOUND<extra_id_29> throw new<extra_id_30> Exception(); return ResponseEntity.<extra_id_31> status).<extra_id_32> (<extra_id_33> (request<extra_id_34> false)); } @Override public String getError<extra_id_35> () { return ERROR<extra_id_36> PATH;<extra_id_37> course,<extra_id_38> solution is only suitable for Trad<extra_id_39> tional Deployment<extra_id_40> you're planning to use an Embedded Servlet Container, you<extra_id_41> re better off defining an EmbeddedServletContainerCustomizer .</s>\t<extra_id_0> an<extra_id_1> Here i'<extra_id_2> public<extra_id_3> completely<extra_id_4> Error<extra_id_5> just implementing<extra_id_6> Error<extra_id_7> here i<extra_id_8> implements<extra_id_9> Controller<extra_id_10> like<extra_id_11> errors<extra_id_12> Controller<extra_id_13> Error<extra_id_14> (<extra_id_15> );<extra_id_16> linkplain<extra_id_17> .<extra_id_18> error page.<extra_id_19> )<extra_id_20> 404<extra_id_21> special<extra_id_22> Otherwise<extra_id_23> error<extra_id_24> */<extra_id_25> (<extra_id_26> _PATH<extra_id_27> {<extra_id_28> ); if<extra_id_29> ))<extra_id_30> NotFound<extra_id_31> status(<extra_id_32> body<extra_id_33> getErrorAttributes<extra_id_34> ,<extra_id_35> Path<extra_id_36> _<extra_id_37> }} Of<extra_id_38> this<extra_id_39> i<extra_id_40> . If<extra_id_41> '<extra_id_42>\n",
            "If Procedure() is O(1), then : I<extra_id_0> this is O(n)<extra_id_1> static<extra_id_2> P<extra_id_3> int n ){ for (int i=1;<extra_id_4> <=n; i++) { Procedure();} I think<extra_id_5> is O(n<unk> 2) correct static<extra_id_6> P2(<extra_id_7> n) {<extra_id_8> (int<extra_id_9> =1; i<=n; i++) for(<extra_id_10> j<extra_id_11> j<=n; j++)<extra_id_12> ();} O(n)+O(n)<extra_id_13> , but O(n+n)<extra_id_14> O(<extra_id_15> )=O(n) static void P3(int n) { for<extra_id_16> int<extra_id_17> = 1; i <= n; i++)<extra_id_18> (); for (int i = 1; i <= n; i++) Procedure();} 100<extra_id_19> n+<extra_id_20> ? false, it is multiplicated :<extra_id_21> 100<extra_id_22> n*100)=O(n) static void P4<extra_id_23> int n) { for ( int i = 1; i <= 100; i<extra_id_24> for (int j = 1; j <= n;<extra_id_25> ++) for (int k = 1; k<extra_id_26> k++) Procedure();} O(n*i)<extra_id_27> You cant use<extra_id_28> does not have exact value. If you look how much times inner<extra_id_29> is executed, it is 1+2<extra_id_30> +4+...<extra_id_31> -3+n-2+n<extra_id_32> , which is n*(n-1)/2 , you can multiply it : n<extra_id_33> n-1)/2=n<extra_id_34> n/2 which is assymp<extra_id_35> n<extra_id_36> 2/2-n/2=Theta(n<unk> 2)<extra_id_37> is O(n<unk> 2) static void P5(int n) { for ( int i =<extra_id_38> i <= n;<extra_id_39> ++) for (int<extra_id_40> 1; j <= i<extra_id_41> j++) Procedure();} n/2 * n/4<extra_id_42> n/8 =<extra_id_43> 3/64 = O(n<unk> 3) static void<extra_id_44> (<extra_id_45> n<extra_id_46> {<extra_id_47> (int i = 1; i <= n/2; i++) for ( int j = 1; j <= n/4; j++) for<extra_id_48> int k = 1; k <= n/8; k++) Procedure();}</s>\t<extra_id_0> think<extra_id_1> correct<extra_id_2> void<extra_id_3> 1(<extra_id_4> i<extra_id_5> this<extra_id_6> void<extra_id_7> int<extra_id_8> for<extra_id_9> i<extra_id_10> int<extra_id_11> =1;<extra_id_12> Procedure<extra_id_13> correct<extra_id_14> =<extra_id_15> 2n<extra_id_16> (<extra_id_17> i<extra_id_18> Procedure<extra_id_19> +<extra_id_20> 100<extra_id_21> O(<extra_id_22> *<extra_id_23> (<extra_id_24> ++)<extra_id_25> j<extra_id_26> <= 100;<extra_id_27> ?<extra_id_28> i it<extra_id_29> loop<extra_id_30> +3<extra_id_31> +n<extra_id_32> -1<extra_id_33> *(<extra_id_34> <unk> 2/2-<extra_id_35> totically<extra_id_36> <unk> <extra_id_37> The result<extra_id_38> 1;<extra_id_39> i<extra_id_40> j =<extra_id_41> ;<extra_id_42> *<extra_id_43> n<unk> <extra_id_44> P6<extra_id_45> int<extra_id_46> )<extra_id_47> for<extra_id_48> (<extra_id_49>\n",
            "Why dont<extra_id_0> try: JFrame j = new JFrame(\"\"My Title here\"\");String what<extra_id_1> = j.getTitle();<extra_id_2>\t<extra_id_0> you<extra_id_1> Title<extra_id_2> </s>\n",
            "As far as<extra_id_0> get it (<extra_id_1> fixes for performance): public static void main<extra_id_2> String<extra_id_3> args)<extra_id_4> double[] arr1 = {.10, .<extra_id_5> , .20, .30}; double[]<extra_id_6> 2 = {.25, .30, .28, .11};<extra_id_7> sum = 0; int count = 0;<extra_id_8> (count < arr1.length) { int j = count; for (int i<extra_id_9> 0; i < arr<extra_id_10> length; i++, j<extra_id_11> { if (<extra_id_12> > arr1.length - 1) {<extra_id_13> = 0; } sum<extra_id_14> arr1[i] * arr<extra_id_15> j]; } count++; } System<extra_id_16> out<extra_id_17> (sum<extra_id_18> </s>\t<extra_id_0> I<extra_id_1> some<extra_id_2> (<extra_id_3> []<extra_id_4> {<extra_id_5> 15<extra_id_6> arr<extra_id_7> double<extra_id_8> while<extra_id_9> =<extra_id_10> 1.<extra_id_11> ++)<extra_id_12> j<extra_id_13> j<extra_id_14> +=<extra_id_15> 2[<extra_id_16> .<extra_id_17> .println<extra_id_18> );}<extra_id_19>\n",
            "Do this and<extra_id_0> will get<extra_id_1> output you want from your program public static void main<extra_id_2> String[] args) { Scanner<extra_id_3> = new Scanner(<extra_id_4> in); float f = 0; int x = 1; do { try { System.out.print(\"\"Enter<extra_id_5> float:\"\");<extra_id_6> = in.<extra_id_7> (); x = 2;<extra_id_8> catch (InputMismatch<extra_id_9> e) { System.<extra_id_10> .println(\"\"Incorrect entry.\"\"); in<extra_id_11> next(); } }<extra_id_12> (x == 1); System.out.<extra_id_13> Your entry is:\"\" +<extra_id_14> );<extra_id_15> You just need to add in.next<extra_id_16> in catch block to continue the process.</s>\t<extra_id_0> you<extra_id_1> the<extra_id_2> (<extra_id_3> in<extra_id_4> System.<extra_id_5> an<extra_id_6> f<extra_id_7> nextFloat<extra_id_8> }<extra_id_9> Exception<extra_id_10> err<extra_id_11> .<extra_id_12> while<extra_id_13> println(\"\"<extra_id_14> f<extra_id_15> }<extra_id_16> ()<extra_id_17>\n",
            "That<extra_id_0> s because you need to use the String constructor,<extra_id_1> also takes a radix.<extra_id_2> this case<extra_id_3> the radix is 16.<extra_id_4> static void main<extra_id_5> String[] args) { BigInteger fp = new BigInteger(\"\"<extra_id_6> fffffff00000001000000000000000000000000ffffffffffffffffffffffff\"\", 16); System.out.println(fp);} In<extra_id_7> snippet, the hexadecimal value is<extra_id_8> an int because it is an integer literal and since<extra_id_9> too big to fit in an<extra_id_10> ,<extra_id_11> error is raised.</s>\t<extra_id_0> '<extra_id_1> that<extra_id_2> In<extra_id_3> ,<extra_id_4> public<extra_id_5> (<extra_id_6> f<extra_id_7> your<extra_id_8> converted into<extra_id_9> it is<extra_id_10> int<extra_id_11> an<extra_id_12>\n",
            "Did<extra_id_0> specify the custom resolver: <mvc:annotation-driven> <mvc:argument-resolver<extra_id_1> > <ref<extra_id_2> =\"\"notificationResolver\"\" /> </mvc:argument-resolvers></mvc:annotation-driven><aws<extra_id_3> messaging:notification<extra_id_4> argument-resolver id=\"\"notification<extra_id_5> \"\" /><extra_id_6> , I cannot see the controller mapping, but in tutorial there is a statement: Currently it is not possible to define the mapping URL on the method<extra_id_7> therefore the RequestMapping must be<extra_id_8> at<extra_id_9> and<extra_id_10> full<extra_id_11> of the endpoint<extra_id_12> </s>\t<extra_id_0> you<extra_id_1> s<extra_id_2> bean<extra_id_3> -<extra_id_4> -<extra_id_5> Resolver<extra_id_6> Also<extra_id_7> level<extra_id_8> done<extra_id_9> type level<extra_id_10> must contain the<extra_id_11> path<extra_id_12> .<extra_id_13>\n",
            "In the<extra_id_0> that @fisc<extra_id_1> me<extra_id_2> used in<extra_id_3> @XmlAnyElement<extra_id_4> his<extra_id_5> @XmlAny<extra_id_6> (<extra_id_7> =true)public Object[] others; Which<extra_id_8> the specific part<extra_id_9> the xml as an xml DOM object and ALSO this method to get the actual object and not a DOM representation of whatever there is in the xml<extra_id_10> @SuppressWarnings(\"\"unchecked\"\")<extra_id_11> <T> T getOthersParsedAs(Class<T> clazz) throws JAXBException{ JAXBContext context = JAXBContext<extra_id_12> newInstance(clazz<extra_id_13> Unmarshaller<extra_id_14> =<extra_id_15> .createUnmarshaller(); T res = (<extra_id_16> ) unmarshaller.unmarshal((Node)others<extra_id_17> if<extra_id_18> res instanceof JAXBElement){ res = (T<extra_id_19> JAXB<extra_id_20> .<extra_id_21> (res); }<extra_id_22> res; } This way I<extra_id_23> t get them with:<extra_id_24> spec<extra_id_25> ...SpecificInfo info = spec.getOthersParsedAs(SpecificInfo.class); or: AnotherInfo info = spec.getOthersParsedAs(AnotherInfo .class); UPDATE : I've done<extra_id_26> method to insert any object to that xml in that<extra_id_27> (<extra_id_28> ly but<extra_id_29> all the code in same method<extra_id_30> :<extra_id_31> T><extra_id_32> set<extra_id_33> sInXML(T data) throws JAXBException, ParserConfigurationException{ JAXBContext context = JAXBContext.newInstance<extra_id_34> data.<extra_id_35> DocumentBuilderFactory<extra_id_36> =<extra_id_37> Factory.newInstance(); DocumentBuilder db= dbf<extra_id_38> newDocumentBuilder(); Document document = db.newDocument<extra_id_39> marshaller = context.createMarshaller(); marshaller.marshal(data<extra_id_40> document); others = new Object[]{<extra_id_41> .getDocumentElement()};<extra_id_42> And is used like<extra_id_43> setter. Edited again Because I found<extra_id_44> problem: if the class haven't well defined the XML<extra_id_45> getOthersParsedAs will return you a JAXBElement object and this could be problematic, so I'<extra_id_46> added<extra_id_47> the method</s>\t<extra_id_0> way<extra_id_1> showed<extra_id_2> I<extra_id_3> my bean<extra_id_4> in<extra_id_5> way:<extra_id_6> Element<extra_id_7> lax<extra_id_8> gets<extra_id_9> of<extra_id_10> :<extra_id_11> public<extra_id_12> .<extra_id_13> );<extra_id_14> unmarshaller<extra_id_15> context<extra_id_16> T<extra_id_17> [0]);<extra_id_18> (<extra_id_19> )<extra_id_20> Introspector<extra_id_21> getValue<extra_id_22> return<extra_id_23> can<extra_id_24> Specific<extra_id_25> =<extra_id_26> a<extra_id_27> node<extra_id_28> ug<extra_id_29> shows<extra_id_30> )<extra_id_31> public <<extra_id_32> void<extra_id_33> Other<extra_id_34> (<extra_id_35> getClass());<extra_id_36> dbf<extra_id_37> DocumentBuilder<extra_id_38> .<extra_id_39> (); Marshaller<extra_id_40> ,<extra_id_41> document<extra_id_42> }<extra_id_43> a<extra_id_44> a<extra_id_45> RootElement<extra_id_46> ve<extra_id_47> the check to<extra_id_48>\n",
            "Take<extra_id_0> look<extra_id_1> the code of TemporalAdjusters.nextOrSame : public static TemporalAdjuster next<extra_id_2> Same(DayOfWeek dayOfWeek<extra_id_3> { int dowValue = dayOfWeek.getValue();<extra_id_4> (temporal) -> { int calDow = temporal.get<extra_id_5> DAY<extra_id_6> OF_WEEK); if (calDow == dowValue) { return temporal;<extra_id_7> <-- returns<extra_id_8> original object<extra_id_9> } int daysDiff = calDow -<extra_id_10> w<extra_id_11> ; return<extra_id_12> .<extra_id_13> (daysDiff >= 0<extra_id_14> daysDiff<extra_id_15> -daysDiff, DAYS); };} From<extra_id_16> documentation (emphasis mine)<extra_id_17> Returns the next-or-same day-of-week<extra_id_18> er, which adjusts the date to the first<extra_id_19> the specified<extra_id_20> -of-week after the date being adjusted unless it is already on that day in<extra_id_21> case the same object is returned<extra_id_22> So if no adjustment is needed (because Jan 1. 2016 was<extra_id_23> <extra_id_24> ) then the<extra_id_25> is returned.</s>\t<extra_id_0> a<extra_id_1> at<extra_id_2> Or<extra_id_3> )<extra_id_4> return<extra_id_5> (<extra_id_6> _<extra_id_7> //<extra_id_8> the<extra_id_9> !<extra_id_10> do<extra_id_11> Value<extra_id_12> temporal<extra_id_13> plus<extra_id_14> ? 7 -<extra_id_15> :<extra_id_16> the<extra_id_17> :<extra_id_18> adjust<extra_id_19> occurrence of<extra_id_20> day<extra_id_21> which<extra_id_22> .<extra_id_23> a<extra_id_24> Friday<extra_id_25> same object<extra_id_26>\n",
            "Yes. Write a<extra_id_0> something like<extra_id_1> public byte[] firstNonNull(byte[]...<extra_id_2> { for (byte[] array : arrays) { if (array != null) return array; } return null<extra_id_3> call this function passing<extra_id_4> your four arrays in the proper order.</s>\t<extra_id_0> method<extra_id_1> this:<extra_id_2> arrays)<extra_id_3> ;} Then<extra_id_4> in<extra_id_5>\n",
            "The complete working code is<extra_id_0> follows: private<extra_id_1> initialize() { frame = new JFrame(); frame.getContentPane().setBackground(Color.WHITE<extra_id_2> frame.setBounds(100, 100, 640, 480); frame.<extra_id_3> Operation(JFrame.<extra_id_4> _ON_CLOSE); frame.getContentPane().setLayout(new MigLayout(\"\"\"\", \"\"[10%][10%][<extra_id_5> %][10%][10%][10%][<extra_id_6> %][10%][10%][10%]\"\", \"\"[14.28<extra_id_7> ][14.28%][14.<extra_id_8> %][14.<extra_id_9> %][<extra_id_10> .28%<extra_id_11> 14.28<extra_id_12> ][14.28%]<extra_id_13> frame.setVisible(<extra_id_14> );<extra_id_15> (int<extra_id_16> = 0; row<7; row++) { for (int col =<extra_id_17> <10;<extra_id_18> ++) { JButton b =<extra_id_19> (); frame.getContentPane().add(b, \"\"cell \"\"+ col +\"\" \"\"+ row +\"\",grow\"\"); // click<extra_id_20> frame.getContentPane().addMouseListener(new MouseAdapter<extra_id_21> { @Override public void<extra_id_22> arg0) { //<extra_id_23> } }); } }}<extra_id_24> important thing<extra_id_25> for (int row = 0; row<7<extra_id_26> ++) { for<extra_id_27> int col =<extra_id_28> col<10; col++) { JButton b = new JButton<extra_id_29> frame.getContentPane().add<extra_id_30> b, \"\"<extra_id_31> \"\"+<extra_id_32> +\"\" \"\"+ row +\"\",grow\"\"); }}<extra_id_33>\t<extra_id_0> as it<extra_id_1> void<extra_id_2> );<extra_id_3> setDefaultClose<extra_id_4> EXIT<extra_id_5> 10<extra_id_6> 10<extra_id_7> %<extra_id_8> 28<extra_id_9> 28<extra_id_10> 14<extra_id_11> ][<extra_id_12> %<extra_id_13> \"\"));<extra_id_14> true<extra_id_15> for<extra_id_16> row<extra_id_17> 0; col<extra_id_18> col<extra_id_19> new JButton<extra_id_20> method<extra_id_21> ()<extra_id_22> mouseReleased(MouseEvent<extra_id_23> code<extra_id_24> The<extra_id_25> is<extra_id_26> ; row<extra_id_27> (<extra_id_28> 0;<extra_id_29> ();<extra_id_30> (<extra_id_31> cell<extra_id_32> col<extra_id_33> </s>\n",
            "In there you have to override<extra_id_0> onClick method, generate again a random x,y and set those<extra_id_1> the position of<extra_id_2> image you want to<extra_id_3> . Example<extra_id_4> buttonMoveImage<extra_id_5> setOnClickListener(<extra_id_6> View.OnClickListener() { @Override public<extra_id_7> onClick(View v) { nX = rand.nextInt(20); nY<extra_id_8> rand.nextInt(20); //<extra_id_9> the image coordinates<extra_id_10> } });</s>\t<extra_id_0> the<extra_id_1> to<extra_id_2> the<extra_id_3> move<extra_id_4> :<extra_id_5> .<extra_id_6> new<extra_id_7> void<extra_id_8> =<extra_id_9> set<extra_id_10> ...<extra_id_11>\n",
            "You use 'UserSignUp' reference<extra_id_0> an<extra_id_1> to 'new<extra_id_2> UsernamePasswordAuthenticationToken(user, password, authorities);'<extra_id_3> it<extra_id_4> to be an reference of '<extra_id_5> Many of the authentication providers<extra_id_6> a UserDetails object as the principal<extra_id_7> Refer API If<extra_id_8> use 'org<extra_id_9> security.core.userdetails.UserDetails' instead<extra_id_10> 'UserSignUp', it should work. Here<extra_id_11> the sample code using spring's 'UserDetails' class. Modify ServiceImpl.class-loadUserByUsername<extra_id_12> method signature returns 'org.springframework.security.core.userdetails.UserDetails' setting 'VERIFIED' authority role in UserDetails class ......... List<GrantedAuthority> authorities = new ArrayList<GrantedAuthority<extra_id_13> SimpleGrantedAuthority authority = new<extra_id_14> GrantedAuthority(\"\"<extra_id_15> IFIED<extra_id_16> .add(authority<extra_id_17> UserDetails user = new User(mobile_Number<extra_id_18> existing_Password, authorities); return user; ....... Changes<extra_id_19> your SomeController.<extra_id_20> UserDetails user=<extra_id_21> UserSignUp) personService.loadUserByUsername<extra_id_22> username<extra_id_23> return new UsernamePassword<extra_id_24> Token(user, your<extra_id_25> , authorities<extra_id_26> </s>\t<extra_id_0> as<extra_id_1> input<extra_id_2> <extra_id_3> but<extra_id_4> supposed<extra_id_5> Principal'.<extra_id_6> will create<extra_id_7> .<extra_id_8> you<extra_id_9> .springframework.<extra_id_10> of<extra_id_11> is<extra_id_12> (...)<extra_id_13> >();<extra_id_14> Simple<extra_id_15> VER<extra_id_16> \"\"); authorities<extra_id_17> );<extra_id_18> ,<extra_id_19> in<extra_id_20> java<extra_id_21> (<extra_id_22> (<extra_id_23> );<extra_id_24> Authentication<extra_id_25> password<extra_id_26> );<extra_id_27>\n",
            "All<extra_id_0> have to do is declare this method on your PlaylistRepository interface: List<Playlist<extra_id_1> findByPlaylist<extra_id_2> VideoIsDeleted(boolean<extra_id_3> ); And call it like<extra_id_4> : playListRepository.findByPlaylistItemsVideoIsDeleted(false); That<extra_id_5> return<extra_id_6> with videos that are not removed.</s>\t<extra_id_0> you<extra_id_1> ><extra_id_2> Items<extra_id_3> isDeleted<extra_id_4> this<extra_id_5> will<extra_id_6> all playlist<extra_id_7>\n",
            "Java 1.8 added<extra_id_0> .time package to the core JDK<extra_id_1> up many of<extra_id_2> frustrations with the state of date &amp; time in Java.<extra_id_3> java.time is now a widely available<extra_id_4> core Java with a much<extra_id_5> API, I<extra_id_6> encourage you to give it<extra_id_7> first look when writing new date &amp; time<extra_id_8> . Here's how you can retrieve the current<extra_id_9> and time: (java<extra_id_10> time.LocalDateTime/now)</s>\t<extra_id_0> the java<extra_id_1> to clean<extra_id_2> the<extra_id_3> Since<extra_id_4> part of<extra_id_5> improved<extra_id_6> would<extra_id_7> the<extra_id_8> code<extra_id_9> date<extra_id_10> .<extra_id_11>\n",
            "Conflicting<extra_id_0> DatabaseContract.java<extra_id_1> what was causing the<extra_id_2> . Change the names to public class<extra_id_3> Contract<extra_id_4> public static abstract class NewDataInfo { public static<extra_id_5> _NAME = \"\"<extra_id_6> out_table\"\"; public static final String COL_<extra_id_7> = \"\"TEAM_NUMBER\"\"; public static<extra_id_8> String COL_POTICULLIS<extra_id_9> \"\"POT<extra_id_10> ULLIS\"\"; public static final String COL<extra_id_11> CH<extra_id_12> VAL_FRIS<extra_id_13> = \"\"CHEVAL_DE_FRISE\"\"; public static final String<extra_id_14> _MOAT = \"\"<extra_id_15> AT\"\"; public static final String<extra_id_16> _<extra_id_17> PARTS = \"\"RAMPARTS\"\"; public static final String<extra_id_18> _DRAWBR<extra_id_19> GE<extra_id_20> \"\"DRAWBRIDGE\"\"; public static final String COL_S<extra_id_21> _PORT = \"\"SALLY_PORT<extra_id_22> public static final String COL_ROCK_WALL = \"\"ROCK_WALL\"\"; public<extra_id_23> final String COL_ROCK_TER<extra_id_24> IN<extra_id_25> \"\"ROCK_TER<extra_id_26> IN\"\"; public<extra_id_27> String COL<extra_id_28> LOW_BAR = \"\"LOW_BAR\"\"; }<extra_id_29> End of NewDataInfo} //End of class Also remove AutoIncrement from the code<extra_id_30> keep integer since the number<extra_id_31> does not matter<extra_id_32> Contract.NewDataInfo.COL_NUMBER + \"\" INTEGER<extra_id_33>\t<extra_id_0> names<extra_id_1> is<extra_id_2> issue<extra_id_3> Database<extra_id_4> {<extra_id_5> final String TABLE<extra_id_6> sc<extra_id_7> NUMBER<extra_id_8> final<extra_id_9> =<extra_id_10> IC<extra_id_11> _<extra_id_12> E<extra_id_13> E<extra_id_14> COL<extra_id_15> MO<extra_id_16> COL<extra_id_17> RAM<extra_id_18> COL<extra_id_19> ID<extra_id_20> =<extra_id_21> ALLY<extra_id_22> \"\";<extra_id_23> static<extra_id_24> RA<extra_id_25> =<extra_id_26> RA<extra_id_27> static final<extra_id_28> _<extra_id_29> //<extra_id_30> and<extra_id_31> ing<extra_id_32> Database<extra_id_33> ,\"\"</s>\n",
            "Try doing/ using TimeUnit : Example: final<extra_id_0> gameDate<extra_id_1> &quot;2016<extra_id_2> -19T19:45:<extra_id_3> <unk> &quot<extra_id_4> ;final <extra_id_5> apiFormat = new <extra_id_6> (&quot;yyyy-MM-<extra_id_7> 'T'<extra_id_8> :mm:<extra_id_9> s'<unk> '&quot;, Locale.US);<extra_id_10> Format.<extra_id_11> <unk> one(<extra_id_12> <unk> one.getTime<unk> one(&quot;CET&quot;));final Date dateOfGame = apiFormat.<extra_id_13> gameDate);final long millis = dateOfGame.getTime<extra_id_14> - System.currentTimeMillis();System.<extra_id_15> .println(dateOf<extra_id_16> .getTime()<extra_id_17> System<extra_id_18> currentTimeMillis());final String hm<extra_id_19> = String.format(&quot<extra_id_20> %02d:%02d:%02d&quot;, TimeUnit<extra_id_21> MILLISECONDS.toHours(millis), TimeUnit<extra_id_22> MILLISECONDS.<extra_id_23> (<extra_id_24> ) - TimeUnit.HOURS.toMinutes(TimeUnit.<extra_id_25> .toHours(millis)),<extra_id_26> .MILLISECONDS<extra_id_27> toSeconds(millis) - TimeUnit.MINUTES.<extra_id_28> TimeUnit.MILLISECONDS<extra_id_29> toMinutes(<extra_id_30> )));System.out.println(<extra_id_31> s); This will print<extra_id_32> : 72:57:34 72 hours, 57 minutes and 34 seconds from now until game<extra_id_33> </s>\t<extra_id_0> String<extra_id_1> =<extra_id_2> -03<extra_id_3> 00<extra_id_4> ;<extra_id_5> SimpleDateFormat<extra_id_6> SimpleDateFormat<extra_id_7> dd<extra_id_8> HH<extra_id_9> s<extra_id_10> api<extra_id_11> setTime<extra_id_12> Time<extra_id_13> parse(<extra_id_14> ()<extra_id_15> out<extra_id_16> Game<extra_id_17> -<extra_id_18> .<extra_id_19> s<extra_id_20> ;<extra_id_21> .<extra_id_22> .<extra_id_23> toMinutes<extra_id_24> millis<extra_id_25> MILLISECONDS<extra_id_26> TimeUnit<extra_id_27> .<extra_id_28> toSeconds(<extra_id_29> .<extra_id_30> millis<extra_id_31> hm<extra_id_32> the output<extra_id_33> Date<extra_id_34>\n",
            "You<extra_id_0> move your<extra_id_1> from Method to Class:(But<extra_id_2> as noted in the comments, your button will not work) public class myClass{ public enum<extra_id_3> Choice{ Yes, No<extra_id_4> UserChoice userChoice; public<extra_id_5> Action(){ JButton btnYes = new JButton(); btnYes.addActionListener(new java.awt.event.ActionListener(){<extra_id_6> actionPerformed(java.awt<extra_id_7> event.ActionEvent e){ userChoice<extra_id_8> UserChoice.Yes; dlg.dispose<extra_id_9> });<extra_id_10> </s>\t<extra_id_0> could<extra_id_1> variable<extra_id_2> ,<extra_id_3> User<extra_id_4> }<extra_id_5> void add<extra_id_6> public void<extra_id_7> .<extra_id_8> =<extra_id_9> (); }<extra_id_10> }}<extra_id_11>\n",
            "If you're using Jackson and<extra_id_0> is JSON that your converter is trying to write (the<extra_id_1> doesn<extra_id_2> t make that clear)<extra_id_3> @<extra_id_4> annotation<extra_id_5> your getRequest() method<extra_id_6> @JsonIdentityInfo(generator =<extra_id_7> IdGenerators.PropertyGenerator.class, property=\"\"<extra_id_8> \"\", scope=ServerRequest.class<extra_id_9> ManyToOne<extra_id_10> fetch = FetchType.EAAGER)@<extra_id_11> (name = \"\"server_request_id\"\", referencedColumnName = \"\"server_request_id<extra_id_12> nullable =<extra_id_13> )public ServerRequest getRequest() { return request;} This is the way Jackson<extra_id_14> resolve cyclic dependencies in an object graph during serialization<extra_id_15> deserialization. Some tips: You don'<extra_id_16> have to declare FetchType.<extra_id_17> Y . This is done<extra_id_18> On your ManyToOne, chage from FetchType.EAAGER to FetchType<extra_id_19> </s>\t<extra_id_0> it<extra_id_1> stack<extra_id_2> '<extra_id_3> , put<extra_id_4> JsonIdentityInfo<extra_id_5> on<extra_id_6> .<extra_id_7> Object<extra_id_8> id<extra_id_9> )@<extra_id_10> (<extra_id_11> JoinColumn<extra_id_12> \"\",<extra_id_13> false<extra_id_14> can<extra_id_15> /<extra_id_16> t<extra_id_17> LA<unk> <extra_id_18> by default.<extra_id_19> .EAGER<extra_id_20>\n",
            "You could iterate over<extra_id_0> values of the<extra_id_1> : ArrayList<<extra_id_2> 2> list = new ArrayList<>();for (MyClass<extra_id_3> : map.values()) {<extra_id_4> .add(e.objj);}<extra_id_5>\t<extra_id_0> the<extra_id_1> Map<extra_id_2> Object<extra_id_3> e<extra_id_4> list<extra_id_5> </s>\n",
            "If you are<extra_id_0> Java 8 you<extra_id_1> do: List<Object2> list = map<extra_id_2> values() .stream() .map(<extra_id_3> v.objj) .collect<extra_id_4> Collectors.toList()); If you are using<extra_id_5> 7 or<extra_id_6> , the solution of @Marv is the<extra_id_7> .</s>\t<extra_id_0> using<extra_id_1> could<extra_id_2> .<extra_id_3> v -><extra_id_4> (<extra_id_5> Java<extra_id_6> earlier<extra_id_7> simplest<extra_id_8>\n",
            "In order to make it work outside your if condition you<extra_id_0> need to declare<extra_id_1> outside your if condition<extra_id_2> /* Declare it here */Players Character = null<extra_id_3> if(...) {/* Do Something Here */} else if (in.equals(\"\"<extra_id_4> amp;&amp; in1.equals(\"\"Orc\"\"))<extra_id_5> = new Orc(); System<extra_id_6> out.println(\"\"You<extra_id_7> chosen \"\" + in + \"\" type \"\"<extra_id_8> in1 + \"\". Monster<extra_id_9> in general are more attack orientated\"\");}/*<extra_id_10> you can use it here<extra_id_11> Character.addAttack<extra_id_12> </s>\t<extra_id_0> just<extra_id_1> the Character<extra_id_2> .<extra_id_3> ;<extra_id_4> Monster\"\") &<extra_id_5> { Character<extra_id_6> .<extra_id_7> have<extra_id_8> +<extra_id_9> s<extra_id_10> Now<extra_id_11> */<extra_id_12> (5);<extra_id_13>\n",
            "When using<extra_id_0> Link, an alternative to using AttributeOverrides<extra_id_1> to use a SessionCustomizer. This solves the issue<extra_id_2> all entities in<extra_id_3> go:<extra_id_4> class EmbeddedFieldNamesSessionCustomizer implements Session<extra_id_5> {@SuppressWarnings<extra_id_6> rawtypes<extra_id_7> void customize<extra_id_8> Session session) throws Exception { Map<Class, ClassDescriptor> descriptors<extra_id_9> session.getDescriptors<extra_id_10> for (ClassDescriptor classDescriptor : descriptors.values()) {<extra_id_11> (DatabaseMapping<extra_id_12> Mapping : classDescriptor<extra_id_13> getMappings()) { if (databaseMapping.isAggregateObjectMapping()) { AggregateObjectMapping m = (AggregateObjectMapping) databaseMapping; Map<<extra_id_14> , DatabaseField> mapping = m.getAggregateTo<extra_id_15> Fields(); ClassDescriptor<extra_id_16> Desc = descriptors.get(m.getReferenceClass()); for (DatabaseMapping<extra_id_17> Mapping : refDesc.getMappings()) { if (<extra_id_18> Mapping.<extra_id_19> DirectTo<extra_id_20> Mapping<extra_id_21> { DirectToFieldMapping refDirectMapping<extra_id_22> Direct<extra_id_23> Field<extra_id_24> ) refMapping;<extra_id_25> refFieldName =<extra_id_26> DirectMapping.getField().getName(); if (!mapping.containsKey(refFieldName)) { Database<extra_id_27> mapped<extra_id_28> = refDirectMapping.getField().clone();<extra_id_29> Field.<extra_id_30> .getAttribute<extra_id_31> () + \"\"_\"\" + mappedField.getName<extra_id_32> mapping.put(refFieldName,<extra_id_33> Field); } } } } } }}}</s>\t<extra_id_0> Eclipse<extra_id_1> it<extra_id_2> for<extra_id_3> one<extra_id_4> public<extra_id_5> Customizer<extra_id_6> (\"\"<extra_id_7> \"\")@Overridepublic<extra_id_8> (<extra_id_9> =<extra_id_10> ();<extra_id_11> for<extra_id_12> database<extra_id_13> .<extra_id_14> String<extra_id_15> Source<extra_id_16> ref<extra_id_17> ref<extra_id_18> ref<extra_id_19> is<extra_id_20> Field<extra_id_21> ())<extra_id_22> = (<extra_id_23> To<extra_id_24> Mapping<extra_id_25> String<extra_id_26> ref<extra_id_27> Field<extra_id_28> Field<extra_id_29> mapped<extra_id_30> setName(m<extra_id_31> Name<extra_id_32> ());<extra_id_33> mapped<extra_id_34>\n",
            "Simpler: for<extra_id_0> dogs : hashMap.values())<extra_id_1> (dog : dogs<extra_id_2> { dogService.delete(dog); dogService.save<extra_id_3> dog); } dogs.clear<extra_id_4> </s>\t<extra_id_0> (<extra_id_1> { for<extra_id_2> )<extra_id_3> (<extra_id_4> ();}<extra_id_5>\n",
            "You<extra_id_0> to<extra_id_1> using the same document id (i.e the<extra_id_2> of the last member of the batch<extra_id_3> to create all<extra_id_4> in the same batch .BinaryDocument<extra_id_5> create(docId,<extra_id_6> To<extra_id_7> ) You should build up your array<extra_id_8> BinaryDocument<extra_id_9> the if statement (like you did with the JsonDocument<extra_id_10> . Something like public void createMultipleCustomerDocuments(<extra_id_11> String docId<extra_id_12> ByteBuffer myCust, int batchSize) throws BackpressureException, InterruptedException { // numDocs is redundant ByteBuf buffer = Unpooled.wrappedBuffer(myCust<extra_id_13> binaryDocuments.add(BinaryDocument.create(docId,<extra_id_14> )); // ArrayList<extra_id_15> Binary<extra_id_16> > type documentCounter.incrementAndGet(); System<extra_id_17> out<extra_id_18> println(\"\"Batch size<extra_id_19> \"\" + batchSize + \"\" Document Counter<extra_id_20> \"\" + documentCounter<extra_id_21> get()); if(documentCounter.get() >= batchSize){<extra_id_22> .out.println(\"\"Document<extra_id_23> :<extra_id_24> + documentCounter.get() + \"\" Binary<extra_id_25> : \"\" + binary<extra_id_26> .size()); Observable .from<extra_id_27> binaryDocuments<extra_id_28> .flatMap<extra_id_29> new<extra_id_30> 1<<extra_id_31> Document<extra_id_32> Observable<BinaryDocument>>() { public Observable<<extra_id_33> > call(final BinaryDocument docToInsert) { return theBucket.async().upsert(docToInsert); } }) .last() .toBlocking()<extra_id_34> single(); binaryDocuments.clear(); documentCounter<extra_id_35> (0);<extra_id_36> should work.</s>\t<extra_id_0> seem<extra_id_1> be<extra_id_2> docId<extra_id_3> )<extra_id_4> documents<extra_id_5> .<extra_id_6> doc<extra_id_7> Insert<extra_id_8> of<extra_id_9> outside<extra_id_10> version)<extra_id_11> final<extra_id_12> ,<extra_id_13> );<extra_id_14> buffer<extra_id_15> <<extra_id_16> Document<extra_id_17> .<extra_id_18> .<extra_id_19> :<extra_id_20> :<extra_id_21> .<extra_id_22> System<extra_id_23> counter<extra_id_24> \"\"<extra_id_25> Document list size<extra_id_26> Documents<extra_id_27> (<extra_id_28> )<extra_id_29> (<extra_id_30> Func<extra_id_31> Binary<extra_id_32> ,<extra_id_33> BinaryDocument<extra_id_34> .<extra_id_35> .set<extra_id_36> }}<extra_id_37>\n",
            "I don<extra_id_0> t think there's a nice way to do this. I'<extra_id_1> found a hack<extra_id_2> it<extra_id_3> .<extra_id_4> you can do is convert the Stream to an<extra_id_5> , convert the Iterator back to<extra_id_6> Stream<extra_id_7> do the Stream operations, then finally test the Iterator for a next element! Iterator<SomeResource> it = this.someResource().iterator();List<extra_id_8> String> list = StreamSupport.stream(Spliterators.spliteratorUnknownSize(it, Spliterator.ORDERED)<extra_id_9> false) .filter(<extra_id_10> -> !resource.isTaken()) .limit(MAX_TO_RELEASE<extra_id_11> .peek(<extra_id_12> Resource<extra_id_13> release<extra_id_14> .map<extra_id_15> SomeResource::getName<extra_id_16> Collectors.toList());return<extra_id_17> ReleaseResult(list, it.<extra_id_18> (), MAX_TO<extra_id_19> RELEASE);</s>\t<extra_id_0> '<extra_id_1> ve<extra_id_2> that does<extra_id_3> lazily<extra_id_4> What<extra_id_5> Iterator<extra_id_6> another<extra_id_7> ,<extra_id_8> <<extra_id_9> ,<extra_id_10> resource<extra_id_11> )<extra_id_12> Some<extra_id_13> ::<extra_id_14> )<extra_id_15> (<extra_id_16> ) .collect(<extra_id_17> new<extra_id_18> hasNext<extra_id_19> _<extra_id_20>\n",
            "It's easy: String<extra_id_0> = 'images/favicon.<extra_id_1> ';String versioned<extra_id_2> = controllers<extra_id_3> routes.<extra_id_4> .versioned(new controllers.Assets.Asset(url)).toString() For example<extra_id_5> have such method in my<extra_id_6> bars<extra_id_7> s for the Play<extra_id_8> /*** Do the same as \"\"@routes<extra_id_9> Assets.<extra_id_10> ed\"\"<extra_id_11> Twirl.* * @param url*<extra_id_12> path to<extra_id_13> asset<extra_id_14> @<extra_id_15> actual path to the asset*/public static CharSequence<extra_id_16> (<extra_id_17> String url) { return controllers.routes.Assets.versioned(new controllers.<extra_id_18> .Asset(url)).toString();}</s>\t<extra_id_0> url<extra_id_1> png<extra_id_2> Url<extra_id_3> .<extra_id_4> Assets<extra_id_5> I<extra_id_6> Handle<extra_id_7> helper<extra_id_8> :<extra_id_9> .<extra_id_10> version<extra_id_11> in<extra_id_12> relative<extra_id_13> the<extra_id_14> *<extra_id_15> return<extra_id_16> asset<extra_id_17> final<extra_id_18> Assets<extra_id_19>\n",
            "<extra_id_0> question isn't clear. The JobLaunchingGateway expects JobLaunchRequest as a payload . Since<extra_id_1> Integration Flow begins<extra_id_2> the Files.inbound<extra_id_3> (directory<extra_id_4> , I<extra_id_5> assume<extra_id_6> you that you have<extra_id_7> some Job definitions<extra_id_8> So, what<extra_id_9> here is some class which can parse the<extra_id_10> and return<extra_id_11> Launch<extra_id_12> . Something like<extra_id_13> from the Spring Batch Reference Manual: public class FileMessage<extra_id_14> JobRequest { private Job job; private<extra_id_15> fileParameterName; public void setFileParameterName(String fileParameter<extra_id_16> ) { this.fileParameterName<extra_id_17> file<extra_id_18> Name; }<extra_id_19> void setJob(Job job) { this.job = job<extra_id_20> } @Transformer public Job<extra_id_21> Request toRequest(Message<File> message) { JobParametersBuilder jobParametersBuilder = new JobParametersBuilder(); jobParameters<extra_id_22> .addString(fileParameterName<extra_id_23> message.getPayload().getAbsolutePath()); return new JobLaunchRequest(job, job<extra_id_24> Builder<extra_id_25> toJobParameters()); }}<extra_id_26> the definition that class as a @Bean you<extra_id_27> use it<extra_id_28> the .transform() EIP-method just before your .handle(jobLaunchingG<extra_id_29> . UPDATE<extra_id_30> public FileMessageToJobRequest fileMessageToJobRequest(Job job)<extra_id_31> MessageToJobRequest fileMessageToJob<extra_id_32> = new FileMessageTo<extra_id_33> Request<extra_id_34> Message<extra_id_35> JobRequest.set<extra_id_36> (job); fileMessageToJobRequest.<extra_id_37> fileParameterName(\"\"file\"\"); return fileMessageToJobRequest;}...@<extra_id_38> public IntegrationFlow flow<extra_id_39> Batch<extra_id_40> FileMessage<extra_id_41> JobRequest fileMessage<extra_id_42> JobRequest) { return IntegrationFlows .from(Files<extra_id_43> inboundAdapter(directory) .<extra_id_44> Duplicates() .patternFilter(\"\"*.<extra_id_45> transform(fileMessageToJob<extra_id_46> ) .handle(jobLaunchingGw()) .<extra_id_47> ();}</s>\tYour<extra_id_0> your<extra_id_1> from<extra_id_2> Adapter<extra_id_3> )<extra_id_4> can<extra_id_5> that<extra_id_6> there<extra_id_7> .<extra_id_8> you need<extra_id_9> file<extra_id_10> Job<extra_id_11> Request<extra_id_12> this<extra_id_13> To<extra_id_14> String<extra_id_15> Name<extra_id_16> =<extra_id_17> Parameter<extra_id_18> public<extra_id_19> ;<extra_id_20> Launch<extra_id_21> Builder<extra_id_22> ,<extra_id_23> Parameters<extra_id_24> .<extra_id_25> After<extra_id_26> can<extra_id_27> from<extra_id_28> w())<extra_id_29> @Bean<extra_id_30> { File<extra_id_31> Request<extra_id_32> Job<extra_id_33> (); file<extra_id_34> To<extra_id_35> Job<extra_id_36> set<extra_id_37> Bean<extra_id_38> To<extra_id_39> (<extra_id_40> To<extra_id_41> To<extra_id_42> .<extra_id_43> prevent<extra_id_44> txt\"\"))) .<extra_id_45> Request<extra_id_46> get<extra_id_47>\n",
            "I think I found the solution. The<extra_id_0> is with setting the <extra_id_1> tokens for<extra_id_2> POST request using curl from command line and since this is<extra_id_3> going thorugh the spring login<extra_id_4> , spring does not know how to append<extra_id_5> csrf tokens and<extra_id_6> to header parameter.<extra_id_7> way to do it<extra_id_8> turn off the<extra_id_9> csrf for just this one<extra_id_10> request as it is a verified curl request from<extra_id_11> mmand line and not a<extra_id_12> request which could create a Cross Origin Domain issue.<extra_id_13> separate out the <http> and <intercept-<extra_id_14> > rules<extra_id_15> this kind<extra_id_16> REST request and turn the CSRF off using <<extra_id_17> disabled:true> in security.xml file<extra_id_18> </s>\t<extra_id_0> problem<extra_id_1> csrf<extra_id_2> a<extra_id_3> not<extra_id_4> page<extra_id_5> the<extra_id_6> parameter<extra_id_7> The<extra_id_8> is to<extra_id_9> <extra_id_10> POST<extra_id_11> com<extra_id_12> CORS<extra_id_13> So,<extra_id_14> url<extra_id_15> for<extra_id_16> of<extra_id_17> csrf<extra_id_18> .<extra_id_19>\n",
            "Remove the<extra_id_0> this method. public static String getFormattedPrice(){ NumberFormat currency = NumberFormat.getCurrencyInstance<extra_id_1> return currency.format(price);} You get the error because price in an instance<extra_id_2> not a static class variable<extra_id_3> And add static to<extra_id_4> void writeProducts in order to call write<extra_id_5> from another<extra_id_6> method.</s>\t<extra_id_0> static from<extra_id_1> ();<extra_id_2> variable,<extra_id_3> .<extra_id_4> private<extra_id_5> Products<extra_id_6> static<extra_id_7>\n",
            "<extra_id_0> class SphereGroupExperiment extends<extra_id_1> media.j3d.Group<extra_id_2> You will find addChild() in that class.</s>\tYour<extra_id_0> javax.<extra_id_1> .<extra_id_2>\n",
            "<extra_id_0> Oracle DB is on RAC and the time of the instances were not in<extra_id_1> I checked that entering on an instance and checking the time, then entering to another instance<extra_id_2> .<extra_id_3> know in what instance you<extra_id_4> you can run<extra_id_5> select instance<extra_id_6> name from v<extra_id_7> instance; In order to connect to a specific instance of the database you can also specify the INSTANCE_<extra_id_8> of a particular<extra_id_9> in the connect descriptor. This feature can be<extra_id_10> if you have an Oracle Real Application Clusters configuration. For example<extra_id_11> the following connect descriptor specifies an instance name<extra_id_12> sales1 that is associated with sales.us.acme.<extra_id_13> .<extra_id_14> DESCRIPTION= (ADDRESS=(<extra_id_15> tcp)(HOST=sales-<extra_id_16> )(PORT<extra_id_17> 1521)) (CONNECT_DATA=<extra_id_18> SERVICE_NAME=sales.us.<extra_id_19> .com)<extra_id_20> INSTANCE_NAME=sales1))) You<extra_id_21> specify that on<extra_id_22> SQL Developer as your SID = sales<extra_id_23> </s>\tMy<extra_id_0> sync.<extra_id_1> and checking the time<extra_id_2> To<extra_id_3> are<extra_id_4> :<extra_id_5> _<extra_id_6> <unk> <extra_id_7> NAME<extra_id_8> instance<extra_id_9> useful<extra_id_10> ,<extra_id_11> of<extra_id_12> com<extra_id_13> (<extra_id_14> PROTOCOL=<extra_id_15> server<extra_id_16> =<extra_id_17> (<extra_id_18> acme<extra_id_19> (<extra_id_20> can<extra_id_21> Oracle<extra_id_22> 1<extra_id_23>\n",
            "System.out.println(array) does not work for Arrays. You must write array values to console in a for<extra_id_0> or<extra_id_1> can use Arrays.toString(array) method as M. Mar<extra_id_2> cal wrote below.<extra_id_3> below is working, you need only remove the / character before \"\"/<extra_id_4> . public class SplitTest { public static void main(String[] args<extra_id_5> String[] array =<extra_id_6> Address(\"\"http://stackoverflow.com/questions\"\"); for (int i<extra_id_7> 0; i < array<extra_id_8> length<extra_id_9> ++)<extra_id_10> System.out.<extra_id_11> (<extra_id_12> [i]); } } static String[]<extra_id_13> Address(<extra_id_14> address) {<extra_id_15> split = address<extra_id_16> split(\"\"://<extra_id_17> String[] split1 = split[1].split(\"\".com\"\"); if<extra_id_18> split1.length < 2) { String[] end = new String[2]; end[0]<extra_id_19> split[0]; end[1]<extra_id_20> split1[0]; return end<extra_id_21> } else { String<extra_id_22> e<extra_id_23> String[3]; e[0] =<extra_id_24> [0]; e[1] = split1[0]; e[2] = split1[1]; return e; } }}<extra_id_25> : httpstackoverflow/<extra_id_26> </s>\t<extra_id_0> loop<extra_id_1> you<extra_id_2> is<extra_id_3> Code<extra_id_4> question\"\"<extra_id_5> ) {<extra_id_6> split<extra_id_7> =<extra_id_8> .<extra_id_9> ; i<extra_id_10> {<extra_id_11> println<extra_id_12> array<extra_id_13> split<extra_id_14> String<extra_id_15> String[]<extra_id_16> .<extra_id_17> \"\");<extra_id_18> (<extra_id_19> =<extra_id_20> =<extra_id_21> ;<extra_id_22> []<extra_id_23> = new<extra_id_24> split<extra_id_25> Result<extra_id_26> questions<extra_id_27>\n",
            "The problem is that your outer loop may get completely exhausted<extra_id_0> you still might not find<extra_id_1> number that<extra_id_2> looking for. You should be doing something like this:<extra_id_3> static long gcd(long a, long b){ while (b ><extra_id_4> { long temp = b; b = a % b<extra_id_5> a = temp; } return a;}<extra_id_6> static long mainNumber(){ long number<extra_id_7> 1; for(int i<extra_id_8> 2; i <= 20; i++) { number = number * (i / gcd(<extra_id_9> )); }<extra_id_10> number;}public static void main(<extra_id_11> [] args){ Smallest_multiple result<extra_id_12> Smallest<extra_id_13> multiple(); System<extra_id_14> out.println(\"\"The Smallest<extra_id_15> : \"\" + result.main<extra_id_16> ());} Output: The Smallest Multiple:<extra_id_17> 2792560 Your<extra_id_18> algorithm will fail<extra_id_19> the large numbers but still<extra_id_20> you want to give it<extra_id_21> try then you can do something like this: public<extra_id_22> Number(){ long<extra_id_23> = 3; while<extra_id_24> true) { boolean flag = true; for(int<extra_id_25> = 2;<extra_id_26> <= 10; i<extra_id_27> { if(<extra_id_28> % i != 0) {<extra_id_29> = false; break; } } if<extra_id_30> flag)<extra_id_31> ; else number++; } return number;}public static void main(String[] args){ Smallest_multiple result =new <extra_id_32> (); System.out<extra_id_33> println(\"\"The Smallest Multiple<extra_id_34> \"\" + result.<extra_id_35> ());} Note that here<extra_id_36> '<extra_id_37> calculating the result for 10 and not 20 . You can<extra_id_38> the condition in the loop as you desire. Output:<extra_id_39> Smallest<extra_id_40> : 2520 Warning: You need to choose the data type carefully as it might overflow for bigger numbers.<extra_id_41>\t<extra_id_0> and<extra_id_1> the<extra_id_2> you are<extra_id_3> private<extra_id_4> 0)<extra_id_5> ;<extra_id_6> public<extra_id_7> =<extra_id_8> =<extra_id_9> number, i<extra_id_10> return<extra_id_11> String<extra_id_12> =new<extra_id_13> _<extra_id_14> .<extra_id_15> Multiple<extra_id_16> Number<extra_id_17> 23<extra_id_18> current<extra_id_19> for<extra_id_20> if<extra_id_21> a<extra_id_22> long main<extra_id_23> number<extra_id_24> (<extra_id_25> i<extra_id_26> i<extra_id_27> ++)<extra_id_28> number<extra_id_29> flag<extra_id_30> (<extra_id_31> break<extra_id_32> Smallest_multiple<extra_id_33> .<extra_id_34> :<extra_id_35> mainNumber<extra_id_36> I<extra_id_37> m<extra_id_38> modify<extra_id_39> The<extra_id_40> Multiple<extra_id_41> </s>\n",
            "Your method public boolean equals(Test t) does not override Object.equals(Object) . You need to update<extra_id_0> method signature and check the class type: @Override<extra_id_1> boolean equals(<extra_id_2> o)<extra_id_3> return o<extra_id_4> Test &amp<extra_id_5> amp; ((Test)o<extra_id_6> .i == this.i<extra_id_7>\t<extra_id_0> your<extra_id_1> public<extra_id_2> Object<extra_id_3> {<extra_id_4> instanceof<extra_id_5> ;&<extra_id_6> )<extra_id_7> ;}</s>\n",
            "<extra_id_0> closest you can get to that is named<extra_id_1> Type in java...<extra_id_2> it can looks like: public<extra_id_3> GenericTypeData<T> { private final<extra_id_4> a<extra_id_5> public GenericTypeData<extra_id_6> T a<extra_id_7> { this.a = a; } public static void main(String[] args) { GenericTypeData<String> string = new GenericTypeData<extra_id_8> String>(\"\"am a String\"\");<extra_id_9> Data<Integer> int<extra_id_10> = new<extra_id_11> Data<Integer<extra_id_12> (122); }}</s>\tThe<extra_id_0> Generic Data<extra_id_1> and<extra_id_2> class<extra_id_3> T<extra_id_4> ;<extra_id_5> (<extra_id_6> )<extra_id_7> <<extra_id_8> GenericType<extra_id_9> Type<extra_id_10> GenericType<extra_id_11> ><extra_id_12>\n",
            "Don<extra_id_0> t<extra_id_1> the File overload<extra_id_2> you have (or<extra_id_3> save)<extra_id_4> physical file. Just take your data and wrap it in an InputStream<extra_id_5> .get<extra_id_6> (new<extra_id_7> InputStream(myByteBuffer.array())) This assumes you're using the full<extra_id_8> . If not, you can slice out the part you're using as necessary. See here for details.</s>\t<extra_id_0> '<extra_id_1> use<extra_id_2> unless<extra_id_3> want to<extra_id_4> a<extra_id_5> : AudioSystem<extra_id_6> AudioInputStream<extra_id_7> ByteArray<extra_id_8> buffer<extra_id_9>\n",
            "No<extra_id_0> has yet<extra_id_1> a Java 8 java.time answer<extra_id_2> eventStr = \"\"2016-08-16T19:45:00<extra_id_3> \"\"; DateTimeFormatter<extra_id_4> = DateTimeFormatter.ISO_<unk> ONED<extra_id_5> DATE_TIME; Instant<extra_id_6> = fmt.parse(event<extra_id_7> Instant<extra_id_8> ); Instant now = Instant.now(); Duration diff = Duration.between(now, event); long days = diff.toDays(); System<extra_id_9> out.println<extra_id_10> days);</s>\t<extra_id_0> body<extra_id_1> provided<extra_id_2> ... String<extra_id_3> <unk> <extra_id_4> fmt<extra_id_5> _<extra_id_6> event<extra_id_7> Str,<extra_id_8> ::from<extra_id_9> .<extra_id_10> (<extra_id_11>\n",
            "I <extra_id_0> ve got also problems with<extra_id_1> like openNLP, xlsx,<extra_id_2> Weka,<extra_id_3> and got the same error message like you<extra_id_4> But<extra_id_5> this command worked for me on OS X 10.11.3: sudo ln -s<extra_id_6> <unk> (/usr/libexec/<extra_id_7> _home)/jre<extra_id_8> lib/server/libjvm.<extra_id_9> /usr/local/lib</s>\t<extra_id_0> <unk> <extra_id_1> loading packages<extra_id_2> R<extra_id_3> ...<extra_id_4> .<extra_id_5> finally<extra_id_6> <extra_id_7> java<extra_id_8> /<extra_id_9> dylib<extra_id_10>\n",
            "If you<extra_id_0> trying to get UrlImage to drawable,<extra_id_1> it will works on your code!<extra_id_2> could<extra_id_3> Glide , here's<extra_id_4> tutorial to<extra_id_5> you the differences between Glide and Picasso : http://inthecheesefactory.com/blog/get-to-know-glide-recommended-<extra_id_6> /en Firstly,<extra_id_7> up on your dependencies: dependencies {<extra_id_8> '<extra_id_9> .github.bumptech.glide:glide:<extra_id_10> .2' compile '<extra_id_11> .<extra_id_12> .support:support-v4:22.0.0'} and then this code, hope it helps! Glide .<extra_id_13> (context<extra_id_14> .load(\"\"UrlImage\"\") .placeholder(R.drawable.yourDrawable<extra_id_15> into<extra_id_16> imageViewPlaceholder);</s>\t<extra_id_0> are<extra_id_1> I think<extra_id_2> You<extra_id_3> try with<extra_id_4> a<extra_id_5> show<extra_id_6> by-google<extra_id_7> set<extra_id_8> compile<extra_id_9> com<extra_id_10> 3.5<extra_id_11> com<extra_id_12> android<extra_id_13> with<extra_id_14> )<extra_id_15> ) .<extra_id_16> (<extra_id_17>\n",
            "You can use the<extra_id_0> Xshow<extra_id_1> flag in the Hotspot<extra_id_2> version 1.7 and up (not supported in<extra_id_3> : java -XshowSettings:properties -<extra_id_4> OpenJDK has had support for this flag since<extra_id_5> 2010. Seen in http://marxsoftware.blogspot<extra_id_6> de/<extra_id_7> /<extra_id_8> /hotspot-jvm-XshowSettings.html EDIT 14 Dec<extra_id_9> The Oracle JVM<extra_id_10> with the tool<extra_id_11> cmd<extra_id_12> allows you<extra_id_13> the flags present in<extra_id_14> running JVM. See: https://<extra_id_15> .oracle.com/javase/8/docs/technotes/guides<extra_id_16> troubleshoot/tooldescr006.html For this use case, you could use: jcmd <pid> VM.system_properties But there are also many other useful commands. For example<extra_id_17> jcmd <pid><extra_id_18> flagsjcmd <pid> VM.<extra_id_19> _linej<extra_id_20> <pid> GC.<extra_id_21>\t<extra_id_0> -<extra_id_1> Settings<extra_id_2> JVM<extra_id_3> 1.6)<extra_id_4> version<extra_id_5> late<extra_id_6> .<extra_id_7> 2016<extra_id_8> 02<extra_id_9> 2016<extra_id_10> ships<extra_id_11> j<extra_id_12> which<extra_id_13> to see<extra_id_14> a<extra_id_15> docs<extra_id_16> /<extra_id_17> :<extra_id_18> VM.<extra_id_19> command<extra_id_20> cmd<extra_id_21> run</s>\n",
            "Weapon<extra_id_0> doesn't have<extra_id_1> Attahment<extra_id_2> . So you can not<extra_id_3> a comparison based on swordAttahment . You can use instanceof to<extra_id_4> ClassCastException @Overridepublic int compareTo (WeaponObject compare){ int<extra_id_5> Compare = super.compareTo(compare); if<extra_id_6> superCompare<extra_id_7> 0) { return superCompare<extra_id_8> } if(compare<extra_id_9> word) { Sword other = (Sword)compare; int attach = this.getS<extra_id_10> Attah<extra_id_11> ().compareTo(<extra_id_12> .getSwordAttahment());<extra_id_13> (attach != 0) { return attach<extra_id_14> } } return 0;}</s>\t<extra_id_0> Object<extra_id_1> getSword<extra_id_2> () method<extra_id_3> make<extra_id_4> avoid<extra_id_5> super<extra_id_6> (<extra_id_7> !=<extra_id_8> ;<extra_id_9> instanceof S<extra_id_10> word<extra_id_11> ment<extra_id_12> other<extra_id_13> if<extra_id_14> ;<extra_id_15>\n",
            "use addOnBack<extra_id_0> ChangedListener method in your BaseActivity, which will be called any time backstack<extra_id_1> getSupportFragmentManager().addOnBackStack<extra_id_2> ( new FragmentManager<extra_id_3> OnBackStackChangedListener() { public void onBackStackChanged() { FragmentManager fm = getSupportFragmentManager<extra_id_4> (<extra_id_5> !=<extra_id_6> ) { int backStackCount = fm.<extra_id_7> Back<extra_id_8> EntryCount(); if (backStackCount == 0) { if<extra_id_9> get<extra_id_10> () != null) { get<extra_id_11> ().setHomeAsUpIndicator(R<extra_id_12> drawable.ic_<extra_id_13> ); } setToolbar<extra_id_14> ittle(R.string.app_name); } else { if (getSupportActionBar()<extra_id_15> null<extra_id_16> getSupportActionBar().setHomeAsUp<extra_id_17> (R.drawable<extra_id_18> back); }<extra_id_19> } } });</s>\t<extra_id_0> Stack<extra_id_1> changes<extra_id_2> ChangedListener<extra_id_3> .<extra_id_4> (); if<extra_id_5> fm<extra_id_6> null<extra_id_7> get<extra_id_8> Stack<extra_id_9> (<extra_id_10> SupportActionBar<extra_id_11> SupportActionBar<extra_id_12> .<extra_id_13> menu<extra_id_14> T<extra_id_15> !=<extra_id_16> ) {<extra_id_17> Indicator<extra_id_18> .<extra_id_19> }<extra_id_20>\n",
            "You do not has jackson<extra_id_0> in your project. Your screenshot show only jersey jars. Visit http://findjar.<extra_id_1> / and search for your missing class org.codehaus.jackson.Json<extra_id_2> . It will show which<extra_id_3> contains that.<extra_id_4> need to find what version will<extra_id_5> for your project<extra_id_6> Not<extra_id_7> if you<extra_id_8> or gradle for dependency management.</s>\t<extra_id_0> jar<extra_id_1> com<extra_id_2> Factory<extra_id_3> jar<extra_id_4> You<extra_id_5> work<extra_id_6> .<extra_id_7> sure<extra_id_8> are using maven<extra_id_9>\n",
            "<extra_id_0> issue is<extra_id_1> your base case; n (which<extra_id_2> a BigInteger ) will not equal \"\"0\"\" (which is a String<extra_id_3> So you<extra_id_4> to the else block, which<extra_id_5> -curses. Also, BigInteger includes constants for ONE and<extra_id_6> <unk> ERO so you could write something like public<extra_id_7> BigInteger fact(<extra_id_8> n) {<extra_id_9> (n.equals(BigInteger<extra_id_10> <unk> ERO<extra_id_11> || n.<extra_id_12> (BigInteger<extra_id_13> ONE)) return BigInteger.ONE; else return n.multiply(<extra_id_14> (n.subtract<extra_id_15> BigInteger.ONE)));} or using a ternary operation (conditional<extra_id_16> ?<extra_id_17> ) like public static BigInteger fact(BigInteger n) { return<extra_id_18> equals(BigInteger.<unk> ERO) || n.equals<extra_id_19> BigInteger<extra_id_20> ONE)) ? BigInteger.ONE : n.multiply(fact(n.<extra_id_21> (<extra_id_22> .ONE)));}</s>\tThe<extra_id_0> with<extra_id_1> is<extra_id_2> ).<extra_id_3> continue<extra_id_4> re<extra_id_5> <extra_id_6> static<extra_id_7> BigInteger<extra_id_8> if<extra_id_9> .<extra_id_10> )<extra_id_11> equals<extra_id_12> .<extra_id_13> fact<extra_id_14> (<extra_id_15> operator<extra_id_16> :<extra_id_17> (n.<extra_id_18> (<extra_id_19> .<extra_id_20> subtract<extra_id_21> BigInteger<extra_id_22>\n",
            "<extra_id_0> need to change<extra_id_1> signature and the reference in the method:<extra_id_2> How many times is \"\"d\"\" in array \"\"a\"\"<extra_id_3> public static int getCount<extra_id_4> double[] a, double<extra_id_5> ) { int count = 0; for(int e : a) {<extra_id_6> (e<extra_id_7> d) { count++; } } return<extra_id_8> </s>\tYou<extra_id_0> the<extra_id_1> //<extra_id_2> ?<extra_id_3> (<extra_id_4> d<extra_id_5> if<extra_id_6> ==<extra_id_7> count;}<extra_id_8>\n",
            "<extra_id_0> approach<extra_id_1> integrating the golden ratio<extra_id_2> your code is<extra_id_3> use it in the computation of branch<extra_id_4> . Here, though you have a length parameter,<extra_id_5> 's unused<extra_id_6> Instead, the length is<extra_id_7> as order * 10 such that the trunk is 100 long, and by<extra_id_8> time<extra_id_9> reaches 2, the leaves are<extra_id_10> long. If you<extra_id_11> the length parameter,<extra_id_12> recurse such that each<extra_id_13> branch order is 0.618034 the length of the ancestor one, you make a tree<extra_id_14> has a longer trunk and core branches, and converges<extra_id_15> a kind of broccoli-like detail at the leaves: <img src=\"\"https://i.stack.imgur<extra_id_16> com/<unk> 4eb5.jpg\"\" alt<extra_id_17> Tree with 30<extra_id_18> branching and each successive branch<extra_id_19> is 0.6<extra_id_20> times the ancestor&#39;s length.\"\"> The other parameter you have control<extra_id_21> the angle, which<extra_id_22> 've set to<extra_id_23> degrees<extra_id_24> Below, I've converted your code over<extra_id_25> Processing (it's<extra_id_26> , and easy to use for<extra_id_27> kinds of things)<extra_id_28> You can paste this into http://<extra_id_29> .<extra_id_30> processing.org/sketch/create and run it<extra_id_31> your browser to<extra_id_32> around. Look how replacing the angle<extra_id_33> 30<extra_id_34> uniform random number between 20 and 40 changes the tree. Keep clicking run to see different trees. void setup(){ size(1000,<extra_id_35> );<extra_id_36> (); stroke<extra_id_37> Rate(30);}void go(int order, int<extra_id_38> 1,<extra_id_39> y1, float angle, int adder<extra_id_40> int length) { int x2, y<extra_id_41> x3, y3; double newAngle = angle * PI /<extra_id_42> ; if<extra_id_43> order == 1)<extra_id_44> return; }<extra_id_45> {<extra_id_46> 2 = (x1 -<extra_id_47> (cos<extra_id_48> ) *<extra_id_49> )); y2 = (y1 - round(<extra_id_50> (newAngle) * length)); line(x1, y1, x2, y2); go(<extra_id_51> -1, x2, y2, angle+random(20,40)<extra_id_52> adder+2<extra_id_53> 0.618034<extra_id_54> length); go(order<extra_id_55> x2, y2, angle-random<extra_id_56> 40), adder+2, 0.6<extra_id_57> *<extra_id_58> );<extra_id_59> void draw(){ stroke(255,<extra_id_60> 0); strokeWeight(1); go(10, 500<extra_id_61> 999,<extra_id_62> , 20, 100);<extra_id_63> ();} Here's an interesting, slightly off-balance tree generated by the above code: <img src<extra_id_64> i.stack.imgur.com/36<extra_id_65> AP<extra_id_66> png\"\" alt=\"\"Off balance tree\"\"></s>\tOne<extra_id_0> to<extra_id_1> into<extra_id_2> to<extra_id_3> length<extra_id_4> it<extra_id_5> .<extra_id_6> computed<extra_id_7> the<extra_id_8> order<extra_id_9> 20<extra_id_10> use<extra_id_11> and<extra_id_12> successive<extra_id_13> that<extra_id_14> to<extra_id_15> .<extra_id_16> =\"\"<extra_id_17> degree<extra_id_18> length<extra_id_19> 18<extra_id_20> over is<extra_id_21> you<extra_id_22> 30<extra_id_23> .<extra_id_24> to<extra_id_25> basically Java<extra_id_26> these<extra_id_27> .<extra_id_28> www<extra_id_29> open<extra_id_30> in<extra_id_31> play<extra_id_32> of<extra_id_33> with<extra_id_34> 1000<extra_id_35> smooth<extra_id_36> (0); frame<extra_id_37> x<extra_id_38> int<extra_id_39> ,<extra_id_40> 2,<extra_id_41> 180<extra_id_42> (<extra_id_43> {<extra_id_44> else<extra_id_45> x<extra_id_46> round<extra_id_47> (newAngle<extra_id_48> length<extra_id_49> sin<extra_id_50> order<extra_id_51> ,<extra_id_52> ,<extra_id_53> *<extra_id_54> -1,<extra_id_55> (20,<extra_id_56> 18034<extra_id_57> length<extra_id_58> }}<extra_id_59> 0,<extra_id_60> ,<extra_id_61> 90<extra_id_62> exit<extra_id_63> =\"\"https://<extra_id_64> u<extra_id_65> .<extra_id_66>\n",
            "despite that the occurence is not valid quantifier<extra_id_0> can be represented using {n,<extra_id_1> } syntax where:<extra_id_2> n<extra_id_3> - exactly n times<extra_id_4> n,<extra_id_5> - at least n times {n,m} - at least n but not more than m times Source: https://docs.oracle.com<extra_id_6> javase/tutorial<extra_id_7> essential/regex/quant.html (notice that there<extra_id_8> no {,m} quantifier representing \"\"<extra_id_9> than m times\"\") because we don't really<extra_id_10> one,<extra_id_11> can<extra_id_12> it via<extra_id_13> m} ) So {1,<extra_id_14> is valid and simply<extra_id_15> \"\"at least once\"\". To<extra_id_16> confusion we can simplify it by replacing {1,<extra_id_17> quantifier with more<extra_id_18> + like Pattern.compile(\"\"([0-9]+)\"\"); Most probably<extra_id_19> also<extra_id_20> 't need to create capturing<extra_id_21> 1 by surrounding [0-9]+ with parenthesis. We can access what regex matched with help of group 0, so such group 1<extra_id_22> redundant in most<extra_id_23>\t<extra_id_0> s<extra_id_1> m<extra_id_2> {<extra_id_3> }<extra_id_4> {<extra_id_5> }<extra_id_6> /<extra_id_7> /<extra_id_8> is<extra_id_9> not more<extra_id_10> need<extra_id_11> we<extra_id_12> create<extra_id_13> {0,<extra_id_14> }<extra_id_15> means<extra_id_16> avoid<extra_id_17> }<extra_id_18> known form<extra_id_19> you<extra_id_20> don<extra_id_21> group<extra_id_22> is<extra_id_23> cases.</s>\n",
            "I don'<extra_id_0> even know why I<extra_id_1> this, you have shown absolutely zero effort<extra_id_2> such a<extra_id_3> problem, just think, here<extra_id_4> the reverse, solve it yourself<extra_id_5> boolean isNegative = a < 0;</s>\t<extra_id_0> t<extra_id_1> did<extra_id_2> on<extra_id_3> simple<extra_id_4> is<extra_id_5> .<extra_id_6>\n",
            "Simplifying your example<extra_id_0> the relevant structure, the code is doing this: void<extra_id_1> ImportActionPerformed() { for(int i = 0l i < 10; i++) { write<extra_id_2> toDB<extra_id_3> void writefile<extra_id_4> () { try {<extra_id_5> (); } catch (SomeException e) { return; }} Since the exception is being caught<extra_id_6> handled in the inner method, there'<extra_id_7> no<extra_id_8> for the outer method to know that anything went<extra_id_9> .<extra_id_10> you<extra_id_11> the outer method to know that an exception has occurred, use the<extra_id_12> pattern as the<extra_id_13> . Catch a thrown exception. Something like this: void BtnImportActionPerformed() {<extra_id_14> (int<extra_id_15> = 0l i <<extra_id_16> ++) { try<extra_id_17> writefiletoDB(); } catch<extra_id_18> SomeException e) { // do anything else? return; } }}<extra_id_19> writefiletoDB() throws SomeException { try { doSomething(); } catch (<extra_id_20> Exception e) { // log it? something else?<extra_id_21> e; }}<extra_id_22> might<extra_id_23> skip the inner try/catch entirely if the outer method can do all of<extra_id_24> exception handling. You'd simply have to declare the possible exceptions on<extra_id_25> fileto<extra_id_26> method.</s>\t<extra_id_0> to<extra_id_1> Btn<extra_id_2> file<extra_id_3> (); }}<extra_id_4> toDB<extra_id_5> doSomething<extra_id_6> and<extra_id_7> s<extra_id_8> way<extra_id_9> wrong<extra_id_10> If<extra_id_11> want<extra_id_12> same<extra_id_13> inner method<extra_id_14> for<extra_id_15> i<extra_id_16> 10; i<extra_id_17> {<extra_id_18> (<extra_id_19> void<extra_id_20> Some<extra_id_21> throw<extra_id_22> You<extra_id_23> even be able to<extra_id_24> the<extra_id_25> the write<extra_id_26> DB<extra_id_27>\n"
          ],
          "name": "stdout"
        }
      ]
    }
  ]
}